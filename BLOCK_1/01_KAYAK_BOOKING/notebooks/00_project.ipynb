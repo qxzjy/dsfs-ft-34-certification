{
 "cells": [
  {
   "cell_type": "markdown",
   "metadata": {},
   "source": [
    "# Kayak"
   ]
  },
  {
   "cell_type": "markdown",
   "metadata": {},
   "source": [
    "## Get weather data with an API"
   ]
  },
  {
   "cell_type": "code",
   "execution_count": null,
   "metadata": {},
   "outputs": [],
   "source": [
    "# API\n",
    "import requests\n",
    "\n",
    "# S3\n",
    "import boto3\n",
    "import botocore\n",
    "\n",
    "# Data manipulation\n",
    "import pandas as pd\n",
    "\n",
    "# Data visualization\n",
    "import plotly.express as px\n",
    "\n",
    "# Statistics\n",
    "from statistics import fmean\n",
    "\n",
    "# SQL tools\n",
    "from sqlalchemy import create_engine"
   ]
  },
  {
   "cell_type": "code",
   "execution_count": null,
   "metadata": {},
   "outputs": [],
   "source": [
    "# Setting parameters to access the S3 bucket\n",
    "session = boto3.Session(\n",
    "    aws_access_key_id=\"\", \n",
    "    aws_secret_access_key=\"\"\n",
    ")\n",
    "\n",
    "# Setting the session\n",
    "s3 = session.resource(\"s3\")\n",
    "\n",
    "# Connecting to the bucket\n",
    "bucket = s3.Bucket('')\n",
    "exists = True\n",
    "try:\n",
    "    s3.meta.client.head_bucket(Bucket='')\n",
    "except botocore.exceptions.ClientError as e:\n",
    "    # If a client error is thrown, then check that it was a 404 error.\n",
    "    # If it was a 404 error, then the bucket does not exist.\n",
    "    error_code = e.response['Error']['Code']\n",
    "    if error_code == '404':\n",
    "        exists = False"
   ]
  },
  {
   "cell_type": "code",
   "execution_count": null,
   "metadata": {},
   "outputs": [],
   "source": [
    "# Setting parameters to access the SQL database\n",
    "DBHOST = \"\"\n",
    "DBUSER = \"\"\n",
    "DBPASS = \"\"\n",
    "DBNAME = \"\"\n",
    "PORT = \"\"\n",
    "\n",
    "# Create engine will create a connection between a SQLlite DB and python\n",
    "# engine = create_engine(\"sqlite:///:memory:\", echo=True)\n",
    "# engine = create_engine(f\"mysql+pymysql://{DBUSER}:{DBPASS}@{DBHOST}:{PORT}/{DBNAME}\", echo=True)\n",
    "engine = create_engine(f\"postgresql+psycopg2://{DBUSER}:{DBPASS}@{DBHOST}/{DBNAME}\", echo=True)"
   ]
  },
  {
   "cell_type": "code",
   "execution_count": 2,
   "metadata": {},
   "outputs": [],
   "source": [
    "# List of cities we're interested in\n",
    "cities_list = [\"Mont Saint Michel\",\n",
    "               \"St Malo\",\n",
    "               \"Bayeux\",\n",
    "               \"Le Havre\",\n",
    "               \"Rouen\",\n",
    "               \"Paris\",\n",
    "               \"Amiens\",\n",
    "               \"Lille\",\n",
    "               \"Strasbourg\",\n",
    "               \"Chateau du Haut Koenigsbourg\",\n",
    "               \"Colmar\",\n",
    "               \"Eguisheim\",\n",
    "               \"Besancon\",\n",
    "               \"Dijon\",\n",
    "               \"Annecy\",\n",
    "               \"Grenoble\",\n",
    "               \"Lyon\",\n",
    "               \"Gorges du Verdon\",\n",
    "               \"Bormes les Mimosas\",\n",
    "               \"Cassis\",\n",
    "               \"Marseille\",\n",
    "               \"Aix en Provence\",\n",
    "               \"Avignon\",\n",
    "               \"Uzes\",\n",
    "               \"Nimes\",\n",
    "               \"Aigues Mortes\",\n",
    "               \"Saintes Maries de la mer\",\n",
    "               \"Collioure\",\n",
    "               \"Carcassonne\",\n",
    "               \"Ariege\",\n",
    "               \"Toulouse\",\n",
    "               \"Montauban\",\n",
    "               \"Biarritz\",\n",
    "               \"Bayonne\",\n",
    "               \"La Rochelle\"]"
   ]
  },
  {
   "cell_type": "markdown",
   "metadata": {},
   "source": [
    "### Get GPS coordinates"
   ]
  },
  {
   "cell_type": "code",
   "execution_count": 3,
   "metadata": {},
   "outputs": [
    {
     "name": "stdout",
     "output_type": "stream",
     "text": [
      "Gorges du Verdon not found !\n"
     ]
    }
   ],
   "source": [
    "# Setting nominatim API's attributes\n",
    "nominatim_payload = {\n",
    "    'city':'',\n",
    "    'country':'France',\n",
    "    'format':'json'\n",
    "}\n",
    "\n",
    "# Setting a specific user agent\n",
    "custom_headers = {\n",
    "    'User-Agent': 'Mozilla/5.0 (Macintosh; Intel Mac OS X 10_15_7) AppleWebKit/537.36'\n",
    "}\n",
    "\n",
    "# Initiating the dataframe\n",
    "df_cities = pd.DataFrame()\n",
    "\n",
    "# Iterating on every cities on our list\n",
    "for index, element in enumerate(cities_list):\n",
    "    # Setting the city to the parameter of the nominatim API\n",
    "    nominatim_payload['city'] = element\n",
    "\n",
    "    # Calling the nominatim API\n",
    "    city = requests.get(\"http://nominatim.openstreetmap.org/search\", params=nominatim_payload, headers=custom_headers).json()\n",
    "\n",
    "    # Checking if the city still exist in the nominatim API\n",
    "    if city:\n",
    "        # If true, creating the new row and inserting it in the dataframe\n",
    "        row = [index+1, element, float(city[0][\"lat\"]), float(city[0][\"lon\"])]\n",
    "\n",
    "        df_cities = pd.concat([pd.DataFrame([row]), df_cities], ignore_index=True)\n",
    "    else:\n",
    "        # If false, print a warning\n",
    "        print(f\"{element} not found !\")\n",
    "\n",
    "# Setting the datafrme columns \n",
    "df_cities.columns = [\"id\", \"city\", \"lat\", \"lon\"]"
   ]
  },
  {
   "cell_type": "code",
   "execution_count": 4,
   "metadata": {},
   "outputs": [
    {
     "data": {
      "text/html": [
       "<div>\n",
       "<style scoped>\n",
       "    .dataframe tbody tr th:only-of-type {\n",
       "        vertical-align: middle;\n",
       "    }\n",
       "\n",
       "    .dataframe tbody tr th {\n",
       "        vertical-align: top;\n",
       "    }\n",
       "\n",
       "    .dataframe thead th {\n",
       "        text-align: right;\n",
       "    }\n",
       "</style>\n",
       "<table border=\"1\" class=\"dataframe\">\n",
       "  <thead>\n",
       "    <tr style=\"text-align: right;\">\n",
       "      <th></th>\n",
       "      <th>id</th>\n",
       "      <th>city</th>\n",
       "      <th>lat</th>\n",
       "      <th>lon</th>\n",
       "    </tr>\n",
       "  </thead>\n",
       "  <tbody>\n",
       "    <tr>\n",
       "      <th>0</th>\n",
       "      <td>35</td>\n",
       "      <td>La Rochelle</td>\n",
       "      <td>46.159732</td>\n",
       "      <td>-1.151595</td>\n",
       "    </tr>\n",
       "    <tr>\n",
       "      <th>1</th>\n",
       "      <td>34</td>\n",
       "      <td>Bayonne</td>\n",
       "      <td>43.494514</td>\n",
       "      <td>-1.473666</td>\n",
       "    </tr>\n",
       "    <tr>\n",
       "      <th>2</th>\n",
       "      <td>33</td>\n",
       "      <td>Biarritz</td>\n",
       "      <td>43.483252</td>\n",
       "      <td>-1.559278</td>\n",
       "    </tr>\n",
       "    <tr>\n",
       "      <th>3</th>\n",
       "      <td>32</td>\n",
       "      <td>Montauban</td>\n",
       "      <td>44.017584</td>\n",
       "      <td>1.354999</td>\n",
       "    </tr>\n",
       "    <tr>\n",
       "      <th>4</th>\n",
       "      <td>31</td>\n",
       "      <td>Toulouse</td>\n",
       "      <td>43.604462</td>\n",
       "      <td>1.444247</td>\n",
       "    </tr>\n",
       "  </tbody>\n",
       "</table>\n",
       "</div>"
      ],
      "text/plain": [
       "   id         city        lat       lon\n",
       "0  35  La Rochelle  46.159732 -1.151595\n",
       "1  34      Bayonne  43.494514 -1.473666\n",
       "2  33     Biarritz  43.483252 -1.559278\n",
       "3  32    Montauban  44.017584  1.354999\n",
       "4  31     Toulouse  43.604462  1.444247"
      ]
     },
     "metadata": {},
     "output_type": "display_data"
    }
   ],
   "source": [
    "display(df_cities.head())"
   ]
  },
  {
   "cell_type": "markdown",
   "metadata": {},
   "source": [
    "### Get weather informations about cities"
   ]
  },
  {
   "cell_type": "markdown",
   "metadata": {},
   "source": [
    "Even though we've been asked to use the One Call API, she's now deprecated. We'll see if we find another OpenWeatherMAP API that we'll suit our needs."
   ]
  },
  {
   "attachments": {
    "image.png": {
     "image/png": "[encoded data removed]"
    }
   },
   "cell_type": "markdown",
   "metadata": {},
   "source": [
    "![image.png](attachment:image.png)"
   ]
  },
  {
   "cell_type": "markdown",
   "metadata": {},
   "source": [
    "There's in fact another OpenWeatherMAP free API, the only real difference is that we can't have more than 5 days of forecast. As our only remaining option, we're going to use it."
   ]
  },
  {
   "attachments": {
    "image.png": {
     "image/png": "[encoded data removed]"
    }
   },
   "cell_type": "markdown",
   "metadata": {},
   "source": [
    "![image.png](attachment:image.png)"
   ]
  },
  {
   "cell_type": "code",
   "execution_count": 5,
   "metadata": {},
   "outputs": [],
   "source": [
    "# Function calling the Forecast API and returning forecast infos for each cities in the dataframe passed in paramater\n",
    "def get_temp_pop(df):\n",
    "\n",
    "    # Setting Forecast API's attributes\n",
    "    open_weather_payload = {\n",
    "        'lat':'',\n",
    "        'lon':'',\n",
    "        'units':'metric',\n",
    "        'appid':'1c442712fe2c9ef62a5041206e57d3ba'\n",
    "    }\n",
    "\n",
    "    # Initiating the list of temperature and pop (rain probability)\n",
    "    list_mean_temp = []\n",
    "    list_mean_pop = []\n",
    "\n",
    "    # Iterating on each cities, using their coordinates\n",
    "    for lat, lon in zip(df[\"lat\"], df[\"lon\"]):\n",
    "\n",
    "        # Setting the latitude and longitude to the parameters of the Forecast API\n",
    "        open_weather_payload['lat'] = lat\n",
    "        open_weather_payload['lon'] = lon\n",
    "\n",
    "        # Calling the Forecast API\n",
    "        city_weather = requests.get(\"http://api.openweathermap.org/data/2.5/forecast\", params=open_weather_payload).json()\n",
    "        list_daily_temp = []\n",
    "        list_pop = []\n",
    "\n",
    "        # Iterating on the response of the API\n",
    "        for e in city_weather[\"list\"]:\n",
    "\n",
    "            # Adding temperature and pop in their respective lists\n",
    "            list_daily_temp.append(e[\"main\"][\"temp\"])\n",
    "            list_pop.append(e[\"pop\"])\n",
    "\n",
    "        # Computing the mean of the 5 day's temperature and pop \n",
    "        list_mean_temp.append(fmean(list_daily_temp))\n",
    "        list_mean_pop.append(fmean(list_pop))\n",
    "    \n",
    "    # Returning completed lists\n",
    "    return list_mean_temp, list_mean_pop\n"
   ]
  },
  {
   "cell_type": "code",
   "execution_count": 6,
   "metadata": {},
   "outputs": [],
   "source": [
    "# Getting mean of temperature and pop for each cities\n",
    "temp, pop = get_temp_pop(df_cities)\n",
    "\n",
    "# Creating two new columns with our lists\n",
    "df_cities[\"mean_temp\"] = temp\n",
    "df_cities[\"mean_pop\"] = pop"
   ]
  },
  {
   "cell_type": "markdown",
   "metadata": {},
   "source": [
    "### Get top-5 destinations"
   ]
  },
  {
   "cell_type": "code",
   "execution_count": 7,
   "metadata": {},
   "outputs": [
    {
     "data": {
      "text/html": [
       "<div>\n",
       "<style scoped>\n",
       "    .dataframe tbody tr th:only-of-type {\n",
       "        vertical-align: middle;\n",
       "    }\n",
       "\n",
       "    .dataframe tbody tr th {\n",
       "        vertical-align: top;\n",
       "    }\n",
       "\n",
       "    .dataframe thead th {\n",
       "        text-align: right;\n",
       "    }\n",
       "</style>\n",
       "<table border=\"1\" class=\"dataframe\">\n",
       "  <thead>\n",
       "    <tr style=\"text-align: right;\">\n",
       "      <th></th>\n",
       "      <th>id</th>\n",
       "      <th>city</th>\n",
       "      <th>lat</th>\n",
       "      <th>lon</th>\n",
       "      <th>mean_temp</th>\n",
       "      <th>mean_pop</th>\n",
       "    </tr>\n",
       "  </thead>\n",
       "  <tbody>\n",
       "    <tr>\n",
       "      <th>28</th>\n",
       "      <td>6</td>\n",
       "      <td>Paris</td>\n",
       "      <td>48.858890</td>\n",
       "      <td>2.320041</td>\n",
       "      <td>20.14325</td>\n",
       "      <td>0.00000</td>\n",
       "    </tr>\n",
       "    <tr>\n",
       "      <th>13</th>\n",
       "      <td>22</td>\n",
       "      <td>Aix en Provence</td>\n",
       "      <td>43.529842</td>\n",
       "      <td>5.447474</td>\n",
       "      <td>19.43450</td>\n",
       "      <td>0.04775</td>\n",
       "    </tr>\n",
       "    <tr>\n",
       "      <th>18</th>\n",
       "      <td>16</td>\n",
       "      <td>Grenoble</td>\n",
       "      <td>45.187560</td>\n",
       "      <td>5.735782</td>\n",
       "      <td>19.03900</td>\n",
       "      <td>0.23300</td>\n",
       "    </tr>\n",
       "    <tr>\n",
       "      <th>12</th>\n",
       "      <td>23</td>\n",
       "      <td>Avignon</td>\n",
       "      <td>43.949249</td>\n",
       "      <td>4.805901</td>\n",
       "      <td>18.97400</td>\n",
       "      <td>0.06700</td>\n",
       "    </tr>\n",
       "    <tr>\n",
       "      <th>10</th>\n",
       "      <td>25</td>\n",
       "      <td>Nimes</td>\n",
       "      <td>43.837425</td>\n",
       "      <td>4.360069</td>\n",
       "      <td>18.63700</td>\n",
       "      <td>0.00025</td>\n",
       "    </tr>\n",
       "  </tbody>\n",
       "</table>\n",
       "</div>"
      ],
      "text/plain": [
       "    id             city        lat       lon  mean_temp  mean_pop\n",
       "28   6            Paris  48.858890  2.320041   20.14325   0.00000\n",
       "13  22  Aix en Provence  43.529842  5.447474   19.43450   0.04775\n",
       "18  16         Grenoble  45.187560  5.735782   19.03900   0.23300\n",
       "12  23          Avignon  43.949249  4.805901   18.97400   0.06700\n",
       "10  25            Nimes  43.837425  4.360069   18.63700   0.00025"
      ]
     },
     "metadata": {},
     "output_type": "display_data"
    }
   ],
   "source": [
    "# Creating a new dataframe with the 5 best destinations based on temperature and pop\n",
    "df_top_5_destinations = df_cities.sort_values(by=['mean_temp', 'mean_pop'], ascending=[False, True])[:5]\n",
    "display(df_top_5_destinations)"
   ]
  },
  {
   "cell_type": "markdown",
   "metadata": {},
   "source": [
    "### Create Cities CSV file"
   ]
  },
  {
   "cell_type": "code",
   "execution_count": null,
   "metadata": {},
   "outputs": [],
   "source": [
    "# Exporting in CSV the dataframe containing cities with infos retrieve on both Novinatim and Forecast APIs \n",
    "df_cities.to_csv(\"../data/cities.csv\", index=False)"
   ]
  },
  {
   "cell_type": "markdown",
   "metadata": {},
   "source": [
    "### Display best destinations map"
   ]
  },
  {
   "cell_type": "code",
   "execution_count": 15,
   "metadata": {},
   "outputs": [
    {
     "data": {
      "application/vnd.plotly.v1+json": {
       "config": {
        "plotlyServerURL": "https://plot.ly"
       },
       "data": [
        {
         "hovertemplate": "mean_temp=%{marker.size}<br>lat=%{lat}<br>lon=%{lon}<br>mean_pop=%{marker.color}<extra></extra>",
         "lat": [
          48.8588897,
          43.5298424,
          45.1875602,
          43.9492493,
          43.8374249
         ],
         "legendgroup": "",
         "lon": [
          2.320041,
          5.4474738,
          5.7357819,
          4.8059012,
          4.3600687
         ],
         "marker": {
          "color": [
           0,
           0.04775,
           0.233,
           0.067,
           0.00025
          ],
          "coloraxis": "coloraxis",
          "size": [
           20.143250000000002,
           19.4345,
           19.038999999999998,
           18.974,
           18.637
          ],
          "sizemode": "area",
          "sizeref": 0.050358125000000004
         },
         "mode": "markers",
         "name": "",
         "showlegend": false,
         "subplot": "mapbox",
         "type": "scattermapbox"
        }
       ],
       "layout": {
        "coloraxis": {
         "colorbar": {
          "title": {
           "text": "mean_pop"
          }
         },
         "colorscale": [
          [
           0,
           "#0d0887"
          ],
          [
           0.1111111111111111,
           "#46039f"
          ],
          [
           0.2222222222222222,
           "#7201a8"
          ],
          [
           0.3333333333333333,
           "#9c179e"
          ],
          [
           0.4444444444444444,
           "#bd3786"
          ],
          [
           0.5555555555555556,
           "#d8576b"
          ],
          [
           0.6666666666666666,
           "#ed7953"
          ],
          [
           0.7777777777777778,
           "#fb9f3a"
          ],
          [
           0.8888888888888888,
           "#fdca26"
          ],
          [
           1,
           "#f0f921"
          ]
         ]
        },
        "legend": {
         "itemsizing": "constant",
         "tracegroupgap": 0
        },
        "mapbox": {
         "center": {
          "lat": 45.0725933,
          "lon": 4.53385332
         },
         "domain": {
          "x": [
           0,
           1
          ],
          "y": [
           0,
           1
          ]
         },
         "style": "carto-positron",
         "zoom": 8
        },
        "template": {
         "data": {
          "bar": [
           {
            "error_x": {
             "color": "#2a3f5f"
            },
            "error_y": {
             "color": "#2a3f5f"
            },
            "marker": {
             "line": {
              "color": "#E5ECF6",
              "width": 0.5
             },
             "pattern": {
              "fillmode": "overlay",
              "size": 10,
              "solidity": 0.2
             }
            },
            "type": "bar"
           }
          ],
          "barpolar": [
           {
            "marker": {
             "line": {
              "color": "#E5ECF6",
              "width": 0.5
             },
             "pattern": {
              "fillmode": "overlay",
              "size": 10,
              "solidity": 0.2
             }
            },
            "type": "barpolar"
           }
          ],
          "carpet": [
           {
            "aaxis": {
             "endlinecolor": "#2a3f5f",
             "gridcolor": "white",
             "linecolor": "white",
             "minorgridcolor": "white",
             "startlinecolor": "#2a3f5f"
            },
            "baxis": {
             "endlinecolor": "#2a3f5f",
             "gridcolor": "white",
             "linecolor": "white",
             "minorgridcolor": "white",
             "startlinecolor": "#2a3f5f"
            },
            "type": "carpet"
           }
          ],
          "choropleth": [
           {
            "colorbar": {
             "outlinewidth": 0,
             "ticks": ""
            },
            "type": "choropleth"
           }
          ],
          "contour": [
           {
            "colorbar": {
             "outlinewidth": 0,
             "ticks": ""
            },
            "colorscale": [
             [
              0,
              "#0d0887"
             ],
             [
              0.1111111111111111,
              "#46039f"
             ],
             [
              0.2222222222222222,
              "#7201a8"
             ],
             [
              0.3333333333333333,
              "#9c179e"
             ],
             [
              0.4444444444444444,
              "#bd3786"
             ],
             [
              0.5555555555555556,
              "#d8576b"
             ],
             [
              0.6666666666666666,
              "#ed7953"
             ],
             [
              0.7777777777777778,
              "#fb9f3a"
             ],
             [
              0.8888888888888888,
              "#fdca26"
             ],
             [
              1,
              "#f0f921"
             ]
            ],
            "type": "contour"
           }
          ],
          "contourcarpet": [
           {
            "colorbar": {
             "outlinewidth": 0,
             "ticks": ""
            },
            "type": "contourcarpet"
           }
          ],
          "heatmap": [
           {
            "colorbar": {
             "outlinewidth": 0,
             "ticks": ""
            },
            "colorscale": [
             [
              0,
              "#0d0887"
             ],
             [
              0.1111111111111111,
              "#46039f"
             ],
             [
              0.2222222222222222,
              "#7201a8"
             ],
             [
              0.3333333333333333,
              "#9c179e"
             ],
             [
              0.4444444444444444,
              "#bd3786"
             ],
             [
              0.5555555555555556,
              "#d8576b"
             ],
             [
              0.6666666666666666,
              "#ed7953"
             ],
             [
              0.7777777777777778,
              "#fb9f3a"
             ],
             [
              0.8888888888888888,
              "#fdca26"
             ],
             [
              1,
              "#f0f921"
             ]
            ],
            "type": "heatmap"
           }
          ],
          "heatmapgl": [
           {
            "colorbar": {
             "outlinewidth": 0,
             "ticks": ""
            },
            "colorscale": [
             [
              0,
              "#0d0887"
             ],
             [
              0.1111111111111111,
              "#46039f"
             ],
             [
              0.2222222222222222,
              "#7201a8"
             ],
             [
              0.3333333333333333,
              "#9c179e"
             ],
             [
              0.4444444444444444,
              "#bd3786"
             ],
             [
              0.5555555555555556,
              "#d8576b"
             ],
             [
              0.6666666666666666,
              "#ed7953"
             ],
             [
              0.7777777777777778,
              "#fb9f3a"
             ],
             [
              0.8888888888888888,
              "#fdca26"
             ],
             [
              1,
              "#f0f921"
             ]
            ],
            "type": "heatmapgl"
           }
          ],
          "histogram": [
           {
            "marker": {
             "pattern": {
              "fillmode": "overlay",
              "size": 10,
              "solidity": 0.2
             }
            },
            "type": "histogram"
           }
          ],
          "histogram2d": [
           {
            "colorbar": {
             "outlinewidth": 0,
             "ticks": ""
            },
            "colorscale": [
             [
              0,
              "#0d0887"
             ],
             [
              0.1111111111111111,
              "#46039f"
             ],
             [
              0.2222222222222222,
              "#7201a8"
             ],
             [
              0.3333333333333333,
              "#9c179e"
             ],
             [
              0.4444444444444444,
              "#bd3786"
             ],
             [
              0.5555555555555556,
              "#d8576b"
             ],
             [
              0.6666666666666666,
              "#ed7953"
             ],
             [
              0.7777777777777778,
              "#fb9f3a"
             ],
             [
              0.8888888888888888,
              "#fdca26"
             ],
             [
              1,
              "#f0f921"
             ]
            ],
            "type": "histogram2d"
           }
          ],
          "histogram2dcontour": [
           {
            "colorbar": {
             "outlinewidth": 0,
             "ticks": ""
            },
            "colorscale": [
             [
              0,
              "#0d0887"
             ],
             [
              0.1111111111111111,
              "#46039f"
             ],
             [
              0.2222222222222222,
              "#7201a8"
             ],
             [
              0.3333333333333333,
              "#9c179e"
             ],
             [
              0.4444444444444444,
              "#bd3786"
             ],
             [
              0.5555555555555556,
              "#d8576b"
             ],
             [
              0.6666666666666666,
              "#ed7953"
             ],
             [
              0.7777777777777778,
              "#fb9f3a"
             ],
             [
              0.8888888888888888,
              "#fdca26"
             ],
             [
              1,
              "#f0f921"
             ]
            ],
            "type": "histogram2dcontour"
           }
          ],
          "mesh3d": [
           {
            "colorbar": {
             "outlinewidth": 0,
             "ticks": ""
            },
            "type": "mesh3d"
           }
          ],
          "parcoords": [
           {
            "line": {
             "colorbar": {
              "outlinewidth": 0,
              "ticks": ""
             }
            },
            "type": "parcoords"
           }
          ],
          "pie": [
           {
            "automargin": true,
            "type": "pie"
           }
          ],
          "scatter": [
           {
            "fillpattern": {
             "fillmode": "overlay",
             "size": 10,
             "solidity": 0.2
            },
            "type": "scatter"
           }
          ],
          "scatter3d": [
           {
            "line": {
             "colorbar": {
              "outlinewidth": 0,
              "ticks": ""
             }
            },
            "marker": {
             "colorbar": {
              "outlinewidth": 0,
              "ticks": ""
             }
            },
            "type": "scatter3d"
           }
          ],
          "scattercarpet": [
           {
            "marker": {
             "colorbar": {
              "outlinewidth": 0,
              "ticks": ""
             }
            },
            "type": "scattercarpet"
           }
          ],
          "scattergeo": [
           {
            "marker": {
             "colorbar": {
              "outlinewidth": 0,
              "ticks": ""
             }
            },
            "type": "scattergeo"
           }
          ],
          "scattergl": [
           {
            "marker": {
             "colorbar": {
              "outlinewidth": 0,
              "ticks": ""
             }
            },
            "type": "scattergl"
           }
          ],
          "scattermapbox": [
           {
            "marker": {
             "colorbar": {
              "outlinewidth": 0,
              "ticks": ""
             }
            },
            "type": "scattermapbox"
           }
          ],
          "scatterpolar": [
           {
            "marker": {
             "colorbar": {
              "outlinewidth": 0,
              "ticks": ""
             }
            },
            "type": "scatterpolar"
           }
          ],
          "scatterpolargl": [
           {
            "marker": {
             "colorbar": {
              "outlinewidth": 0,
              "ticks": ""
             }
            },
            "type": "scatterpolargl"
           }
          ],
          "scatterternary": [
           {
            "marker": {
             "colorbar": {
              "outlinewidth": 0,
              "ticks": ""
             }
            },
            "type": "scatterternary"
           }
          ],
          "surface": [
           {
            "colorbar": {
             "outlinewidth": 0,
             "ticks": ""
            },
            "colorscale": [
             [
              0,
              "#0d0887"
             ],
             [
              0.1111111111111111,
              "#46039f"
             ],
             [
              0.2222222222222222,
              "#7201a8"
             ],
             [
              0.3333333333333333,
              "#9c179e"
             ],
             [
              0.4444444444444444,
              "#bd3786"
             ],
             [
              0.5555555555555556,
              "#d8576b"
             ],
             [
              0.6666666666666666,
              "#ed7953"
             ],
             [
              0.7777777777777778,
              "#fb9f3a"
             ],
             [
              0.8888888888888888,
              "#fdca26"
             ],
             [
              1,
              "#f0f921"
             ]
            ],
            "type": "surface"
           }
          ],
          "table": [
           {
            "cells": {
             "fill": {
              "color": "#EBF0F8"
             },
             "line": {
              "color": "white"
             }
            },
            "header": {
             "fill": {
              "color": "#C8D4E3"
             },
             "line": {
              "color": "white"
             }
            },
            "type": "table"
           }
          ]
         },
         "layout": {
          "annotationdefaults": {
           "arrowcolor": "#2a3f5f",
           "arrowhead": 0,
           "arrowwidth": 1
          },
          "autotypenumbers": "strict",
          "coloraxis": {
           "colorbar": {
            "outlinewidth": 0,
            "ticks": ""
           }
          },
          "colorscale": {
           "diverging": [
            [
             0,
             "#8e0152"
            ],
            [
             0.1,
             "#c51b7d"
            ],
            [
             0.2,
             "#de77ae"
            ],
            [
             0.3,
             "#f1b6da"
            ],
            [
             0.4,
             "#fde0ef"
            ],
            [
             0.5,
             "#f7f7f7"
            ],
            [
             0.6,
             "#e6f5d0"
            ],
            [
             0.7,
             "#b8e186"
            ],
            [
             0.8,
             "#7fbc41"
            ],
            [
             0.9,
             "#4d9221"
            ],
            [
             1,
             "#276419"
            ]
           ],
           "sequential": [
            [
             0,
             "#0d0887"
            ],
            [
             0.1111111111111111,
             "#46039f"
            ],
            [
             0.2222222222222222,
             "#7201a8"
            ],
            [
             0.3333333333333333,
             "#9c179e"
            ],
            [
             0.4444444444444444,
             "#bd3786"
            ],
            [
             0.5555555555555556,
             "#d8576b"
            ],
            [
             0.6666666666666666,
             "#ed7953"
            ],
            [
             0.7777777777777778,
             "#fb9f3a"
            ],
            [
             0.8888888888888888,
             "#fdca26"
            ],
            [
             1,
             "#f0f921"
            ]
           ],
           "sequentialminus": [
            [
             0,
             "#0d0887"
            ],
            [
             0.1111111111111111,
             "#46039f"
            ],
            [
             0.2222222222222222,
             "#7201a8"
            ],
            [
             0.3333333333333333,
             "#9c179e"
            ],
            [
             0.4444444444444444,
             "#bd3786"
            ],
            [
             0.5555555555555556,
             "#d8576b"
            ],
            [
             0.6666666666666666,
             "#ed7953"
            ],
            [
             0.7777777777777778,
             "#fb9f3a"
            ],
            [
             0.8888888888888888,
             "#fdca26"
            ],
            [
             1,
             "#f0f921"
            ]
           ]
          },
          "colorway": [
           "#636efa",
           "#EF553B",
           "#00cc96",
           "#ab63fa",
           "#FFA15A",
           "#19d3f3",
           "#FF6692",
           "#B6E880",
           "#FF97FF",
           "#FECB52"
          ],
          "font": {
           "color": "#2a3f5f"
          },
          "geo": {
           "bgcolor": "white",
           "lakecolor": "white",
           "landcolor": "#E5ECF6",
           "showlakes": true,
           "showland": true,
           "subunitcolor": "white"
          },
          "hoverlabel": {
           "align": "left"
          },
          "hovermode": "closest",
          "mapbox": {
           "style": "light"
          },
          "paper_bgcolor": "white",
          "plot_bgcolor": "#E5ECF6",
          "polar": {
           "angularaxis": {
            "gridcolor": "white",
            "linecolor": "white",
            "ticks": ""
           },
           "bgcolor": "#E5ECF6",
           "radialaxis": {
            "gridcolor": "white",
            "linecolor": "white",
            "ticks": ""
           }
          },
          "scene": {
           "xaxis": {
            "backgroundcolor": "#E5ECF6",
            "gridcolor": "white",
            "gridwidth": 2,
            "linecolor": "white",
            "showbackground": true,
            "ticks": "",
            "zerolinecolor": "white"
           },
           "yaxis": {
            "backgroundcolor": "#E5ECF6",
            "gridcolor": "white",
            "gridwidth": 2,
            "linecolor": "white",
            "showbackground": true,
            "ticks": "",
            "zerolinecolor": "white"
           },
           "zaxis": {
            "backgroundcolor": "#E5ECF6",
            "gridcolor": "white",
            "gridwidth": 2,
            "linecolor": "white",
            "showbackground": true,
            "ticks": "",
            "zerolinecolor": "white"
           }
          },
          "shapedefaults": {
           "line": {
            "color": "#2a3f5f"
           }
          },
          "ternary": {
           "aaxis": {
            "gridcolor": "white",
            "linecolor": "white",
            "ticks": ""
           },
           "baxis": {
            "gridcolor": "white",
            "linecolor": "white",
            "ticks": ""
           },
           "bgcolor": "#E5ECF6",
           "caxis": {
            "gridcolor": "white",
            "linecolor": "white",
            "ticks": ""
           }
          },
          "title": {
           "x": 0.05
          },
          "xaxis": {
           "automargin": true,
           "gridcolor": "white",
           "linecolor": "white",
           "ticks": "",
           "title": {
            "standoff": 15
           },
           "zerolinecolor": "white",
           "zerolinewidth": 2
          },
          "yaxis": {
           "automargin": true,
           "gridcolor": "white",
           "linecolor": "white",
           "ticks": "",
           "title": {
            "standoff": 15
           },
           "zerolinecolor": "white",
           "zerolinewidth": 2
          }
         }
        },
        "title": {
         "text": "Top-5 destinations (based on temperature and pop)"
        }
       }
      }
     },
     "metadata": {},
     "output_type": "display_data"
    }
   ],
   "source": [
    "# Visualizing the 5 best destinations\n",
    "fig = px.scatter_mapbox(\n",
    "    data_frame=df_top_5_destinations,\n",
    "    lat=\"lat\",\n",
    "    lon=\"lon\",\n",
    "    color=\"mean_pop\",\n",
    "    size=\"mean_temp\",\n",
    "    mapbox_style=\"carto-positron\",\n",
    "    title=\"Top-5 destinations (based on temperature and pop)\"\n",
    ")\n",
    "\n",
    "fig.show()"
   ]
  },
  {
   "cell_type": "markdown",
   "metadata": {},
   "source": [
    "## Scrape Booking.com"
   ]
  },
  {
   "cell_type": "code",
   "execution_count": null,
   "metadata": {},
   "outputs": [
    {
     "name": "stdout",
     "output_type": "stream",
     "text": [
      "2025-04-28 15:35:29 [scrapy.utils.log] INFO: Scrapy 2.11.1 started (bot: scrapybot)\n",
      "2025-04-28 15:35:29 [scrapy.utils.log] INFO: Versions: lxml 5.2.1.0, libxml2 2.13.1, cssselect 1.2.0, parsel 1.8.1, w3lib 2.1.2, Twisted 23.10.0, Python 3.12.7 | packaged by Anaconda, Inc. | (main, Oct  4 2024, 08:22:19) [Clang 14.0.6 ], pyOpenSSL 24.2.1 (OpenSSL 3.0.16 11 Feb 2025), cryptography 43.0.0, Platform macOS-14.6-arm64-arm-64bit\n",
      "2025-04-28 15:35:29 [scrapy.addons] INFO: Enabled addons:\n",
      "[]\n",
      "2025-04-28 15:35:29 [scrapy.extensions.telnet] INFO: Telnet Password: 866aa88af6af553c\n",
      "2025-04-28 15:35:29 [scrapy.middleware] INFO: Enabled extensions:\n",
      "['scrapy.extensions.corestats.CoreStats',\n",
      " 'scrapy.extensions.telnet.TelnetConsole',\n",
      " 'scrapy.extensions.memusage.MemoryUsage',\n",
      " 'scrapy.extensions.feedexport.FeedExporter',\n",
      " 'scrapy.extensions.logstats.LogStats']\n",
      "2025-04-28 15:35:29 [scrapy.crawler] INFO: Overridden settings:\n",
      "{'LOG_LEVEL': 20,\n",
      " 'REQUEST_FINGERPRINTER_IMPLEMENTATION': '2.7',\n",
      " 'USER_AGENT': 'Chrome/97.0'}\n",
      "2025-04-28 15:35:29 [scrapy.middleware] INFO: Enabled downloader middlewares:\n",
      "['scrapy.downloadermiddlewares.httpauth.HttpAuthMiddleware',\n",
      " 'scrapy.downloadermiddlewares.downloadtimeout.DownloadTimeoutMiddleware',\n",
      " 'scrapy.downloadermiddlewares.defaultheaders.DefaultHeadersMiddleware',\n",
      " 'scrapy.downloadermiddlewares.useragent.UserAgentMiddleware',\n",
      " 'scrapy.downloadermiddlewares.retry.RetryMiddleware',\n",
      " 'scrapy.downloadermiddlewares.redirect.MetaRefreshMiddleware',\n",
      " 'scrapy.downloadermiddlewares.httpcompression.HttpCompressionMiddleware',\n",
      " 'scrapy.downloadermiddlewares.redirect.RedirectMiddleware',\n",
      " 'scrapy.downloadermiddlewares.cookies.CookiesMiddleware',\n",
      " 'scrapy.downloadermiddlewares.httpproxy.HttpProxyMiddleware',\n",
      " 'scrapy.downloadermiddlewares.stats.DownloaderStats']\n",
      "2025-04-28 15:35:29 [scrapy.middleware] INFO: Enabled spider middlewares:\n",
      "['scrapy.spidermiddlewares.httperror.HttpErrorMiddleware',\n",
      " 'scrapy.spidermiddlewares.offsite.OffsiteMiddleware',\n",
      " 'scrapy.spidermiddlewares.referer.RefererMiddleware',\n",
      " 'scrapy.spidermiddlewares.urllength.UrlLengthMiddleware',\n",
      " 'scrapy.spidermiddlewares.depth.DepthMiddleware']\n",
      "2025-04-28 15:35:29 [scrapy.middleware] INFO: Enabled item pipelines:\n",
      "[]\n",
      "2025-04-28 15:35:29 [scrapy.core.engine] INFO: Spider opened\n",
      "2025-04-28 15:35:29 [scrapy.extensions.logstats] INFO: Crawled 0 pages (at 0 pages/min), scraped 0 items (at 0 items/min)\n",
      "2025-04-28 15:35:29 [scrapy.extensions.telnet] INFO: Telnet console listening on 127.0.0.1:6023\n",
      "2025-04-28 15:36:29 [scrapy.extensions.logstats] INFO: Crawled 398 pages (at 398 pages/min), scraped 377 items (at 377 items/min)\n",
      "2025-04-28 15:37:29 [scrapy.extensions.logstats] INFO: Crawled 801 pages (at 403 pages/min), scraped 769 items (at 392 items/min)\n",
      "2025-04-28 15:37:46 [scrapy.core.engine] INFO: Closing spider (finished)\n",
      "2025-04-28 15:37:46 [scrapy.extensions.feedexport] INFO: Stored json feed (875 items) in: data/hotels.json\n",
      "2025-04-28 15:37:46 [scrapy.statscollectors] INFO: Dumping Scrapy stats:\n",
      "{'downloader/request_bytes': 1252508,\n",
      " 'downloader/request_count': 910,\n",
      " 'downloader/request_method_count/GET': 910,\n",
      " 'downloader/response_bytes': 258809644,\n",
      " 'downloader/response_count': 910,\n",
      " 'downloader/response_status_count/200': 910,\n",
      " 'elapsed_time_seconds': 136.837347,\n",
      " 'feedexport/success_count/FileFeedStorage': 1,\n",
      " 'finish_reason': 'finished',\n",
      " 'finish_time': datetime.datetime(2025, 4, 28, 13, 37, 46, 376779, tzinfo=datetime.timezone.utc),\n",
      " 'httpcompression/response_bytes': 1258732455,\n",
      " 'httpcompression/response_count': 910,\n",
      " 'item_scraped_count': 875,\n",
      " 'log_count/INFO': 13,\n",
      " 'memusage/max': 663814144,\n",
      " 'memusage/startup': 74989568,\n",
      " 'request_depth_max': 1,\n",
      " 'response_received_count': 910,\n",
      " 'scheduler/dequeued': 910,\n",
      " 'scheduler/dequeued/memory': 910,\n",
      " 'scheduler/enqueued': 910,\n",
      " 'scheduler/enqueued/memory': 910,\n",
      " 'start_time': datetime.datetime(2025, 4, 28, 13, 35, 29, 539432, tzinfo=datetime.timezone.utc)}\n",
      "2025-04-28 15:37:46 [scrapy.core.engine] INFO: Spider closed (finished)\n"
     ]
    }
   ],
   "source": [
    "# Calling a Python script which scrape the Booking website\n",
    "!python ../src/scraper.py"
   ]
  },
  {
   "cell_type": "markdown",
   "metadata": {},
   "source": [
    "### Load Hotels JSON file"
   ]
  },
  {
   "cell_type": "code",
   "execution_count": null,
   "metadata": {},
   "outputs": [],
   "source": [
    "# Importing hotels informations from our scraping script\n",
    "df_hotels = pd.read_json(\"../data/hotels.json\").reset_index()"
   ]
  },
  {
   "cell_type": "code",
   "execution_count": null,
   "metadata": {},
   "outputs": [
    {
     "data": {
      "text/html": [
       "<div>\n",
       "<style scoped>\n",
       "    .dataframe tbody tr th:only-of-type {\n",
       "        vertical-align: middle;\n",
       "    }\n",
       "\n",
       "    .dataframe tbody tr th {\n",
       "        vertical-align: top;\n",
       "    }\n",
       "\n",
       "    .dataframe thead th {\n",
       "        text-align: right;\n",
       "    }\n",
       "</style>\n",
       "<table border=\"1\" class=\"dataframe\">\n",
       "  <thead>\n",
       "    <tr style=\"text-align: right;\">\n",
       "      <th></th>\n",
       "      <th>id</th>\n",
       "      <th>name</th>\n",
       "      <th>rating</th>\n",
       "      <th>lat</th>\n",
       "      <th>lon</th>\n",
       "      <th>description</th>\n",
       "      <th>url</th>\n",
       "      <th>city_id</th>\n",
       "    </tr>\n",
       "  </thead>\n",
       "  <tbody>\n",
       "    <tr>\n",
       "      <th>0</th>\n",
       "      <td>0</td>\n",
       "      <td>Hotel De Quebec</td>\n",
       "      <td>8.3</td>\n",
       "      <td>49.437834</td>\n",
       "      <td>1.097253</td>\n",
       "      <td>L'Alive Hôtel de Québec vous accueille dans un...</td>\n",
       "      <td>https://www.booking.com/hotel/fr/alive-hotel-d...</td>\n",
       "      <td>5</td>\n",
       "    </tr>\n",
       "    <tr>\n",
       "      <th>1</th>\n",
       "      <td>1</td>\n",
       "      <td>ibis budget Rouen Centre Rive Gauche</td>\n",
       "      <td>8.4</td>\n",
       "      <td>49.425341</td>\n",
       "      <td>1.068718</td>\n",
       "      <td>L'Hotel ibis budget Rouen Centre Rive Gauche G...</td>\n",
       "      <td>https://www.booking.com/hotel/fr/ibis-budget-r...</td>\n",
       "      <td>5</td>\n",
       "    </tr>\n",
       "    <tr>\n",
       "      <th>2</th>\n",
       "      <td>2</td>\n",
       "      <td>Sous les Etoiles - dans le plus haut gratte-ci...</td>\n",
       "      <td>9.2</td>\n",
       "      <td>49.440038</td>\n",
       "      <td>1.085688</td>\n",
       "      <td>L’hébergement Sous les Etoiles - dans le plus ...</td>\n",
       "      <td>https://www.booking.com/hotel/fr/sous-les-etoi...</td>\n",
       "      <td>5</td>\n",
       "    </tr>\n",
       "    <tr>\n",
       "      <th>3</th>\n",
       "      <td>3</td>\n",
       "      <td>Charmant appartement le Saint Marc 3 ème C</td>\n",
       "      <td>8.4</td>\n",
       "      <td>49.439338</td>\n",
       "      <td>1.100559</td>\n",
       "      <td>L’hébergement Charmant appartement le Saint Ma...</td>\n",
       "      <td>https://www.booking.com/hotel/fr/charmant-appa...</td>\n",
       "      <td>5</td>\n",
       "    </tr>\n",
       "    <tr>\n",
       "      <th>4</th>\n",
       "      <td>4</td>\n",
       "      <td>Hotel Dandy Rouen centre</td>\n",
       "      <td>8.1</td>\n",
       "      <td>49.445277</td>\n",
       "      <td>1.086763</td>\n",
       "      <td>Cet hôtel est situé dans le centre de Rouen, à...</td>\n",
       "      <td>https://www.booking.com/hotel/fr/dandy.fr.html...</td>\n",
       "      <td>5</td>\n",
       "    </tr>\n",
       "  </tbody>\n",
       "</table>\n",
       "</div>"
      ],
      "text/plain": [
       "   id                                               name  rating        lat  \\\n",
       "0   0                                    Hotel De Quebec     8.3  49.437834   \n",
       "1   1               ibis budget Rouen Centre Rive Gauche     8.4  49.425341   \n",
       "2   2  Sous les Etoiles - dans le plus haut gratte-ci...     9.2  49.440038   \n",
       "3   3         Charmant appartement le Saint Marc 3 ème C     8.4  49.439338   \n",
       "4   4                           Hotel Dandy Rouen centre     8.1  49.445277   \n",
       "\n",
       "        lon                                        description  \\\n",
       "0  1.097253  L'Alive Hôtel de Québec vous accueille dans un...   \n",
       "1  1.068718  L'Hotel ibis budget Rouen Centre Rive Gauche G...   \n",
       "2  1.085688  L’hébergement Sous les Etoiles - dans le plus ...   \n",
       "3  1.100559  L’hébergement Charmant appartement le Saint Ma...   \n",
       "4  1.086763  Cet hôtel est situé dans le centre de Rouen, à...   \n",
       "\n",
       "                                                 url  city_id  \n",
       "0  https://www.booking.com/hotel/fr/alive-hotel-d...        5  \n",
       "1  https://www.booking.com/hotel/fr/ibis-budget-r...        5  \n",
       "2  https://www.booking.com/hotel/fr/sous-les-etoi...        5  \n",
       "3  https://www.booking.com/hotel/fr/charmant-appa...        5  \n",
       "4  https://www.booking.com/hotel/fr/dandy.fr.html...        5  "
      ]
     },
     "metadata": {},
     "output_type": "display_data"
    }
   ],
   "source": [
    "# Dropping all rating free rows\n",
    "df_hotels = df_hotels[df_hotels['rating'].notna()]\n",
    "df_hotels.rename(columns={'index': 'id'}, inplace=True)\n",
    "\n",
    "# Casting every rating to float\n",
    "df_hotels[\"rating\"] = df_hotels[\"rating\"].apply(lambda x : x if x is None else float(x.replace(\",\",\".\")))\n",
    "\n",
    "display(df_hotels.head())"
   ]
  },
  {
   "cell_type": "code",
   "execution_count": null,
   "metadata": {},
   "outputs": [
    {
     "data": {
      "text/html": [
       "<div>\n",
       "<style scoped>\n",
       "    .dataframe tbody tr th:only-of-type {\n",
       "        vertical-align: middle;\n",
       "    }\n",
       "\n",
       "    .dataframe tbody tr th {\n",
       "        vertical-align: top;\n",
       "    }\n",
       "\n",
       "    .dataframe thead th {\n",
       "        text-align: right;\n",
       "    }\n",
       "</style>\n",
       "<table border=\"1\" class=\"dataframe\">\n",
       "  <thead>\n",
       "    <tr style=\"text-align: right;\">\n",
       "      <th></th>\n",
       "      <th>id</th>\n",
       "      <th>name</th>\n",
       "      <th>rating</th>\n",
       "      <th>lat</th>\n",
       "      <th>lon</th>\n",
       "      <th>description</th>\n",
       "      <th>url</th>\n",
       "      <th>city_id</th>\n",
       "    </tr>\n",
       "  </thead>\n",
       "  <tbody>\n",
       "    <tr>\n",
       "      <th>300</th>\n",
       "      <td>300</td>\n",
       "      <td>Hôtel Maât Batignolles</td>\n",
       "      <td>8.1</td>\n",
       "      <td>48.883063</td>\n",
       "      <td>2.323020</td>\n",
       "      <td>L’établissement Hôtel Maât Batignolles vous ac...</td>\n",
       "      <td>https://www.booking.com/hotel/fr/maat-batignol...</td>\n",
       "      <td>6</td>\n",
       "    </tr>\n",
       "    <tr>\n",
       "      <th>303</th>\n",
       "      <td>303</td>\n",
       "      <td>District Nation</td>\n",
       "      <td>8.6</td>\n",
       "      <td>48.851311</td>\n",
       "      <td>2.392413</td>\n",
       "      <td>Situé à Paris, à 500 mètres de la place de la ...</td>\n",
       "      <td>https://www.booking.com/hotel/fr/alfa-paris-na...</td>\n",
       "      <td>6</td>\n",
       "    </tr>\n",
       "    <tr>\n",
       "      <th>304</th>\n",
       "      <td>304</td>\n",
       "      <td>L' appartement Blomet</td>\n",
       "      <td>8.5</td>\n",
       "      <td>48.843431</td>\n",
       "      <td>2.307784</td>\n",
       "      <td>L’hébergement L' appartement Blomet se trouve ...</td>\n",
       "      <td>https://www.booking.com/hotel/fr/appartement-b...</td>\n",
       "      <td>6</td>\n",
       "    </tr>\n",
       "    <tr>\n",
       "      <th>305</th>\n",
       "      <td>305</td>\n",
       "      <td>Studio à Montmartre</td>\n",
       "      <td>8.0</td>\n",
       "      <td>48.891506</td>\n",
       "      <td>2.338585</td>\n",
       "      <td>Offrant une vue sur le jardin, l’hébergement S...</td>\n",
       "      <td>https://www.booking.com/hotel/fr/studio-a-mont...</td>\n",
       "      <td>6</td>\n",
       "    </tr>\n",
       "    <tr>\n",
       "      <th>306</th>\n",
       "      <td>306</td>\n",
       "      <td>Hôtel Brésil Opéra SPA</td>\n",
       "      <td>8.2</td>\n",
       "      <td>48.872406</td>\n",
       "      <td>2.344939</td>\n",
       "      <td>L'Hôtel Brésil Opéra SPA est situé dans le cen...</td>\n",
       "      <td>https://www.booking.com/hotel/fr/bresil-opera....</td>\n",
       "      <td>6</td>\n",
       "    </tr>\n",
       "  </tbody>\n",
       "</table>\n",
       "</div>"
      ],
      "text/plain": [
       "      id                    name  rating        lat       lon  \\\n",
       "300  300  Hôtel Maât Batignolles     8.1  48.883063  2.323020   \n",
       "303  303         District Nation     8.6  48.851311  2.392413   \n",
       "304  304   L' appartement Blomet     8.5  48.843431  2.307784   \n",
       "305  305     Studio à Montmartre     8.0  48.891506  2.338585   \n",
       "306  306  Hôtel Brésil Opéra SPA     8.2  48.872406  2.344939   \n",
       "\n",
       "                                           description  \\\n",
       "300  L’établissement Hôtel Maât Batignolles vous ac...   \n",
       "303  Situé à Paris, à 500 mètres de la place de la ...   \n",
       "304  L’hébergement L' appartement Blomet se trouve ...   \n",
       "305  Offrant une vue sur le jardin, l’hébergement S...   \n",
       "306  L'Hôtel Brésil Opéra SPA est situé dans le cen...   \n",
       "\n",
       "                                                   url  city_id  \n",
       "300  https://www.booking.com/hotel/fr/maat-batignol...        6  \n",
       "303  https://www.booking.com/hotel/fr/alfa-paris-na...        6  \n",
       "304  https://www.booking.com/hotel/fr/appartement-b...        6  \n",
       "305  https://www.booking.com/hotel/fr/studio-a-mont...        6  \n",
       "306  https://www.booking.com/hotel/fr/bresil-opera....        6  "
      ]
     },
     "metadata": {},
     "output_type": "display_data"
    }
   ],
   "source": [
    "# Creating a dataframe containing hotels from the best destination \n",
    "df_hotels_top_destination = df_hotels[df_hotels[\"city_id\"]==df_top_5_destinations[\"id\"].iloc[0]]\n",
    "\n",
    "display(df_hotels_top_destination.head())"
   ]
  },
  {
   "cell_type": "code",
   "execution_count": 27,
   "metadata": {},
   "outputs": [
    {
     "data": {
      "application/vnd.plotly.v1+json": {
       "config": {
        "plotlyServerURL": "https://plot.ly"
       },
       "data": [
        {
         "hovertemplate": "rating=%{marker.color}<br>lat=%{lat}<br>lon=%{lon}<extra></extra>",
         "lat": [
          48.8830632,
          48.8513107,
          48.8434306,
          48.8915065,
          48.87240634372337,
          48.8665021,
          48.84747299663413,
          48.89349840566838,
          48.8466361,
          48.8976515,
          48.8645069,
          48.88311163244528,
          48.849148461354396,
          48.8484028,
          48.87182592205397,
          48.82999187938653,
          48.8337449,
          48.87279887468613,
          48.838785107601545
         ],
         "legendgroup": "",
         "lon": [
          2.3230198,
          2.39241259999994,
          2.3077835,
          2.3385854999999998,
          2.3449386656284332,
          2.37245089999999,
          2.371901571750641,
          2.3250015548436522,
          2.2938141,
          2.3599426,
          2.37304319999998,
          2.3383719474077225,
          2.3892775923013687,
          2.4008025,
          2.344901338165073,
          2.356725856607227,
          2.3312179,
          2.3612290620803833,
          2.3229078947952075
         ],
         "marker": {
          "color": [
           8.1,
           8.6,
           8.5,
           8,
           8.2,
           8.4,
           8.6,
           7.8,
           8.2,
           7.5,
           7.9,
           7.8,
           8,
           9.3,
           7.7,
           7.9,
           8.5,
           7.7,
           7.3
          ],
          "coloraxis": "coloraxis",
          "size": [
           8.1,
           8.6,
           8.5,
           8,
           8.2,
           8.4,
           8.6,
           7.8,
           8.2,
           7.5,
           7.9,
           7.8,
           8,
           9.3,
           7.7,
           7.9,
           8.5,
           7.7,
           7.3
          ],
          "sizemode": "area",
          "sizeref": 0.023250000000000003
         },
         "mode": "markers",
         "name": "",
         "showlegend": false,
         "subplot": "mapbox",
         "type": "scattermapbox"
        }
       ],
       "layout": {
        "coloraxis": {
         "colorbar": {
          "title": {
           "text": "rating"
          }
         },
         "colorscale": [
          [
           0,
           "#0d0887"
          ],
          [
           0.1111111111111111,
           "#46039f"
          ],
          [
           0.2222222222222222,
           "#7201a8"
          ],
          [
           0.3333333333333333,
           "#9c179e"
          ],
          [
           0.4444444444444444,
           "#bd3786"
          ],
          [
           0.5555555555555556,
           "#d8576b"
          ],
          [
           0.6666666666666666,
           "#ed7953"
          ],
          [
           0.7777777777777778,
           "#fb9f3a"
          ],
          [
           0.8888888888888888,
           "#fdca26"
          ],
          [
           1,
           "#f0f921"
          ]
         ]
        },
        "legend": {
         "itemsizing": "constant",
         "tracegroupgap": 0
        },
        "mapbox": {
         "center": {
          "lat": 48.86241025913441,
          "lon": 2.3499120043989272
         },
         "domain": {
          "x": [
           0,
           1
          ],
          "y": [
           0,
           1
          ]
         },
         "style": "carto-positron",
         "zoom": 8
        },
        "template": {
         "data": {
          "bar": [
           {
            "error_x": {
             "color": "#2a3f5f"
            },
            "error_y": {
             "color": "#2a3f5f"
            },
            "marker": {
             "line": {
              "color": "#E5ECF6",
              "width": 0.5
             },
             "pattern": {
              "fillmode": "overlay",
              "size": 10,
              "solidity": 0.2
             }
            },
            "type": "bar"
           }
          ],
          "barpolar": [
           {
            "marker": {
             "line": {
              "color": "#E5ECF6",
              "width": 0.5
             },
             "pattern": {
              "fillmode": "overlay",
              "size": 10,
              "solidity": 0.2
             }
            },
            "type": "barpolar"
           }
          ],
          "carpet": [
           {
            "aaxis": {
             "endlinecolor": "#2a3f5f",
             "gridcolor": "white",
             "linecolor": "white",
             "minorgridcolor": "white",
             "startlinecolor": "#2a3f5f"
            },
            "baxis": {
             "endlinecolor": "#2a3f5f",
             "gridcolor": "white",
             "linecolor": "white",
             "minorgridcolor": "white",
             "startlinecolor": "#2a3f5f"
            },
            "type": "carpet"
           }
          ],
          "choropleth": [
           {
            "colorbar": {
             "outlinewidth": 0,
             "ticks": ""
            },
            "type": "choropleth"
           }
          ],
          "contour": [
           {
            "colorbar": {
             "outlinewidth": 0,
             "ticks": ""
            },
            "colorscale": [
             [
              0,
              "#0d0887"
             ],
             [
              0.1111111111111111,
              "#46039f"
             ],
             [
              0.2222222222222222,
              "#7201a8"
             ],
             [
              0.3333333333333333,
              "#9c179e"
             ],
             [
              0.4444444444444444,
              "#bd3786"
             ],
             [
              0.5555555555555556,
              "#d8576b"
             ],
             [
              0.6666666666666666,
              "#ed7953"
             ],
             [
              0.7777777777777778,
              "#fb9f3a"
             ],
             [
              0.8888888888888888,
              "#fdca26"
             ],
             [
              1,
              "#f0f921"
             ]
            ],
            "type": "contour"
           }
          ],
          "contourcarpet": [
           {
            "colorbar": {
             "outlinewidth": 0,
             "ticks": ""
            },
            "type": "contourcarpet"
           }
          ],
          "heatmap": [
           {
            "colorbar": {
             "outlinewidth": 0,
             "ticks": ""
            },
            "colorscale": [
             [
              0,
              "#0d0887"
             ],
             [
              0.1111111111111111,
              "#46039f"
             ],
             [
              0.2222222222222222,
              "#7201a8"
             ],
             [
              0.3333333333333333,
              "#9c179e"
             ],
             [
              0.4444444444444444,
              "#bd3786"
             ],
             [
              0.5555555555555556,
              "#d8576b"
             ],
             [
              0.6666666666666666,
              "#ed7953"
             ],
             [
              0.7777777777777778,
              "#fb9f3a"
             ],
             [
              0.8888888888888888,
              "#fdca26"
             ],
             [
              1,
              "#f0f921"
             ]
            ],
            "type": "heatmap"
           }
          ],
          "heatmapgl": [
           {
            "colorbar": {
             "outlinewidth": 0,
             "ticks": ""
            },
            "colorscale": [
             [
              0,
              "#0d0887"
             ],
             [
              0.1111111111111111,
              "#46039f"
             ],
             [
              0.2222222222222222,
              "#7201a8"
             ],
             [
              0.3333333333333333,
              "#9c179e"
             ],
             [
              0.4444444444444444,
              "#bd3786"
             ],
             [
              0.5555555555555556,
              "#d8576b"
             ],
             [
              0.6666666666666666,
              "#ed7953"
             ],
             [
              0.7777777777777778,
              "#fb9f3a"
             ],
             [
              0.8888888888888888,
              "#fdca26"
             ],
             [
              1,
              "#f0f921"
             ]
            ],
            "type": "heatmapgl"
           }
          ],
          "histogram": [
           {
            "marker": {
             "pattern": {
              "fillmode": "overlay",
              "size": 10,
              "solidity": 0.2
             }
            },
            "type": "histogram"
           }
          ],
          "histogram2d": [
           {
            "colorbar": {
             "outlinewidth": 0,
             "ticks": ""
            },
            "colorscale": [
             [
              0,
              "#0d0887"
             ],
             [
              0.1111111111111111,
              "#46039f"
             ],
             [
              0.2222222222222222,
              "#7201a8"
             ],
             [
              0.3333333333333333,
              "#9c179e"
             ],
             [
              0.4444444444444444,
              "#bd3786"
             ],
             [
              0.5555555555555556,
              "#d8576b"
             ],
             [
              0.6666666666666666,
              "#ed7953"
             ],
             [
              0.7777777777777778,
              "#fb9f3a"
             ],
             [
              0.8888888888888888,
              "#fdca26"
             ],
             [
              1,
              "#f0f921"
             ]
            ],
            "type": "histogram2d"
           }
          ],
          "histogram2dcontour": [
           {
            "colorbar": {
             "outlinewidth": 0,
             "ticks": ""
            },
            "colorscale": [
             [
              0,
              "#0d0887"
             ],
             [
              0.1111111111111111,
              "#46039f"
             ],
             [
              0.2222222222222222,
              "#7201a8"
             ],
             [
              0.3333333333333333,
              "#9c179e"
             ],
             [
              0.4444444444444444,
              "#bd3786"
             ],
             [
              0.5555555555555556,
              "#d8576b"
             ],
             [
              0.6666666666666666,
              "#ed7953"
             ],
             [
              0.7777777777777778,
              "#fb9f3a"
             ],
             [
              0.8888888888888888,
              "#fdca26"
             ],
             [
              1,
              "#f0f921"
             ]
            ],
            "type": "histogram2dcontour"
           }
          ],
          "mesh3d": [
           {
            "colorbar": {
             "outlinewidth": 0,
             "ticks": ""
            },
            "type": "mesh3d"
           }
          ],
          "parcoords": [
           {
            "line": {
             "colorbar": {
              "outlinewidth": 0,
              "ticks": ""
             }
            },
            "type": "parcoords"
           }
          ],
          "pie": [
           {
            "automargin": true,
            "type": "pie"
           }
          ],
          "scatter": [
           {
            "fillpattern": {
             "fillmode": "overlay",
             "size": 10,
             "solidity": 0.2
            },
            "type": "scatter"
           }
          ],
          "scatter3d": [
           {
            "line": {
             "colorbar": {
              "outlinewidth": 0,
              "ticks": ""
             }
            },
            "marker": {
             "colorbar": {
              "outlinewidth": 0,
              "ticks": ""
             }
            },
            "type": "scatter3d"
           }
          ],
          "scattercarpet": [
           {
            "marker": {
             "colorbar": {
              "outlinewidth": 0,
              "ticks": ""
             }
            },
            "type": "scattercarpet"
           }
          ],
          "scattergeo": [
           {
            "marker": {
             "colorbar": {
              "outlinewidth": 0,
              "ticks": ""
             }
            },
            "type": "scattergeo"
           }
          ],
          "scattergl": [
           {
            "marker": {
             "colorbar": {
              "outlinewidth": 0,
              "ticks": ""
             }
            },
            "type": "scattergl"
           }
          ],
          "scattermapbox": [
           {
            "marker": {
             "colorbar": {
              "outlinewidth": 0,
              "ticks": ""
             }
            },
            "type": "scattermapbox"
           }
          ],
          "scatterpolar": [
           {
            "marker": {
             "colorbar": {
              "outlinewidth": 0,
              "ticks": ""
             }
            },
            "type": "scatterpolar"
           }
          ],
          "scatterpolargl": [
           {
            "marker": {
             "colorbar": {
              "outlinewidth": 0,
              "ticks": ""
             }
            },
            "type": "scatterpolargl"
           }
          ],
          "scatterternary": [
           {
            "marker": {
             "colorbar": {
              "outlinewidth": 0,
              "ticks": ""
             }
            },
            "type": "scatterternary"
           }
          ],
          "surface": [
           {
            "colorbar": {
             "outlinewidth": 0,
             "ticks": ""
            },
            "colorscale": [
             [
              0,
              "#0d0887"
             ],
             [
              0.1111111111111111,
              "#46039f"
             ],
             [
              0.2222222222222222,
              "#7201a8"
             ],
             [
              0.3333333333333333,
              "#9c179e"
             ],
             [
              0.4444444444444444,
              "#bd3786"
             ],
             [
              0.5555555555555556,
              "#d8576b"
             ],
             [
              0.6666666666666666,
              "#ed7953"
             ],
             [
              0.7777777777777778,
              "#fb9f3a"
             ],
             [
              0.8888888888888888,
              "#fdca26"
             ],
             [
              1,
              "#f0f921"
             ]
            ],
            "type": "surface"
           }
          ],
          "table": [
           {
            "cells": {
             "fill": {
              "color": "#EBF0F8"
             },
             "line": {
              "color": "white"
             }
            },
            "header": {
             "fill": {
              "color": "#C8D4E3"
             },
             "line": {
              "color": "white"
             }
            },
            "type": "table"
           }
          ]
         },
         "layout": {
          "annotationdefaults": {
           "arrowcolor": "#2a3f5f",
           "arrowhead": 0,
           "arrowwidth": 1
          },
          "autotypenumbers": "strict",
          "coloraxis": {
           "colorbar": {
            "outlinewidth": 0,
            "ticks": ""
           }
          },
          "colorscale": {
           "diverging": [
            [
             0,
             "#8e0152"
            ],
            [
             0.1,
             "#c51b7d"
            ],
            [
             0.2,
             "#de77ae"
            ],
            [
             0.3,
             "#f1b6da"
            ],
            [
             0.4,
             "#fde0ef"
            ],
            [
             0.5,
             "#f7f7f7"
            ],
            [
             0.6,
             "#e6f5d0"
            ],
            [
             0.7,
             "#b8e186"
            ],
            [
             0.8,
             "#7fbc41"
            ],
            [
             0.9,
             "#4d9221"
            ],
            [
             1,
             "#276419"
            ]
           ],
           "sequential": [
            [
             0,
             "#0d0887"
            ],
            [
             0.1111111111111111,
             "#46039f"
            ],
            [
             0.2222222222222222,
             "#7201a8"
            ],
            [
             0.3333333333333333,
             "#9c179e"
            ],
            [
             0.4444444444444444,
             "#bd3786"
            ],
            [
             0.5555555555555556,
             "#d8576b"
            ],
            [
             0.6666666666666666,
             "#ed7953"
            ],
            [
             0.7777777777777778,
             "#fb9f3a"
            ],
            [
             0.8888888888888888,
             "#fdca26"
            ],
            [
             1,
             "#f0f921"
            ]
           ],
           "sequentialminus": [
            [
             0,
             "#0d0887"
            ],
            [
             0.1111111111111111,
             "#46039f"
            ],
            [
             0.2222222222222222,
             "#7201a8"
            ],
            [
             0.3333333333333333,
             "#9c179e"
            ],
            [
             0.4444444444444444,
             "#bd3786"
            ],
            [
             0.5555555555555556,
             "#d8576b"
            ],
            [
             0.6666666666666666,
             "#ed7953"
            ],
            [
             0.7777777777777778,
             "#fb9f3a"
            ],
            [
             0.8888888888888888,
             "#fdca26"
            ],
            [
             1,
             "#f0f921"
            ]
           ]
          },
          "colorway": [
           "#636efa",
           "#EF553B",
           "#00cc96",
           "#ab63fa",
           "#FFA15A",
           "#19d3f3",
           "#FF6692",
           "#B6E880",
           "#FF97FF",
           "#FECB52"
          ],
          "font": {
           "color": "#2a3f5f"
          },
          "geo": {
           "bgcolor": "white",
           "lakecolor": "white",
           "landcolor": "#E5ECF6",
           "showlakes": true,
           "showland": true,
           "subunitcolor": "white"
          },
          "hoverlabel": {
           "align": "left"
          },
          "hovermode": "closest",
          "mapbox": {
           "style": "light"
          },
          "paper_bgcolor": "white",
          "plot_bgcolor": "#E5ECF6",
          "polar": {
           "angularaxis": {
            "gridcolor": "white",
            "linecolor": "white",
            "ticks": ""
           },
           "bgcolor": "#E5ECF6",
           "radialaxis": {
            "gridcolor": "white",
            "linecolor": "white",
            "ticks": ""
           }
          },
          "scene": {
           "xaxis": {
            "backgroundcolor": "#E5ECF6",
            "gridcolor": "white",
            "gridwidth": 2,
            "linecolor": "white",
            "showbackground": true,
            "ticks": "",
            "zerolinecolor": "white"
           },
           "yaxis": {
            "backgroundcolor": "#E5ECF6",
            "gridcolor": "white",
            "gridwidth": 2,
            "linecolor": "white",
            "showbackground": true,
            "ticks": "",
            "zerolinecolor": "white"
           },
           "zaxis": {
            "backgroundcolor": "#E5ECF6",
            "gridcolor": "white",
            "gridwidth": 2,
            "linecolor": "white",
            "showbackground": true,
            "ticks": "",
            "zerolinecolor": "white"
           }
          },
          "shapedefaults": {
           "line": {
            "color": "#2a3f5f"
           }
          },
          "ternary": {
           "aaxis": {
            "gridcolor": "white",
            "linecolor": "white",
            "ticks": ""
           },
           "baxis": {
            "gridcolor": "white",
            "linecolor": "white",
            "ticks": ""
           },
           "bgcolor": "#E5ECF6",
           "caxis": {
            "gridcolor": "white",
            "linecolor": "white",
            "ticks": ""
           }
          },
          "title": {
           "x": 0.05
          },
          "xaxis": {
           "automargin": true,
           "gridcolor": "white",
           "linecolor": "white",
           "ticks": "",
           "title": {
            "standoff": 15
           },
           "zerolinecolor": "white",
           "zerolinewidth": 2
          },
          "yaxis": {
           "automargin": true,
           "gridcolor": "white",
           "linecolor": "white",
           "ticks": "",
           "title": {
            "standoff": 15
           },
           "zerolinecolor": "white",
           "zerolinewidth": 2
          }
         }
        },
        "title": {
         "text": "Best hotels"
        }
       }
      }
     },
     "metadata": {},
     "output_type": "display_data"
    }
   ],
   "source": [
    "# Visualizing the best hotels\n",
    "fig = px.scatter_mapbox(\n",
    "    data_frame=df_hotels_top_destination,\n",
    "    lat=\"lat\",\n",
    "    lon=\"lon\",\n",
    "    color=\"rating\",\n",
    "    size=\"rating\",\n",
    "    mapbox_style=\"carto-positron\",\n",
    "    title=\"Best hotels\"\n",
    ")\n",
    "\n",
    "fig.show()"
   ]
  },
  {
   "cell_type": "markdown",
   "metadata": {},
   "source": [
    "### Create Hotels CSV file"
   ]
  },
  {
   "cell_type": "code",
   "execution_count": null,
   "metadata": {},
   "outputs": [],
   "source": [
    "# Exporting in CSV the dataframe containing hotels infos that we scrape from Booking \n",
    "df_hotels.to_csv(\"../data/hotels.csv\")"
   ]
  },
  {
   "cell_type": "markdown",
   "metadata": {},
   "source": [
    "## Create and populate your data lake using AWS S3 and Boto3"
   ]
  },
  {
   "cell_type": "code",
   "execution_count": null,
   "metadata": {},
   "outputs": [],
   "source": [
    "# Uploading both cities and hotels infos files in our S3 bucket\n",
    "bucket.upload_file(\"../data/cities.csv\", \"cities.csv\")\n",
    "bucket.upload_file(\"../data/hotels.csv\", \"hotels.csv\")"
   ]
  },
  {
   "cell_type": "markdown",
   "metadata": {},
   "source": [
    "![S3](../data/01_aws_s3.png)"
   ]
  },
  {
   "cell_type": "markdown",
   "metadata": {},
   "source": [
    "## Create and populate your data wharehouse using AWS RDS and SQL Alchemy "
   ]
  },
  {
   "cell_type": "code",
   "execution_count": null,
   "metadata": {},
   "outputs": [
    {
     "name": "stdout",
     "output_type": "stream",
     "text": [
      "2025-03-24 15:19:33,716 INFO sqlalchemy.engine.Engine BEGIN (implicit)\n",
      "2025-03-24 15:19:33,724 INFO sqlalchemy.engine.Engine SELECT pg_catalog.pg_class.relname \n",
      "FROM pg_catalog.pg_class JOIN pg_catalog.pg_namespace ON pg_catalog.pg_namespace.oid = pg_catalog.pg_class.relnamespace \n",
      "WHERE pg_catalog.pg_class.relname = %(table_name)s AND pg_catalog.pg_class.relkind = ANY (ARRAY[%(param_1)s, %(param_2)s, %(param_3)s, %(param_4)s, %(param_5)s]) AND pg_catalog.pg_table_is_visible(pg_catalog.pg_class.oid) AND pg_catalog.pg_namespace.nspname != %(nspname_1)s\n",
      "2025-03-24 15:19:33,725 INFO sqlalchemy.engine.Engine [generated in 0.00051s] {'table_name': 'cities', 'param_1': 'r', 'param_2': 'p', 'param_3': 'f', 'param_4': 'v', 'param_5': 'm', 'nspname_1': 'pg_catalog'}\n",
      "2025-03-24 15:19:33,776 INFO sqlalchemy.engine.Engine SELECT pg_catalog.pg_class.relname \n",
      "FROM pg_catalog.pg_class JOIN pg_catalog.pg_namespace ON pg_catalog.pg_namespace.oid = pg_catalog.pg_class.relnamespace \n",
      "WHERE pg_catalog.pg_class.relname = %(table_name)s AND pg_catalog.pg_class.relkind = ANY (ARRAY[%(param_1)s, %(param_2)s, %(param_3)s, %(param_4)s, %(param_5)s]) AND pg_catalog.pg_table_is_visible(pg_catalog.pg_class.oid) AND pg_catalog.pg_namespace.nspname != %(nspname_1)s\n",
      "2025-03-24 15:19:33,781 INFO sqlalchemy.engine.Engine [cached since 0.05687s ago] {'table_name': 'cities', 'param_1': 'r', 'param_2': 'p', 'param_3': 'f', 'param_4': 'v', 'param_5': 'm', 'nspname_1': 'pg_catalog'}\n",
      "2025-03-24 15:19:33,805 INFO sqlalchemy.engine.Engine SELECT pg_catalog.pg_class.relname \n",
      "FROM pg_catalog.pg_class JOIN pg_catalog.pg_namespace ON pg_catalog.pg_namespace.oid = pg_catalog.pg_class.relnamespace \n",
      "WHERE pg_catalog.pg_class.relkind = ANY (ARRAY[%(param_1)s, %(param_2)s]) AND pg_catalog.pg_class.relpersistence != %(relpersistence_1)s AND pg_catalog.pg_table_is_visible(pg_catalog.pg_class.oid) AND pg_catalog.pg_namespace.nspname != %(nspname_1)s\n",
      "2025-03-24 15:19:33,806 INFO sqlalchemy.engine.Engine [generated in 0.00151s] {'param_1': 'r', 'param_2': 'p', 'relpersistence_1': 't', 'nspname_1': 'pg_catalog'}\n",
      "2025-03-24 15:19:33,820 INFO sqlalchemy.engine.Engine SELECT pg_catalog.pg_class.relname \n",
      "FROM pg_catalog.pg_class JOIN pg_catalog.pg_namespace ON pg_catalog.pg_namespace.oid = pg_catalog.pg_class.relnamespace \n",
      "WHERE pg_catalog.pg_class.relkind = ANY (ARRAY[%(param_1)s]) AND pg_catalog.pg_class.relpersistence != %(relpersistence_1)s AND pg_catalog.pg_table_is_visible(pg_catalog.pg_class.oid) AND pg_catalog.pg_namespace.nspname != %(nspname_1)s\n",
      "2025-03-24 15:19:33,821 INFO sqlalchemy.engine.Engine [generated in 0.00054s] {'param_1': 'v', 'relpersistence_1': 't', 'nspname_1': 'pg_catalog'}\n",
      "2025-03-24 15:19:33,831 INFO sqlalchemy.engine.Engine SELECT pg_catalog.pg_class.relname \n",
      "FROM pg_catalog.pg_class JOIN pg_catalog.pg_namespace ON pg_catalog.pg_namespace.oid = pg_catalog.pg_class.relnamespace \n",
      "WHERE pg_catalog.pg_class.relkind = ANY (ARRAY[%(param_1)s]) AND pg_catalog.pg_class.relpersistence != %(relpersistence_1)s AND pg_catalog.pg_table_is_visible(pg_catalog.pg_class.oid) AND pg_catalog.pg_namespace.nspname != %(nspname_1)s\n",
      "2025-03-24 15:19:33,832 INFO sqlalchemy.engine.Engine [cached since 0.01145s ago] {'param_1': 'm', 'relpersistence_1': 't', 'nspname_1': 'pg_catalog'}\n",
      "2025-03-24 15:19:33,844 INFO sqlalchemy.engine.Engine SELECT pg_catalog.pg_attribute.attname AS name, pg_catalog.format_type(pg_catalog.pg_attribute.atttypid, pg_catalog.pg_attribute.atttypmod) AS format_type, (SELECT pg_catalog.pg_get_expr(pg_catalog.pg_attrdef.adbin, pg_catalog.pg_attrdef.adrelid) AS pg_get_expr_1 \n",
      "FROM pg_catalog.pg_attrdef \n",
      "WHERE pg_catalog.pg_attrdef.adrelid = pg_catalog.pg_attribute.attrelid AND pg_catalog.pg_attrdef.adnum = pg_catalog.pg_attribute.attnum AND pg_catalog.pg_attribute.atthasdef) AS \"default\", pg_catalog.pg_attribute.attnotnull AS not_null, pg_catalog.pg_class.relname AS table_name, pg_catalog.pg_description.description AS comment, pg_catalog.pg_attribute.attgenerated AS generated, (SELECT json_build_object(%(json_build_object_2)s, pg_catalog.pg_attribute.attidentity = %(attidentity_1)s, %(json_build_object_3)s, pg_catalog.pg_sequence.seqstart, %(json_build_object_4)s, pg_catalog.pg_sequence.seqincrement, %(json_build_object_5)s, pg_catalog.pg_sequence.seqmin, %(json_build_object_6)s, pg_catalog.pg_sequence.seqmax, %(json_build_object_7)s, pg_catalog.pg_sequence.seqcache, %(json_build_object_8)s, pg_catalog.pg_sequence.seqcycle) AS json_build_object_1 \n",
      "FROM pg_catalog.pg_sequence \n",
      "WHERE pg_catalog.pg_attribute.attidentity != %(attidentity_2)s AND pg_catalog.pg_sequence.seqrelid = CAST(CAST(pg_catalog.pg_get_serial_sequence(CAST(CAST(pg_catalog.pg_attribute.attrelid AS REGCLASS) AS TEXT), pg_catalog.pg_attribute.attname) AS REGCLASS) AS OID)) AS identity_options \n",
      "FROM pg_catalog.pg_class LEFT OUTER JOIN pg_catalog.pg_attribute ON pg_catalog.pg_class.oid = pg_catalog.pg_attribute.attrelid AND pg_catalog.pg_attribute.attnum > %(attnum_1)s AND NOT pg_catalog.pg_attribute.attisdropped LEFT OUTER JOIN pg_catalog.pg_description ON pg_catalog.pg_description.objoid = pg_catalog.pg_attribute.attrelid AND pg_catalog.pg_description.objsubid = pg_catalog.pg_attribute.attnum JOIN pg_catalog.pg_namespace ON pg_catalog.pg_namespace.oid = pg_catalog.pg_class.relnamespace \n",
      "WHERE pg_catalog.pg_class.relkind = ANY (ARRAY[%(param_1)s, %(param_2)s, %(param_3)s, %(param_4)s, %(param_5)s]) AND pg_catalog.pg_table_is_visible(pg_catalog.pg_class.oid) AND pg_catalog.pg_namespace.nspname != %(nspname_1)s AND pg_catalog.pg_class.relname IN (%(filter_names_1)s) ORDER BY pg_catalog.pg_class.relname, pg_catalog.pg_attribute.attnum\n",
      "2025-03-24 15:19:33,845 INFO sqlalchemy.engine.Engine [generated in 0.00039s] {'json_build_object_2': 'always', 'attidentity_1': 'a', 'json_build_object_3': 'start', 'json_build_object_4': 'increment', 'json_build_object_5': 'minvalue', 'json_build_object_6': 'maxvalue', 'json_build_object_7': 'cache', 'json_build_object_8': 'cycle', 'attidentity_2': '', 'attnum_1': 0, 'param_1': 'r', 'param_2': 'p', 'param_3': 'f', 'param_4': 'v', 'param_5': 'm', 'nspname_1': 'pg_catalog', 'filter_names_1': 'cities'}\n",
      "2025-03-24 15:19:33,866 INFO sqlalchemy.engine.Engine SELECT pg_catalog.pg_type.typname AS name, pg_catalog.format_type(pg_catalog.pg_type.typbasetype, pg_catalog.pg_type.typtypmod) AS attype, NOT pg_catalog.pg_type.typnotnull AS nullable, pg_catalog.pg_type.typdefault AS \"default\", pg_catalog.pg_type_is_visible(pg_catalog.pg_type.oid) AS visible, pg_catalog.pg_namespace.nspname AS schema, domain_constraints.condefs, domain_constraints.connames \n",
      "FROM pg_catalog.pg_type JOIN pg_catalog.pg_namespace ON pg_catalog.pg_namespace.oid = pg_catalog.pg_type.typnamespace LEFT OUTER JOIN (SELECT pg_catalog.pg_constraint.contypid AS contypid, array_agg(pg_catalog.pg_get_constraintdef(pg_catalog.pg_constraint.oid, %(pg_get_constraintdef_1)s)) AS condefs, array_agg(pg_catalog.pg_constraint.conname) AS connames \n",
      "FROM pg_catalog.pg_constraint \n",
      "WHERE pg_catalog.pg_constraint.contypid != %(contypid_1)s GROUP BY pg_catalog.pg_constraint.contypid) AS domain_constraints ON pg_catalog.pg_type.oid = domain_constraints.contypid \n",
      "WHERE pg_catalog.pg_type.typtype = %(typtype_1)s ORDER BY pg_catalog.pg_namespace.nspname, pg_catalog.pg_type.typname\n",
      "2025-03-24 15:19:33,866 INFO sqlalchemy.engine.Engine [generated in 0.00028s] {'pg_get_constraintdef_1': True, 'contypid_1': 0, 'typtype_1': 'd'}\n",
      "2025-03-24 15:19:33,880 INFO sqlalchemy.engine.Engine SELECT pg_catalog.pg_type.typname AS name, pg_catalog.pg_type_is_visible(pg_catalog.pg_type.oid) AS visible, pg_catalog.pg_namespace.nspname AS schema, lbl_agg.labels AS labels \n",
      "FROM pg_catalog.pg_type JOIN pg_catalog.pg_namespace ON pg_catalog.pg_namespace.oid = pg_catalog.pg_type.typnamespace LEFT OUTER JOIN (SELECT pg_catalog.pg_enum.enumtypid AS enumtypid, array_agg(pg_catalog.pg_enum.enumlabel ORDER BY pg_catalog.pg_enum.enumsortorder) AS labels \n",
      "FROM pg_catalog.pg_enum GROUP BY pg_catalog.pg_enum.enumtypid) AS lbl_agg ON pg_catalog.pg_type.oid = lbl_agg.enumtypid \n",
      "WHERE pg_catalog.pg_type.typtype = %(typtype_1)s ORDER BY pg_catalog.pg_namespace.nspname, pg_catalog.pg_type.typname\n",
      "2025-03-24 15:19:33,880 INFO sqlalchemy.engine.Engine [generated in 0.00029s] {'typtype_1': 'e'}\n",
      "2025-03-24 15:19:33,895 INFO sqlalchemy.engine.Engine SELECT pg_catalog.pg_class.oid, pg_catalog.pg_class.relname \n",
      "FROM pg_catalog.pg_class JOIN pg_catalog.pg_namespace ON pg_catalog.pg_namespace.oid = pg_catalog.pg_class.relnamespace \n",
      "WHERE pg_catalog.pg_class.relkind = ANY (ARRAY[%(param_1)s, %(param_2)s, %(param_3)s, %(param_4)s, %(param_5)s]) AND pg_catalog.pg_table_is_visible(pg_catalog.pg_class.oid) AND pg_catalog.pg_namespace.nspname != %(nspname_1)s AND pg_catalog.pg_class.relname IN (%(filter_names_1)s)\n",
      "2025-03-24 15:19:33,895 INFO sqlalchemy.engine.Engine [generated in 0.00058s] {'param_1': 'r', 'param_2': 'p', 'param_3': 'f', 'param_4': 'v', 'param_5': 'm', 'nspname_1': 'pg_catalog', 'filter_names_1': 'cities'}\n",
      "2025-03-24 15:19:33,906 INFO sqlalchemy.engine.Engine SELECT attr.conrelid, array_agg(attr.attname ORDER BY attr.ord) AS cols, attr.conname, min(attr.description) AS description \n",
      "FROM (SELECT con.conrelid AS conrelid, con.conname AS conname, con.description AS description, con.ord AS ord, pg_catalog.pg_attribute.attname AS attname \n",
      "FROM pg_catalog.pg_attribute JOIN (SELECT pg_catalog.pg_constraint.conrelid AS conrelid, pg_catalog.pg_constraint.conname AS conname, unnest(pg_catalog.pg_constraint.conkey) AS attnum, generate_subscripts(pg_catalog.pg_constraint.conkey, %(generate_subscripts_1)s) AS ord, pg_catalog.pg_description.description AS description \n",
      "FROM pg_catalog.pg_constraint LEFT OUTER JOIN pg_catalog.pg_description ON pg_catalog.pg_description.objoid = pg_catalog.pg_constraint.oid \n",
      "WHERE pg_catalog.pg_constraint.contype = %(contype)s AND pg_catalog.pg_constraint.conrelid IN (%(oids_1)s)) AS con ON pg_catalog.pg_attribute.attnum = con.attnum AND pg_catalog.pg_attribute.attrelid = con.conrelid) AS attr GROUP BY attr.conrelid, attr.conname ORDER BY attr.conrelid, attr.conname\n",
      "2025-03-24 15:19:33,907 INFO sqlalchemy.engine.Engine [generated in 0.00026s] {'generate_subscripts_1': 1, 'contype': 'p', 'oids_1': 16489}\n",
      "2025-03-24 15:19:33,919 INFO sqlalchemy.engine.Engine SELECT pg_catalog.pg_class.relname, pg_catalog.pg_constraint.conname, CASE WHEN (pg_catalog.pg_constraint.oid IS NOT NULL) THEN pg_catalog.pg_get_constraintdef(pg_catalog.pg_constraint.oid, %(pg_get_constraintdef_1)s) END AS anon_1, nsp_ref.nspname, pg_catalog.pg_description.description \n",
      "FROM pg_catalog.pg_class LEFT OUTER JOIN pg_catalog.pg_constraint ON pg_catalog.pg_class.oid = pg_catalog.pg_constraint.conrelid AND pg_catalog.pg_constraint.contype = %(contype_1)s LEFT OUTER JOIN pg_catalog.pg_class AS cls_ref ON cls_ref.oid = pg_catalog.pg_constraint.confrelid LEFT OUTER JOIN pg_catalog.pg_namespace AS nsp_ref ON cls_ref.relnamespace = nsp_ref.oid LEFT OUTER JOIN pg_catalog.pg_description ON pg_catalog.pg_description.objoid = pg_catalog.pg_constraint.oid JOIN pg_catalog.pg_namespace ON pg_catalog.pg_namespace.oid = pg_catalog.pg_class.relnamespace \n",
      "WHERE pg_catalog.pg_class.relkind = ANY (ARRAY[%(param_1)s, %(param_2)s, %(param_3)s, %(param_4)s, %(param_5)s]) AND pg_catalog.pg_table_is_visible(pg_catalog.pg_class.oid) AND pg_catalog.pg_namespace.nspname != %(nspname_1)s AND pg_catalog.pg_class.relname IN (%(filter_names_1)s) ORDER BY pg_catalog.pg_class.relname, pg_catalog.pg_constraint.conname\n",
      "2025-03-24 15:19:33,920 INFO sqlalchemy.engine.Engine [generated in 0.00039s] {'pg_get_constraintdef_1': True, 'contype_1': 'f', 'param_1': 'r', 'param_2': 'p', 'param_3': 'f', 'param_4': 'v', 'param_5': 'm', 'nspname_1': 'pg_catalog', 'filter_names_1': 'cities'}\n",
      "2025-03-24 15:19:33,934 INFO sqlalchemy.engine.Engine SELECT pg_catalog.pg_index.indrelid, cls_idx.relname AS relname_index, pg_catalog.pg_index.indisunique, pg_catalog.pg_constraint.conrelid IS NOT NULL AS has_constraint, pg_catalog.pg_index.indoption, cls_idx.reloptions, pg_catalog.pg_am.amname, CASE WHEN (pg_catalog.pg_index.indpred IS NOT NULL) THEN pg_catalog.pg_get_expr(pg_catalog.pg_index.indpred, pg_catalog.pg_index.indrelid) ELSE NULL END AS filter_definition, pg_catalog.pg_index.indnkeyatts, idx_cols.elements, idx_cols.elements_is_expr \n",
      "FROM pg_catalog.pg_index JOIN pg_catalog.pg_class AS cls_idx ON pg_catalog.pg_index.indexrelid = cls_idx.oid JOIN pg_catalog.pg_am ON cls_idx.relam = pg_catalog.pg_am.oid LEFT OUTER JOIN (SELECT idx_attr.indexrelid AS indexrelid, min(idx_attr.indrelid) AS min_1, array_agg(idx_attr.element ORDER BY idx_attr.ord) AS elements, array_agg(idx_attr.is_expr ORDER BY idx_attr.ord) AS elements_is_expr \n",
      "FROM (SELECT idx.indexrelid AS indexrelid, idx.indrelid AS indrelid, idx.ord AS ord, CASE WHEN (idx.attnum = %(attnum_1)s) THEN pg_catalog.pg_get_indexdef(idx.indexrelid, idx.ord + %(ord_1)s, %(pg_get_indexdef_1)s) ELSE pg_catalog.pg_attribute.attname END AS element, idx.attnum = %(attnum_2)s AS is_expr \n",
      "FROM (SELECT pg_catalog.pg_index.indexrelid AS indexrelid, pg_catalog.pg_index.indrelid AS indrelid, unnest(pg_catalog.pg_index.indkey) AS attnum, generate_subscripts(pg_catalog.pg_index.indkey, %(generate_subscripts_1)s) AS ord \n",
      "FROM pg_catalog.pg_index \n",
      "WHERE NOT pg_catalog.pg_index.indisprimary AND pg_catalog.pg_index.indrelid IN (%(oids_1)s)) AS idx LEFT OUTER JOIN pg_catalog.pg_attribute ON pg_catalog.pg_attribute.attnum = idx.attnum AND pg_catalog.pg_attribute.attrelid = idx.indrelid \n",
      "WHERE idx.indrelid IN (%(oids_1)s)) AS idx_attr GROUP BY idx_attr.indexrelid) AS idx_cols ON pg_catalog.pg_index.indexrelid = idx_cols.indexrelid LEFT OUTER JOIN pg_catalog.pg_constraint ON pg_catalog.pg_index.indrelid = pg_catalog.pg_constraint.conrelid AND pg_catalog.pg_index.indexrelid = pg_catalog.pg_constraint.conindid AND pg_catalog.pg_constraint.contype = ANY (ARRAY[%(param_1)s, %(param_2)s, %(param_3)s]) \n",
      "WHERE pg_catalog.pg_index.indrelid IN (%(oids_1)s) AND NOT pg_catalog.pg_index.indisprimary ORDER BY pg_catalog.pg_index.indrelid, cls_idx.relname\n",
      "2025-03-24 15:19:33,934 INFO sqlalchemy.engine.Engine [generated in 0.00047s] {'attnum_1': 0, 'ord_1': 1, 'pg_get_indexdef_1': True, 'attnum_2': 0, 'generate_subscripts_1': 1, 'param_1': 'p', 'param_2': 'u', 'param_3': 'x', 'oids_1': 16489}\n",
      "2025-03-24 15:19:33,945 INFO sqlalchemy.engine.Engine SELECT attr.conrelid, array_agg(attr.attname ORDER BY attr.ord) AS cols, attr.conname, min(attr.description) AS description \n",
      "FROM (SELECT con.conrelid AS conrelid, con.conname AS conname, con.description AS description, con.ord AS ord, pg_catalog.pg_attribute.attname AS attname \n",
      "FROM pg_catalog.pg_attribute JOIN (SELECT pg_catalog.pg_constraint.conrelid AS conrelid, pg_catalog.pg_constraint.conname AS conname, unnest(pg_catalog.pg_constraint.conkey) AS attnum, generate_subscripts(pg_catalog.pg_constraint.conkey, %(generate_subscripts_1)s) AS ord, pg_catalog.pg_description.description AS description \n",
      "FROM pg_catalog.pg_constraint LEFT OUTER JOIN pg_catalog.pg_description ON pg_catalog.pg_description.objoid = pg_catalog.pg_constraint.oid \n",
      "WHERE pg_catalog.pg_constraint.contype = %(contype)s AND pg_catalog.pg_constraint.conrelid IN (%(oids_1)s)) AS con ON pg_catalog.pg_attribute.attnum = con.attnum AND pg_catalog.pg_attribute.attrelid = con.conrelid) AS attr GROUP BY attr.conrelid, attr.conname ORDER BY attr.conrelid, attr.conname\n",
      "2025-03-24 15:19:33,946 INFO sqlalchemy.engine.Engine [cached since 0.03931s ago] {'generate_subscripts_1': 1, 'contype': 'u', 'oids_1': 16489}\n",
      "2025-03-24 15:19:33,956 INFO sqlalchemy.engine.Engine SELECT pg_catalog.pg_class.relname, pg_catalog.pg_description.description \n",
      "FROM pg_catalog.pg_class LEFT OUTER JOIN pg_catalog.pg_description ON pg_catalog.pg_class.oid = pg_catalog.pg_description.objoid AND pg_catalog.pg_description.objsubid = %(objsubid_1)s JOIN pg_catalog.pg_namespace ON pg_catalog.pg_namespace.oid = pg_catalog.pg_class.relnamespace \n",
      "WHERE pg_catalog.pg_class.relkind = ANY (ARRAY[%(param_1)s, %(param_2)s, %(param_3)s, %(param_4)s, %(param_5)s]) AND pg_catalog.pg_table_is_visible(pg_catalog.pg_class.oid) AND pg_catalog.pg_namespace.nspname != %(nspname_1)s AND pg_catalog.pg_class.relname IN (%(filter_names_1)s)\n",
      "2025-03-24 15:19:33,956 INFO sqlalchemy.engine.Engine [generated in 0.00033s] {'objsubid_1': 0, 'param_1': 'r', 'param_2': 'p', 'param_3': 'f', 'param_4': 'v', 'param_5': 'm', 'nspname_1': 'pg_catalog', 'filter_names_1': 'cities'}\n",
      "2025-03-24 15:19:33,968 INFO sqlalchemy.engine.Engine SELECT pg_catalog.pg_class.relname, pg_catalog.pg_constraint.conname, CASE WHEN (pg_catalog.pg_constraint.oid IS NOT NULL) THEN pg_catalog.pg_get_constraintdef(pg_catalog.pg_constraint.oid, %(pg_get_constraintdef_1)s) END AS anon_1, pg_catalog.pg_description.description \n",
      "FROM pg_catalog.pg_class LEFT OUTER JOIN pg_catalog.pg_constraint ON pg_catalog.pg_class.oid = pg_catalog.pg_constraint.conrelid AND pg_catalog.pg_constraint.contype = %(contype_1)s LEFT OUTER JOIN pg_catalog.pg_description ON pg_catalog.pg_description.objoid = pg_catalog.pg_constraint.oid JOIN pg_catalog.pg_namespace ON pg_catalog.pg_namespace.oid = pg_catalog.pg_class.relnamespace \n",
      "WHERE pg_catalog.pg_class.relkind = ANY (ARRAY[%(param_1)s, %(param_2)s, %(param_3)s, %(param_4)s, %(param_5)s]) AND pg_catalog.pg_table_is_visible(pg_catalog.pg_class.oid) AND pg_catalog.pg_namespace.nspname != %(nspname_1)s AND pg_catalog.pg_class.relname IN (%(filter_names_1)s) ORDER BY pg_catalog.pg_class.relname, pg_catalog.pg_constraint.conname\n",
      "2025-03-24 15:19:33,968 INFO sqlalchemy.engine.Engine [generated in 0.00038s] {'pg_get_constraintdef_1': True, 'contype_1': 'c', 'param_1': 'r', 'param_2': 'p', 'param_3': 'f', 'param_4': 'v', 'param_5': 'm', 'nspname_1': 'pg_catalog', 'filter_names_1': 'cities'}\n",
      "2025-03-24 15:19:33,979 INFO sqlalchemy.engine.Engine \n",
      "DROP TABLE cities\n",
      "2025-03-24 15:19:33,979 INFO sqlalchemy.engine.Engine [no key 0.00028s] {}\n",
      "2025-03-24 15:19:33,991 INFO sqlalchemy.engine.Engine \n",
      "CREATE TABLE cities (\n",
      "\tid BIGINT, \n",
      "\tcity TEXT, \n",
      "\tlat FLOAT(53), \n",
      "\tlon FLOAT(53), \n",
      "\tmean_temp FLOAT(53), \n",
      "\tmean_pop FLOAT(53)\n",
      ")\n",
      "\n",
      "\n",
      "2025-03-24 15:19:33,991 INFO sqlalchemy.engine.Engine [no key 0.00030s] {}\n",
      "2025-03-24 15:19:34,006 INFO sqlalchemy.engine.Engine INSERT INTO cities (id, city, lat, lon, mean_temp, mean_pop) VALUES (%(id__0)s, %(city__0)s, %(lat__0)s, %(lon__0)s, %(mean_temp__0)s, %(mean_pop__0)s), (%(id__1)s, %(city__1)s, %(lat__1)s, %(lon__1)s, %(mean_temp__1)s, %(mean_pop__1)s), (%(id__2)s,  ... 2750 characters truncated ... op__32)s), (%(id__33)s, %(city__33)s, %(lat__33)s, %(lon__33)s, %(mean_temp__33)s, %(mean_pop__33)s)\n",
      "2025-03-24 15:19:34,007 INFO sqlalchemy.engine.Engine [generated in 0.00010s (insertmanyvalues)] {'mean_temp__0': 11.0115, 'id__0': 35, 'city__0': 'La Rochelle', 'lon__0': -1.1515951, 'lat__0': 46.159732, 'mean_pop__0': 0.060250000000000005, 'mean_temp__1': 11.459999999999999, 'id__1': 34, 'city__1': 'Bayonne', 'lon__1': -1.4736657, 'lat__1': 43.4945144, 'mean_pop__1': 0.60225, 'mean_temp__2': 11.6995, 'id__2': 33, 'city__2': 'Biarritz', 'lon__2': -1.5592776, 'lat__2': 43.4832523, 'mean_pop__2': 0.651, 'mean_temp__3': 11.0215, 'id__3': 32, 'city__3': 'Montauban', 'lon__3': 1.3549991, 'lat__3': 44.0175835, 'mean_pop__3': 0.1565, 'mean_temp__4': 11.206, 'id__4': 31, 'city__4': 'Toulouse', 'lon__4': 1.4442469, 'lat__4': 43.6044622, 'mean_pop__4': 0.36124999999999996, 'mean_temp__5': 8.1955, 'id__5': 30, 'city__5': 'Ariege', 'lon__5': 1.6067586, 'lat__5': 42.8458016, 'mean_pop__5': 0.8647500000000001, 'mean_temp__6': 11.32775, 'id__6': 29, 'city__6': 'Carcassonne', 'lon__6': 2.3491069, 'lat__6': 43.2130358, 'mean_pop__6': 0.33025000000000004, 'mean_temp__7': 13.73275, 'id__7': 28, 'city__7': 'Collioure', 'lon__7': 3.0831554, 'lat__7': 42.52505, 'mean_pop__7': 0.08725, 'mean_temp__8': 13.37575, 'id__8': 27 ... 104 parameters truncated ... 'lat__25': 48.584614, 'mean_pop__25': 0.10800000000000001, 'mean_temp__26': 9.522499999999999, 'id__26': 8, 'city__26': 'Lille', 'lon__26': 3.0635282, 'lat__26': 50.6365654, 'mean_pop__26': 0.017, 'mean_temp__27': 8.93675, 'id__27': 7, 'city__27': 'Amiens', 'lon__27': 2.2956951, 'lat__27': 49.8941708, 'mean_pop__27': 0.058499999999999996, 'mean_temp__28': 11.9435, 'id__28': 6, 'city__28': 'Paris', 'lon__28': 2.3200410217200766, 'lat__28': 48.8588897, 'mean_pop__28': 0.05025, 'mean_temp__29': 9.18275, 'id__29': 5, 'city__29': 'Rouen', 'lon__29': 1.0939658, 'lat__29': 49.4404591, 'mean_pop__29': 0.059250000000000004, 'mean_temp__30': 9.408249999999999, 'id__30': 4, 'city__30': 'Le Havre', 'lon__30': 0.1079732, 'lat__30': 49.4938975, 'mean_pop__30': 0.11925, 'mean_temp__31': 8.61725, 'id__31': 3, 'city__31': 'Bayeux', 'lon__31': -0.7024738, 'lat__31': 49.2764624, 'mean_pop__31': 0.029249999999999998, 'mean_temp__32': 9.48425, 'id__32': 2, 'city__32': 'St Malo', 'lon__32': -2.0260409, 'lat__32': 48.649518, 'mean_pop__32': 0.15575, 'mean_temp__33': 8.66225, 'id__33': 1, 'city__33': 'Mont Saint Michel', 'lon__33': 5.8826485, 'lat__33': 48.6906803, 'mean_pop__33': 0.07975}\n",
      "2025-03-24 15:19:34,022 INFO sqlalchemy.engine.Engine COMMIT\n",
      "2025-03-24 15:19:34,035 INFO sqlalchemy.engine.Engine BEGIN (implicit)\n",
      "2025-03-24 15:19:34,036 INFO sqlalchemy.engine.Engine SELECT pg_catalog.pg_class.relname \n",
      "FROM pg_catalog.pg_class JOIN pg_catalog.pg_namespace ON pg_catalog.pg_namespace.oid = pg_catalog.pg_class.relnamespace \n",
      "WHERE pg_catalog.pg_class.relname = %(table_name)s AND pg_catalog.pg_class.relkind = ANY (ARRAY[%(param_1)s, %(param_2)s, %(param_3)s, %(param_4)s, %(param_5)s]) AND pg_catalog.pg_table_is_visible(pg_catalog.pg_class.oid) AND pg_catalog.pg_namespace.nspname != %(nspname_1)s\n",
      "2025-03-24 15:19:34,036 INFO sqlalchemy.engine.Engine [cached since 0.3123s ago] {'table_name': 'hotels', 'param_1': 'r', 'param_2': 'p', 'param_3': 'f', 'param_4': 'v', 'param_5': 'm', 'nspname_1': 'pg_catalog'}\n",
      "2025-03-24 15:19:34,056 INFO sqlalchemy.engine.Engine SELECT pg_catalog.pg_class.relname \n",
      "FROM pg_catalog.pg_class JOIN pg_catalog.pg_namespace ON pg_catalog.pg_namespace.oid = pg_catalog.pg_class.relnamespace \n",
      "WHERE pg_catalog.pg_class.relname = %(table_name)s AND pg_catalog.pg_class.relkind = ANY (ARRAY[%(param_1)s, %(param_2)s, %(param_3)s, %(param_4)s, %(param_5)s]) AND pg_catalog.pg_table_is_visible(pg_catalog.pg_class.oid) AND pg_catalog.pg_namespace.nspname != %(nspname_1)s\n",
      "2025-03-24 15:19:34,056 INFO sqlalchemy.engine.Engine [cached since 0.332s ago] {'table_name': 'hotels', 'param_1': 'r', 'param_2': 'p', 'param_3': 'f', 'param_4': 'v', 'param_5': 'm', 'nspname_1': 'pg_catalog'}\n",
      "2025-03-24 15:19:34,066 INFO sqlalchemy.engine.Engine SELECT pg_catalog.pg_class.relname \n",
      "FROM pg_catalog.pg_class JOIN pg_catalog.pg_namespace ON pg_catalog.pg_namespace.oid = pg_catalog.pg_class.relnamespace \n",
      "WHERE pg_catalog.pg_class.relkind = ANY (ARRAY[%(param_1)s, %(param_2)s]) AND pg_catalog.pg_class.relpersistence != %(relpersistence_1)s AND pg_catalog.pg_table_is_visible(pg_catalog.pg_class.oid) AND pg_catalog.pg_namespace.nspname != %(nspname_1)s\n",
      "2025-03-24 15:19:34,066 INFO sqlalchemy.engine.Engine [cached since 0.2611s ago] {'param_1': 'r', 'param_2': 'p', 'relpersistence_1': 't', 'nspname_1': 'pg_catalog'}\n",
      "2025-03-24 15:19:34,076 INFO sqlalchemy.engine.Engine SELECT pg_catalog.pg_class.relname \n",
      "FROM pg_catalog.pg_class JOIN pg_catalog.pg_namespace ON pg_catalog.pg_namespace.oid = pg_catalog.pg_class.relnamespace \n",
      "WHERE pg_catalog.pg_class.relkind = ANY (ARRAY[%(param_1)s]) AND pg_catalog.pg_class.relpersistence != %(relpersistence_1)s AND pg_catalog.pg_table_is_visible(pg_catalog.pg_class.oid) AND pg_catalog.pg_namespace.nspname != %(nspname_1)s\n",
      "2025-03-24 15:19:34,076 INFO sqlalchemy.engine.Engine [cached since 0.2559s ago] {'param_1': 'v', 'relpersistence_1': 't', 'nspname_1': 'pg_catalog'}\n",
      "2025-03-24 15:19:34,087 INFO sqlalchemy.engine.Engine SELECT pg_catalog.pg_class.relname \n",
      "FROM pg_catalog.pg_class JOIN pg_catalog.pg_namespace ON pg_catalog.pg_namespace.oid = pg_catalog.pg_class.relnamespace \n",
      "WHERE pg_catalog.pg_class.relkind = ANY (ARRAY[%(param_1)s]) AND pg_catalog.pg_class.relpersistence != %(relpersistence_1)s AND pg_catalog.pg_table_is_visible(pg_catalog.pg_class.oid) AND pg_catalog.pg_namespace.nspname != %(nspname_1)s\n",
      "2025-03-24 15:19:34,087 INFO sqlalchemy.engine.Engine [cached since 0.2666s ago] {'param_1': 'm', 'relpersistence_1': 't', 'nspname_1': 'pg_catalog'}\n",
      "2025-03-24 15:19:34,096 INFO sqlalchemy.engine.Engine SELECT pg_catalog.pg_attribute.attname AS name, pg_catalog.format_type(pg_catalog.pg_attribute.atttypid, pg_catalog.pg_attribute.atttypmod) AS format_type, (SELECT pg_catalog.pg_get_expr(pg_catalog.pg_attrdef.adbin, pg_catalog.pg_attrdef.adrelid) AS pg_get_expr_1 \n",
      "FROM pg_catalog.pg_attrdef \n",
      "WHERE pg_catalog.pg_attrdef.adrelid = pg_catalog.pg_attribute.attrelid AND pg_catalog.pg_attrdef.adnum = pg_catalog.pg_attribute.attnum AND pg_catalog.pg_attribute.atthasdef) AS \"default\", pg_catalog.pg_attribute.attnotnull AS not_null, pg_catalog.pg_class.relname AS table_name, pg_catalog.pg_description.description AS comment, pg_catalog.pg_attribute.attgenerated AS generated, (SELECT json_build_object(%(json_build_object_2)s, pg_catalog.pg_attribute.attidentity = %(attidentity_1)s, %(json_build_object_3)s, pg_catalog.pg_sequence.seqstart, %(json_build_object_4)s, pg_catalog.pg_sequence.seqincrement, %(json_build_object_5)s, pg_catalog.pg_sequence.seqmin, %(json_build_object_6)s, pg_catalog.pg_sequence.seqmax, %(json_build_object_7)s, pg_catalog.pg_sequence.seqcache, %(json_build_object_8)s, pg_catalog.pg_sequence.seqcycle) AS json_build_object_1 \n",
      "FROM pg_catalog.pg_sequence \n",
      "WHERE pg_catalog.pg_attribute.attidentity != %(attidentity_2)s AND pg_catalog.pg_sequence.seqrelid = CAST(CAST(pg_catalog.pg_get_serial_sequence(CAST(CAST(pg_catalog.pg_attribute.attrelid AS REGCLASS) AS TEXT), pg_catalog.pg_attribute.attname) AS REGCLASS) AS OID)) AS identity_options \n",
      "FROM pg_catalog.pg_class LEFT OUTER JOIN pg_catalog.pg_attribute ON pg_catalog.pg_class.oid = pg_catalog.pg_attribute.attrelid AND pg_catalog.pg_attribute.attnum > %(attnum_1)s AND NOT pg_catalog.pg_attribute.attisdropped LEFT OUTER JOIN pg_catalog.pg_description ON pg_catalog.pg_description.objoid = pg_catalog.pg_attribute.attrelid AND pg_catalog.pg_description.objsubid = pg_catalog.pg_attribute.attnum JOIN pg_catalog.pg_namespace ON pg_catalog.pg_namespace.oid = pg_catalog.pg_class.relnamespace \n",
      "WHERE pg_catalog.pg_class.relkind = ANY (ARRAY[%(param_1)s, %(param_2)s, %(param_3)s, %(param_4)s, %(param_5)s]) AND pg_catalog.pg_table_is_visible(pg_catalog.pg_class.oid) AND pg_catalog.pg_namespace.nspname != %(nspname_1)s AND pg_catalog.pg_class.relname IN (%(filter_names_1)s) ORDER BY pg_catalog.pg_class.relname, pg_catalog.pg_attribute.attnum\n",
      "2025-03-24 15:19:34,097 INFO sqlalchemy.engine.Engine [cached since 0.2523s ago] {'json_build_object_2': 'always', 'attidentity_1': 'a', 'json_build_object_3': 'start', 'json_build_object_4': 'increment', 'json_build_object_5': 'minvalue', 'json_build_object_6': 'maxvalue', 'json_build_object_7': 'cache', 'json_build_object_8': 'cycle', 'attidentity_2': '', 'attnum_1': 0, 'param_1': 'r', 'param_2': 'p', 'param_3': 'f', 'param_4': 'v', 'param_5': 'm', 'nspname_1': 'pg_catalog', 'filter_names_1': 'hotels'}\n",
      "2025-03-24 15:19:34,107 INFO sqlalchemy.engine.Engine SELECT pg_catalog.pg_type.typname AS name, pg_catalog.format_type(pg_catalog.pg_type.typbasetype, pg_catalog.pg_type.typtypmod) AS attype, NOT pg_catalog.pg_type.typnotnull AS nullable, pg_catalog.pg_type.typdefault AS \"default\", pg_catalog.pg_type_is_visible(pg_catalog.pg_type.oid) AS visible, pg_catalog.pg_namespace.nspname AS schema, domain_constraints.condefs, domain_constraints.connames \n",
      "FROM pg_catalog.pg_type JOIN pg_catalog.pg_namespace ON pg_catalog.pg_namespace.oid = pg_catalog.pg_type.typnamespace LEFT OUTER JOIN (SELECT pg_catalog.pg_constraint.contypid AS contypid, array_agg(pg_catalog.pg_get_constraintdef(pg_catalog.pg_constraint.oid, %(pg_get_constraintdef_1)s)) AS condefs, array_agg(pg_catalog.pg_constraint.conname) AS connames \n",
      "FROM pg_catalog.pg_constraint \n",
      "WHERE pg_catalog.pg_constraint.contypid != %(contypid_1)s GROUP BY pg_catalog.pg_constraint.contypid) AS domain_constraints ON pg_catalog.pg_type.oid = domain_constraints.contypid \n",
      "WHERE pg_catalog.pg_type.typtype = %(typtype_1)s ORDER BY pg_catalog.pg_namespace.nspname, pg_catalog.pg_type.typname\n",
      "2025-03-24 15:19:34,107 INFO sqlalchemy.engine.Engine [cached since 0.2414s ago] {'pg_get_constraintdef_1': True, 'contypid_1': 0, 'typtype_1': 'd'}\n",
      "2025-03-24 15:19:34,117 INFO sqlalchemy.engine.Engine SELECT pg_catalog.pg_type.typname AS name, pg_catalog.pg_type_is_visible(pg_catalog.pg_type.oid) AS visible, pg_catalog.pg_namespace.nspname AS schema, lbl_agg.labels AS labels \n",
      "FROM pg_catalog.pg_type JOIN pg_catalog.pg_namespace ON pg_catalog.pg_namespace.oid = pg_catalog.pg_type.typnamespace LEFT OUTER JOIN (SELECT pg_catalog.pg_enum.enumtypid AS enumtypid, array_agg(pg_catalog.pg_enum.enumlabel ORDER BY pg_catalog.pg_enum.enumsortorder) AS labels \n",
      "FROM pg_catalog.pg_enum GROUP BY pg_catalog.pg_enum.enumtypid) AS lbl_agg ON pg_catalog.pg_type.oid = lbl_agg.enumtypid \n",
      "WHERE pg_catalog.pg_type.typtype = %(typtype_1)s ORDER BY pg_catalog.pg_namespace.nspname, pg_catalog.pg_type.typname\n",
      "2025-03-24 15:19:34,118 INFO sqlalchemy.engine.Engine [cached since 0.2376s ago] {'typtype_1': 'e'}\n",
      "2025-03-24 15:19:34,130 INFO sqlalchemy.engine.Engine SELECT pg_catalog.pg_class.oid, pg_catalog.pg_class.relname \n",
      "FROM pg_catalog.pg_class JOIN pg_catalog.pg_namespace ON pg_catalog.pg_namespace.oid = pg_catalog.pg_class.relnamespace \n",
      "WHERE pg_catalog.pg_class.relkind = ANY (ARRAY[%(param_1)s, %(param_2)s, %(param_3)s, %(param_4)s, %(param_5)s]) AND pg_catalog.pg_table_is_visible(pg_catalog.pg_class.oid) AND pg_catalog.pg_namespace.nspname != %(nspname_1)s AND pg_catalog.pg_class.relname IN (%(filter_names_1)s)\n",
      "2025-03-24 15:19:34,130 INFO sqlalchemy.engine.Engine [cached since 0.2354s ago] {'param_1': 'r', 'param_2': 'p', 'param_3': 'f', 'param_4': 'v', 'param_5': 'm', 'nspname_1': 'pg_catalog', 'filter_names_1': 'hotels'}\n",
      "2025-03-24 15:19:34,140 INFO sqlalchemy.engine.Engine SELECT attr.conrelid, array_agg(attr.attname ORDER BY attr.ord) AS cols, attr.conname, min(attr.description) AS description \n",
      "FROM (SELECT con.conrelid AS conrelid, con.conname AS conname, con.description AS description, con.ord AS ord, pg_catalog.pg_attribute.attname AS attname \n",
      "FROM pg_catalog.pg_attribute JOIN (SELECT pg_catalog.pg_constraint.conrelid AS conrelid, pg_catalog.pg_constraint.conname AS conname, unnest(pg_catalog.pg_constraint.conkey) AS attnum, generate_subscripts(pg_catalog.pg_constraint.conkey, %(generate_subscripts_1)s) AS ord, pg_catalog.pg_description.description AS description \n",
      "FROM pg_catalog.pg_constraint LEFT OUTER JOIN pg_catalog.pg_description ON pg_catalog.pg_description.objoid = pg_catalog.pg_constraint.oid \n",
      "WHERE pg_catalog.pg_constraint.contype = %(contype)s AND pg_catalog.pg_constraint.conrelid IN (%(oids_1)s)) AS con ON pg_catalog.pg_attribute.attnum = con.attnum AND pg_catalog.pg_attribute.attrelid = con.conrelid) AS attr GROUP BY attr.conrelid, attr.conname ORDER BY attr.conrelid, attr.conname\n",
      "2025-03-24 15:19:34,140 INFO sqlalchemy.engine.Engine [cached since 0.234s ago] {'generate_subscripts_1': 1, 'contype': 'p', 'oids_1': 16505}\n",
      "2025-03-24 15:19:34,152 INFO sqlalchemy.engine.Engine SELECT pg_catalog.pg_class.relname, pg_catalog.pg_constraint.conname, CASE WHEN (pg_catalog.pg_constraint.oid IS NOT NULL) THEN pg_catalog.pg_get_constraintdef(pg_catalog.pg_constraint.oid, %(pg_get_constraintdef_1)s) END AS anon_1, nsp_ref.nspname, pg_catalog.pg_description.description \n",
      "FROM pg_catalog.pg_class LEFT OUTER JOIN pg_catalog.pg_constraint ON pg_catalog.pg_class.oid = pg_catalog.pg_constraint.conrelid AND pg_catalog.pg_constraint.contype = %(contype_1)s LEFT OUTER JOIN pg_catalog.pg_class AS cls_ref ON cls_ref.oid = pg_catalog.pg_constraint.confrelid LEFT OUTER JOIN pg_catalog.pg_namespace AS nsp_ref ON cls_ref.relnamespace = nsp_ref.oid LEFT OUTER JOIN pg_catalog.pg_description ON pg_catalog.pg_description.objoid = pg_catalog.pg_constraint.oid JOIN pg_catalog.pg_namespace ON pg_catalog.pg_namespace.oid = pg_catalog.pg_class.relnamespace \n",
      "WHERE pg_catalog.pg_class.relkind = ANY (ARRAY[%(param_1)s, %(param_2)s, %(param_3)s, %(param_4)s, %(param_5)s]) AND pg_catalog.pg_table_is_visible(pg_catalog.pg_class.oid) AND pg_catalog.pg_namespace.nspname != %(nspname_1)s AND pg_catalog.pg_class.relname IN (%(filter_names_1)s) ORDER BY pg_catalog.pg_class.relname, pg_catalog.pg_constraint.conname\n",
      "2025-03-24 15:19:34,153 INFO sqlalchemy.engine.Engine [cached since 0.2335s ago] {'pg_get_constraintdef_1': True, 'contype_1': 'f', 'param_1': 'r', 'param_2': 'p', 'param_3': 'f', 'param_4': 'v', 'param_5': 'm', 'nspname_1': 'pg_catalog', 'filter_names_1': 'hotels'}\n",
      "2025-03-24 15:19:34,164 INFO sqlalchemy.engine.Engine SELECT pg_catalog.pg_index.indrelid, cls_idx.relname AS relname_index, pg_catalog.pg_index.indisunique, pg_catalog.pg_constraint.conrelid IS NOT NULL AS has_constraint, pg_catalog.pg_index.indoption, cls_idx.reloptions, pg_catalog.pg_am.amname, CASE WHEN (pg_catalog.pg_index.indpred IS NOT NULL) THEN pg_catalog.pg_get_expr(pg_catalog.pg_index.indpred, pg_catalog.pg_index.indrelid) ELSE NULL END AS filter_definition, pg_catalog.pg_index.indnkeyatts, idx_cols.elements, idx_cols.elements_is_expr \n",
      "FROM pg_catalog.pg_index JOIN pg_catalog.pg_class AS cls_idx ON pg_catalog.pg_index.indexrelid = cls_idx.oid JOIN pg_catalog.pg_am ON cls_idx.relam = pg_catalog.pg_am.oid LEFT OUTER JOIN (SELECT idx_attr.indexrelid AS indexrelid, min(idx_attr.indrelid) AS min_1, array_agg(idx_attr.element ORDER BY idx_attr.ord) AS elements, array_agg(idx_attr.is_expr ORDER BY idx_attr.ord) AS elements_is_expr \n",
      "FROM (SELECT idx.indexrelid AS indexrelid, idx.indrelid AS indrelid, idx.ord AS ord, CASE WHEN (idx.attnum = %(attnum_1)s) THEN pg_catalog.pg_get_indexdef(idx.indexrelid, idx.ord + %(ord_1)s, %(pg_get_indexdef_1)s) ELSE pg_catalog.pg_attribute.attname END AS element, idx.attnum = %(attnum_2)s AS is_expr \n",
      "FROM (SELECT pg_catalog.pg_index.indexrelid AS indexrelid, pg_catalog.pg_index.indrelid AS indrelid, unnest(pg_catalog.pg_index.indkey) AS attnum, generate_subscripts(pg_catalog.pg_index.indkey, %(generate_subscripts_1)s) AS ord \n",
      "FROM pg_catalog.pg_index \n",
      "WHERE NOT pg_catalog.pg_index.indisprimary AND pg_catalog.pg_index.indrelid IN (%(oids_1)s)) AS idx LEFT OUTER JOIN pg_catalog.pg_attribute ON pg_catalog.pg_attribute.attnum = idx.attnum AND pg_catalog.pg_attribute.attrelid = idx.indrelid \n",
      "WHERE idx.indrelid IN (%(oids_1)s)) AS idx_attr GROUP BY idx_attr.indexrelid) AS idx_cols ON pg_catalog.pg_index.indexrelid = idx_cols.indexrelid LEFT OUTER JOIN pg_catalog.pg_constraint ON pg_catalog.pg_index.indrelid = pg_catalog.pg_constraint.conrelid AND pg_catalog.pg_index.indexrelid = pg_catalog.pg_constraint.conindid AND pg_catalog.pg_constraint.contype = ANY (ARRAY[%(param_1)s, %(param_2)s, %(param_3)s]) \n",
      "WHERE pg_catalog.pg_index.indrelid IN (%(oids_1)s) AND NOT pg_catalog.pg_index.indisprimary ORDER BY pg_catalog.pg_index.indrelid, cls_idx.relname\n",
      "2025-03-24 15:19:34,164 INFO sqlalchemy.engine.Engine [cached since 0.2299s ago] {'attnum_1': 0, 'ord_1': 1, 'pg_get_indexdef_1': True, 'attnum_2': 0, 'generate_subscripts_1': 1, 'param_1': 'p', 'param_2': 'u', 'param_3': 'x', 'oids_1': 16505}\n",
      "2025-03-24 15:19:34,175 INFO sqlalchemy.engine.Engine SELECT attr.conrelid, array_agg(attr.attname ORDER BY attr.ord) AS cols, attr.conname, min(attr.description) AS description \n",
      "FROM (SELECT con.conrelid AS conrelid, con.conname AS conname, con.description AS description, con.ord AS ord, pg_catalog.pg_attribute.attname AS attname \n",
      "FROM pg_catalog.pg_attribute JOIN (SELECT pg_catalog.pg_constraint.conrelid AS conrelid, pg_catalog.pg_constraint.conname AS conname, unnest(pg_catalog.pg_constraint.conkey) AS attnum, generate_subscripts(pg_catalog.pg_constraint.conkey, %(generate_subscripts_1)s) AS ord, pg_catalog.pg_description.description AS description \n",
      "FROM pg_catalog.pg_constraint LEFT OUTER JOIN pg_catalog.pg_description ON pg_catalog.pg_description.objoid = pg_catalog.pg_constraint.oid \n",
      "WHERE pg_catalog.pg_constraint.contype = %(contype)s AND pg_catalog.pg_constraint.conrelid IN (%(oids_1)s)) AS con ON pg_catalog.pg_attribute.attnum = con.attnum AND pg_catalog.pg_attribute.attrelid = con.conrelid) AS attr GROUP BY attr.conrelid, attr.conname ORDER BY attr.conrelid, attr.conname\n",
      "2025-03-24 15:19:34,175 INFO sqlalchemy.engine.Engine [cached since 0.2685s ago] {'generate_subscripts_1': 1, 'contype': 'u', 'oids_1': 16505}\n",
      "2025-03-24 15:19:34,186 INFO sqlalchemy.engine.Engine SELECT pg_catalog.pg_class.relname, pg_catalog.pg_description.description \n",
      "FROM pg_catalog.pg_class LEFT OUTER JOIN pg_catalog.pg_description ON pg_catalog.pg_class.oid = pg_catalog.pg_description.objoid AND pg_catalog.pg_description.objsubid = %(objsubid_1)s JOIN pg_catalog.pg_namespace ON pg_catalog.pg_namespace.oid = pg_catalog.pg_class.relnamespace \n",
      "WHERE pg_catalog.pg_class.relkind = ANY (ARRAY[%(param_1)s, %(param_2)s, %(param_3)s, %(param_4)s, %(param_5)s]) AND pg_catalog.pg_table_is_visible(pg_catalog.pg_class.oid) AND pg_catalog.pg_namespace.nspname != %(nspname_1)s AND pg_catalog.pg_class.relname IN (%(filter_names_1)s)\n",
      "2025-03-24 15:19:34,186 INFO sqlalchemy.engine.Engine [cached since 0.2299s ago] {'objsubid_1': 0, 'param_1': 'r', 'param_2': 'p', 'param_3': 'f', 'param_4': 'v', 'param_5': 'm', 'nspname_1': 'pg_catalog', 'filter_names_1': 'hotels'}\n",
      "2025-03-24 15:19:34,196 INFO sqlalchemy.engine.Engine SELECT pg_catalog.pg_class.relname, pg_catalog.pg_constraint.conname, CASE WHEN (pg_catalog.pg_constraint.oid IS NOT NULL) THEN pg_catalog.pg_get_constraintdef(pg_catalog.pg_constraint.oid, %(pg_get_constraintdef_1)s) END AS anon_1, pg_catalog.pg_description.description \n",
      "FROM pg_catalog.pg_class LEFT OUTER JOIN pg_catalog.pg_constraint ON pg_catalog.pg_class.oid = pg_catalog.pg_constraint.conrelid AND pg_catalog.pg_constraint.contype = %(contype_1)s LEFT OUTER JOIN pg_catalog.pg_description ON pg_catalog.pg_description.objoid = pg_catalog.pg_constraint.oid JOIN pg_catalog.pg_namespace ON pg_catalog.pg_namespace.oid = pg_catalog.pg_class.relnamespace \n",
      "WHERE pg_catalog.pg_class.relkind = ANY (ARRAY[%(param_1)s, %(param_2)s, %(param_3)s, %(param_4)s, %(param_5)s]) AND pg_catalog.pg_table_is_visible(pg_catalog.pg_class.oid) AND pg_catalog.pg_namespace.nspname != %(nspname_1)s AND pg_catalog.pg_class.relname IN (%(filter_names_1)s) ORDER BY pg_catalog.pg_class.relname, pg_catalog.pg_constraint.conname\n",
      "2025-03-24 15:19:34,197 INFO sqlalchemy.engine.Engine [cached since 0.229s ago] {'pg_get_constraintdef_1': True, 'contype_1': 'c', 'param_1': 'r', 'param_2': 'p', 'param_3': 'f', 'param_4': 'v', 'param_5': 'm', 'nspname_1': 'pg_catalog', 'filter_names_1': 'hotels'}\n",
      "2025-03-24 15:19:34,208 INFO sqlalchemy.engine.Engine \n",
      "DROP TABLE hotels\n",
      "2025-03-24 15:19:34,208 INFO sqlalchemy.engine.Engine [no key 0.00040s] {}\n",
      "2025-03-24 15:19:34,219 INFO sqlalchemy.engine.Engine \n",
      "CREATE TABLE hotels (\n",
      "\tid BIGINT, \n",
      "\tname TEXT, \n",
      "\trating FLOAT(53), \n",
      "\tlat FLOAT(53), \n",
      "\tlon FLOAT(53), \n",
      "\tdescription TEXT, \n",
      "\turl TEXT, \n",
      "\tcity_id BIGINT\n",
      ")\n",
      "\n",
      "\n",
      "2025-03-24 15:19:34,219 INFO sqlalchemy.engine.Engine [no key 0.00032s] {}\n",
      "2025-03-24 15:19:34,233 INFO sqlalchemy.engine.Engine INSERT INTO hotels (id, name, rating, lat, lon, description, url, city_id) VALUES (%(id__0)s, %(name__0)s, %(rating__0)s, %(lat__0)s, %(lon__0)s, %(description__0)s, %(url__0)s, %(city_id__0)s), (%(id__1)s, %(name__1)s, %(rating__1)s, %(lat__1)s, %(l ... 108887 characters truncated ... , %(rating__852)s, %(lat__852)s, %(lon__852)s, %(description__852)s, %(url__852)s, %(city_id__852)s)\n",
      "2025-03-24 15:19:34,234 INFO sqlalchemy.engine.Engine [generated in 0.00132s (insertmanyvalues)] {'city_id__0': 6, 'id__0': 0, 'description__0': \"L’hébergement Stunning studio near Canal St Martin - DIVINE MOON se trouve à Paris, à respectivement 1,4 km et 1,5 km de ces lieux d’intérêt : Gare d ... (458 characters truncated) ... de ces lieux d’intérêt\\xa0: Centre Pompidou et Opéra Garnier. L'aéroport le plus proche (Aéroport de Paris - Roissy - Charles-de-Gaulle) est à 16 km.\", 'lon__0': 2.3723488, 'name__0': 'Stunning studio near Canal St Martin - DIVINE MOON', 'lat__0': 48.8807681, 'url__0': 'https://www.booking.com/hotel/fr/stunning-studio-near-canal-st-martin-divine-moon.fr.html?aid=304142&label=gen173nr-1FCAQoggJCDHNlYXJjaF9wYXJpc0gNWAR ... (149 characters truncated) ... dults=2&no_rooms=1&group_children=0&req_children=0&hpos=25&hapos=25&sr_order=popularity&srpvid=8fa56415a61f0364&srepoch=1742825644&from=searchresults', 'rating__0': 8.7, 'city_id__1': 4, 'id__1': 2, 'description__1': \"L’hébergement Le Havre, 1 chambre, appartement Sympa en centre ville vous accueille au Havre, à respectivement 1,6 km et 800 mètres de ces lieux d’in ... (643 characters truncated) ... : Église Saint-Joseph du Havre et Musée d'ethnographie et d'art populaire. L'aéroport le plus proche (Aéroport de Deauville - Normandie) est à 37 km.\", 'lon__1': 0.1141751, 'name__1': 'Le Havre, 1 chambre , appartement Sympa en centre ville', 'lat__1': 49.4923869, 'url__1': 'https://www.booking.com/hotel/fr/le-havre-superbe-appartement-centre-ville.fr.html?aid=304142&label=gen173nr-1FCAQoggJCD3NlYXJjaF9sZSBoYXZyZUgNWARoTY ... (146 characters truncated) ... dults=2&no_rooms=1&group_children=0&req_children=0&hpos=25&hapos=25&sr_order=popularity&srpvid=ccce6415d12f05cf&srepoch=1742825644&from=searchresults', 'rating__1': 7.8, 'city_id__2': 4, 'id__2': 3, 'description__2': \"L’hébergement Villa Raphaëlle #4 Centre ville avec parking vous accueille au Havre, à seulement 2,4 km de ce lieu d’intérêt : Plage du Havre. Il poss ... (458 characters truncated) ... ’intérêt\\xa0: Église Saint-Michel, Appartement témoin Perret et Le Volcan. L'aéroport le plus proche (Aéroport de Deauville - Normandie) est à 37 km.\", 'lon__2': 0.1230355, 'name__2': 'Villa Raphaëlle #4 Centre ville avec parking', 'lat__2': 49.4972771, 'url__2': 'https://www.booking.com/hotel/fr/villa-raphaelle-4.fr.html?aid=304142&label=gen173nr-1FCAQoggJCD3NlYXJjaF9sZSBoYXZyZUgNWARoTYgBAZgBDbgBCsgBBdgBAegBAf ... (122 characters truncated) ... dults=2&no_rooms=1&group_children=0&req_children=0&hpos=24&hapos=24&sr_order=popularity&srpvid=ccce6415d12f05cf&srepoch=1742825644&from=searchresults', 'rating__2': 9.1, 'city_id__3': 1, 'id__3': 4, 'description__3': \"Situé à Huisnes-sur-Mer, l’établissement A l ombre du Mont Saint Michel possède une connexion Wi-Fi gratuite, un jardin, un salon commun et une terra ... (452 characters truncated) ...  de ces lieux d’intérêt : Abbaye du Mont Saint Michel et Mont Saint-Michel. L'aéroport le plus proche (Aéroport de Rennes-Saint-Jacques) est à 91 km.\", 'lon__3': -1.4651207, 'name__3': 'A l ombre du Mont Saint Michel', 'lat__3': 48.6156258, 'url__3': 'https://www.booking.com/hotel/fr/a-l-ombre-du-mont-saint-michel.fr.html?aid=304142&label=gen173nr-1FCAQoggJCGHNlYXJjaF9tb250IHNhaW50IG1pY2hlbEgNWARoT ... (147 characters truncated) ... dults=2&no_rooms=1&group_children=0&req_children=0&hpos=25&hapos=25&sr_order=popularity&srpvid=ed216415c5970666&srepoch=1742825645&from=searchresults', 'rating__3': 10.0, 'city_id__4': 5, 'id__4': 5, 'description__4': \"L’établissement La Villa se trouve à Rouen (Haute-Normandie), à proximité de ces lieux d’intérêt : Gare de Rouen-Rive-Droite et Cathédrale Notre-Dame ... (225 characters truncated) ... m de ces lieux d’intérêt : Palais des sports de Rouen et Voltaire Station, Rouen. L'aéroport le plus proche (Aéroport de Paris-Beauvais) est à 85 km.\", 'lon__4': 1.0890898, 'name__4': 'La Villa', 'lat__4': 49.4502853, 'url__4': 'https://www.booking.com/hotel/fr/ermitage-bouquet-rouen.fr.html?aid=304142&label=gen173nr-1FCAQoggJCDHNlYXJjaF9yb3VlbkgNWARoTYgBAZgBDbgBCsgBBdgBAegBA ... (123 characters truncated) ... dults=2&no_rooms=1&group_children=0&req_children=0&hpos=24&hapos=24&sr_order=popularity&srpvid=f8b0641543070608&srepoch=1742825645&from=searchresults', 'rating__4': 8.4, 'city_id__5': 5, 'id__5': 6, 'description__5': \"L'hôtel B&B HOTEL Rouen Centre Rive Gauche est situé\\xa0dans le quartier Saint-Sever, à 1 km de la place Jeanne-d'Arc et de la cathédrale de Rouen. S ... (685 characters truncated) ... dez-Vous.\\n\\nLa gare ferroviaire de Rouen-Rive-Droite se trouve à 1 km de l'hôtel et vous pourrez stationner dans le parking privé couvert surveillé.\", 'lon__5': 1.0824082000000317, 'name__5': 'B&B HOTEL Rouen Centre Rive Gauche', 'lat__5': 49.4317818, 'url__5': 'https://www.booking.com/hotel/fr/ibis-rouen-centre-rive-gauche-st-sever.fr.html?aid=304142&label=gen173nr-1FCAQoggJCDHNlYXJjaF9yb3VlbkgNWARoTYgBAZgBD ... (170 characters truncated) ... en=0&req_children=0&hpos=25&hapos=25&sr_order=popularity&srpvid=f8b0641543070608&srepoch=1742825645&from_sustainable_property_sr=1&from=searchresults', 'rating__5': 7.8, 'city_id__6': 5, 'id__6': 7 ... 6724 parameters truncated ... 'url__846': 'https://www.booking.com/hotel/fr/le-concorde-sarl-aix-en-provence.fr.html?aid=304142&label=gen173nr-1FCAQoggJCFnNlYXJjaF9haXggZW4gcHJvdmVuY2VIDVgEaE2 ... (144 characters truncated) ... _adults=2&no_rooms=1&group_children=0&req_children=0&hpos=7&hapos=7&sr_order=popularity&srpvid=3e436439b26408d2&srepoch=1742825716&from=searchresults', 'rating__846': 7.9, 'city_id__847': 22, 'id__847': 869, 'description__847': \"Situé à côté du célèbre cours Mirabeau, au cœur de la vieille ville d'Aix-en-Provence, l'Hôtel Les Augustins se trouve dans les murs d'un couvent dat ... (403 characters truncated) ... dans le confort de votre chambre. Vous pourrez profiter d’une connexion Wi-Fi gratuite dans l’ensemble des locaux, et d’une réception ouverte 24h/24.\", 'lon__847': 5.447271466255188, 'name__847': 'Hôtel des Augustins', 'lat__847': 43.526886636225456, 'url__847': 'https://www.booking.com/hotel/fr/les-augustins.fr.html?aid=304142&label=gen173nr-1FCAQoggJCFnNlYXJjaF9haXggZW4gcHJvdmVuY2VIDVgEaE2IAQGYAQ24AQrIAQXYAQ ... (125 characters truncated) ... _adults=2&no_rooms=1&group_children=0&req_children=0&hpos=9&hapos=9&sr_order=popularity&srpvid=3e436439b26408d2&srepoch=1742825716&from=searchresults', 'rating__847': 8.3, 'city_id__848': 22, 'id__848': 870, 'description__848': \"Entouré d'un magnifique jardin, l'Aquabella propose des chambres de style provençal ainsi qu'un accès gratuit au spa. Il est situé dans le centre d'A ... (615 characters truncated) ...  également une douche Kneipp et une fontaine de glace.\\n\\nVous trouverez un parking public à seulement 50 mètres, accessible moyennant un supplément.\", 'lon__848': 5.445070043206215, 'name__848': 'Aquabella Hôtel & Spa', 'lat__848': 43.53126359885809, 'url__848': 'https://www.booking.com/hotel/fr/hotel-aquabella.fr.html?aid=304142&label=gen173nr-1FCAQoggJCFnNlYXJjaF9haXggZW4gcHJvdmVuY2VIDVgEaE2IAQGYAQ24AQrIAQXY ... (127 characters truncated) ... _adults=2&no_rooms=1&group_children=0&req_children=0&hpos=6&hapos=6&sr_order=popularity&srpvid=3e436439b26408d2&srepoch=1742825716&from=searchresults', 'rating__848': 8.6, 'city_id__849': 22, 'id__849': 871, 'description__849': \"L’Hôtel Birdy by Happyculture se trouve à 10\\xa0minutes de route d’Aix-en-Provence, à proximité d’un parcours de golf de 18\\xa0trous. L’établissement ... (709 characters truncated) ... ôtel Birdy by Happyculture est à 6,7 km de la gare TGV de Marseille et à 17 km de l’aéroport de Marseille Provence. Le parking sur place est gratuit.\", 'lon__849': 5.365614295005798, 'name__849': 'Hôtel Birdy by Happyculture', 'lat__849': 43.48142972107352, 'url__849': 'https://www.booking.com/hotel/fr/royal-mirabeau.fr.html?aid=304142&label=gen173nr-1FCAQoggJCFnNlYXJjaF9haXggZW4gcHJvdmVuY2VIDVgEaE2IAQGYAQ24AQrIAQXYA ... (126 characters truncated) ... _adults=2&no_rooms=1&group_children=0&req_children=0&hpos=5&hapos=5&sr_order=popularity&srpvid=3e436439b26408d2&srepoch=1742825716&from=searchresults', 'rating__849': 8.4, 'city_id__850': 22, 'id__850': 872, 'description__850': \"Situé à Aix-en-Provence, à moins de 800 mètres du cours Mirabeau et de la cathédrale Saint-Sauveur, l'Hotel Cardinal propose des chambres climatisées ... (292 characters truncated) ... e cuisson et une machine à café.\\n\\nLe personnel de la réception parle français et anglais.\\n\\nL'aéroport de Marseille-Provence est implanté à 21 km.\", 'lon__850': 5.45172079999998, 'name__850': 'Hotel Cardinal', 'lat__850': 43.5255987, 'url__850': 'https://www.booking.com/hotel/fr/cardinal.fr.html?aid=304142&label=gen173nr-1FCAQoggJCFnNlYXJjaF9haXggZW4gcHJvdmVuY2VIDVgEaE2IAQGYAQ24AQrIAQXYAQHoAQH ... (120 characters truncated) ... _adults=2&no_rooms=1&group_children=0&req_children=0&hpos=4&hapos=4&sr_order=popularity&srpvid=3e436439b26408d2&srepoch=1742825716&from=searchresults', 'rating__850': 8.6, 'city_id__851': 22, 'id__851': 873, 'description__851': \"Situé à 500\\xa0mètres du musée Granet, l’Hôtel Le Mozart propose des chambres climatisées avec une connexion Wi-Fi gratuite. Vous pourrez y accéder f ... (567 characters truncated) ... recharge pour voitures électriques est disponible sous réserve de disponibilité. Vous trouverez également des journaux à la réception ouverte 24h/24.\", 'lon__851': 5.4578715562820435, 'name__851': 'Hôtel Le Mozart', 'lat__851': 43.521917623272195, 'url__851': 'https://www.booking.com/hotel/fr/le-mozart.fr.html?aid=304142&label=gen173nr-1FCAQoggJCFnNlYXJjaF9haXggZW4gcHJvdmVuY2VIDVgEaE2IAQGYAQ24AQrIAQXYAQHoAQ ... (121 characters truncated) ... _adults=2&no_rooms=1&group_children=0&req_children=0&hpos=2&hapos=2&sr_order=popularity&srpvid=3e436439b26408d2&srepoch=1742825716&from=searchresults', 'rating__851': 8.4, 'city_id__852': 22, 'id__852': 874, 'description__852': \"Situé au cœur d'Aix-en-Provence, l'Hôtel Paul est situé à seulement 150 mètres du spa, du Palais des Festivals et du quartier historique de la ville. ... (706 characters truncated) ... e se trouve à 1,5 km et l'aéroport de Marseille Provence est à 30 km. Vous serez à 35,5 km de Marseille Un parking public est disponible à proximité.\", 'lon__852': 5.446056425571442, 'name__852': 'Hôtel Paul', 'lat__852': 43.53336324193778, 'url__852': 'https://www.booking.com/hotel/fr/paul.fr.html?aid=304142&label=gen173nr-1FCAQoggJCFnNlYXJjaF9haXggZW4gcHJvdmVuY2VIDVgEaE2IAQGYAQ24AQrIAQXYAQHoAQH4AQO ... (116 characters truncated) ... _adults=2&no_rooms=1&group_children=0&req_children=0&hpos=3&hapos=3&sr_order=popularity&srpvid=3e436439b26408d2&srepoch=1742825716&from=searchresults', 'rating__852': 8.6}\n",
      "2025-03-24 15:19:34,351 INFO sqlalchemy.engine.Engine COMMIT\n"
     ]
    },
    {
     "data": {
      "text/plain": [
       "853"
      ]
     },
     "execution_count": 36,
     "metadata": {},
     "output_type": "execute_result"
    }
   ],
   "source": [
    "# Exporting both cities and hotels infos in a SQL database\n",
    "df_cities.to_sql(name=\"cities\", con=engine, index=False, if_exists=\"replace\")\n",
    "df_hotels.to_sql(name=\"hotels\", con=engine, index=False, if_exists=\"replace\")"
   ]
  },
  {
   "cell_type": "markdown",
   "metadata": {},
   "source": [
    "![Table Cities](../data/01_aws_rds.png)"
   ]
  },
  {
   "cell_type": "markdown",
   "metadata": {},
   "source": [
    "![Table Hotels](../data/02_aws_rds.png)"
   ]
  }
 ],
 "metadata": {
  "kernelspec": {
   "display_name": "base",
   "language": "python",
   "name": "python3"
  },
  "language_info": {
   "codemirror_mode": {
    "name": "ipython",
    "version": 3
   },
   "file_extension": ".py",
   "mimetype": "text/x-python",
   "name": "python",
   "nbconvert_exporter": "python",
   "pygments_lexer": "ipython3",
   "version": "3.12.7"
  }
 },
 "nbformat": 4,
 "nbformat_minor": 2
}
