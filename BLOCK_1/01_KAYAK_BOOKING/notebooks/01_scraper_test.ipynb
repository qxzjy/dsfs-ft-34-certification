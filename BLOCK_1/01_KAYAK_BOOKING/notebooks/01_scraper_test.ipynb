{
 "cells": [
  {
   "cell_type": "code",
   "execution_count": null,
   "metadata": {},
   "outputs": [
    {
     "name": "stdout",
     "output_type": "stream",
     "text": [
      "2025-03-21 22:29:16 [scrapy.utils.log] INFO: Scrapy 2.11.1 started (bot: scrapybot)\n",
      "2025-03-21 22:29:16 [scrapy.utils.log] INFO: Versions: lxml 5.2.1.0, libxml2 2.13.1, cssselect 1.2.0, parsel 1.8.1, w3lib 2.1.2, Twisted 23.10.0, Python 3.12.7 | packaged by Anaconda, Inc. | (main, Oct  4 2024, 08:22:19) [Clang 14.0.6 ], pyOpenSSL 24.2.1 (OpenSSL 3.0.16 11 Feb 2025), cryptography 43.0.0, Platform macOS-14.6-arm64-arm-64bit\n",
      "2025-03-21 22:29:16 [scrapy.addons] INFO: Enabled addons:\n",
      "[]\n",
      "2025-03-21 22:29:16 [scrapy.extensions.telnet] INFO: Telnet Password: e6a2c1515e6f358e\n",
      "2025-03-21 22:29:16 [scrapy.middleware] INFO: Enabled extensions:\n",
      "['scrapy.extensions.corestats.CoreStats',\n",
      " 'scrapy.extensions.telnet.TelnetConsole',\n",
      " 'scrapy.extensions.memusage.MemoryUsage',\n",
      " 'scrapy.extensions.feedexport.FeedExporter',\n",
      " 'scrapy.extensions.logstats.LogStats']\n",
      "2025-03-21 22:29:16 [scrapy.crawler] INFO: Overridden settings:\n",
      "{'LOG_LEVEL': 20,\n",
      " 'REQUEST_FINGERPRINTER_IMPLEMENTATION': '2.7',\n",
      " 'USER_AGENT': 'Chrome/97.0'}\n",
      "2025-03-21 22:29:16 [scrapy.middleware] INFO: Enabled downloader middlewares:\n",
      "['scrapy.downloadermiddlewares.httpauth.HttpAuthMiddleware',\n",
      " 'scrapy.downloadermiddlewares.downloadtimeout.DownloadTimeoutMiddleware',\n",
      " 'scrapy.downloadermiddlewares.defaultheaders.DefaultHeadersMiddleware',\n",
      " 'scrapy.downloadermiddlewares.useragent.UserAgentMiddleware',\n",
      " 'scrapy.downloadermiddlewares.retry.RetryMiddleware',\n",
      " 'scrapy.downloadermiddlewares.redirect.MetaRefreshMiddleware',\n",
      " 'scrapy.downloadermiddlewares.httpcompression.HttpCompressionMiddleware',\n",
      " 'scrapy.downloadermiddlewares.redirect.RedirectMiddleware',\n",
      " 'scrapy.downloadermiddlewares.cookies.CookiesMiddleware',\n",
      " 'scrapy.downloadermiddlewares.httpproxy.HttpProxyMiddleware',\n",
      " 'scrapy.downloadermiddlewares.stats.DownloaderStats']\n",
      "2025-03-21 22:29:16 [scrapy.middleware] INFO: Enabled spider middlewares:\n",
      "['scrapy.spidermiddlewares.httperror.HttpErrorMiddleware',\n",
      " 'scrapy.spidermiddlewares.offsite.OffsiteMiddleware',\n",
      " 'scrapy.spidermiddlewares.referer.RefererMiddleware',\n",
      " 'scrapy.spidermiddlewares.urllength.UrlLengthMiddleware',\n",
      " 'scrapy.spidermiddlewares.depth.DepthMiddleware']\n",
      "2025-03-21 22:29:16 [scrapy.middleware] INFO: Enabled item pipelines:\n",
      "[]\n",
      "2025-03-21 22:29:16 [scrapy.core.engine] INFO: Spider opened\n",
      "2025-03-21 22:29:16 [scrapy.extensions.logstats] INFO: Crawled 0 pages (at 0 pages/min), scraped 0 items (at 0 items/min)\n",
      "2025-03-21 22:29:16 [scrapy.extensions.telnet] INFO: Telnet console listening on 127.0.0.1:6038\n",
      "2025-03-21 22:30:16 [scrapy.extensions.logstats] INFO: Crawled 362 pages (at 362 pages/min), scraped 341 items (at 341 items/min)\n",
      "2025-03-21 22:31:16 [scrapy.extensions.logstats] INFO: Crawled 742 pages (at 380 pages/min), scraped 708 items (at 367 items/min)\n",
      "2025-03-21 22:31:44 [scrapy.core.engine] INFO: Closing spider (finished)\n",
      "2025-03-21 22:31:44 [scrapy.extensions.feedexport] INFO: Stored json feed (875 items) in: data/hotels.json\n",
      "2025-03-21 22:31:44 [scrapy.statscollectors] INFO: Dumping Scrapy stats:\n",
      "{'downloader/request_bytes': 1252940,\n",
      " 'downloader/request_count': 910,\n",
      " 'downloader/request_method_count/GET': 910,\n",
      " 'downloader/response_bytes': 252891733,\n",
      " 'downloader/response_count': 910,\n",
      " 'downloader/response_status_count/200': 910,\n",
      " 'elapsed_time_seconds': 147.637471,\n",
      " 'feedexport/success_count/FileFeedStorage': 1,\n",
      " 'finish_reason': 'finished',\n",
      " 'finish_time': datetime.datetime(2025, 3, 21, 21, 31, 44, 283062, tzinfo=datetime.timezone.utc),\n",
      " 'httpcompression/response_bytes': 1209950149,\n",
      " 'httpcompression/response_count': 910,\n",
      " 'item_scraped_count': 875,\n",
      " 'log_count/INFO': 13,\n",
      " 'memusage/max': 829964288,\n",
      " 'memusage/startup': 75104256,\n",
      " 'request_depth_max': 1,\n",
      " 'response_received_count': 910,\n",
      " 'scheduler/dequeued': 910,\n",
      " 'scheduler/dequeued/memory': 910,\n",
      " 'scheduler/enqueued': 910,\n",
      " 'scheduler/enqueued/memory': 910,\n",
      " 'start_time': datetime.datetime(2025, 3, 21, 21, 29, 16, 645591, tzinfo=datetime.timezone.utc)}\n",
      "2025-03-21 22:31:44 [scrapy.core.engine] INFO: Spider closed (finished)\n"
     ]
    }
   ],
   "source": [
    "!python ../src/scraper.py"
   ]
  },
  {
   "cell_type": "code",
   "execution_count": 2,
   "metadata": {},
   "outputs": [
    {
     "name": "stdout",
     "output_type": "stream",
     "text": [
      "['https://www.booking.com/searchresults.fr.html?ss=Mont Saint Michel', 'https://www.booking.com/searchresults.fr.html?ss=St Malo', 'https://www.booking.com/searchresults.fr.html?ss=Bayeux', 'https://www.booking.com/searchresults.fr.html?ss=Le Havre', 'https://www.booking.com/searchresults.fr.html?ss=Rouen', 'https://www.booking.com/searchresults.fr.html?ss=Paris', 'https://www.booking.com/searchresults.fr.html?ss=Amiens', 'https://www.booking.com/searchresults.fr.html?ss=Lille', 'https://www.booking.com/searchresults.fr.html?ss=Strasbourg', 'https://www.booking.com/searchresults.fr.html?ss=Chateau du Haut Koenigsbourg', 'https://www.booking.com/searchresults.fr.html?ss=Colmar', 'https://www.booking.com/searchresults.fr.html?ss=Eguisheim', 'https://www.booking.com/searchresults.fr.html?ss=Besancon', 'https://www.booking.com/searchresults.fr.html?ss=Dijon', 'https://www.booking.com/searchresults.fr.html?ss=Annecy', 'https://www.booking.com/searchresults.fr.html?ss=Grenoble', 'https://www.booking.com/searchresults.fr.html?ss=Lyon', 'https://www.booking.com/searchresults.fr.html?ss=Gorges du Verdon', 'https://www.booking.com/searchresults.fr.html?ss=Bormes les Mimosas', 'https://www.booking.com/searchresults.fr.html?ss=Cassis', 'https://www.booking.com/searchresults.fr.html?ss=Marseille', 'https://www.booking.com/searchresults.fr.html?ss=Aix en Provence', 'https://www.booking.com/searchresults.fr.html?ss=Avignon', 'https://www.booking.com/searchresults.fr.html?ss=Uzes', 'https://www.booking.com/searchresults.fr.html?ss=Nimes', 'https://www.booking.com/searchresults.fr.html?ss=Aigues Mortes', 'https://www.booking.com/searchresults.fr.html?ss=Saintes Maries de la mer', 'https://www.booking.com/searchresults.fr.html?ss=Collioure', 'https://www.booking.com/searchresults.fr.html?ss=Carcassonne', 'https://www.booking.com/searchresults.fr.html?ss=Ariege', 'https://www.booking.com/searchresults.fr.html?ss=Toulouse', 'https://www.booking.com/searchresults.fr.html?ss=Montauban', 'https://www.booking.com/searchresults.fr.html?ss=Biarritz', 'https://www.booking.com/searchresults.fr.html?ss=Bayonne', 'https://www.booking.com/searchresults.fr.html?ss=La Rochelle']\n"
     ]
    }
   ],
   "source": [
    "def load_urls():\n",
    "\n",
    "    base_url = \"https://www.booking.com/searchresults.fr.html?ss=\"\n",
    "\n",
    "    cities_list = [\"Mont Saint Michel\",\n",
    "                    \"St Malo\",\n",
    "                    \"Bayeux\",\n",
    "                    \"Le Havre\",\n",
    "                    \"Rouen\",\n",
    "                    \"Paris\",\n",
    "                    \"Amiens\",\n",
    "                    \"Lille\",\n",
    "                    \"Strasbourg\",\n",
    "                    \"Chateau du Haut Koenigsbourg\",\n",
    "                    \"Colmar\",\n",
    "                    \"Eguisheim\",\n",
    "                    \"Besancon\",\n",
    "                    \"Dijon\",\n",
    "                    \"Annecy\",\n",
    "                    \"Grenoble\",\n",
    "                    \"Lyon\",\n",
    "                    \"Gorges du Verdon\",\n",
    "                    \"Bormes les Mimosas\",\n",
    "                    \"Cassis\",\n",
    "                    \"Marseille\",\n",
    "                    \"Aix en Provence\",\n",
    "                    \"Avignon\",\n",
    "                    \"Uzes\",\n",
    "                    \"Nimes\",\n",
    "                    \"Aigues Mortes\",\n",
    "                    \"Saintes Maries de la mer\",\n",
    "                    \"Collioure\",\n",
    "                    \"Carcassonne\",\n",
    "                    \"Ariege\",\n",
    "                    \"Toulouse\",\n",
    "                    \"Montauban\",\n",
    "                    \"Biarritz\",\n",
    "                    \"Bayonne\",\n",
    "                    \"La Rochelle\"]\n",
    "    \n",
    "    urls = [base_url+i for i in cities_list]\n",
    "\n",
    "    return urls\n",
    "\n",
    "print(load_urls())"
   ]
  }
 ],
 "metadata": {
  "kernelspec": {
   "display_name": "base",
   "language": "python",
   "name": "python3"
  },
  "language_info": {
   "codemirror_mode": {
    "name": "ipython",
    "version": 3
   },
   "file_extension": ".py",
   "mimetype": "text/x-python",
   "name": "python",
   "nbconvert_exporter": "python",
   "pygments_lexer": "ipython3",
   "version": "3.12.7"
  }
 },
 "nbformat": 4,
 "nbformat_minor": 2
}
