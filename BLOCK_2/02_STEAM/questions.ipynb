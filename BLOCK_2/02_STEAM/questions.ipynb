{
 "cells": [
  {
   "cell_type": "markdown",
   "metadata": {},
   "source": [
    "**Analysis at the \"macro\" level**\n",
    "\n",
    "- Which publisher has released the most games on Steam?\n",
    "    - publiser\n",
    "    - groupBy publisher  > count all\n",
    "- What are the best rated games?\n",
    "    - name, positive, negative\n",
    "    - create review_ratio column\n",
    "- Are there years with more releases? Were there more or fewer game releases during the Covid, for example?\n",
    "    - release_date\n",
    "    - groupBy release_date(y) > count all (mthod F.year(c))\n",
    "    - evolution of price : line chart\n",
    "    - Covid : march 2020, may 2021\n",
    "- How are the prizes distributed? Are there many games with a discount?\n",
    "    - price, discount\n",
    "    - price distribution : histogram, box plot\n",
    "    - count discount : pie chart\n",
    "- What are the most represented languages?\n",
    "    - languages\n",
    "    - do a MAP / REDUCE > 02-Words_count_with_PySpark_rdds_databricks\n",
    "        - map split = q4\n",
    "        - flat map = q5\n",
    "        - to tuple = q7\n",
    "        - reduced = q17\n",
    "        - soterd = q21\n",
    "    - groupBy languages > count all\n",
    "    - count languages : bar chart ?\n",
    "- Are there many games prohibited for children under 16/18?\n",
    "    - required_age\n",
    "    - correct values where age is 180\n",
    "\n",
    "**Genres analysis**\n",
    "\n",
    "- What are the most represented genres?\n",
    "    - genre\n",
    "    - groupBy genre  > count all\n",
    "- Are there any genres that have a better positive/negative review ratio?\n",
    "    - genre, positive, negative\n",
    "    - create review_ratio column, groupBy genre, mean review_ratio\n",
    "- Do some publishers have favorite genres?\n",
    "    - publisher, genre\n",
    "- What are the most lucrative genres?\n",
    "    - price, grenre\n",
    "    - groupBy genre > mean aggragation\n",
    "\n",
    "**Platform analysis**\n",
    "\n",
    "- Are most games available on Windows/Mac/Linux instead?\n",
    "    - platform\n",
    "- Do certain genres tend to be preferentially available on certain platforms?\n",
    "    - genre, platform\n",
    "\n",
    "https://docs.databricks.com/aws/en/visualizations\n",
    "\n",
    "https://docs.databricks.com/aws/en/visualizations/visualization-types"
   ]
  },
  {
   "cell_type": "markdown",
   "metadata": {},
   "source": []
  }
 ],
 "metadata": {
  "language_info": {
   "name": "python"
  }
 },
 "nbformat": 4,
 "nbformat_minor": 2
}
