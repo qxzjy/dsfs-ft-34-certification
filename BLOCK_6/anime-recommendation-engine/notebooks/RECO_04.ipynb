{
 "cells": [
  {
   "cell_type": "code",
   "execution_count": 30,
   "id": "10c270a4",
   "metadata": {},
   "outputs": [],
   "source": [
    "from langchain_core.prompts import ChatPromptTemplate\n",
    "from langchain_mistralai import ChatMistralAI\n",
    "from langchain.output_parsers import PydanticOutputParser\n",
    "from pydantic import BaseModel\n",
    "from typing import Optional\n",
    "\n",
    "\n",
    "import pandas as pd\n",
    "import re"
   ]
  },
  {
   "cell_type": "code",
   "execution_count": 49,
   "id": "8c49c949",
   "metadata": {},
   "outputs": [],
   "source": [
    "reviews = pd.read_csv('/home/antog96/Jedha_Bootcamp/Projet_DSFS/anime-recommendation-engine/data/reviews_classed.csv')"
   ]
  },
  {
   "cell_type": "code",
   "execution_count": 50,
   "id": "eb79d2f0",
   "metadata": {},
   "outputs": [],
   "source": [
    "reviews_for_llm = reviews.drop(columns=[\"profile\",\"score\",\"classifications\"])"
   ]
  },
  {
   "cell_type": "code",
   "execution_count": 51,
   "id": "43021aae",
   "metadata": {},
   "outputs": [],
   "source": [
    "reviews_for_llm.to_csv(\"reviews_for_llm.csv\",index=False)"
   ]
  },
  {
   "cell_type": "code",
   "execution_count": 52,
   "id": "17ef934a",
   "metadata": {},
   "outputs": [
    {
     "data": {
      "text/html": [
       "<div>\n",
       "<style scoped>\n",
       "    .dataframe tbody tr th:only-of-type {\n",
       "        vertical-align: middle;\n",
       "    }\n",
       "\n",
       "    .dataframe tbody tr th {\n",
       "        vertical-align: top;\n",
       "    }\n",
       "\n",
       "    .dataframe thead th {\n",
       "        text-align: right;\n",
       "    }\n",
       "</style>\n",
       "<table border=\"1\" class=\"dataframe\">\n",
       "  <thead>\n",
       "    <tr style=\"text-align: right;\">\n",
       "      <th></th>\n",
       "      <th>anime_uid</th>\n",
       "      <th>text</th>\n",
       "    </tr>\n",
       "  </thead>\n",
       "  <tbody>\n",
       "    <tr>\n",
       "      <th>0</th>\n",
       "      <td>34096</td>\n",
       "      <td>[' more pics Overall 8 Story 8 Animation 8 Sou...</td>\n",
       "    </tr>\n",
       "    <tr>\n",
       "      <th>1</th>\n",
       "      <td>34599</td>\n",
       "      <td>[' more pics Overall 10 Story 10 Animation 10 ...</td>\n",
       "    </tr>\n",
       "    <tr>\n",
       "      <th>2</th>\n",
       "      <td>28891</td>\n",
       "      <td>[' more pics Overall 7 Story 7 Animation 9 Sou...</td>\n",
       "    </tr>\n",
       "    <tr>\n",
       "      <th>3</th>\n",
       "      <td>2904</td>\n",
       "      <td>[' more pics Overall 9 Story 9 Animation 9 Sou...</td>\n",
       "    </tr>\n",
       "    <tr>\n",
       "      <th>4</th>\n",
       "      <td>4181</td>\n",
       "      <td>[' more pics Overall 10 Story 10 Animation 8 S...</td>\n",
       "    </tr>\n",
       "  </tbody>\n",
       "</table>\n",
       "</div>"
      ],
      "text/plain": [
       "   anime_uid                                               text\n",
       "0      34096  [' more pics Overall 8 Story 8 Animation 8 Sou...\n",
       "1      34599  [' more pics Overall 10 Story 10 Animation 10 ...\n",
       "2      28891  [' more pics Overall 7 Story 7 Animation 9 Sou...\n",
       "3       2904  [' more pics Overall 9 Story 9 Animation 9 Sou...\n",
       "4       4181  [' more pics Overall 10 Story 10 Animation 8 S..."
      ]
     },
     "execution_count": 52,
     "metadata": {},
     "output_type": "execute_result"
    }
   ],
   "source": [
    "reviews_for_llm.head()"
   ]
  },
  {
   "cell_type": "code",
   "execution_count": 73,
   "id": "8873001a",
   "metadata": {},
   "outputs": [],
   "source": [
    "cowboy_bebop_reviews = reviews[reviews[\"anime_uid\"] == 303]"
   ]
  },
  {
   "cell_type": "code",
   "execution_count": 74,
   "id": "d2aacc9c",
   "metadata": {},
   "outputs": [
    {
     "data": {
      "text/html": [
       "<div>\n",
       "<style scoped>\n",
       "    .dataframe tbody tr th:only-of-type {\n",
       "        vertical-align: middle;\n",
       "    }\n",
       "\n",
       "    .dataframe tbody tr th {\n",
       "        vertical-align: top;\n",
       "    }\n",
       "\n",
       "    .dataframe thead th {\n",
       "        text-align: right;\n",
       "    }\n",
       "</style>\n",
       "<table border=\"1\" class=\"dataframe\">\n",
       "  <thead>\n",
       "    <tr style=\"text-align: right;\">\n",
       "      <th></th>\n",
       "      <th>profile</th>\n",
       "      <th>anime_uid</th>\n",
       "      <th>text</th>\n",
       "      <th>score</th>\n",
       "      <th>classifications</th>\n",
       "    </tr>\n",
       "  </thead>\n",
       "  <tbody>\n",
       "    <tr>\n",
       "      <th>81404</th>\n",
       "      <td>TheCompletionist</td>\n",
       "      <td>303</td>\n",
       "      <td>[' more pics Overall 9 Story 9 Animation 9 Sou...</td>\n",
       "      <td>9</td>\n",
       "      <td>[{'label': 'NEGATIVE', 'score': 0.887315869331...</td>\n",
       "    </tr>\n",
       "    <tr>\n",
       "      <th>81584</th>\n",
       "      <td>xXKasumiXx</td>\n",
       "      <td>303</td>\n",
       "      <td>[' more pics Overall 7 Story 6 Animation 7 Sou...</td>\n",
       "      <td>7</td>\n",
       "      <td>[{'label': 'NEGATIVE', 'score': 0.656624197959...</td>\n",
       "    </tr>\n",
       "    <tr>\n",
       "      <th>81585</th>\n",
       "      <td>MKSTEEL</td>\n",
       "      <td>303</td>\n",
       "      <td>[' more pics Overall 5 Story 5 Animation 9 Sou...</td>\n",
       "      <td>5</td>\n",
       "      <td>[{'label': 'NEGATIVE', 'score': 0.991555511951...</td>\n",
       "    </tr>\n",
       "    <tr>\n",
       "      <th>81589</th>\n",
       "      <td>Ranivus</td>\n",
       "      <td>303</td>\n",
       "      <td>[' more pics Overall 6 Story 5 Animation 7 Sou...</td>\n",
       "      <td>6</td>\n",
       "      <td>[{'label': 'POSITIVE', 'score': 0.970171928405...</td>\n",
       "    </tr>\n",
       "    <tr>\n",
       "      <th>81590</th>\n",
       "      <td>Alexiell</td>\n",
       "      <td>303</td>\n",
       "      <td>[' more pics Overall 9 Story 6 Animation 7 Sou...</td>\n",
       "      <td>9</td>\n",
       "      <td>[{'label': 'NEGATIVE', 'score': 0.992018640041...</td>\n",
       "    </tr>\n",
       "  </tbody>\n",
       "</table>\n",
       "</div>"
      ],
      "text/plain": [
       "                profile  anime_uid  \\\n",
       "81404  TheCompletionist        303   \n",
       "81584        xXKasumiXx        303   \n",
       "81585           MKSTEEL        303   \n",
       "81589           Ranivus        303   \n",
       "81590          Alexiell        303   \n",
       "\n",
       "                                                    text  score  \\\n",
       "81404  [' more pics Overall 9 Story 9 Animation 9 Sou...      9   \n",
       "81584  [' more pics Overall 7 Story 6 Animation 7 Sou...      7   \n",
       "81585  [' more pics Overall 5 Story 5 Animation 9 Sou...      5   \n",
       "81589  [' more pics Overall 6 Story 5 Animation 7 Sou...      6   \n",
       "81590  [' more pics Overall 9 Story 6 Animation 7 Sou...      9   \n",
       "\n",
       "                                         classifications  \n",
       "81404  [{'label': 'NEGATIVE', 'score': 0.887315869331...  \n",
       "81584  [{'label': 'NEGATIVE', 'score': 0.656624197959...  \n",
       "81585  [{'label': 'NEGATIVE', 'score': 0.991555511951...  \n",
       "81589  [{'label': 'POSITIVE', 'score': 0.970171928405...  \n",
       "81590  [{'label': 'NEGATIVE', 'score': 0.992018640041...  "
      ]
     },
     "execution_count": 74,
     "metadata": {},
     "output_type": "execute_result"
    }
   ],
   "source": [
    "cowboy_bebop_reviews.head()"
   ]
  },
  {
   "cell_type": "code",
   "execution_count": 33,
   "id": "e7aef316",
   "metadata": {},
   "outputs": [],
   "source": [
    "# Output format\n",
    "class OutputSchema(BaseModel):\n",
    "    positive: str\n",
    "    negative: str\n",
    "\n",
    "parser = PydanticOutputParser(pydantic_object=OutputSchema)\n",
    "format_instructions = parser.get_format_instructions()\n",
    "\n",
    "\n",
    "# Prompt string \n",
    "sys_prompt=\"\"\"\n",
    "You are a specialized in analysing the positive and negative elements in reviews of animes left by different users. Your task is to provide user with a summary of reviews left by other users on the platform to help them determine whether to watch that anime or not.\n",
    "\n",
    "Ignore the \"more pics\" citation at the beginning of each review, as it refers to something outside of it.\n",
    "\n",
    "Analyze the users' sentence and extract, if they are encountered:\n",
    "- the positive points expressed in the reviews,\n",
    "- the negative points on which the criticism is based.\n",
    "\n",
    "Your response shall summarize the key aspects of the anime, taking into account that there are several reviews left by as many users, but without explicitly mentioning the amount of reviews left. Please be relatively measured with the way you present negative criticism.\n",
    "You shall also take into account the proportion difference between positive and negative feedbacks.\n",
    "\n",
    "Return your response as a JSON object containing up to two fields:\n",
    "If no positive feedback is provided, ignore the generation of the sentence, and proceed to the next point.\n",
    "- positive: a single string summarizing the positive aspects raised, starting with \"Users liked:\"\n",
    "If no negative aspect is mentioned, or if they are disproportionately rare compared to the positive feedback, ignore the generation of the sentence. Otherwise, proceed as follows :\n",
    "- negative: a single string summarizing the negative aspects raised, starting with \"Users disliked:\".\n",
    "\n",
    "{{format_instructions}}\n",
    "\"\"\"\n",
    "\n",
    "# Define system prompt\n",
    "start_prompt = ChatPromptTemplate.from_messages([\n",
    "    (\"system\", sys_prompt),\n",
    "    (\"user\", \"{text}\")\n",
    "])"
   ]
  },
  {
   "cell_type": "code",
   "execution_count": 62,
   "id": "28fa6137",
   "metadata": {},
   "outputs": [
    {
     "name": "stdout",
     "output_type": "stream",
     "text": [
      "env: MISTRAL_API_KEY=\n"
     ]
    }
   ],
   "source": [
    "%env MISTRAL_API_KEY="
   ]
  },
  {
   "cell_type": "code",
   "execution_count": 35,
   "id": "01c057cc",
   "metadata": {},
   "outputs": [],
   "source": [
    "llm = ChatMistralAI(model=\"mistral-medium-latest\")"
   ]
  },
  {
   "cell_type": "code",
   "execution_count": 36,
   "id": "76d91d6e",
   "metadata": {},
   "outputs": [],
   "source": [
    "model_llm = start_prompt | llm "
   ]
  },
  {
   "cell_type": "code",
   "execution_count": 56,
   "id": "282c7bf0",
   "metadata": {},
   "outputs": [],
   "source": [
    "test_reviews = reviews[reviews[\"anime_uid\"] == 20707]"
   ]
  },
  {
   "cell_type": "code",
   "execution_count": 42,
   "id": "178adce7",
   "metadata": {},
   "outputs": [
    {
     "data": {
      "text/html": [
       "<div>\n",
       "<style scoped>\n",
       "    .dataframe tbody tr th:only-of-type {\n",
       "        vertical-align: middle;\n",
       "    }\n",
       "\n",
       "    .dataframe tbody tr th {\n",
       "        vertical-align: top;\n",
       "    }\n",
       "\n",
       "    .dataframe thead th {\n",
       "        text-align: right;\n",
       "    }\n",
       "</style>\n",
       "<table border=\"1\" class=\"dataframe\">\n",
       "  <thead>\n",
       "    <tr style=\"text-align: right;\">\n",
       "      <th></th>\n",
       "      <th>profile</th>\n",
       "      <th>anime_uid</th>\n",
       "      <th>text</th>\n",
       "      <th>score</th>\n",
       "      <th>classifications</th>\n",
       "    </tr>\n",
       "  </thead>\n",
       "  <tbody>\n",
       "    <tr>\n",
       "      <th>60319</th>\n",
       "      <td>OnlyHentaiHD</td>\n",
       "      <td>11997</td>\n",
       "      <td>[' more pics Overall 8 Story 6 Animation 8 Sou...</td>\n",
       "      <td>8</td>\n",
       "      <td>[{'label': 'POSITIVE', 'score': 0.988199710845...</td>\n",
       "    </tr>\n",
       "    <tr>\n",
       "      <th>60665</th>\n",
       "      <td>mabiniss1</td>\n",
       "      <td>11997</td>\n",
       "      <td>[' more pics Overall 6 Story 5 Animation 6 Sou...</td>\n",
       "      <td>6</td>\n",
       "      <td>[{'label': 'NEGATIVE', 'score': 0.998758196830...</td>\n",
       "    </tr>\n",
       "    <tr>\n",
       "      <th>60666</th>\n",
       "      <td>I_Love_Kissxsis</td>\n",
       "      <td>11997</td>\n",
       "      <td>[' more pics Overall 7 Story 7 Animation 9 Sou...</td>\n",
       "      <td>7</td>\n",
       "      <td>[{'label': 'POSITIVE', 'score': 0.995327234268...</td>\n",
       "    </tr>\n",
       "  </tbody>\n",
       "</table>\n",
       "</div>"
      ],
      "text/plain": [
       "               profile  anime_uid  \\\n",
       "60319     OnlyHentaiHD      11997   \n",
       "60665        mabiniss1      11997   \n",
       "60666  I_Love_Kissxsis      11997   \n",
       "\n",
       "                                                    text  score  \\\n",
       "60319  [' more pics Overall 8 Story 6 Animation 8 Sou...      8   \n",
       "60665  [' more pics Overall 6 Story 5 Animation 6 Sou...      6   \n",
       "60666  [' more pics Overall 7 Story 7 Animation 9 Sou...      7   \n",
       "\n",
       "                                         classifications  \n",
       "60319  [{'label': 'POSITIVE', 'score': 0.988199710845...  \n",
       "60665  [{'label': 'NEGATIVE', 'score': 0.998758196830...  \n",
       "60666  [{'label': 'POSITIVE', 'score': 0.995327234268...  "
      ]
     },
     "execution_count": 42,
     "metadata": {},
     "output_type": "execute_result"
    }
   ],
   "source": [
    "test_reviews.head()"
   ]
  },
  {
   "cell_type": "code",
   "execution_count": 53,
   "id": "0fb08501",
   "metadata": {},
   "outputs": [
    {
     "data": {
      "text/plain": [
       "pandas.core.series.Series"
      ]
     },
     "execution_count": 53,
     "metadata": {},
     "output_type": "execute_result"
    }
   ],
   "source": [
    "type(test_reviews['text'])"
   ]
  },
  {
   "cell_type": "code",
   "execution_count": 57,
   "id": "b58758ea",
   "metadata": {},
   "outputs": [],
   "source": [
    "input = test_reviews['text']"
   ]
  },
  {
   "cell_type": "code",
   "execution_count": 59,
   "id": "3c1dafd1",
   "metadata": {},
   "outputs": [
    {
     "name": "stdout",
     "output_type": "stream",
     "text": [
      "Users liked: the animation and sound, which were highlighted as strong points.\n",
      "Users disliked: the story, which was criticized for being weak or unengaging.\n",
      "Response generated by Mistral AI, based on 3 reviews\n",
      "```json\n",
      "{\n",
      "  \"positive\": \"Users liked: the animation and sound, which were highlighted as strong points.\",\n",
      "  \"negative\": \"Users disliked: the story, which was criticized for being weak or unengaging.\"\n",
      "}\n",
      "```\n"
     ]
    }
   ],
   "source": [
    "response = model_llm.invoke({\"text\": input, \"format_instructions\": parser.get_format_instructions()})\n",
    "input_positive_clean = parser.parse(response.content).positive\n",
    "input_negative_clean = parser.parse(response.content).negative\n",
    "\n",
    "\n",
    "if input_positive_clean:\n",
    "    if len(test_reviews) ==0:\n",
    "        print(\"This anime has no review yet! You can watch it and review it yourself!\")\n",
    "    else:\n",
    "        print(input_positive_clean)\n",
    "        print(input_negative_clean)\n",
    "        print(f'Response generated by Mistral AI, based on {len(test_reviews)} reviews')\n",
    "        print(response.content)"
   ]
  },
  {
   "cell_type": "code",
   "execution_count": 60,
   "id": "4dfa5995",
   "metadata": {},
   "outputs": [],
   "source": [
    "        output_positive = parser.parse(response.content).positive\n",
    "        output_negative = parser.parse(response.content).negative\n",
    "        ai_notice = f'Response generated by Mistral AI, based on {len(input)} reviews'\n",
    "        output = [output_positive, output_negative, ai_notice]"
   ]
  },
  {
   "cell_type": "code",
   "execution_count": 61,
   "id": "16b51a25",
   "metadata": {},
   "outputs": [
    {
     "data": {
      "text/plain": [
       "['Users liked: the animation and sound, which were highlighted as strong points.',\n",
       " 'Users disliked: the story, which was criticized for being weak or unengaging.',\n",
       " 'Response generated by Mistral AI, based on 3 reviews']"
      ]
     },
     "execution_count": 61,
     "metadata": {},
     "output_type": "execute_result"
    }
   ],
   "source": [
    "output"
   ]
  },
  {
   "cell_type": "code",
   "execution_count": null,
   "id": "ab4621b9",
   "metadata": {},
   "outputs": [],
   "source": []
  }
 ],
 "metadata": {
  "kernelspec": {
   "display_name": "DataScience",
   "language": "python",
   "name": "python3"
  },
  "language_info": {
   "codemirror_mode": {
    "name": "ipython",
    "version": 3
   },
   "file_extension": ".py",
   "mimetype": "text/x-python",
   "name": "python",
   "nbconvert_exporter": "python",
   "pygments_lexer": "ipython3",
   "version": "3.12.3"
  }
 },
 "nbformat": 4,
 "nbformat_minor": 5
}
