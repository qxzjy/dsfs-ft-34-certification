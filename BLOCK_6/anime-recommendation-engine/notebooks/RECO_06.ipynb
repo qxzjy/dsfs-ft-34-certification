{
 "cells": [
  {
   "cell_type": "markdown",
   "id": "008d338d",
   "metadata": {},
   "source": [
    "# 1) Import library"
   ]
  },
  {
   "cell_type": "code",
   "execution_count": 1,
   "id": "b231161f",
   "metadata": {},
   "outputs": [
    {
     "name": "stderr",
     "output_type": "stream",
     "text": [
      "/home/lyxor/miniconda3/envs/anime/lib/python3.12/site-packages/tqdm/auto.py:21: TqdmWarning: IProgress not found. Please update jupyter and ipywidgets. See https://ipywidgets.readthedocs.io/en/stable/user_install.html\n",
      "  from .autonotebook import tqdm as notebook_tqdm\n"
     ]
    },
    {
     "name": "stdout",
     "output_type": "stream",
     "text": [
      "Using cuda device\n"
     ]
    }
   ],
   "source": [
    "import pandas as pd\n",
    "import re\n",
    "from sentence_transformers import SentenceTransformer\n",
    "from sklearn.metrics.pairwise import cosine_similarity\n",
    "from transformers import AutoModel  # NOT NEEDED FOR THE APP\n",
    "import ast\n",
    "\n",
    "\n",
    "import torch\n",
    "device = torch.device(\"cuda\" if torch.cuda.is_available() else \"cpu\")\n",
    "print(f\"Using {device} device\")"
   ]
  },
  {
   "cell_type": "markdown",
   "id": "7120f294",
   "metadata": {},
   "source": [
    "# 2) Import files "
   ]
  },
  {
   "cell_type": "code",
   "execution_count": 2,
   "id": "b58987e1",
   "metadata": {},
   "outputs": [],
   "source": [
    "# profiles \n",
    "df_profiles = pd.read_csv(\"https://anime-recommendation-engine.s3.eu-west-3.amazonaws.com/data/profiles_clean.csv\")"
   ]
  },
  {
   "cell_type": "code",
   "execution_count": 3,
   "id": "ca7d988c",
   "metadata": {},
   "outputs": [],
   "source": [
    "# synopsis embedding MiniLM\n",
    "df_MiniLM = pd.read_json('https://anime-recommendation-engine.s3.eu-west-3.amazonaws.com/data/synopsis_embedding.json')"
   ]
  },
  {
   "cell_type": "code",
   "execution_count": null,
   "id": "c377e6cd",
   "metadata": {},
   "outputs": [],
   "source": [
    "# NOT NEEDED FOR THE APP :  synopsis embedding Jina_1024   \n",
    "df_jina_1024= pd.read_json('https://anime-recommendation-engine.s3.eu-west-3.amazonaws.com/data/synopsis_embedding_jina_1024.json')"
   ]
  },
  {
   "cell_type": "markdown",
   "id": "f7b8f422",
   "metadata": {},
   "source": [
    "# 3) preprocess"
   ]
  },
  {
   "cell_type": "code",
   "execution_count": 4,
   "id": "3ebd8f29",
   "metadata": {},
   "outputs": [],
   "source": [
    "def preprocess_user(df):\n",
    "    df[\"favorites_anime\"] = df[\"favorites_anime\"].apply(ast.literal_eval)\n",
    "    df_favorites = df[[\"profile\", \"favorites_anime\"]].copy().explode(\"favorites_anime\")\n",
    "    df_favorites = df_favorites.dropna(subset=[\"favorites_anime\"])\n",
    "    df_favorites[\"favorites_anime\"] = df_favorites[\"favorites_anime\"].astype(\"int64\")\n",
    "\n",
    "    return df_favorites"
   ]
  },
  {
   "cell_type": "code",
   "execution_count": 5,
   "id": "68e8c02d",
   "metadata": {},
   "outputs": [],
   "source": [
    "df_favorites = preprocess_user(df_profiles)"
   ]
  },
  {
   "cell_type": "markdown",
   "id": "b4e024cf",
   "metadata": {},
   "source": [
    "# MiniLM"
   ]
  },
  {
   "cell_type": "code",
   "execution_count": 6,
   "id": "cbb3bc35",
   "metadata": {},
   "outputs": [],
   "source": [
    "Model_MiniLM = SentenceTransformer(\"sentence-transformers/all-MiniLM-L6-v2\")"
   ]
  },
  {
   "cell_type": "code",
   "execution_count": 7,
   "id": "130fc4b3",
   "metadata": {},
   "outputs": [],
   "source": [
    "# similarity >= 0.5  \n",
    "def search_closest_by_content_simi_50(content, model, df_emb, df_favorites, filter):\n",
    "\n",
    "        content = re.sub(\"[^A-Za-z]+\", \" \", str(content)).lower()\n",
    "        content = model.encode(content)\n",
    "\n",
    "        # cosine similarity : given embedding VS all embeddings\n",
    "        similarities = cosine_similarity([content], list(df_emb[filter]))[0]\n",
    "\n",
    "        # Store similarity\n",
    "        similarity_df = pd.DataFrame({'uid': df_emb['uid'], 'similarity': similarities})\n",
    "\n",
    "        # filter by similarity\n",
    "        closest = similarity_df[similarity_df['similarity'] >= 0.5].sort_values(by='similarity', ascending=False)\n",
    "\n",
    "        df_merged = df_favorites.merge(closest, left_on='favorites_anime', right_on='uid', how='inner')\n",
    "        grouped_df = df_merged.groupby('profile').agg({'uid': list}).reset_index()\n",
    "\n",
    "        return grouped_df\n",
    "\n",
    "\n",
    "# Top5_similarity  # NOT NEEDED FOR THE APP : \n",
    "def search_closest_by_content_top_5(content, model, df_emb, df_favorites, filter):\n",
    "\n",
    "        content = re.sub(\"[^A-Za-z]+\", \" \", str(content)).lower()\n",
    "        content = model.encode(content)\n",
    "\n",
    "        # cosine similarity : given embedding VS all embeddings\n",
    "        similarities = cosine_similarity([content], list(df_emb[filter]))[0]\n",
    "\n",
    "        # Store similarity\n",
    "        similarity_df = pd.DataFrame({'uid': df_emb['uid'], 'similarity': similarities})\n",
    "\n",
    "        # filter by similarity.\n",
    "        closest = similarity_df.sort_values(by='similarity', ascending=False).head(5)\n",
    "\n",
    "\n",
    "        df_merged = df_favorites.merge(closest, left_on='favorites_anime', right_on='uid', how='inner')\n",
    "        grouped_df = df_merged.groupby('profile').agg({'uid': list}).reset_index()\n",
    "\n",
    "        return grouped_df\n"
   ]
  },
  {
   "cell_type": "code",
   "execution_count": 10,
   "id": "fd65cbd2",
   "metadata": {},
   "outputs": [
    {
     "data": {
      "text/plain": [
       "47"
      ]
     },
     "metadata": {},
     "output_type": "display_data"
    },
    {
     "data": {
      "text/plain": [
       "11"
      ]
     },
     "metadata": {},
     "output_type": "display_data"
    }
   ],
   "source": [
    "new_content = \"\"\"During their decade-long quest to defeat the Demon King, the members of the hero's party—Himmel himself, the priest Heiter, the dwarf warrior Eisen, and the elven mage Frieren—forge bonds through adventures and battles, creating unforgettable precious memories for most of them.\n",
    "\n",
    "However, the time that Frieren spends with her comrades is equivalent to merely a fraction of her life, which has lasted over a thousand years. When the party disbands after their victory, Frieren casually returns to her \"usual\" routine of collecting spells across the continent. Due to her different sense of time, she seemingly holds no strong feelings toward the experiences she went through.\n",
    "\n",
    "As the years pass, Frieren gradually realizes how her days in the hero's party truly impacted her. Witnessing the deaths of two of her former companions, Frieren begins to regret having taken their presence for granted; she vows to better understand humans and create real personal connections. Although the story of that once memorable journey has long ended, a new tale is about to begin.\"\"\"\n",
    "\n",
    "\n",
    "filter = 'synopsis_embedding'\n",
    "df_emb = df_MiniLM\n",
    "df_favorites = df_favorites\n",
    "model = Model_MiniLM\n",
    "\n",
    "# call the function and store in DF   # NOT NEEDED FOR THE APP : \n",
    "Top_5_df = pd.DataFrame(search_closest_by_content_top_5(new_content, model, df_emb, df_favorites, filter))\n",
    "display(Top_5_df.shape[0])\n",
    "\n",
    "\n",
    "# call the function and store in DF\n",
    "simi_50_df = pd.DataFrame(search_closest_by_content_simi_50(new_content, model, df_emb, df_favorites, filter))\n",
    "display(simi_50_df.shape[0])\n"
   ]
  },
  {
   "cell_type": "markdown",
   "id": "1f7eb831",
   "metadata": {},
   "source": [
    " # jina emb = 1024  (abandonned)"
   ]
  },
  {
   "cell_type": "code",
   "execution_count": 10,
   "id": "4705f9a5",
   "metadata": {},
   "outputs": [
    {
     "name": "stderr",
     "output_type": "stream",
     "text": [
      "/home/lyxor/miniconda3/envs/DeepLearn/lib/python3.10/site-packages/flash_attn/ops/triton/layer_norm.py:985: FutureWarning: `torch.cuda.amp.custom_fwd(args...)` is deprecated. Please use `torch.amp.custom_fwd(args..., device_type='cuda')` instead.\n",
      "  def forward(\n",
      "/home/lyxor/miniconda3/envs/DeepLearn/lib/python3.10/site-packages/flash_attn/ops/triton/layer_norm.py:1044: FutureWarning: `torch.cuda.amp.custom_bwd(args...)` is deprecated. Please use `torch.amp.custom_bwd(args..., device_type='cuda')` instead.\n",
      "  def backward(ctx, dout, *args):\n"
     ]
    }
   ],
   "source": [
    "# Initialize the model\n",
    "Model_jina_1024 = AutoModel.from_pretrained(\"jinaai/jina-embeddings-v3\", trust_remote_code=True).to('cuda')"
   ]
  },
  {
   "cell_type": "code",
   "execution_count": 11,
   "id": "dc122e1c",
   "metadata": {},
   "outputs": [],
   "source": [
    "# Function to get embeddings\n",
    "def get_embeddings(text):\n",
    "    embeddings = model.encode([text], task=\"text-matching\")\n",
    "    return embeddings[0]\n",
    "\n",
    "# Top5_similarity\n",
    "def search_closest_by_content_jina(content, model, df_emb, df_favorites, filter):\n",
    "\n",
    "        content = re.sub(\"[^A-Za-z]+\", \" \", str(content)).lower()\n",
    "        content = get_embeddings(content)\n",
    "\n",
    "        # cosine similarity : given embedding VS all embeddings\n",
    "        similarities = cosine_similarity([content], list(df_emb[filter]))[0]\n",
    "\n",
    "        # Store similarity\n",
    "        similarity_df = pd.DataFrame({'uid': df_emb['uid'], 'similarity': similarities})\n",
    "\n",
    "        # filter by similarity. given_uid exclude\n",
    "        closest = similarity_df.sort_values(by='similarity', ascending=False).head(5)\n",
    "\n",
    "\n",
    "        df_merged = df_favorites.merge(closest, left_on='favorites_anime', right_on='uid', how='inner')\n",
    "        grouped_df = df_merged.groupby('profile').agg({'uid': list}).reset_index()\n",
    "\n",
    "        return grouped_df"
   ]
  },
  {
   "cell_type": "code",
   "execution_count": 16,
   "id": "178da2cd",
   "metadata": {},
   "outputs": [
    {
     "data": {
      "text/plain": [
       "393"
      ]
     },
     "metadata": {},
     "output_type": "display_data"
    }
   ],
   "source": [
    "filter = 'synopsis_embedding'\n",
    "df_emb = df_jina_1024\n",
    "df_favorites = df_favorites\n",
    "model = Model_jina_1024\n",
    "\n",
    "\n",
    "# call the function and store in DF\n",
    "jina_df = pd.DataFrame(search_closest_by_content_jina(new_content, model, df_emb, df_favorites, filter))\n",
    "display(jina_df.shape[0])"
   ]
  },
  {
   "cell_type": "markdown",
   "id": "eaa40f96",
   "metadata": {},
   "source": [
    "### we will stay on the miniLM embedding, for calculation and standardise with other functions.  Similarity >= 0.5"
   ]
  }
 ],
 "metadata": {
  "kernelspec": {
   "display_name": "anime",
   "language": "python",
   "name": "python3"
  },
  "language_info": {
   "codemirror_mode": {
    "name": "ipython",
    "version": 3
   },
   "file_extension": ".py",
   "mimetype": "text/x-python",
   "name": "python",
   "nbconvert_exporter": "python",
   "pygments_lexer": "ipython3",
   "version": "3.12.9"
  }
 },
 "nbformat": 4,
 "nbformat_minor": 5
}
