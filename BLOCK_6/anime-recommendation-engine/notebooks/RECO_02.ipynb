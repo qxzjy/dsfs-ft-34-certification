{
 "cells": [
  {
   "cell_type": "markdown",
   "id": "91e97bba",
   "metadata": {},
   "source": [
    "# User-based recommendation on user clusters (based on likes)"
   ]
  },
  {
   "cell_type": "markdown",
   "id": "354d6832",
   "metadata": {},
   "source": [
    "## Import"
   ]
  },
  {
   "cell_type": "code",
   "execution_count": 2,
   "id": "178a0273",
   "metadata": {},
   "outputs": [],
   "source": [
    "import pandas as pd\n",
    "import ast"
   ]
  },
  {
   "cell_type": "code",
   "execution_count": 107,
   "id": "1e187648",
   "metadata": {},
   "outputs": [
    {
     "data": {
      "text/html": [
       "<div>\n",
       "<style scoped>\n",
       "    .dataframe tbody tr th:only-of-type {\n",
       "        vertical-align: middle;\n",
       "    }\n",
       "\n",
       "    .dataframe tbody tr th {\n",
       "        vertical-align: top;\n",
       "    }\n",
       "\n",
       "    .dataframe thead th {\n",
       "        text-align: right;\n",
       "    }\n",
       "</style>\n",
       "<table border=\"1\" class=\"dataframe\">\n",
       "  <thead>\n",
       "    <tr style=\"text-align: right;\">\n",
       "      <th></th>\n",
       "      <th>profile</th>\n",
       "      <th>gender</th>\n",
       "      <th>birthday</th>\n",
       "      <th>favorites_anime</th>\n",
       "      <th>link</th>\n",
       "      <th>age</th>\n",
       "    </tr>\n",
       "  </thead>\n",
       "  <tbody>\n",
       "    <tr>\n",
       "      <th>0</th>\n",
       "      <td>DesolatePsyche</td>\n",
       "      <td>Male</td>\n",
       "      <td>Oct 2, 1994</td>\n",
       "      <td>['33352', '25013', '5530', '33674', '1482', '2...</td>\n",
       "      <td>https://myanimelist.net/profile/DesolatePsyche</td>\n",
       "      <td>26.0</td>\n",
       "    </tr>\n",
       "    <tr>\n",
       "      <th>1</th>\n",
       "      <td>baekbeans</td>\n",
       "      <td>Female</td>\n",
       "      <td>Nov 10, 2000</td>\n",
       "      <td>['11061', '31964', '853', '20583', '918', '925...</td>\n",
       "      <td>https://myanimelist.net/profile/baekbeans</td>\n",
       "      <td>20.0</td>\n",
       "    </tr>\n",
       "  </tbody>\n",
       "</table>\n",
       "</div>"
      ],
      "text/plain": [
       "          profile  gender      birthday  \\\n",
       "0  DesolatePsyche    Male   Oct 2, 1994   \n",
       "1       baekbeans  Female  Nov 10, 2000   \n",
       "\n",
       "                                     favorites_anime  \\\n",
       "0  ['33352', '25013', '5530', '33674', '1482', '2...   \n",
       "1  ['11061', '31964', '853', '20583', '918', '925...   \n",
       "\n",
       "                                             link   age  \n",
       "0  https://myanimelist.net/profile/DesolatePsyche  26.0  \n",
       "1       https://myanimelist.net/profile/baekbeans  20.0  "
      ]
     },
     "metadata": {},
     "output_type": "display_data"
    }
   ],
   "source": [
    "data_profiles = pd.read_csv(\"https://anime-recommendation-engine.s3.eu-west-3.amazonaws.com/data/profiles_clean.csv\")\n",
    "\n",
    "display(data_profiles.head(2))"
   ]
  },
  {
   "cell_type": "markdown",
   "id": "64e157bd",
   "metadata": {},
   "source": [
    "## Preprocessing"
   ]
  },
  {
   "cell_type": "code",
   "execution_count": 47,
   "id": "4c1c5587",
   "metadata": {},
   "outputs": [
    {
     "data": {
      "text/html": [
       "<div>\n",
       "<style scoped>\n",
       "    .dataframe tbody tr th:only-of-type {\n",
       "        vertical-align: middle;\n",
       "    }\n",
       "\n",
       "    .dataframe tbody tr th {\n",
       "        vertical-align: top;\n",
       "    }\n",
       "\n",
       "    .dataframe thead th {\n",
       "        text-align: right;\n",
       "    }\n",
       "</style>\n",
       "<table border=\"1\" class=\"dataframe\">\n",
       "  <thead>\n",
       "    <tr style=\"text-align: right;\">\n",
       "      <th></th>\n",
       "      <th>profile</th>\n",
       "      <th>favorites_anime</th>\n",
       "      <th>is_favorite</th>\n",
       "    </tr>\n",
       "  </thead>\n",
       "  <tbody>\n",
       "    <tr>\n",
       "      <th>0</th>\n",
       "      <td>DesolatePsyche</td>\n",
       "      <td>33352</td>\n",
       "      <td>1</td>\n",
       "    </tr>\n",
       "    <tr>\n",
       "      <th>0</th>\n",
       "      <td>DesolatePsyche</td>\n",
       "      <td>25013</td>\n",
       "      <td>1</td>\n",
       "    </tr>\n",
       "  </tbody>\n",
       "</table>\n",
       "</div>"
      ],
      "text/plain": [
       "          profile  favorites_anime  is_favorite\n",
       "0  DesolatePsyche            33352            1\n",
       "0  DesolatePsyche            25013            1"
      ]
     },
     "metadata": {},
     "output_type": "display_data"
    }
   ],
   "source": [
    "data_profiles[\"favorites_anime\"] = data_profiles[\"favorites_anime\"].apply(ast.literal_eval)\n",
    "\n",
    "df_als_favorite = data_profiles[[\"profile\", \"favorites_anime\"]].copy().explode(\"favorites_anime\")\n",
    "df_als_favorite = df_als_favorite.dropna(subset=[\"favorites_anime\"])\n",
    "df_als_favorite[\"favorites_anime\"] = df_als_favorite[\"favorites_anime\"].astype(\"int64\")\n",
    "df_als_favorite[\"is_favorite\"] = 1\n",
    "\n",
    "display(df_als_favorite.head(2))"
   ]
  },
  {
   "cell_type": "code",
   "execution_count": null,
   "id": "e9ad55f4",
   "metadata": {},
   "outputs": [
    {
     "data": {
      "text/html": [
       "<div>\n",
       "<style scoped>\n",
       "    .dataframe tbody tr th:only-of-type {\n",
       "        vertical-align: middle;\n",
       "    }\n",
       "\n",
       "    .dataframe tbody tr th {\n",
       "        vertical-align: top;\n",
       "    }\n",
       "\n",
       "    .dataframe thead th {\n",
       "        text-align: right;\n",
       "    }\n",
       "</style>\n",
       "<table border=\"1\" class=\"dataframe\">\n",
       "  <thead>\n",
       "    <tr style=\"text-align: right;\">\n",
       "      <th></th>\n",
       "      <th>profile</th>\n",
       "      <th>favorites_anime</th>\n",
       "      <th>is_favorite</th>\n",
       "    </tr>\n",
       "  </thead>\n",
       "  <tbody>\n",
       "    <tr>\n",
       "      <th>0</th>\n",
       "      <td>-----noname-----</td>\n",
       "      <td>1</td>\n",
       "      <td>0</td>\n",
       "    </tr>\n",
       "    <tr>\n",
       "      <th>1</th>\n",
       "      <td>-----noname-----</td>\n",
       "      <td>6</td>\n",
       "      <td>0</td>\n",
       "    </tr>\n",
       "  </tbody>\n",
       "</table>\n",
       "</div>"
      ],
      "text/plain": [
       "            profile  favorites_anime  is_favorite\n",
       "0  -----noname-----                1            0\n",
       "1  -----noname-----                6            0"
      ]
     },
     "metadata": {},
     "output_type": "display_data"
    }
   ],
   "source": [
    "df_profile_temp = pd.DataFrame(data=df_als_favorite[\"profile\"].unique(), columns=[\"profile\"])\n",
    "df_top_200_animes = df_als_favorite[\"favorites_anime\"].value_counts().reset_index(name=\"count\").iloc[:200,:]\n",
    "df_favorites_anime_temp = pd.DataFrame(data=df_top_200_animes[\"favorites_anime\"], columns=[\"favorites_anime\"])\n",
    "df_temp = df_profile_temp.merge(df_favorites_anime_temp, how=\"cross\")\n",
    "\n",
    "df_als_favorite = df_als_favorite.merge(df_temp, on=[\"profile\",\"favorites_anime\"], how=\"outer\")\n",
    "df_als_favorite[\"is_favorite\"] = df_als_favorite[\"is_favorite\"].fillna(0).astype(\"Int64\")\n",
    "\n",
    "display(df_als_favorite.head(2))"
   ]
  },
  {
   "cell_type": "code",
   "execution_count": null,
   "id": "e667797c",
   "metadata": {},
   "outputs": [],
   "source": [
    "df_als_favorite.to_csv(\"../data/als_is_favorite.csv\", index=False)"
   ]
  },
  {
   "cell_type": "markdown",
   "id": "ec4b60a6",
   "metadata": {},
   "source": [
    "## Spark"
   ]
  },
  {
   "cell_type": "markdown",
   "id": "4356f245",
   "metadata": {},
   "source": [
    "For now, this part have to be executed in a ad-hoc Jupyter environment with PySpark, following those steps (disclaimer : you need to install and configure PySpark first) :\n",
    "\n",
    "\n",
    "```shell\n",
    "pyspark --name anime-recommendation-engine --driver-java-options -Djava.security.manager=allow\n",
    "```\n",
    "\n",
    "```python\n",
    "sc = SparkSession.builder.getOrCreate()\n",
    "```\n",
    "\n",
    "[Medium article simple ALS](https://medium.com/@patelneha1495/recommendation-system-in-python-using-als-algorithm-and-apache-spark-27aca08eaab3)\n",
    "\n",
    "[Medium article advanced ALS](https://medium.com/@brunoborges_38708/recommender-system-using-als-in-pyspark-10329e1d1ee1)\n"
   ]
  },
  {
   "cell_type": "code",
   "execution_count": 10,
   "id": "39a7a888",
   "metadata": {},
   "outputs": [],
   "source": [
    "from pyspark.sql import SparkSession\n",
    "from pyspark.sql.functions import col, rank\n",
    "from pyspark.sql.window import Window\n",
    "\n",
    "from pyspark.ml.recommendation import ALS\n",
    "from pyspark.ml.evaluation import RegressionEvaluator\n",
    "from pyspark.ml.feature import StringIndexer\n",
    "from pyspark.ml.tuning import ParamGridBuilder, CrossValidator"
   ]
  },
  {
   "cell_type": "code",
   "execution_count": 12,
   "id": "988bc574",
   "metadata": {},
   "outputs": [],
   "source": [
    "sc = SparkSession.builder.getOrCreate()"
   ]
  },
  {
   "cell_type": "code",
   "execution_count": 14,
   "id": "c78d9588-04db-47bb-9657-5464faf43ca1",
   "metadata": {},
   "outputs": [],
   "source": [
    "df_als_is_favorite = spark.read.csv(\"../data/als_is_favorite.csv\", header=True)\n",
    "df_als_is_favorite = df_als_is_favorite.withColumn(\"favorites_anime\", df_als_is_favorite.favorites_anime.cast(\"int\"))\n",
    "df_als_is_favorite = df_als_is_favorite.withColumn(\"is_favorite\", df_als_is_favorite.is_favorite.cast(\"int\"))\n",
    "\n",
    "df_als_is_favorite.show()"
   ]
  },
  {
   "cell_type": "code",
   "execution_count": null,
   "id": "b28e3852",
   "metadata": {},
   "outputs": [],
   "source": [
    "def pyspark_df_with_train_test_split(df) :\n",
    "    \n",
    "    indexer = StringIndexer(inputCol=\"profile\", outputCol=\"profile_index\")\n",
    "\n",
    "    df_spark = indexer.fit(df).transform(df)\n",
    "\n",
    "    (training,test) = df_spark.randomSplit([0.8, 0.2])\n",
    "\n",
    "    return df_spark, training, test"
   ]
  },
  {
   "cell_type": "code",
   "execution_count": null,
   "id": "8cffe82c",
   "metadata": {},
   "outputs": [],
   "source": [
    "def als_tuning_and_predict(train, test, user_col, item_col, rating_col) :\n",
    "\n",
    "    als = ALS(rank=10, regParam=.05, userCol=user_col+\"_index\", itemCol=item_col, ratingCol=rating_col,\n",
    "            coldStartStrategy=\"drop\", nonnegative=True)\n",
    "\n",
    "    evaluator = RegressionEvaluator(metricName=\"rmse\", labelCol=rating_col, predictionCol=\"prediction\")\n",
    "\n",
    "    model = als.fit(train)\n",
    "    \n",
    "    predictions = model.transform(test)\n",
    "    rmse = evaluator.evaluate(predictions)\n",
    "    \n",
    "    print(\"RMSE=\"+str(rmse))\n",
    "\n",
    "    return model"
   ]
  },
  {
   "cell_type": "code",
   "execution_count": 34,
   "id": "288b543c",
   "metadata": {},
   "outputs": [],
   "source": [
    "def create_predictions_pandas_dataframe(model, df_spark, user_col, item_col, rating_col) :\n",
    "    \n",
    "    recs = model.recommendForAllUsers(10).toPandas()\n",
    "\n",
    "    nrecs = recs.recommendations.apply(pd.Series)\\\n",
    "                .merge(recs, right_index = True, left_index = True)\\\n",
    "                .drop([\"recommendations\"], axis = 1)\\\n",
    "                .melt(id_vars = [user_col+\"_index\"], value_name = \"recommendation\")\\\n",
    "                .drop(\"variable\", axis = 1)\\\n",
    "                .dropna()\n",
    "    nrecs = nrecs.sort_values(user_col+\"_index\")\n",
    "    nrecs = pd.concat([nrecs[\"recommendation\"].apply(pd.Series), nrecs[user_col+\"_index\"]], axis = 1)\n",
    "    nrecs.columns = [item_col, rating_col, user_col]\n",
    "\n",
    "    md = df_spark.select(df_spark[user_col],df_spark[user_col+\"_index\"],df_spark[item_col])\n",
    "    md = md.toPandas()\n",
    "\n",
    "    dict1 = dict(zip(md[user_col+\"_index\"],md[user_col]))\n",
    "\n",
    "    nrecs[user_col] = nrecs[user_col].map(dict1)\n",
    "    nrecs = nrecs.sort_values(user_col)\n",
    "    nrecs.reset_index(drop=True, inplace=True)\n",
    "    \n",
    "    df_recommendations = nrecs[[user_col,item_col]]\n",
    "    df_recommendations[item_col] = df_recommendations[item_col].astype(\"int64\")\n",
    "\n",
    "    df_recommendations = df_recommendations[item_col].groupby([df_recommendations[user_col]]).apply(list).reset_index()\n",
    "\n",
    "    return df_recommendations"
   ]
  },
  {
   "cell_type": "markdown",
   "id": "0da4ca00-2ae4-4d3c-bb59-02970a7adbdb",
   "metadata": {},
   "source": [
    "### Is favorite"
   ]
  },
  {
   "cell_type": "code",
   "execution_count": 36,
   "id": "1822615d-c9c5-4186-9599-aa92976828e6",
   "metadata": {},
   "outputs": [
    {
     "name": "stderr",
     "output_type": "stream",
     "text": [
      "                                                                                \r"
     ]
    }
   ],
   "source": [
    "df_sp_is_favorite, train, test = pyspark_df_with_train_test_split(df_als_is_favorite, 0.2, \"profile\",\n",
    "                                                                  \"favorites_anime\", \"is_favorite\", False)"
   ]
  },
  {
   "cell_type": "code",
   "execution_count": 38,
   "id": "49ad3ec7-7145-423a-a69e-75aec633c579",
   "metadata": {
    "scrolled": true
   },
   "outputs": [
    {
     "name": "stderr",
     "output_type": "stream",
     "text": [
      "25/06/03 15:07:11 WARN DAGScheduler: Broadcasting large task binary with size 1250.1 KiB\n",
      "25/06/03 15:07:12 WARN DAGScheduler: Broadcasting large task binary with size 1252.5 KiB\n",
      "25/06/03 15:07:13 WARN DAGScheduler: Broadcasting large task binary with size 1254.0 KiB\n",
      "25/06/03 15:07:14 WARN DAGScheduler: Broadcasting large task binary with size 1255.3 KiB\n",
      "25/06/03 15:07:15 WARN DAGScheduler: Broadcasting large task binary with size 1254.2 KiB\n",
      "25/06/03 15:07:15 WARN DAGScheduler: Broadcasting large task binary with size 1255.5 KiB\n",
      "25/06/03 15:07:15 WARN DAGScheduler: Broadcasting large task binary with size 1256.3 KiB\n",
      "25/06/03 15:07:16 WARN DAGScheduler: Broadcasting large task binary with size 1259.4 KiB\n",
      "25/06/03 15:07:16 WARN DAGScheduler: Broadcasting large task binary with size 1260.8 KiB\n",
      "25/06/03 15:07:16 WARN DAGScheduler: Broadcasting large task binary with size 1262.2 KiB\n",
      "25/06/03 15:07:16 WARN DAGScheduler: Broadcasting large task binary with size 1263.6 KiB\n",
      "25/06/03 15:07:16 WARN DAGScheduler: Broadcasting large task binary with size 1265.0 KiB\n",
      "25/06/03 15:07:16 WARN DAGScheduler: Broadcasting large task binary with size 1266.4 KiB\n",
      "25/06/03 15:07:17 WARN DAGScheduler: Broadcasting large task binary with size 1267.8 KiB\n",
      "25/06/03 15:07:17 WARN DAGScheduler: Broadcasting large task binary with size 1269.2 KiB\n",
      "25/06/03 15:07:17 WARN DAGScheduler: Broadcasting large task binary with size 1270.6 KiB\n",
      "25/06/03 15:07:17 WARN DAGScheduler: Broadcasting large task binary with size 1271.9 KiB\n",
      "25/06/03 15:07:17 WARN DAGScheduler: Broadcasting large task binary with size 1273.3 KiB\n",
      "25/06/03 15:07:17 WARN DAGScheduler: Broadcasting large task binary with size 1274.7 KiB\n",
      "25/06/03 15:07:18 WARN DAGScheduler: Broadcasting large task binary with size 1276.1 KiB\n",
      "25/06/03 15:07:18 WARN DAGScheduler: Broadcasting large task binary with size 1277.5 KiB\n",
      "25/06/03 15:07:18 WARN DAGScheduler: Broadcasting large task binary with size 1278.9 KiB\n",
      "25/06/03 15:07:18 WARN DAGScheduler: Broadcasting large task binary with size 1280.3 KiB\n",
      "25/06/03 15:07:18 WARN DAGScheduler: Broadcasting large task binary with size 1281.6 KiB\n",
      "25/06/03 15:07:18 WARN DAGScheduler: Broadcasting large task binary with size 1283.0 KiB\n",
      "25/06/03 15:07:18 WARN DAGScheduler: Broadcasting large task binary with size 1284.4 KiB\n",
      "25/06/03 15:07:19 WARN DAGScheduler: Broadcasting large task binary with size 1286.4 KiB\n",
      "25/06/03 15:07:19 WARN DAGScheduler: Broadcasting large task binary with size 1285.0 KiB\n",
      "25/06/03 15:07:19 WARN DAGScheduler: Broadcasting large task binary with size 1239.2 KiB\n",
      "25/06/03 15:07:19 WARN DAGScheduler: Broadcasting large task binary with size 1294.4 KiB\n",
      "25/06/03 15:07:19 WARN DAGScheduler: Broadcasting large task binary with size 1293.0 KiB\n",
      "25/06/03 15:07:22 WARN DAGScheduler: Broadcasting large task binary with size 1341.0 KiB\n"
     ]
    },
    {
     "name": "stdout",
     "output_type": "stream",
     "text": [
      "RMSE=0.14823504891617292\n"
     ]
    },
    {
     "name": "stderr",
     "output_type": "stream",
     "text": [
      "25/06/03 15:07:22 WARN DAGScheduler: Broadcasting large task binary with size 1341.9 KiB\n"
     ]
    }
   ],
   "source": [
    "model = als_tuning_and_predict(train, test, \"profile\", \"favorites_anime\", \"is_favorite\")"
   ]
  },
  {
   "cell_type": "code",
   "execution_count": 40,
   "id": "7e9fa16a-6d45-4a1e-99d0-4d178acf7302",
   "metadata": {
    "scrolled": true
   },
   "outputs": [
    {
     "name": "stderr",
     "output_type": "stream",
     "text": [
      "25/06/03 15:07:31 WARN DAGScheduler: Broadcasting large task binary with size 1341.5 KiB\n",
      "25/06/03 15:07:33 WARN DAGScheduler: Broadcasting large task binary with size 1335.5 KiB\n",
      "25/06/03 15:07:44 WARN DAGScheduler: Broadcasting large task binary with size 1226.1 KiB\n",
      "/var/folders/yt/qrbwlc0x6fj2rs4chrxkrm_m0000gn/T/ipykernel_42627/4206824334.py:29: SettingWithCopyWarning: \n",
      "A value is trying to be set on a copy of a slice from a DataFrame.\n",
      "Try using .loc[row_indexer,col_indexer] = value instead\n",
      "\n",
      "See the caveats in the documentation: https://pandas.pydata.org/pandas-docs/stable/user_guide/indexing.html#returning-a-view-versus-a-copy\n",
      "  df_recommendations[item_col] = df_recommendations[item_col].astype(\"int64\")\n"
     ]
    },
    {
     "data": {
      "text/html": [
       "<div>\n",
       "<style scoped>\n",
       "    .dataframe tbody tr th:only-of-type {\n",
       "        vertical-align: middle;\n",
       "    }\n",
       "\n",
       "    .dataframe tbody tr th {\n",
       "        vertical-align: top;\n",
       "    }\n",
       "\n",
       "    .dataframe thead th {\n",
       "        text-align: right;\n",
       "    }\n",
       "</style>\n",
       "<table border=\"1\" class=\"dataframe\">\n",
       "  <thead>\n",
       "    <tr style=\"text-align: right;\">\n",
       "      <th></th>\n",
       "      <th>profile</th>\n",
       "      <th>favorites_anime</th>\n",
       "    </tr>\n",
       "  </thead>\n",
       "  <tbody>\n",
       "    <tr>\n",
       "      <th>0</th>\n",
       "      <td>-----noname-----</td>\n",
       "      <td>[8026, 1777, 4150, 3015, 10534, 32365, 12651, 3077, 5877, 2595]</td>\n",
       "    </tr>\n",
       "    <tr>\n",
       "      <th>1</th>\n",
       "      <td>---SnowFlake---</td>\n",
       "      <td>[8026, 32365, 2595, 15437, 10534, 3015, 12651, 5877, 37760, 3077]</td>\n",
       "    </tr>\n",
       "    <tr>\n",
       "      <th>2</th>\n",
       "      <td>--Mizu--</td>\n",
       "      <td>[3015, 37760, 5877, 12651, 8026, 2589, 2595, 3077, 32365, 10534]</td>\n",
       "    </tr>\n",
       "    <tr>\n",
       "      <th>3</th>\n",
       "      <td>--Sunclaudius</td>\n",
       "      <td>[12651, 3077, 3015, 32365, 10534, 2595, 5877, 8026, 1777, 4150]</td>\n",
       "    </tr>\n",
       "    <tr>\n",
       "      <th>4</th>\n",
       "      <td>--animeislife--</td>\n",
       "      <td>[10534, 8026, 1777, 15437, 3077, 5877, 2595, 3015, 12651, 32365]</td>\n",
       "    </tr>\n",
       "  </tbody>\n",
       "</table>\n",
       "</div>"
      ],
      "text/plain": [
       "            profile  \\\n",
       "0  -----noname-----   \n",
       "1   ---SnowFlake---   \n",
       "2          --Mizu--   \n",
       "3     --Sunclaudius   \n",
       "4   --animeislife--   \n",
       "\n",
       "                                                     favorites_anime  \n",
       "0    [8026, 1777, 4150, 3015, 10534, 32365, 12651, 3077, 5877, 2595]  \n",
       "1  [8026, 32365, 2595, 15437, 10534, 3015, 12651, 5877, 37760, 3077]  \n",
       "2   [3015, 37760, 5877, 12651, 8026, 2589, 2595, 3077, 32365, 10534]  \n",
       "3    [12651, 3077, 3015, 32365, 10534, 2595, 5877, 8026, 1777, 4150]  \n",
       "4   [10534, 8026, 1777, 15437, 3077, 5877, 2595, 3015, 12651, 32365]  "
      ]
     },
     "metadata": {},
     "output_type": "display_data"
    }
   ],
   "source": [
    "df_is_favorite_based_reco = create_predictions_pandas_dataframe(model, df_sp_is_favorite, \"profile\", \"favorites_anime\", \"is_favorite\")\n",
    "\n",
    "with pd.option_context('display.max_colwidth', None):\n",
    "  display(df_is_favorite_based_reco.head())"
   ]
  },
  {
   "cell_type": "code",
   "execution_count": 34,
   "id": "377c18be",
   "metadata": {},
   "outputs": [],
   "source": [
    "df_is_favorite_based_reco = pd.read_csv(\"../data/als_is_favorite_based_reco_before_clean.csv\", index_col=\"profile\")\n",
    "df_is_favorite_based_reco = df_is_favorite_based_reco.rename(columns={\"favorites_anime\": \"recommendations\"})\n",
    "df_is_favorite_based_reco[\"recommendations\"] = df_is_favorite_based_reco[\"recommendations\"].apply(ast.literal_eval)"
   ]
  },
  {
   "cell_type": "code",
   "execution_count": 35,
   "id": "c2919a5c",
   "metadata": {},
   "outputs": [],
   "source": [
    "data_profiles = pd.read_csv(\"https://anime-recommendation-engine.s3.eu-west-3.amazonaws.com/data/profiles_clean.csv\", index_col=\"profile\")\n",
    "data_profiles[\"favorites_anime\"] = data_profiles[\"favorites_anime\"].apply(ast.literal_eval)"
   ]
  },
  {
   "cell_type": "code",
   "execution_count": 36,
   "id": "c38b1552",
   "metadata": {},
   "outputs": [],
   "source": [
    "def delete_favorites_from_recommendations(df_recommendations, df_favorites) :\n",
    "\n",
    "    for profile in df_recommendations.index :\n",
    "        favorites = df_favorites.at[profile,\"favorites_anime\"]\n",
    "        recommendations = df_recommendations.at[profile,\"recommendations\"]\n",
    "\n",
    "        recommendations = [value for value in recommendations if str(value) not in favorites]\n",
    "        df_recommendations.at[profile, 'recommendations'] = recommendations\n",
    "\n",
    "    return df_recommendations"
   ]
  },
  {
   "cell_type": "code",
   "execution_count": 37,
   "id": "a41d860c",
   "metadata": {},
   "outputs": [],
   "source": [
    "df_is_favorite_based_reco = delete_favorites_from_recommendations(df_is_favorite_based_reco, data_profiles)"
   ]
  },
  {
   "cell_type": "code",
   "execution_count": 38,
   "id": "1729c9b4-a967-4b45-a5a2-475c4301f5a1",
   "metadata": {},
   "outputs": [],
   "source": [
    "df_is_favorite_based_reco.to_csv(\"../data/als_is_favorite_based_reco.csv\")"
   ]
  }
 ],
 "metadata": {
  "kernelspec": {
   "display_name": "base",
   "language": "python",
   "name": "python3"
  },
  "language_info": {
   "codemirror_mode": {
    "name": "ipython",
    "version": 3
   },
   "file_extension": ".py",
   "mimetype": "text/x-python",
   "name": "python",
   "nbconvert_exporter": "python",
   "pygments_lexer": "ipython3",
   "version": "3.12.7"
  }
 },
 "nbformat": 4,
 "nbformat_minor": 5
}
