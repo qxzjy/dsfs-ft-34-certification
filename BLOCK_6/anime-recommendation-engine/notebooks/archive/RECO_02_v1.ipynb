{
 "cells": [
  {
   "cell_type": "markdown",
   "id": "97ace4a3",
   "metadata": {},
   "source": [
    "# User-based recommendation on user clusters (based on likes)"
   ]
  },
  {
   "cell_type": "markdown",
   "id": "28dee1f0",
   "metadata": {},
   "source": [
    "## Import"
   ]
  },
  {
   "cell_type": "code",
   "execution_count": 1,
   "id": "178a0273",
   "metadata": {},
   "outputs": [],
   "source": [
    "import pandas as pd\n",
    "import ast"
   ]
  },
  {
   "cell_type": "code",
   "execution_count": 2,
   "id": "45251f48",
   "metadata": {},
   "outputs": [
    {
     "data": {
      "text/html": [
       "<div>\n",
       "<style scoped>\n",
       "    .dataframe tbody tr th:only-of-type {\n",
       "        vertical-align: middle;\n",
       "    }\n",
       "\n",
       "    .dataframe tbody tr th {\n",
       "        vertical-align: top;\n",
       "    }\n",
       "\n",
       "    .dataframe thead th {\n",
       "        text-align: right;\n",
       "    }\n",
       "</style>\n",
       "<table border=\"1\" class=\"dataframe\">\n",
       "  <thead>\n",
       "    <tr style=\"text-align: right;\">\n",
       "      <th></th>\n",
       "      <th>profile</th>\n",
       "      <th>gender</th>\n",
       "      <th>birthday</th>\n",
       "      <th>favorites_anime</th>\n",
       "      <th>link</th>\n",
       "      <th>age</th>\n",
       "    </tr>\n",
       "  </thead>\n",
       "  <tbody>\n",
       "    <tr>\n",
       "      <th>0</th>\n",
       "      <td>DesolatePsyche</td>\n",
       "      <td>Male</td>\n",
       "      <td>Oct 2, 1994</td>\n",
       "      <td>['33352', '25013', '5530', '33674', '1482', '2...</td>\n",
       "      <td>https://myanimelist.net/profile/DesolatePsyche</td>\n",
       "      <td>26.0</td>\n",
       "    </tr>\n",
       "    <tr>\n",
       "      <th>1</th>\n",
       "      <td>baekbeans</td>\n",
       "      <td>Female</td>\n",
       "      <td>Nov 10, 2000</td>\n",
       "      <td>['11061', '31964', '853', '20583', '918', '925...</td>\n",
       "      <td>https://myanimelist.net/profile/baekbeans</td>\n",
       "      <td>20.0</td>\n",
       "    </tr>\n",
       "  </tbody>\n",
       "</table>\n",
       "</div>"
      ],
      "text/plain": [
       "          profile  gender      birthday  \\\n",
       "0  DesolatePsyche    Male   Oct 2, 1994   \n",
       "1       baekbeans  Female  Nov 10, 2000   \n",
       "\n",
       "                                     favorites_anime  \\\n",
       "0  ['33352', '25013', '5530', '33674', '1482', '2...   \n",
       "1  ['11061', '31964', '853', '20583', '918', '925...   \n",
       "\n",
       "                                             link   age  \n",
       "0  https://myanimelist.net/profile/DesolatePsyche  26.0  \n",
       "1       https://myanimelist.net/profile/baekbeans  20.0  "
      ]
     },
     "metadata": {},
     "output_type": "display_data"
    },
    {
     "data": {
      "text/html": [
       "<div>\n",
       "<style scoped>\n",
       "    .dataframe tbody tr th:only-of-type {\n",
       "        vertical-align: middle;\n",
       "    }\n",
       "\n",
       "    .dataframe tbody tr th {\n",
       "        vertical-align: top;\n",
       "    }\n",
       "\n",
       "    .dataframe thead th {\n",
       "        text-align: right;\n",
       "    }\n",
       "</style>\n",
       "<table border=\"1\" class=\"dataframe\">\n",
       "  <thead>\n",
       "    <tr style=\"text-align: right;\">\n",
       "      <th></th>\n",
       "      <th>uid</th>\n",
       "      <th>profile</th>\n",
       "      <th>anime_uid</th>\n",
       "      <th>text</th>\n",
       "      <th>score</th>\n",
       "      <th>scores</th>\n",
       "      <th>link</th>\n",
       "    </tr>\n",
       "  </thead>\n",
       "  <tbody>\n",
       "    <tr>\n",
       "      <th>0</th>\n",
       "      <td>255938</td>\n",
       "      <td>DesolatePsyche</td>\n",
       "      <td>34096</td>\n",
       "      <td>\\n           \\n         \\n           \\n       ...</td>\n",
       "      <td>8</td>\n",
       "      <td>{'Overall': '8', 'Story': '8', 'Animation': '8...</td>\n",
       "      <td>https://myanimelist.net/reviews.php?id=255938</td>\n",
       "    </tr>\n",
       "    <tr>\n",
       "      <th>1</th>\n",
       "      <td>259117</td>\n",
       "      <td>baekbeans</td>\n",
       "      <td>34599</td>\n",
       "      <td>\\n           \\n         \\n           \\n       ...</td>\n",
       "      <td>10</td>\n",
       "      <td>{'Overall': '10', 'Story': '10', 'Animation': ...</td>\n",
       "      <td>https://myanimelist.net/reviews.php?id=259117</td>\n",
       "    </tr>\n",
       "  </tbody>\n",
       "</table>\n",
       "</div>"
      ],
      "text/plain": [
       "      uid         profile  anime_uid  \\\n",
       "0  255938  DesolatePsyche      34096   \n",
       "1  259117       baekbeans      34599   \n",
       "\n",
       "                                                text  score  \\\n",
       "0  \\n           \\n         \\n           \\n       ...      8   \n",
       "1  \\n           \\n         \\n           \\n       ...     10   \n",
       "\n",
       "                                              scores  \\\n",
       "0  {'Overall': '8', 'Story': '8', 'Animation': '8...   \n",
       "1  {'Overall': '10', 'Story': '10', 'Animation': ...   \n",
       "\n",
       "                                            link  \n",
       "0  https://myanimelist.net/reviews.php?id=255938  \n",
       "1  https://myanimelist.net/reviews.php?id=259117  "
      ]
     },
     "metadata": {},
     "output_type": "display_data"
    },
    {
     "data": {
      "text/html": [
       "<div>\n",
       "<style scoped>\n",
       "    .dataframe tbody tr th:only-of-type {\n",
       "        vertical-align: middle;\n",
       "    }\n",
       "\n",
       "    .dataframe tbody tr th {\n",
       "        vertical-align: top;\n",
       "    }\n",
       "\n",
       "    .dataframe thead th {\n",
       "        text-align: right;\n",
       "    }\n",
       "</style>\n",
       "<table border=\"1\" class=\"dataframe\">\n",
       "  <thead>\n",
       "    <tr style=\"text-align: right;\">\n",
       "      <th></th>\n",
       "      <th>title</th>\n",
       "      <th>synopsis</th>\n",
       "      <th>genre</th>\n",
       "      <th>aired</th>\n",
       "      <th>episodes</th>\n",
       "      <th>members</th>\n",
       "      <th>popularity</th>\n",
       "      <th>ranked</th>\n",
       "      <th>score</th>\n",
       "      <th>img_url</th>\n",
       "      <th>link</th>\n",
       "    </tr>\n",
       "    <tr>\n",
       "      <th>uid</th>\n",
       "      <th></th>\n",
       "      <th></th>\n",
       "      <th></th>\n",
       "      <th></th>\n",
       "      <th></th>\n",
       "      <th></th>\n",
       "      <th></th>\n",
       "      <th></th>\n",
       "      <th></th>\n",
       "      <th></th>\n",
       "      <th></th>\n",
       "    </tr>\n",
       "  </thead>\n",
       "  <tbody>\n",
       "    <tr>\n",
       "      <th>28891</th>\n",
       "      <td>Haikyuu!! Second Season</td>\n",
       "      <td>Following their participation at the Inter-Hig...</td>\n",
       "      <td>['Comedy', 'Sports', 'Drama', 'School', 'Shoun...</td>\n",
       "      <td>Oct 4, 2015 to Mar 27, 2016</td>\n",
       "      <td>25</td>\n",
       "      <td>489888</td>\n",
       "      <td>141</td>\n",
       "      <td>25.0</td>\n",
       "      <td>8.82</td>\n",
       "      <td>https://cdn.myanimelist.net/images/anime/9/766...</td>\n",
       "      <td>https://myanimelist.net/anime/28891/Haikyuu_Se...</td>\n",
       "    </tr>\n",
       "    <tr>\n",
       "      <th>23273</th>\n",
       "      <td>Shigatsu wa Kimi no Uso</td>\n",
       "      <td>Music accompanies the path of the human metron...</td>\n",
       "      <td>['Drama', 'Music', 'Romance', 'School', 'Shoun...</td>\n",
       "      <td>Oct 10, 2014 to Mar 20, 2015</td>\n",
       "      <td>22</td>\n",
       "      <td>995473</td>\n",
       "      <td>28</td>\n",
       "      <td>24.0</td>\n",
       "      <td>8.83</td>\n",
       "      <td>https://cdn.myanimelist.net/images/anime/3/671...</td>\n",
       "      <td>https://myanimelist.net/anime/23273/Shigatsu_w...</td>\n",
       "    </tr>\n",
       "  </tbody>\n",
       "</table>\n",
       "</div>"
      ],
      "text/plain": [
       "                         title  \\\n",
       "uid                              \n",
       "28891  Haikyuu!! Second Season   \n",
       "23273  Shigatsu wa Kimi no Uso   \n",
       "\n",
       "                                                synopsis  \\\n",
       "uid                                                        \n",
       "28891  Following their participation at the Inter-Hig...   \n",
       "23273  Music accompanies the path of the human metron...   \n",
       "\n",
       "                                                   genre  \\\n",
       "uid                                                        \n",
       "28891  ['Comedy', 'Sports', 'Drama', 'School', 'Shoun...   \n",
       "23273  ['Drama', 'Music', 'Romance', 'School', 'Shoun...   \n",
       "\n",
       "                              aired  episodes  members  popularity  ranked  \\\n",
       "uid                                                                          \n",
       "28891   Oct 4, 2015 to Mar 27, 2016        25   489888         141    25.0   \n",
       "23273  Oct 10, 2014 to Mar 20, 2015        22   995473          28    24.0   \n",
       "\n",
       "       score                                            img_url  \\\n",
       "uid                                                               \n",
       "28891   8.82  https://cdn.myanimelist.net/images/anime/9/766...   \n",
       "23273   8.83  https://cdn.myanimelist.net/images/anime/3/671...   \n",
       "\n",
       "                                                    link  \n",
       "uid                                                       \n",
       "28891  https://myanimelist.net/anime/28891/Haikyuu_Se...  \n",
       "23273  https://myanimelist.net/anime/23273/Shigatsu_w...  "
      ]
     },
     "metadata": {},
     "output_type": "display_data"
    }
   ],
   "source": [
    "data_profiles = pd.read_csv(\"https://anime-recommendation-engine.s3.eu-west-3.amazonaws.com/data/profiles_clean.csv\")\n",
    "data_reviews = pd.read_csv(\"https://anime-recommendation-engine.s3.eu-west-3.amazonaws.com/data/reviews_clean.csv\")\n",
    "data_animes = pd.read_csv(\"https://anime-recommendation-engine.s3.eu-west-3.amazonaws.com/data/animes_clean.csv\", index_col=\"uid\")\n",
    "\n",
    "display(data_profiles.head(2))\n",
    "display(data_reviews.head(2))\n",
    "display(data_animes.head(2))"
   ]
  },
  {
   "cell_type": "markdown",
   "id": "bf9e71d2",
   "metadata": {},
   "source": [
    "## Preprocessing"
   ]
  },
  {
   "cell_type": "code",
   "execution_count": 3,
   "id": "44e503fc",
   "metadata": {},
   "outputs": [
    {
     "data": {
      "text/html": [
       "<div>\n",
       "<style scoped>\n",
       "    .dataframe tbody tr th:only-of-type {\n",
       "        vertical-align: middle;\n",
       "    }\n",
       "\n",
       "    .dataframe tbody tr th {\n",
       "        vertical-align: top;\n",
       "    }\n",
       "\n",
       "    .dataframe thead th {\n",
       "        text-align: right;\n",
       "    }\n",
       "</style>\n",
       "<table border=\"1\" class=\"dataframe\">\n",
       "  <thead>\n",
       "    <tr style=\"text-align: right;\">\n",
       "      <th></th>\n",
       "      <th>profile</th>\n",
       "      <th>favorites_anime</th>\n",
       "      <th>is_favorite</th>\n",
       "    </tr>\n",
       "  </thead>\n",
       "  <tbody>\n",
       "    <tr>\n",
       "      <th>0</th>\n",
       "      <td>DesolatePsyche</td>\n",
       "      <td>33352</td>\n",
       "      <td>1</td>\n",
       "    </tr>\n",
       "    <tr>\n",
       "      <th>0</th>\n",
       "      <td>DesolatePsyche</td>\n",
       "      <td>25013</td>\n",
       "      <td>1</td>\n",
       "    </tr>\n",
       "  </tbody>\n",
       "</table>\n",
       "</div>"
      ],
      "text/plain": [
       "          profile  favorites_anime  is_favorite\n",
       "0  DesolatePsyche            33352            1\n",
       "0  DesolatePsyche            25013            1"
      ]
     },
     "metadata": {},
     "output_type": "display_data"
    }
   ],
   "source": [
    "data_profiles[\"favorites_anime\"] = data_profiles[\"favorites_anime\"].apply(ast.literal_eval)\n",
    "\n",
    "df_als_favorite = data_profiles[[\"profile\", \"favorites_anime\"]].copy().explode(\"favorites_anime\")\n",
    "df_als_favorite = df_als_favorite.dropna(subset=[\"favorites_anime\"])\n",
    "df_als_favorite[\"favorites_anime\"] = df_als_favorite[\"favorites_anime\"].astype(\"int64\")\n",
    "df_als_favorite[\"is_favorite\"] = 1\n",
    "\n",
    "display(df_als_favorite.head(2))"
   ]
  },
  {
   "cell_type": "code",
   "execution_count": 4,
   "id": "b857359b",
   "metadata": {},
   "outputs": [
    {
     "data": {
      "text/html": [
       "<div>\n",
       "<style scoped>\n",
       "    .dataframe tbody tr th:only-of-type {\n",
       "        vertical-align: middle;\n",
       "    }\n",
       "\n",
       "    .dataframe tbody tr th {\n",
       "        vertical-align: top;\n",
       "    }\n",
       "\n",
       "    .dataframe thead th {\n",
       "        text-align: right;\n",
       "    }\n",
       "</style>\n",
       "<table border=\"1\" class=\"dataframe\">\n",
       "  <thead>\n",
       "    <tr style=\"text-align: right;\">\n",
       "      <th></th>\n",
       "      <th>profile</th>\n",
       "      <th>anime_uid</th>\n",
       "      <th>score</th>\n",
       "    </tr>\n",
       "  </thead>\n",
       "  <tbody>\n",
       "    <tr>\n",
       "      <th>0</th>\n",
       "      <td>DesolatePsyche</td>\n",
       "      <td>34096</td>\n",
       "      <td>8</td>\n",
       "    </tr>\n",
       "    <tr>\n",
       "      <th>1</th>\n",
       "      <td>baekbeans</td>\n",
       "      <td>34599</td>\n",
       "      <td>10</td>\n",
       "    </tr>\n",
       "  </tbody>\n",
       "</table>\n",
       "</div>"
      ],
      "text/plain": [
       "          profile  anime_uid  score\n",
       "0  DesolatePsyche      34096      8\n",
       "1       baekbeans      34599     10"
      ]
     },
     "metadata": {},
     "output_type": "display_data"
    }
   ],
   "source": [
    "df_als_reviews_score = data_reviews[[\"profile\", \"anime_uid\", \"score\"]].copy()\n",
    "\n",
    "display(df_als_reviews_score.head(2))"
   ]
  },
  {
   "cell_type": "code",
   "execution_count": 5,
   "id": "865e96f6",
   "metadata": {},
   "outputs": [],
   "source": [
    "def get_score_by_uid(uid) :\n",
    "\n",
    "    if uid not in data_animes.index :\n",
    "        return \"\"\n",
    "\n",
    "    return data_animes.at[uid, \"score\"]"
   ]
  },
  {
   "cell_type": "code",
   "execution_count": 6,
   "id": "75d789be",
   "metadata": {},
   "outputs": [
    {
     "data": {
      "text/html": [
       "<div>\n",
       "<style scoped>\n",
       "    .dataframe tbody tr th:only-of-type {\n",
       "        vertical-align: middle;\n",
       "    }\n",
       "\n",
       "    .dataframe tbody tr th {\n",
       "        vertical-align: top;\n",
       "    }\n",
       "\n",
       "    .dataframe thead th {\n",
       "        text-align: right;\n",
       "    }\n",
       "</style>\n",
       "<table border=\"1\" class=\"dataframe\">\n",
       "  <thead>\n",
       "    <tr style=\"text-align: right;\">\n",
       "      <th></th>\n",
       "      <th>profile</th>\n",
       "      <th>favorites_anime</th>\n",
       "    </tr>\n",
       "  </thead>\n",
       "  <tbody>\n",
       "    <tr>\n",
       "      <th>0</th>\n",
       "      <td>DesolatePsyche</td>\n",
       "      <td>33352</td>\n",
       "    </tr>\n",
       "    <tr>\n",
       "      <th>0</th>\n",
       "      <td>DesolatePsyche</td>\n",
       "      <td>25013</td>\n",
       "    </tr>\n",
       "  </tbody>\n",
       "</table>\n",
       "</div>"
      ],
      "text/plain": [
       "          profile  favorites_anime\n",
       "0  DesolatePsyche            33352\n",
       "0  DesolatePsyche            25013"
      ]
     },
     "metadata": {},
     "output_type": "display_data"
    }
   ],
   "source": [
    "df_als_favorite_score = data_profiles[[\"profile\", \"favorites_anime\"]].copy().explode(\"favorites_anime\")\n",
    "df_als_favorite_score = df_als_favorite_score.dropna(subset=[\"favorites_anime\"])\n",
    "df_als_favorite_score[\"favorites_anime\"] = df_als_favorite_score[\"favorites_anime\"].astype(\"int64\")\n",
    "\n",
    "display(df_als_favorite_score.head(2))"
   ]
  },
  {
   "cell_type": "code",
   "execution_count": 7,
   "id": "c2a657b4",
   "metadata": {},
   "outputs": [
    {
     "data": {
      "text/html": [
       "<div>\n",
       "<style scoped>\n",
       "    .dataframe tbody tr th:only-of-type {\n",
       "        vertical-align: middle;\n",
       "    }\n",
       "\n",
       "    .dataframe tbody tr th {\n",
       "        vertical-align: top;\n",
       "    }\n",
       "\n",
       "    .dataframe thead th {\n",
       "        text-align: right;\n",
       "    }\n",
       "</style>\n",
       "<table border=\"1\" class=\"dataframe\">\n",
       "  <thead>\n",
       "    <tr style=\"text-align: right;\">\n",
       "      <th></th>\n",
       "      <th>favorites_anime</th>\n",
       "      <th>score</th>\n",
       "    </tr>\n",
       "  </thead>\n",
       "  <tbody>\n",
       "    <tr>\n",
       "      <th>0</th>\n",
       "      <td>33352</td>\n",
       "      <td>8.62</td>\n",
       "    </tr>\n",
       "    <tr>\n",
       "      <th>1</th>\n",
       "      <td>25013</td>\n",
       "      <td>8.13</td>\n",
       "    </tr>\n",
       "  </tbody>\n",
       "</table>\n",
       "</div>"
      ],
      "text/plain": [
       "   favorites_anime score\n",
       "0            33352  8.62\n",
       "1            25013  8.13"
      ]
     },
     "metadata": {},
     "output_type": "display_data"
    }
   ],
   "source": [
    "df_to_merge = df_als_favorite_score[\"favorites_anime\"].reset_index().drop_duplicates(subset=[\"favorites_anime\"])\n",
    "df_to_merge[\"score\"] = df_to_merge[\"favorites_anime\"].apply(get_score_by_uid)\n",
    "df_to_merge = df_to_merge.dropna(subset=[\"score\"])\n",
    "df_to_merge = df_to_merge.drop(columns=\"index\")\n",
    "\n",
    "display(df_to_merge.head(2))"
   ]
  },
  {
   "cell_type": "code",
   "execution_count": 8,
   "id": "e710ebe5",
   "metadata": {},
   "outputs": [
    {
     "data": {
      "text/html": [
       "<div>\n",
       "<style scoped>\n",
       "    .dataframe tbody tr th:only-of-type {\n",
       "        vertical-align: middle;\n",
       "    }\n",
       "\n",
       "    .dataframe tbody tr th {\n",
       "        vertical-align: top;\n",
       "    }\n",
       "\n",
       "    .dataframe thead th {\n",
       "        text-align: right;\n",
       "    }\n",
       "</style>\n",
       "<table border=\"1\" class=\"dataframe\">\n",
       "  <thead>\n",
       "    <tr style=\"text-align: right;\">\n",
       "      <th></th>\n",
       "      <th>profile</th>\n",
       "      <th>favorites_anime</th>\n",
       "      <th>score</th>\n",
       "    </tr>\n",
       "  </thead>\n",
       "  <tbody>\n",
       "    <tr>\n",
       "      <th>0</th>\n",
       "      <td>DesolatePsyche</td>\n",
       "      <td>33352</td>\n",
       "      <td>8.62</td>\n",
       "    </tr>\n",
       "    <tr>\n",
       "      <th>1</th>\n",
       "      <td>DesolatePsyche</td>\n",
       "      <td>25013</td>\n",
       "      <td>8.13</td>\n",
       "    </tr>\n",
       "  </tbody>\n",
       "</table>\n",
       "</div>"
      ],
      "text/plain": [
       "          profile  favorites_anime score\n",
       "0  DesolatePsyche            33352  8.62\n",
       "1  DesolatePsyche            25013  8.13"
      ]
     },
     "metadata": {},
     "output_type": "display_data"
    }
   ],
   "source": [
    "df_als_favorite_score = df_als_favorite_score.merge(df_to_merge, on=\"favorites_anime\")\n",
    "df_als_favorite_score = df_als_favorite_score[df_als_favorite_score[\"score\"]!=\"\"]\n",
    "\n",
    "display(df_als_favorite_score.head(2))"
   ]
  },
  {
   "cell_type": "code",
   "execution_count": 9,
   "id": "487be3f5",
   "metadata": {},
   "outputs": [],
   "source": [
    "df_als_favorite.to_csv(\"../data/als_is_favorite.csv\", index=False)\n",
    "df_als_reviews_score.to_csv(\"../data/als_reviews_score.csv\", index=False)\n",
    "df_als_favorite_score.to_csv(\"../data/als_favorite_score.csv\", index=False)"
   ]
  },
  {
   "cell_type": "markdown",
   "id": "ec4b60a6",
   "metadata": {},
   "source": [
    "## Spark"
   ]
  },
  {
   "cell_type": "markdown",
   "id": "4356f245",
   "metadata": {},
   "source": [
    "For now, this part have to be executed in a ad-hoc Jupyter environment with PySpark, following those steps (disclaimer : you need to install and configure PySpark first) :\n",
    "\n",
    "\n",
    "```shell\n",
    "pyspark --name anime-recommendation-engine --driver-java-options -Djava.security.manager=allow\n",
    "```\n",
    "\n",
    "```python\n",
    "sc = SparkSession.builder.getOrCreate()\n",
    "```\n",
    "\n",
    "[Medium article simple ALS](https://medium.com/@patelneha1495/recommendation-system-in-python-using-als-algorithm-and-apache-spark-27aca08eaab3)\n",
    "\n",
    "[Medium article advanced ALS](https://medium.com/@brunoborges_38708/recommender-system-using-als-in-pyspark-10329e1d1ee1)\n"
   ]
  },
  {
   "cell_type": "code",
   "execution_count": 6,
   "id": "39a7a888",
   "metadata": {},
   "outputs": [],
   "source": [
    "from pyspark.sql import SparkSession\n",
    "from pyspark.sql.functions import col\n",
    "\n",
    "from pyspark.ml.evaluation import RegressionEvaluator\n",
    "from pyspark.ml.feature import StringIndexer\n",
    "from pyspark.ml.recommendation import ALS"
   ]
  },
  {
   "cell_type": "code",
   "execution_count": 8,
   "id": "988bc574",
   "metadata": {},
   "outputs": [],
   "source": [
    "sc = SparkSession.builder.getOrCreate()"
   ]
  },
  {
   "cell_type": "code",
   "execution_count": 10,
   "id": "3ac5b79a",
   "metadata": {},
   "outputs": [
    {
     "data": {
      "text/html": [
       "<div>\n",
       "<style scoped>\n",
       "    .dataframe tbody tr th:only-of-type {\n",
       "        vertical-align: middle;\n",
       "    }\n",
       "\n",
       "    .dataframe tbody tr th {\n",
       "        vertical-align: top;\n",
       "    }\n",
       "\n",
       "    .dataframe thead th {\n",
       "        text-align: right;\n",
       "    }\n",
       "</style>\n",
       "<table border=\"1\" class=\"dataframe\">\n",
       "  <thead>\n",
       "    <tr style=\"text-align: right;\">\n",
       "      <th></th>\n",
       "      <th>profile</th>\n",
       "      <th>favorites_anime</th>\n",
       "      <th>is_favorite</th>\n",
       "    </tr>\n",
       "  </thead>\n",
       "  <tbody>\n",
       "    <tr>\n",
       "      <th>0</th>\n",
       "      <td>DesolatePsyche</td>\n",
       "      <td>33352</td>\n",
       "      <td>1</td>\n",
       "    </tr>\n",
       "    <tr>\n",
       "      <th>1</th>\n",
       "      <td>DesolatePsyche</td>\n",
       "      <td>25013</td>\n",
       "      <td>1</td>\n",
       "    </tr>\n",
       "  </tbody>\n",
       "</table>\n",
       "</div>"
      ],
      "text/plain": [
       "          profile  favorites_anime  is_favorite\n",
       "0  DesolatePsyche            33352            1\n",
       "1  DesolatePsyche            25013            1"
      ]
     },
     "metadata": {},
     "output_type": "display_data"
    },
    {
     "data": {
      "text/html": [
       "<div>\n",
       "<style scoped>\n",
       "    .dataframe tbody tr th:only-of-type {\n",
       "        vertical-align: middle;\n",
       "    }\n",
       "\n",
       "    .dataframe tbody tr th {\n",
       "        vertical-align: top;\n",
       "    }\n",
       "\n",
       "    .dataframe thead th {\n",
       "        text-align: right;\n",
       "    }\n",
       "</style>\n",
       "<table border=\"1\" class=\"dataframe\">\n",
       "  <thead>\n",
       "    <tr style=\"text-align: right;\">\n",
       "      <th></th>\n",
       "      <th>profile</th>\n",
       "      <th>anime_uid</th>\n",
       "      <th>score</th>\n",
       "    </tr>\n",
       "  </thead>\n",
       "  <tbody>\n",
       "    <tr>\n",
       "      <th>0</th>\n",
       "      <td>DesolatePsyche</td>\n",
       "      <td>34096</td>\n",
       "      <td>8</td>\n",
       "    </tr>\n",
       "    <tr>\n",
       "      <th>1</th>\n",
       "      <td>baekbeans</td>\n",
       "      <td>34599</td>\n",
       "      <td>10</td>\n",
       "    </tr>\n",
       "  </tbody>\n",
       "</table>\n",
       "</div>"
      ],
      "text/plain": [
       "          profile  anime_uid  score\n",
       "0  DesolatePsyche      34096      8\n",
       "1       baekbeans      34599     10"
      ]
     },
     "metadata": {},
     "output_type": "display_data"
    },
    {
     "data": {
      "text/html": [
       "<div>\n",
       "<style scoped>\n",
       "    .dataframe tbody tr th:only-of-type {\n",
       "        vertical-align: middle;\n",
       "    }\n",
       "\n",
       "    .dataframe tbody tr th {\n",
       "        vertical-align: top;\n",
       "    }\n",
       "\n",
       "    .dataframe thead th {\n",
       "        text-align: right;\n",
       "    }\n",
       "</style>\n",
       "<table border=\"1\" class=\"dataframe\">\n",
       "  <thead>\n",
       "    <tr style=\"text-align: right;\">\n",
       "      <th></th>\n",
       "      <th>profile</th>\n",
       "      <th>anime_uid</th>\n",
       "      <th>score</th>\n",
       "    </tr>\n",
       "  </thead>\n",
       "  <tbody>\n",
       "    <tr>\n",
       "      <th>0</th>\n",
       "      <td>DesolatePsyche</td>\n",
       "      <td>34096</td>\n",
       "      <td>8</td>\n",
       "    </tr>\n",
       "    <tr>\n",
       "      <th>1</th>\n",
       "      <td>baekbeans</td>\n",
       "      <td>34599</td>\n",
       "      <td>10</td>\n",
       "    </tr>\n",
       "  </tbody>\n",
       "</table>\n",
       "</div>"
      ],
      "text/plain": [
       "          profile  anime_uid  score\n",
       "0  DesolatePsyche      34096      8\n",
       "1       baekbeans      34599     10"
      ]
     },
     "metadata": {},
     "output_type": "display_data"
    }
   ],
   "source": [
    "df_als_favorite = pd.read_csv('../data/als_is_favorite.csv')\n",
    "df_als_score = pd.read_csv('../data/als_score.csv')\n",
    "df_als_favorite_score = pd.read_csv('../data/als_favorite_score.csv')\n",
    "\n",
    "display(df_als_favorite.head(2)) # (216695, 3)\n",
    "display(df_als_score.head(2)) # (130519, 3)\n",
    "display(df_als_favorite_score.head(2)) # (216188, 3)"
   ]
  },
  {
   "cell_type": "code",
   "execution_count": 12,
   "id": "f503db5d",
   "metadata": {},
   "outputs": [
    {
     "data": {
      "text/plain": [
       "5.7842404505779035"
      ]
     },
     "execution_count": 12,
     "metadata": {},
     "output_type": "execute_result"
    }
   ],
   "source": [
    "df_mean_favorite = df_als_favorite.groupby(\"profile\")[\"is_favorite\"].count().reset_index()\n",
    "df_mean_favorite[\"is_favorite\"].mean()"
   ]
  },
  {
   "cell_type": "code",
   "execution_count": 14,
   "id": "ca5b0ff3-9968-49f3-bf35-3c633acfa755",
   "metadata": {},
   "outputs": [
    {
     "data": {
      "text/plain": [
       "2.7256760989871567"
      ]
     },
     "execution_count": 14,
     "metadata": {},
     "output_type": "execute_result"
    }
   ],
   "source": [
    "df_mean_score = df_als_score.groupby(\"profile\")[\"score\"].count().reset_index()\n",
    "df_mean_score[\"score\"].mean()"
   ]
  },
  {
   "cell_type": "code",
   "execution_count": 16,
   "id": "4cffbf6b",
   "metadata": {},
   "outputs": [
    {
     "data": {
      "text/plain": [
       "5.772864428956715"
      ]
     },
     "execution_count": 16,
     "metadata": {},
     "output_type": "execute_result"
    }
   ],
   "source": [
    "df_mean_favorite_score = df_als_favorite_score.groupby(\"profile\")[\"score\"].count().reset_index()\n",
    "df_mean_favorite_score[\"score\"].mean()"
   ]
  },
  {
   "cell_type": "markdown",
   "id": "6c44657d",
   "metadata": {},
   "source": [
    "### Is favorite"
   ]
  },
  {
   "cell_type": "code",
   "execution_count": 51,
   "id": "50d1a60a",
   "metadata": {},
   "outputs": [
    {
     "name": "stdout",
     "output_type": "stream",
     "text": [
      "+--------------+---------------+-----------+\n",
      "|       profile|favorites_anime|is_favorite|\n",
      "+--------------+---------------+-----------+\n",
      "|DesolatePsyche|          33352|          1|\n",
      "|DesolatePsyche|          25013|          1|\n",
      "|DesolatePsyche|           5530|          1|\n",
      "|DesolatePsyche|          33674|          1|\n",
      "|DesolatePsyche|           1482|          1|\n",
      "|DesolatePsyche|            269|          1|\n",
      "|DesolatePsyche|          18245|          1|\n",
      "|DesolatePsyche|           2904|          1|\n",
      "|DesolatePsyche|          27899|          1|\n",
      "|DesolatePsyche|          17074|          1|\n",
      "|DesolatePsyche|          12291|          1|\n",
      "|DesolatePsyche|            226|          1|\n",
      "|DesolatePsyche|          28851|          1|\n",
      "|DesolatePsyche|           8525|          1|\n",
      "|DesolatePsyche|           6594|          1|\n",
      "|DesolatePsyche|           4981|          1|\n",
      "|DesolatePsyche|           1698|          1|\n",
      "|DesolatePsyche|            457|          1|\n",
      "|DesolatePsyche|            235|          1|\n",
      "|DesolatePsyche|          34618|          1|\n",
      "+--------------+---------------+-----------+\n",
      "only showing top 20 rows\n",
      "\n"
     ]
    }
   ],
   "source": [
    "df_sc_is_favorite = sc.createDataFrame(df_als_favorite)\n",
    "df_sc_is_favorite.show()"
   ]
  },
  {
   "cell_type": "code",
   "execution_count": 53,
   "id": "6cd9f538",
   "metadata": {},
   "outputs": [
    {
     "name": "stdout",
     "output_type": "stream",
     "text": [
      "+--------------+---------------+-----------+-------------+\n",
      "|       profile|favorites_anime|is_favorite|profile_index|\n",
      "+--------------+---------------+-----------+-------------+\n",
      "|DesolatePsyche|          33352|          1|         20.0|\n",
      "|DesolatePsyche|          25013|          1|         20.0|\n",
      "|DesolatePsyche|           5530|          1|         20.0|\n",
      "|DesolatePsyche|          33674|          1|         20.0|\n",
      "|DesolatePsyche|           1482|          1|         20.0|\n",
      "|DesolatePsyche|            269|          1|         20.0|\n",
      "|DesolatePsyche|          18245|          1|         20.0|\n",
      "|DesolatePsyche|           2904|          1|         20.0|\n",
      "|DesolatePsyche|          27899|          1|         20.0|\n",
      "|DesolatePsyche|          17074|          1|         20.0|\n",
      "|DesolatePsyche|          12291|          1|         20.0|\n",
      "|DesolatePsyche|            226|          1|         20.0|\n",
      "|DesolatePsyche|          28851|          1|         20.0|\n",
      "|DesolatePsyche|           8525|          1|         20.0|\n",
      "|DesolatePsyche|           6594|          1|         20.0|\n",
      "|DesolatePsyche|           4981|          1|         20.0|\n",
      "|DesolatePsyche|           1698|          1|         20.0|\n",
      "|DesolatePsyche|            457|          1|         20.0|\n",
      "|DesolatePsyche|            235|          1|         20.0|\n",
      "|DesolatePsyche|          34618|          1|         20.0|\n",
      "+--------------+---------------+-----------+-------------+\n",
      "only showing top 20 rows\n",
      "\n"
     ]
    },
    {
     "name": "stderr",
     "output_type": "stream",
     "text": [
      "25/05/28 11:51:17 WARN DAGScheduler: Broadcasting large task binary with size 1224.1 KiB\n"
     ]
    }
   ],
   "source": [
    "indexer = StringIndexer(inputCol=\"profile\", outputCol=\"profile_index\")\n",
    "\n",
    "transformed = indexer.fit(df_sc_is_favorite).transform(df_sc_is_favorite)\n",
    "transformed.show()"
   ]
  },
  {
   "cell_type": "code",
   "execution_count": 55,
   "id": "104516e5",
   "metadata": {},
   "outputs": [],
   "source": [
    "(training,test)=transformed.randomSplit([0.8, 0.2])"
   ]
  },
  {
   "cell_type": "code",
   "execution_count": 57,
   "id": "4ccf2088",
   "metadata": {},
   "outputs": [
    {
     "name": "stderr",
     "output_type": "stream",
     "text": [
      "25/05/28 11:51:23 WARN DAGScheduler: Broadcasting large task binary with size 1253.0 KiB\n",
      "25/05/28 11:51:23 WARN DAGScheduler: Broadcasting large task binary with size 1255.3 KiB\n",
      "25/05/28 11:51:23 WARN DAGScheduler: Broadcasting large task binary with size 1256.8 KiB\n",
      "25/05/28 11:51:23 WARN DAGScheduler: Broadcasting large task binary with size 1258.1 KiB\n",
      "25/05/28 11:51:23 WARN DAGScheduler: Broadcasting large task binary with size 1257.1 KiB\n",
      "25/05/28 11:51:24 WARN DAGScheduler: Broadcasting large task binary with size 1258.4 KiB\n",
      "25/05/28 11:51:24 WARN DAGScheduler: Broadcasting large task binary with size 1259.2 KiB\n",
      "25/05/28 11:51:24 WARN DAGScheduler: Broadcasting large task binary with size 1262.3 KiB\n",
      "25/05/28 11:51:24 WARN DAGScheduler: Broadcasting large task binary with size 1263.7 KiB\n",
      "25/05/28 11:51:24 WARN DAGScheduler: Broadcasting large task binary with size 1265.1 KiB\n",
      "25/05/28 11:51:24 WARN DAGScheduler: Broadcasting large task binary with size 1266.4 KiB\n",
      "25/05/28 11:51:24 WARN DAGScheduler: Broadcasting large task binary with size 1267.8 KiB\n",
      "25/05/28 11:51:24 WARN DAGScheduler: Broadcasting large task binary with size 1269.2 KiB\n",
      "25/05/28 11:51:24 WARN DAGScheduler: Broadcasting large task binary with size 1270.6 KiB\n",
      "25/05/28 11:51:25 WARN DAGScheduler: Broadcasting large task binary with size 1272.0 KiB\n",
      "25/05/28 11:51:25 WARN DAGScheduler: Broadcasting large task binary with size 1273.4 KiB\n",
      "25/05/28 11:51:25 WARN DAGScheduler: Broadcasting large task binary with size 1274.8 KiB\n",
      "25/05/28 11:51:25 WARN DAGScheduler: Broadcasting large task binary with size 1276.1 KiB\n",
      "25/05/28 11:51:25 WARN DAGScheduler: Broadcasting large task binary with size 1277.5 KiB\n",
      "25/05/28 11:51:25 WARN DAGScheduler: Broadcasting large task binary with size 1278.9 KiB\n",
      "25/05/28 11:51:25 WARN DAGScheduler: Broadcasting large task binary with size 1280.3 KiB\n",
      "25/05/28 11:51:25 WARN DAGScheduler: Broadcasting large task binary with size 1281.7 KiB\n",
      "25/05/28 11:51:25 WARN DAGScheduler: Broadcasting large task binary with size 1283.1 KiB\n",
      "25/05/28 11:51:25 WARN DAGScheduler: Broadcasting large task binary with size 1284.5 KiB\n",
      "25/05/28 11:51:25 WARN DAGScheduler: Broadcasting large task binary with size 1285.9 KiB\n",
      "25/05/28 11:51:25 WARN DAGScheduler: Broadcasting large task binary with size 1287.2 KiB\n",
      "25/05/28 11:51:25 WARN DAGScheduler: Broadcasting large task binary with size 1289.2 KiB\n",
      "25/05/28 11:51:25 WARN DAGScheduler: Broadcasting large task binary with size 1287.8 KiB\n"
     ]
    }
   ],
   "source": [
    "# There's a mean of 5.78 liked animes by profile, so we decide to use\n",
    "# rank = 5\n",
    "# maxIter = 10\n",
    "# regParam = 0.1\n",
    "als = ALS(rank=5,\n",
    "          userCol=\"profile_index\", itemCol=\"favorites_anime\",\n",
    "          ratingCol=\"is_favorite\", coldStartStrategy=\"drop\", nonnegative=True)\n",
    "\n",
    "model = als.fit(training)"
   ]
  },
  {
   "cell_type": "code",
   "execution_count": 59,
   "id": "97101b6f",
   "metadata": {},
   "outputs": [
    {
     "name": "stderr",
     "output_type": "stream",
     "text": [
      "25/05/28 11:51:30 WARN DAGScheduler: Broadcasting large task binary with size 1235.3 KiB\n",
      "25/05/28 11:51:30 WARN DAGScheduler: Broadcasting large task binary with size 1297.3 KiB\n",
      "25/05/28 11:51:30 WARN DAGScheduler: Broadcasting large task binary with size 1295.9 KiB\n",
      "25/05/28 11:51:31 WARN DAGScheduler: Broadcasting large task binary with size 1343.5 KiB\n"
     ]
    },
    {
     "name": "stdout",
     "output_type": "stream",
     "text": [
      "RMSE=0.09981547241451366\n"
     ]
    },
    {
     "name": "stderr",
     "output_type": "stream",
     "text": [
      "25/05/28 11:51:31 WARN DAGScheduler: Broadcasting large task binary with size 1235.4 KiB\n",
      "25/05/28 11:51:31 WARN DAGScheduler: Broadcasting large task binary with size 1297.3 KiB\n",
      "25/05/28 11:51:31 WARN DAGScheduler: Broadcasting large task binary with size 1295.9 KiB\n"
     ]
    },
    {
     "name": "stdout",
     "output_type": "stream",
     "text": [
      "+----------------+---------------+-----------+-------------+----------+\n",
      "|         profile|favorites_anime|is_favorite|profile_index|prediction|\n",
      "+----------------+---------------+-----------+-------------+----------+\n",
      "|     spartan_073|          30654|          1|      14801.0|  0.900804|\n",
      "|          Ilieas|          17389|          1|       2255.0| 0.9007878|\n",
      "|      Crusader_8|           1088|          1|      10779.0| 0.9007751|\n",
      "|         Mac_kun|          30654|          1|      11196.0| 0.9007956|\n",
      "|     ChoocoboYao|          30654|          1|       1137.0| 0.9007934|\n",
      "|          Wuster|           1088|          1|      21708.0|0.90077496|\n",
      "|        pandapow|           1088|          1|      24847.0| 0.9007811|\n",
      "|Bishounen_Hunter|           1088|          1|      15786.0|0.90078074|\n",
      "|         MrScout|          30654|          1|      33160.0| 0.9007913|\n",
      "|  Akuma-Shitsuji|           5300|          1|       9074.0| 0.9007893|\n",
      "|          sterl1|           1088|          1|       7097.0|0.90077573|\n",
      "|     Kon-Doriano|           1088|          1|       2720.0|0.90077436|\n",
      "|      JovanJacov|           8086|          1|      17865.0| 0.9007883|\n",
      "|       Dazel1412|          25517|          1|       7646.0| 0.9007679|\n",
      "|   Ikkaku_Turtle|          30654|          1|      30346.0| 0.9007984|\n",
      "|         Selsica|           8086|          1|      20372.0|0.90077263|\n",
      "|   TakamakiJoker|          30654|          1|       4745.0| 0.9008032|\n",
      "|      AmishaelMA|          30654|          1|        571.0| 0.9007939|\n",
      "|   CodeBlazeFate|           1088|          1|       1174.0|0.90077335|\n",
      "|       JosChaMur|          25517|          1|      17855.0| 0.9007705|\n",
      "+----------------+---------------+-----------+-------------+----------+\n",
      "only showing top 20 rows\n",
      "\n"
     ]
    }
   ],
   "source": [
    "evaluator = RegressionEvaluator(metricName=\"rmse\",labelCol=\"is_favorite\",predictionCol=\"prediction\")\n",
    "\n",
    "predictions = model.transform(test)\n",
    "rmse = evaluator.evaluate(predictions)\n",
    "\n",
    "print(\"RMSE=\"+str(rmse))\n",
    "\n",
    "predictions.show()"
   ]
  },
  {
   "cell_type": "code",
   "execution_count": 79,
   "id": "7d592131-0fa6-4564-929a-fdde502b5008",
   "metadata": {},
   "outputs": [
    {
     "name": "stderr",
     "output_type": "stream",
     "text": [
      "25/05/28 11:55:16 WARN DAGScheduler: Broadcasting large task binary with size 1344.6 KiB\n",
      "25/05/28 11:55:18 WARN DAGScheduler: Broadcasting large task binary with size 1338.5 KiB\n",
      "25/05/28 11:55:25 WARN DAGScheduler: Broadcasting large task binary with size 1223.5 KiB\n"
     ]
    },
    {
     "name": "stdout",
     "output_type": "stream",
     "text": [
      "            profile                                    recommendations\n",
      "0  -----noname-----  [(23703.0, 0.9009409546852112), (40256.0, 0.90...\n",
      "1   ---SnowFlake---  [(11859.0, 0.9010751247406006), (23703.0, 0.90...\n",
      "2          --Mizu--  [(11859.0, 0.9010722041130066), (23703.0, 0.90...\n",
      "3     --Sunclaudius  [(7103.0, 0.9009591341018677), (23703.0, 0.900...\n",
      "4   --animeislife--  [(40256.0, 0.900961697101593), (7103.0, 0.9009...\n"
     ]
    }
   ],
   "source": [
    "recs=model.recommendForAllUsers(5).toPandas()\n",
    "nrecs=recs.recommendations.apply(pd.Series) \\\n",
    "            .merge(recs, right_index = True, left_index = True) \\\n",
    "            .drop([\"recommendations\"], axis = 1) \\\n",
    "            .melt(id_vars = ['profile_index'], value_name = \"recommendation\") \\\n",
    "            .drop(\"variable\", axis = 1) \\\n",
    "            .dropna() \n",
    "nrecs=nrecs.sort_values('profile_index')\n",
    "nrecs=pd.concat([nrecs['recommendation'].apply(pd.Series), nrecs['profile_index']], axis = 1)\n",
    "nrecs.columns = [        \n",
    "        'favorites_anime',\n",
    "        'is_favorite',\n",
    "        'UserID_index'      \n",
    "     ]\n",
    "md=transformed.select(transformed['profile'],transformed['profile_index'],transformed['favorites_anime'])\n",
    "md=md.toPandas()\n",
    "dict1 =dict(zip(md['profile_index'],md['profile']))\n",
    "nrecs['profile']=nrecs['UserID_index'].map(dict1)\n",
    "nrecs=nrecs.sort_values('profile')\n",
    "nrecs.reset_index(drop=True, inplace=True)\n",
    "new=nrecs[['profile','favorites_anime','is_favorite']]\n",
    "new['recommendations'] = list(zip(new.favorites_anime, new.is_favorite))\n",
    "res=new[['profile','recommendations']]  \n",
    "df_favorites_based_reco=res['recommendations'].groupby([res.profile]).apply(list).reset_index()\n",
    "print(df_favorites_based_reco.head())"
   ]
  },
  {
   "cell_type": "code",
   "execution_count": null,
   "id": "f50cac03-01d8-4d09-b872-0ed736cfa522",
   "metadata": {},
   "outputs": [],
   "source": [
    "# TODO : export to Pandas DataFrame + export to.csv"
   ]
  },
  {
   "cell_type": "code",
   "execution_count": 81,
   "id": "36021418-8d75-4860-ac60-70b6b6d8c15c",
   "metadata": {},
   "outputs": [],
   "source": [
    "df_favorites_based_reco.to_csv(\"../data/als_is_favorite_based_reco.csv\", index=False)"
   ]
  },
  {
   "cell_type": "markdown",
   "id": "9aa08b5b-7026-444c-b218-57f2def0eccf",
   "metadata": {},
   "source": [
    "### Score"
   ]
  },
  {
   "cell_type": "code",
   "execution_count": 83,
   "id": "a0741660-f60f-4bdc-b30b-8738b47869b2",
   "metadata": {},
   "outputs": [
    {
     "name": "stdout",
     "output_type": "stream",
     "text": [
      "+---------------+---------+-----+\n",
      "|        profile|anime_uid|score|\n",
      "+---------------+---------+-----+\n",
      "| DesolatePsyche|    34096|    8|\n",
      "|      baekbeans|    34599|   10|\n",
      "|           skrn|    28891|    7|\n",
      "|   edgewalker00|     2904|    9|\n",
      "|aManOfCulture99|     4181|   10|\n",
      "|          eneri|     2904|   10|\n",
      "| Waffle_Empress|    16664|    6|\n",
      "|   NIGGER_BONER|     2904|    8|\n",
      "|         jchang|     2904|   10|\n",
      "|    shadowsplat|     4181|    4|\n",
      "|   angelsreview|     4672|    8|\n",
      "| CalebTheMenace|     4181|    9|\n",
      "|        Kiethol|     4181|   10|\n",
      "|          Eanki|    34599|    8|\n",
      "|      NekoKyupi|    34599|    9|\n",
      "|          12sed|     5114|   10|\n",
      "|  OVERPOWERED99|    30276|    8|\n",
      "|  MrAnimeCrunch|    30276|   10|\n",
      "|    JoJo_Stalin|    30276|    7|\n",
      "|        Kaishuu|     4181|   10|\n",
      "+---------------+---------+-----+\n",
      "only showing top 20 rows\n",
      "\n"
     ]
    }
   ],
   "source": [
    "df_sc_score = sc.createDataFrame(df_als_score)\n",
    "df_sc_score.show()"
   ]
  },
  {
   "cell_type": "code",
   "execution_count": 85,
   "id": "0656dd4d-6df4-45a7-9c9c-83ce5b4a066f",
   "metadata": {},
   "outputs": [
    {
     "name": "stdout",
     "output_type": "stream",
     "text": [
      "+---------------+---------+-----+-------------+\n",
      "|        profile|anime_uid|score|profile_index|\n",
      "+---------------+---------+-----+-------------+\n",
      "| DesolatePsyche|    34096|    8|         32.0|\n",
      "|      baekbeans|    34599|   10|       1104.0|\n",
      "|           skrn|    28891|    7|       1825.0|\n",
      "|   edgewalker00|     2904|    9|       3796.0|\n",
      "|aManOfCulture99|     4181|   10|       9589.0|\n",
      "|          eneri|     2904|   10|       9872.0|\n",
      "| Waffle_Empress|    16664|    6|        554.0|\n",
      "|   NIGGER_BONER|     2904|    8|      13796.0|\n",
      "|         jchang|     2904|   10|        653.0|\n",
      "|    shadowsplat|     4181|    4|      45563.0|\n",
      "|   angelsreview|     4672|    8|          8.0|\n",
      "| CalebTheMenace|     4181|    9|       5402.0|\n",
      "|        Kiethol|     4181|   10|       4353.0|\n",
      "|          Eanki|    34599|    8|        918.0|\n",
      "|      NekoKyupi|    34599|    9|      13855.0|\n",
      "|          12sed|     5114|   10|       3999.0|\n",
      "|  OVERPOWERED99|    30276|    8|         84.0|\n",
      "|  MrAnimeCrunch|    30276|   10|      29678.0|\n",
      "|    JoJo_Stalin|    30276|    7|      12874.0|\n",
      "|        Kaishuu|     4181|   10|       3407.0|\n",
      "+---------------+---------+-----+-------------+\n",
      "only showing top 20 rows\n",
      "\n"
     ]
    },
    {
     "name": "stderr",
     "output_type": "stream",
     "text": [
      "25/05/28 11:57:46 WARN DAGScheduler: Broadcasting large task binary with size 1979.0 KiB\n"
     ]
    }
   ],
   "source": [
    "indexer = StringIndexer(inputCol=\"profile\", outputCol=\"profile_index\")\n",
    "\n",
    "transformed = indexer.fit(df_sc_score).transform(df_sc_score)\n",
    "transformed.show()"
   ]
  },
  {
   "cell_type": "code",
   "execution_count": 87,
   "id": "1991132f-c2ed-4ed5-8702-0ceaf281d19c",
   "metadata": {},
   "outputs": [],
   "source": [
    "(training,test)=transformed.randomSplit([0.8, 0.2])"
   ]
  },
  {
   "cell_type": "code",
   "execution_count": 89,
   "id": "7cb61022-5a31-4718-8e39-5f235aa6ad0b",
   "metadata": {},
   "outputs": [
    {
     "name": "stderr",
     "output_type": "stream",
     "text": [
      "25/05/28 11:58:12 WARN DAGScheduler: Broadcasting large task binary with size 2007.8 KiB\n",
      "25/05/28 11:58:12 WARN DAGScheduler: Broadcasting large task binary with size 2010.2 KiB\n",
      "25/05/28 11:58:13 WARN DAGScheduler: Broadcasting large task binary with size 2011.7 KiB\n",
      "25/05/28 11:58:13 WARN DAGScheduler: Broadcasting large task binary with size 2013.0 KiB\n",
      "25/05/28 11:58:13 WARN DAGScheduler: Broadcasting large task binary with size 2011.9 KiB\n",
      "25/05/28 11:58:14 WARN DAGScheduler: Broadcasting large task binary with size 2013.2 KiB\n",
      "25/05/28 11:58:14 WARN DAGScheduler: Broadcasting large task binary with size 2014.0 KiB\n",
      "25/05/28 11:58:14 WARN DAGScheduler: Broadcasting large task binary with size 2017.1 KiB\n",
      "25/05/28 11:58:14 WARN DAGScheduler: Broadcasting large task binary with size 2018.5 KiB\n",
      "25/05/28 11:58:14 WARN DAGScheduler: Broadcasting large task binary with size 2019.9 KiB\n",
      "25/05/28 11:58:14 WARN DAGScheduler: Broadcasting large task binary with size 2021.3 KiB\n",
      "25/05/28 11:58:14 WARN DAGScheduler: Broadcasting large task binary with size 2022.7 KiB\n",
      "25/05/28 11:58:14 WARN DAGScheduler: Broadcasting large task binary with size 2024.1 KiB\n",
      "25/05/28 11:58:14 WARN DAGScheduler: Broadcasting large task binary with size 2025.5 KiB\n",
      "25/05/28 11:58:14 WARN DAGScheduler: Broadcasting large task binary with size 2026.8 KiB\n",
      "25/05/28 11:58:15 WARN DAGScheduler: Broadcasting large task binary with size 2028.2 KiB\n",
      "25/05/28 11:58:15 WARN DAGScheduler: Broadcasting large task binary with size 2029.6 KiB\n",
      "25/05/28 11:58:15 WARN DAGScheduler: Broadcasting large task binary with size 2031.0 KiB\n",
      "25/05/28 11:58:15 WARN DAGScheduler: Broadcasting large task binary with size 2032.4 KiB\n",
      "25/05/28 11:58:15 WARN DAGScheduler: Broadcasting large task binary with size 2033.8 KiB\n",
      "25/05/28 11:58:15 WARN DAGScheduler: Broadcasting large task binary with size 2035.2 KiB\n",
      "25/05/28 11:58:15 WARN DAGScheduler: Broadcasting large task binary with size 2036.5 KiB\n",
      "25/05/28 11:58:15 WARN DAGScheduler: Broadcasting large task binary with size 2037.9 KiB\n",
      "25/05/28 11:58:15 WARN DAGScheduler: Broadcasting large task binary with size 2039.3 KiB\n",
      "25/05/28 11:58:15 WARN DAGScheduler: Broadcasting large task binary with size 2040.7 KiB\n",
      "25/05/28 11:58:15 WARN DAGScheduler: Broadcasting large task binary with size 2042.1 KiB\n",
      "25/05/28 11:58:15 WARN DAGScheduler: Broadcasting large task binary with size 2044.1 KiB\n",
      "25/05/28 11:58:16 WARN DAGScheduler: Broadcasting large task binary with size 2042.7 KiB\n"
     ]
    }
   ],
   "source": [
    "# There's a mean of 2.72 score reviews by profile, so we decide to use\n",
    "# rank = 3\n",
    "# maxIter = 10\n",
    "# regParam = 0.1\n",
    "als = ALS(rank=2,\n",
    "          userCol=\"profile_index\", itemCol=\"anime_uid\",\n",
    "          ratingCol=\"score\", coldStartStrategy=\"drop\", nonnegative=True)\n",
    "\n",
    "model = als.fit(training)"
   ]
  },
  {
   "cell_type": "code",
   "execution_count": 91,
   "id": "7c752e27-de21-4f47-9b05-2d0eb36c2f8d",
   "metadata": {},
   "outputs": [
    {
     "name": "stderr",
     "output_type": "stream",
     "text": [
      "25/05/28 11:58:19 WARN DAGScheduler: Broadcasting large task binary with size 1990.2 KiB\n",
      "25/05/28 11:58:19 WARN DAGScheduler: Broadcasting large task binary with size 2.0 MiB\n",
      "25/05/28 11:58:19 WARN DAGScheduler: Broadcasting large task binary with size 2.0 MiB\n",
      "25/05/28 11:58:19 WARN DAGScheduler: Broadcasting large task binary with size 2.0 MiB\n",
      "25/05/28 11:58:20 WARN DAGScheduler: Broadcasting large task binary with size 1990.3 KiB\n",
      "25/05/28 11:58:20 WARN DAGScheduler: Broadcasting large task binary with size 2.0 MiB\n"
     ]
    },
    {
     "name": "stdout",
     "output_type": "stream",
     "text": [
      "RMSE=2.5592660458371874\n"
     ]
    },
    {
     "name": "stderr",
     "output_type": "stream",
     "text": [
      "25/05/28 11:58:20 WARN DAGScheduler: Broadcasting large task binary with size 2.0 MiB\n"
     ]
    },
    {
     "name": "stdout",
     "output_type": "stream",
     "text": [
      "+----------------+---------+-----+-------------+----------+\n",
      "|         profile|anime_uid|score|profile_index|prediction|\n",
      "+----------------+---------+-----+-------------+----------+\n",
      "| ZeroTheUltimate|     1088|   10|      15835.0|  8.064406|\n",
      "|Angel_Apocalypse|    25517|    8|        710.0|  9.111655|\n",
      "|          Satire|    25517|    7|        338.0| 6.9394593|\n",
      "|     SupremeLord|    25517|    8|         33.0| 7.2374926|\n",
      "|           kajia|     1088|    8|         14.0|  7.077851|\n",
      "|     barcaman101|     1088|   10|        118.0|  8.236349|\n",
      "|earl_of_sandvich|     6336|   10|         65.0|  9.274968|\n",
      "|        Norayuki|    30654|    8|       2342.0| 7.0106564|\n",
      "| LackOfARealLife|    30654|   10|        333.0|    8.6119|\n",
      "|           Kuta1|    30654|   10|        355.0| 7.4910936|\n",
      "|          Kyzari|    30654|    9|      13226.0|  8.193876|\n",
      "|        Kenyanke|    17389|    8|       4352.0| 3.3377738|\n",
      "|    SovietPsycho|    30654|    8|        339.0| 8.8195095|\n",
      "|        Ijsberry|    30654|   10|      12688.0| 10.109786|\n",
      "|      genesic123|     6336|    7|        886.0|  5.939147|\n",
      "|        wolfwing|    30654|   10|        112.0|  9.542153|\n",
      "|         Joe_Med|    30654|   10|       3401.0|  9.861673|\n",
      "|          Cyxnnn|    30654|   10|       3277.0|    7.4076|\n",
      "|      FurankuSan|    30654|    9|        383.0|  8.439812|\n",
      "|    MeggyKrueger|    30654|   10|       2826.0|  9.987093|\n",
      "+----------------+---------+-----+-------------+----------+\n",
      "only showing top 20 rows\n",
      "\n"
     ]
    }
   ],
   "source": [
    "evaluator = RegressionEvaluator(metricName=\"rmse\",labelCol=\"score\",predictionCol=\"prediction\")\n",
    "\n",
    "predictions = model.transform(test)\n",
    "rmse = evaluator.evaluate(predictions)\n",
    "\n",
    "print(\"RMSE=\"+str(rmse))\n",
    "\n",
    "predictions.show()"
   ]
  },
  {
   "cell_type": "code",
   "execution_count": 93,
   "id": "c668f1dc-a72f-49b1-b433-dbed0c6fd743",
   "metadata": {},
   "outputs": [
    {
     "name": "stderr",
     "output_type": "stream",
     "text": [
      "25/05/28 11:58:35 WARN DAGScheduler: Broadcasting large task binary with size 2.1 MiB\n",
      "25/05/28 11:58:39 WARN DAGScheduler: Broadcasting large task binary with size 2.0 MiB\n",
      "25/05/28 11:58:46 WARN DAGScheduler: Broadcasting large task binary with size 1978.5 KiB\n"
     ]
    },
    {
     "name": "stdout",
     "output_type": "stream",
     "text": [
      "            profile                                    recommendations\n",
      "0  -----noname-----  [(5172.0, 10.346378326416016), (19219.0, 10.58...\n",
      "1   ---SnowFlake---  [(5172.0, 16.226808547973633), (19219.0, 16.50...\n",
      "2       ---was-----  [(30030.0, 24.334794998168945), (18137.0, 24.2...\n",
      "3      --EYEPATCH--  [(19219.0, 25.72243309020996), (39415.0, 25.40...\n",
      "4          --Mizu--  [(2748.0, 26.11934471130371), (4286.0, 27.5448...\n"
     ]
    }
   ],
   "source": [
    "recs=model.recommendForAllUsers(5).toPandas()\n",
    "nrecs=recs.recommendations.apply(pd.Series) \\\n",
    "            .merge(recs, right_index = True, left_index = True) \\\n",
    "            .drop([\"recommendations\"], axis = 1) \\\n",
    "            .melt(id_vars = ['profile_index'], value_name = \"recommendation\") \\\n",
    "            .drop(\"variable\", axis = 1) \\\n",
    "            .dropna() \n",
    "nrecs=nrecs.sort_values('profile_index')\n",
    "nrecs=pd.concat([nrecs['recommendation'].apply(pd.Series), nrecs['profile_index']], axis = 1)\n",
    "nrecs.columns = [        \n",
    "        'anime_uid',\n",
    "        'score',\n",
    "        'UserID_index'      \n",
    "     ]\n",
    "md=transformed.select(transformed['profile'],transformed['profile_index'],transformed['anime_uid'])\n",
    "md=md.toPandas()\n",
    "dict1 =dict(zip(md['profile_index'],md['profile']))\n",
    "nrecs['profile']=nrecs['UserID_index'].map(dict1)\n",
    "nrecs=nrecs.sort_values('profile')\n",
    "nrecs.reset_index(drop=True, inplace=True)\n",
    "new=nrecs[['profile','anime_uid','score']]\n",
    "new['recommendations'] = list(zip(new.anime_uid, new.score))\n",
    "res=new[['profile','recommendations']]  \n",
    "df_score_reviews_based_reco=res['recommendations'].groupby([res.profile]).apply(list).reset_index()\n",
    "print(df_score_reviews_based_reco.head())"
   ]
  },
  {
   "cell_type": "code",
   "execution_count": 95,
   "id": "7d983c7c-8d8f-4632-beca-000cb349d2b6",
   "metadata": {},
   "outputs": [],
   "source": [
    "df_score_reviews_based_reco.to_csv(\"../data/als_score_reviews_based_reco.csv\", index=False)"
   ]
  },
  {
   "cell_type": "markdown",
   "id": "29749225",
   "metadata": {},
   "source": [
    "### Favorite score"
   ]
  },
  {
   "cell_type": "code",
   "execution_count": 18,
   "id": "ecdd479d",
   "metadata": {},
   "outputs": [
    {
     "name": "stderr",
     "output_type": "stream",
     "text": [
      "25/05/28 16:26:33 WARN TaskSetManager: Stage 0 contains a task of very large size (1012 KiB). The maximum recommended task size is 1000 KiB.\n",
      "                                                                                \r"
     ]
    },
    {
     "name": "stdout",
     "output_type": "stream",
     "text": [
      "+--------------+---------------+-------+-------+-----+\n",
      "|       profile|favorites_anime|score_x|score_y|score|\n",
      "+--------------+---------------+-------+-------+-----+\n",
      "|DesolatePsyche|          33352|   8.62|   8.62| 8.62|\n",
      "|DesolatePsyche|          25013|   8.13|   8.13| 8.13|\n",
      "|DesolatePsyche|           5530|    7.8|    7.8|  7.8|\n",
      "|DesolatePsyche|          33674|   8.51|   8.51| 8.51|\n",
      "|DesolatePsyche|           1482|   8.12|   8.12| 8.12|\n",
      "|DesolatePsyche|            269|   7.87|   7.87| 7.87|\n",
      "|DesolatePsyche|          18245|    7.8|    7.8|  7.8|\n",
      "|DesolatePsyche|           2904|   8.93|   8.93| 8.93|\n",
      "|DesolatePsyche|          27899|   7.28|   7.28| 7.28|\n",
      "|DesolatePsyche|          17074|   8.76|   8.76| 8.76|\n",
      "|DesolatePsyche|          12291|   7.58|   7.58| 7.58|\n",
      "|DesolatePsyche|            226|   7.69|   7.69| 7.69|\n",
      "|DesolatePsyche|          28851|   9.01|   9.01| 9.01|\n",
      "|DesolatePsyche|           8525|   7.82|   7.82| 7.82|\n",
      "|DesolatePsyche|           6594|   8.39|   8.39| 8.39|\n",
      "|DesolatePsyche|           4981|   7.57|   7.57| 7.57|\n",
      "|DesolatePsyche|           1698|   8.37|   8.37| 8.37|\n",
      "|DesolatePsyche|            457|   8.71|   8.71| 8.71|\n",
      "|DesolatePsyche|            235|   8.24|   8.24| 8.24|\n",
      "|DesolatePsyche|          34618|   7.49|   7.49| 7.49|\n",
      "+--------------+---------------+-------+-------+-----+\n",
      "only showing top 20 rows\n",
      "\n"
     ]
    }
   ],
   "source": [
    "df_sc_favorite_score = sc.createDataFrame(df_als_favorite_score)\n",
    "df_sc_favorite_score.show()"
   ]
  },
  {
   "cell_type": "code",
   "execution_count": 20,
   "id": "6ccd3c7d",
   "metadata": {},
   "outputs": [
    {
     "name": "stderr",
     "output_type": "stream",
     "text": [
      "25/05/28 16:26:37 WARN TaskSetManager: Stage 1 contains a task of very large size (1012 KiB). The maximum recommended task size is 1000 KiB.\n"
     ]
    },
    {
     "name": "stdout",
     "output_type": "stream",
     "text": [
      "+--------------+---------------+-------+-------+-----+-------------+\n",
      "|       profile|favorites_anime|score_x|score_y|score|profile_index|\n",
      "+--------------+---------------+-------+-------+-----+-------------+\n",
      "|DesolatePsyche|          33352|   8.62|   8.62| 8.62|         20.0|\n",
      "|DesolatePsyche|          25013|   8.13|   8.13| 8.13|         20.0|\n",
      "|DesolatePsyche|           5530|    7.8|    7.8|  7.8|         20.0|\n",
      "|DesolatePsyche|          33674|   8.51|   8.51| 8.51|         20.0|\n",
      "|DesolatePsyche|           1482|   8.12|   8.12| 8.12|         20.0|\n",
      "|DesolatePsyche|            269|   7.87|   7.87| 7.87|         20.0|\n",
      "|DesolatePsyche|          18245|    7.8|    7.8|  7.8|         20.0|\n",
      "|DesolatePsyche|           2904|   8.93|   8.93| 8.93|         20.0|\n",
      "|DesolatePsyche|          27899|   7.28|   7.28| 7.28|         20.0|\n",
      "|DesolatePsyche|          17074|   8.76|   8.76| 8.76|         20.0|\n",
      "|DesolatePsyche|          12291|   7.58|   7.58| 7.58|         20.0|\n",
      "|DesolatePsyche|            226|   7.69|   7.69| 7.69|         20.0|\n",
      "|DesolatePsyche|          28851|   9.01|   9.01| 9.01|         20.0|\n",
      "|DesolatePsyche|           8525|   7.82|   7.82| 7.82|         20.0|\n",
      "|DesolatePsyche|           6594|   8.39|   8.39| 8.39|         20.0|\n",
      "|DesolatePsyche|           4981|   7.57|   7.57| 7.57|         20.0|\n",
      "|DesolatePsyche|           1698|   8.37|   8.37| 8.37|         20.0|\n",
      "|DesolatePsyche|            457|   8.71|   8.71| 8.71|         20.0|\n",
      "|DesolatePsyche|            235|   8.24|   8.24| 8.24|         20.0|\n",
      "|DesolatePsyche|          34618|   7.49|   7.49| 7.49|         20.0|\n",
      "+--------------+---------------+-------+-------+-----+-------------+\n",
      "only showing top 20 rows\n",
      "\n"
     ]
    },
    {
     "name": "stderr",
     "output_type": "stream",
     "text": [
      "25/05/28 16:26:38 WARN DAGScheduler: Broadcasting large task binary with size 1224.6 KiB\n",
      "25/05/28 16:26:38 WARN TaskSetManager: Stage 4 contains a task of very large size (1012 KiB). The maximum recommended task size is 1000 KiB.\n"
     ]
    }
   ],
   "source": [
    "indexer = StringIndexer(inputCol=\"profile\", outputCol=\"profile_index\")\n",
    "\n",
    "transformed = indexer.fit(df_sc_favorite_score).transform(df_sc_favorite_score)\n",
    "transformed.show()"
   ]
  },
  {
   "cell_type": "code",
   "execution_count": 22,
   "id": "cca284d5",
   "metadata": {},
   "outputs": [],
   "source": [
    "(training,test)=transformed.randomSplit([0.8, 0.2])"
   ]
  },
  {
   "cell_type": "code",
   "execution_count": 24,
   "id": "575c8220",
   "metadata": {},
   "outputs": [
    {
     "name": "stderr",
     "output_type": "stream",
     "text": [
      "25/05/28 16:26:50 WARN DAGScheduler: Broadcasting large task binary with size 1252.3 KiB\n",
      "25/05/28 16:26:50 WARN TaskSetManager: Stage 5 contains a task of very large size (1012 KiB). The maximum recommended task size is 1000 KiB.\n",
      "25/05/28 16:26:50 WARN DAGScheduler: Broadcasting large task binary with size 1254.7 KiB\n",
      "25/05/28 16:26:50 WARN TaskSetManager: Stage 6 contains a task of very large size (1012 KiB). The maximum recommended task size is 1000 KiB.\n",
      "25/05/28 16:26:50 WARN DAGScheduler: Broadcasting large task binary with size 1256.2 KiB\n",
      "25/05/28 16:26:51 WARN DAGScheduler: Broadcasting large task binary with size 1257.5 KiB\n",
      "25/05/28 16:26:51 WARN DAGScheduler: Broadcasting large task binary with size 1256.4 KiB\n",
      "25/05/28 16:26:51 WARN DAGScheduler: Broadcasting large task binary with size 1257.7 KiB\n",
      "25/05/28 16:26:52 WARN DAGScheduler: Broadcasting large task binary with size 1258.5 KiB\n",
      "25/05/28 16:26:52 WARN InstanceBuilder: Failed to load implementation from:dev.ludovic.netlib.blas.JNIBLAS\n",
      "25/05/28 16:26:52 WARN InstanceBuilder: Failed to load implementation from:dev.ludovic.netlib.blas.VectorBLAS\n",
      "25/05/28 16:26:52 WARN DAGScheduler: Broadcasting large task binary with size 1261.6 KiB\n",
      "25/05/28 16:26:52 WARN DAGScheduler: Broadcasting large task binary with size 1263.0 KiB\n",
      "25/05/28 16:26:52 WARN DAGScheduler: Broadcasting large task binary with size 1264.4 KiB\n",
      "25/05/28 16:26:53 WARN DAGScheduler: Broadcasting large task binary with size 1265.8 KiB\n",
      "25/05/28 16:26:53 WARN DAGScheduler: Broadcasting large task binary with size 1267.2 KiB\n",
      "25/05/28 16:26:53 WARN DAGScheduler: Broadcasting large task binary with size 1268.6 KiB\n",
      "25/05/28 16:26:53 WARN DAGScheduler: Broadcasting large task binary with size 1269.9 KiB\n",
      "25/05/28 16:26:53 WARN DAGScheduler: Broadcasting large task binary with size 1271.3 KiB\n",
      "25/05/28 16:26:53 WARN DAGScheduler: Broadcasting large task binary with size 1272.7 KiB\n",
      "25/05/28 16:26:53 WARN DAGScheduler: Broadcasting large task binary with size 1274.1 KiB\n",
      "25/05/28 16:26:53 WARN DAGScheduler: Broadcasting large task binary with size 1275.5 KiB\n",
      "25/05/28 16:26:53 WARN DAGScheduler: Broadcasting large task binary with size 1276.9 KiB\n",
      "25/05/28 16:26:53 WARN DAGScheduler: Broadcasting large task binary with size 1278.3 KiB\n",
      "25/05/28 16:26:53 WARN DAGScheduler: Broadcasting large task binary with size 1279.7 KiB\n",
      "25/05/28 16:26:53 WARN DAGScheduler: Broadcasting large task binary with size 1281.0 KiB\n",
      "25/05/28 16:26:53 WARN DAGScheduler: Broadcasting large task binary with size 1282.4 KiB\n",
      "25/05/28 16:26:54 WARN DAGScheduler: Broadcasting large task binary with size 1283.8 KiB\n",
      "25/05/28 16:26:54 WARN DAGScheduler: Broadcasting large task binary with size 1285.2 KiB\n",
      "25/05/28 16:26:54 WARN DAGScheduler: Broadcasting large task binary with size 1286.6 KiB\n",
      "25/05/28 16:26:54 WARN DAGScheduler: Broadcasting large task binary with size 1288.5 KiB\n",
      "25/05/28 16:26:54 WARN DAGScheduler: Broadcasting large task binary with size 1287.2 KiB\n"
     ]
    }
   ],
   "source": [
    "# There's a mean of 5.77 liked animes by profile, so we decide to use\n",
    "# rank = 5\n",
    "# maxIter = 10\n",
    "# regParam = 0.1\n",
    "als = ALS(rank=5,\n",
    "          userCol=\"profile_index\", itemCol=\"favorites_anime\",\n",
    "          ratingCol=\"score\", coldStartStrategy=\"drop\", nonnegative=True)\n",
    "\n",
    "model = als.fit(training)"
   ]
  },
  {
   "cell_type": "code",
   "execution_count": 26,
   "id": "f8e28f64",
   "metadata": {},
   "outputs": [
    {
     "name": "stderr",
     "output_type": "stream",
     "text": [
      "25/05/28 16:27:24 WARN DAGScheduler: Broadcasting large task binary with size 1235.8 KiB\n",
      "25/05/28 16:27:24 WARN TaskSetManager: Stage 59 contains a task of very large size (1012 KiB). The maximum recommended task size is 1000 KiB.\n",
      "25/05/28 16:27:24 WARN DAGScheduler: Broadcasting large task binary with size 1296.6 KiB\n",
      "25/05/28 16:27:24 WARN DAGScheduler: Broadcasting large task binary with size 1295.2 KiB\n",
      "25/05/28 16:27:25 WARN DAGScheduler: Broadcasting large task binary with size 1341.9 KiB\n"
     ]
    },
    {
     "name": "stdout",
     "output_type": "stream",
     "text": [
      "RMSE=0.5261766102761597\n"
     ]
    },
    {
     "name": "stderr",
     "output_type": "stream",
     "text": [
      "25/05/28 16:27:26 WARN DAGScheduler: Broadcasting large task binary with size 1236.4 KiB\n",
      "25/05/28 16:27:26 WARN TaskSetManager: Stage 114 contains a task of very large size (1012 KiB). The maximum recommended task size is 1000 KiB.\n",
      "25/05/28 16:27:26 WARN DAGScheduler: Broadcasting large task binary with size 1296.6 KiB\n",
      "25/05/28 16:27:26 WARN DAGScheduler: Broadcasting large task binary with size 1295.2 KiB\n"
     ]
    },
    {
     "name": "stdout",
     "output_type": "stream",
     "text": [
      "+--------------+---------------+-------+-------+-----+-------------+----------+\n",
      "|       profile|favorites_anime|score_x|score_y|score|profile_index|prediction|\n",
      "+--------------+---------------+-------+-------+-----+-------------+----------+\n",
      "|     Andrew729|           2605|   7.95|   7.95| 7.95|      29744.0|  7.056234|\n",
      "|Apomaro-Mellow|          10161|   7.67|   7.67| 7.67|      15447.0| 7.4113045|\n",
      "|        Breeon|          23273|   8.83|   8.83| 8.83|      15846.0|  8.547776|\n",
      "|        Breeon|          30654|    8.6|    8.6|  8.6|      15846.0|  8.333976|\n",
      "|     Flexicute|            210|   7.83|   7.83| 7.83|      12799.0| 7.4189954|\n",
      "|  brass2themax|            210|   7.83|   7.83| 7.83|      22373.0|  7.448699|\n",
      "|  brass2themax|           9253|   9.11|   9.11| 9.11|      22373.0|  8.785487|\n",
      "|   partysmores|            889|    8.1|    8.1|  8.1|       6654.0|   7.79725|\n",
      "|   partysmores|           9941|    8.0|    8.0|  8.0|       6654.0|  7.737104|\n",
      "|          paum|           2001|    8.7|    8.7|  8.7|       6658.0|  8.383488|\n",
      "|          paum|           7311|   8.68|   8.68| 8.68|       6658.0|  8.365009|\n",
      "|thiago_pagogna|            877|   8.46|   8.46| 8.46|      25591.0|  8.164833|\n",
      "|     CaptainRk|            226|   7.69|   7.69| 7.69|      15967.0|  7.479324|\n",
      "|     Mailliwah|          10588|   7.58|   7.58| 7.58|      27261.0|  7.194647|\n",
      "|   OMGITSGARRY|           9367|   7.04|   7.04| 7.04|      19325.0| 6.8697414|\n",
      "|         Ren07|           2251|   8.44|   8.44| 8.44|      19878.0|  8.133058|\n",
      "|         Ren07|          34599|   8.83|   8.83| 8.83|      19878.0|  8.503513|\n",
      "|        SSL443|           6213|   7.79|   7.79| 7.79|       4158.0| 7.5218754|\n",
      "|        SSL443|          18679|   8.16|   8.16| 8.16|       4158.0| 7.8507857|\n",
      "|        SSL443|          21511|   6.97|   6.97| 6.97|       4158.0|  6.723159|\n",
      "+--------------+---------------+-------+-------+-----+-------------+----------+\n",
      "only showing top 20 rows\n",
      "\n"
     ]
    }
   ],
   "source": [
    "evaluator = RegressionEvaluator(metricName=\"rmse\",labelCol=\"score\",predictionCol=\"prediction\")\n",
    "\n",
    "predictions = model.transform(test)\n",
    "rmse = evaluator.evaluate(predictions)\n",
    "\n",
    "print(\"RMSE=\"+str(rmse))\n",
    "\n",
    "predictions.show()"
   ]
  },
  {
   "cell_type": "code",
   "execution_count": 28,
   "id": "5d523c39",
   "metadata": {},
   "outputs": [
    {
     "name": "stderr",
     "output_type": "stream",
     "text": [
      "25/05/28 16:28:11 WARN DAGScheduler: Broadcasting large task binary with size 1343.9 KiB\n",
      "25/05/28 16:28:14 WARN DAGScheduler: Broadcasting large task binary with size 1337.9 KiB\n",
      "25/05/28 16:28:21 WARN DAGScheduler: Broadcasting large task binary with size 1223.4 KiB\n",
      "25/05/28 16:28:21 WARN TaskSetManager: Stage 218 contains a task of very large size (1012 KiB). The maximum recommended task size is 1000 KiB.\n"
     ]
    },
    {
     "name": "stdout",
     "output_type": "stream",
     "text": [
      "            profile                                    recommendations\n",
      "0  -----noname-----  [(11467.0, 18.228002548217773), (32188.0, 18.6...\n",
      "1   ---SnowFlake---  [(11467.0, 18.263790130615234), (1360.0, 17.25...\n",
      "2          --Mizu--  [(1360.0, 17.87210464477539), (21349.0, 18.597...\n",
      "3     --Sunclaudius  [(21349.0, 18.819751739501953), (39392.0, 18.7...\n",
      "4   --animeislife--  [(11467.0, 18.025352478027344), (21349.0, 18.7...\n"
     ]
    }
   ],
   "source": [
    "recs=model.recommendForAllUsers(5).toPandas()\n",
    "nrecs=recs.recommendations.apply(pd.Series) \\\n",
    "            .merge(recs, right_index = True, left_index = True) \\\n",
    "            .drop([\"recommendations\"], axis = 1) \\\n",
    "            .melt(id_vars = ['profile_index'], value_name = \"recommendation\") \\\n",
    "            .drop(\"variable\", axis = 1) \\\n",
    "            .dropna() \n",
    "nrecs=nrecs.sort_values('profile_index')\n",
    "nrecs=pd.concat([nrecs['recommendation'].apply(pd.Series), nrecs['profile_index']], axis = 1)\n",
    "nrecs.columns = [        \n",
    "        'favorites_anime',\n",
    "        'score',\n",
    "        'UserID_index'      \n",
    "     ]\n",
    "md=transformed.select(transformed['profile'],transformed['profile_index'],transformed['favorites_anime'])\n",
    "md=md.toPandas()\n",
    "dict1 =dict(zip(md['profile_index'],md['profile']))\n",
    "nrecs['profile']=nrecs['UserID_index'].map(dict1)\n",
    "nrecs=nrecs.sort_values('profile')\n",
    "nrecs.reset_index(drop=True, inplace=True)\n",
    "new=nrecs[['profile','favorites_anime','score']]\n",
    "new['recommendations'] = list(zip(new.favorites_anime, new.score))\n",
    "res=new[['profile','recommendations']]  \n",
    "df_score_favorite_based_reco=res['recommendations'].groupby([res.profile]).apply(list).reset_index()\n",
    "print(df_score_favorite_based_reco.head())"
   ]
  },
  {
   "cell_type": "code",
   "execution_count": 30,
   "id": "7e74e493",
   "metadata": {},
   "outputs": [],
   "source": [
    "df_score_favorite_based_reco.to_csv(\"../data/als_score_favorite_based_reco.csv\", index=False)"
   ]
  },
  {
   "cell_type": "markdown",
   "id": "ed6917aa",
   "metadata": {},
   "source": [
    "## Analysis"
   ]
  },
  {
   "cell_type": "code",
   "execution_count": 181,
   "id": "a764417c",
   "metadata": {},
   "outputs": [
    {
     "data": {
      "text/html": [
       "<div>\n",
       "<style scoped>\n",
       "    .dataframe tbody tr th:only-of-type {\n",
       "        vertical-align: middle;\n",
       "    }\n",
       "\n",
       "    .dataframe tbody tr th {\n",
       "        vertical-align: top;\n",
       "    }\n",
       "\n",
       "    .dataframe thead th {\n",
       "        text-align: right;\n",
       "    }\n",
       "</style>\n",
       "<table border=\"1\" class=\"dataframe\">\n",
       "  <thead>\n",
       "    <tr style=\"text-align: right;\">\n",
       "      <th></th>\n",
       "      <th>profile</th>\n",
       "      <th>recommendations</th>\n",
       "    </tr>\n",
       "  </thead>\n",
       "  <tbody>\n",
       "    <tr>\n",
       "      <th>0</th>\n",
       "      <td>-----noname-----</td>\n",
       "      <td>[(23703.0, 0.9009409546852112), (40256.0, 0.90...</td>\n",
       "    </tr>\n",
       "    <tr>\n",
       "      <th>1</th>\n",
       "      <td>---SnowFlake---</td>\n",
       "      <td>[(11859.0, 0.9010751247406006), (23703.0, 0.90...</td>\n",
       "    </tr>\n",
       "    <tr>\n",
       "      <th>2</th>\n",
       "      <td>--Mizu--</td>\n",
       "      <td>[(11859.0, 0.9010722041130066), (23703.0, 0.90...</td>\n",
       "    </tr>\n",
       "    <tr>\n",
       "      <th>3</th>\n",
       "      <td>--Sunclaudius</td>\n",
       "      <td>[(7103.0, 0.9009591341018677), (23703.0, 0.900...</td>\n",
       "    </tr>\n",
       "    <tr>\n",
       "      <th>4</th>\n",
       "      <td>--animeislife--</td>\n",
       "      <td>[(40256.0, 0.900961697101593), (7103.0, 0.9009...</td>\n",
       "    </tr>\n",
       "  </tbody>\n",
       "</table>\n",
       "</div>"
      ],
      "text/plain": [
       "            profile                                    recommendations\n",
       "0  -----noname-----  [(23703.0, 0.9009409546852112), (40256.0, 0.90...\n",
       "1   ---SnowFlake---  [(11859.0, 0.9010751247406006), (23703.0, 0.90...\n",
       "2          --Mizu--  [(11859.0, 0.9010722041130066), (23703.0, 0.90...\n",
       "3     --Sunclaudius  [(7103.0, 0.9009591341018677), (23703.0, 0.900...\n",
       "4   --animeislife--  [(40256.0, 0.900961697101593), (7103.0, 0.9009..."
      ]
     },
     "execution_count": 181,
     "metadata": {},
     "output_type": "execute_result"
    }
   ],
   "source": [
    "df_score_favorite_based_reco = pd.read_csv(\"../data/als_is_favorite_based_reco.csv\")\n",
    "df_score_favorite_based_reco.head()"
   ]
  },
  {
   "cell_type": "code",
   "execution_count": 182,
   "id": "56b97dda",
   "metadata": {},
   "outputs": [
    {
     "data": {
      "text/plain": [
       "'[(23703.0, 0.9009409546852112), (40256.0, 0.9009571075439453), (36688.0, 0.9009379744529724), (7103.0, 0.9009591937065125), (11859.0, 0.9010590314865112)]'"
      ]
     },
     "execution_count": 182,
     "metadata": {},
     "output_type": "execute_result"
    }
   ],
   "source": [
    "df_score_favorite_based_reco[\"recommendations\"][0]"
   ]
  },
  {
   "cell_type": "code",
   "execution_count": 193,
   "id": "b96bf9e3",
   "metadata": {},
   "outputs": [
    {
     "data": {
      "text/html": [
       "<div>\n",
       "<style scoped>\n",
       "    .dataframe tbody tr th:only-of-type {\n",
       "        vertical-align: middle;\n",
       "    }\n",
       "\n",
       "    .dataframe tbody tr th {\n",
       "        vertical-align: top;\n",
       "    }\n",
       "\n",
       "    .dataframe thead th {\n",
       "        text-align: right;\n",
       "    }\n",
       "</style>\n",
       "<table border=\"1\" class=\"dataframe\">\n",
       "  <thead>\n",
       "    <tr style=\"text-align: right;\">\n",
       "      <th></th>\n",
       "      <th>profile</th>\n",
       "      <th>gender</th>\n",
       "      <th>birthday</th>\n",
       "      <th>favorites_anime</th>\n",
       "      <th>link</th>\n",
       "      <th>age</th>\n",
       "    </tr>\n",
       "  </thead>\n",
       "  <tbody>\n",
       "    <tr>\n",
       "      <th>0</th>\n",
       "      <td>DesolatePsyche</td>\n",
       "      <td>Male</td>\n",
       "      <td>Oct 2, 1994</td>\n",
       "      <td>['33352', '25013', '5530', '33674', '1482', '2...</td>\n",
       "      <td>https://myanimelist.net/profile/DesolatePsyche</td>\n",
       "      <td>26.0</td>\n",
       "    </tr>\n",
       "    <tr>\n",
       "      <th>1</th>\n",
       "      <td>baekbeans</td>\n",
       "      <td>Female</td>\n",
       "      <td>Nov 10, 2000</td>\n",
       "      <td>['11061', '31964', '853', '20583', '918', '925...</td>\n",
       "      <td>https://myanimelist.net/profile/baekbeans</td>\n",
       "      <td>20.0</td>\n",
       "    </tr>\n",
       "  </tbody>\n",
       "</table>\n",
       "</div>"
      ],
      "text/plain": [
       "          profile  gender      birthday  \\\n",
       "0  DesolatePsyche    Male   Oct 2, 1994   \n",
       "1       baekbeans  Female  Nov 10, 2000   \n",
       "\n",
       "                                     favorites_anime  \\\n",
       "0  ['33352', '25013', '5530', '33674', '1482', '2...   \n",
       "1  ['11061', '31964', '853', '20583', '918', '925...   \n",
       "\n",
       "                                             link   age  \n",
       "0  https://myanimelist.net/profile/DesolatePsyche  26.0  \n",
       "1       https://myanimelist.net/profile/baekbeans  20.0  "
      ]
     },
     "metadata": {},
     "output_type": "display_data"
    },
    {
     "data": {
      "text/html": [
       "<div>\n",
       "<style scoped>\n",
       "    .dataframe tbody tr th:only-of-type {\n",
       "        vertical-align: middle;\n",
       "    }\n",
       "\n",
       "    .dataframe tbody tr th {\n",
       "        vertical-align: top;\n",
       "    }\n",
       "\n",
       "    .dataframe thead th {\n",
       "        text-align: right;\n",
       "    }\n",
       "</style>\n",
       "<table border=\"1\" class=\"dataframe\">\n",
       "  <thead>\n",
       "    <tr style=\"text-align: right;\">\n",
       "      <th></th>\n",
       "      <th>uid</th>\n",
       "      <th>profile</th>\n",
       "      <th>anime_uid</th>\n",
       "      <th>text</th>\n",
       "      <th>score</th>\n",
       "      <th>scores</th>\n",
       "      <th>link</th>\n",
       "    </tr>\n",
       "  </thead>\n",
       "  <tbody>\n",
       "    <tr>\n",
       "      <th>0</th>\n",
       "      <td>255938</td>\n",
       "      <td>DesolatePsyche</td>\n",
       "      <td>34096</td>\n",
       "      <td>\\n           \\n         \\n           \\n       ...</td>\n",
       "      <td>8</td>\n",
       "      <td>{'Overall': '8', 'Story': '8', 'Animation': '8...</td>\n",
       "      <td>https://myanimelist.net/reviews.php?id=255938</td>\n",
       "    </tr>\n",
       "    <tr>\n",
       "      <th>1</th>\n",
       "      <td>259117</td>\n",
       "      <td>baekbeans</td>\n",
       "      <td>34599</td>\n",
       "      <td>\\n           \\n         \\n           \\n       ...</td>\n",
       "      <td>10</td>\n",
       "      <td>{'Overall': '10', 'Story': '10', 'Animation': ...</td>\n",
       "      <td>https://myanimelist.net/reviews.php?id=259117</td>\n",
       "    </tr>\n",
       "  </tbody>\n",
       "</table>\n",
       "</div>"
      ],
      "text/plain": [
       "      uid         profile  anime_uid  \\\n",
       "0  255938  DesolatePsyche      34096   \n",
       "1  259117       baekbeans      34599   \n",
       "\n",
       "                                                text  score  \\\n",
       "0  \\n           \\n         \\n           \\n       ...      8   \n",
       "1  \\n           \\n         \\n           \\n       ...     10   \n",
       "\n",
       "                                              scores  \\\n",
       "0  {'Overall': '8', 'Story': '8', 'Animation': '8...   \n",
       "1  {'Overall': '10', 'Story': '10', 'Animation': ...   \n",
       "\n",
       "                                            link  \n",
       "0  https://myanimelist.net/reviews.php?id=255938  \n",
       "1  https://myanimelist.net/reviews.php?id=259117  "
      ]
     },
     "metadata": {},
     "output_type": "display_data"
    },
    {
     "data": {
      "text/html": [
       "<div>\n",
       "<style scoped>\n",
       "    .dataframe tbody tr th:only-of-type {\n",
       "        vertical-align: middle;\n",
       "    }\n",
       "\n",
       "    .dataframe tbody tr th {\n",
       "        vertical-align: top;\n",
       "    }\n",
       "\n",
       "    .dataframe thead th {\n",
       "        text-align: right;\n",
       "    }\n",
       "</style>\n",
       "<table border=\"1\" class=\"dataframe\">\n",
       "  <thead>\n",
       "    <tr style=\"text-align: right;\">\n",
       "      <th></th>\n",
       "      <th>title</th>\n",
       "      <th>synopsis</th>\n",
       "      <th>genre</th>\n",
       "      <th>aired</th>\n",
       "      <th>episodes</th>\n",
       "      <th>members</th>\n",
       "      <th>popularity</th>\n",
       "      <th>ranked</th>\n",
       "      <th>score</th>\n",
       "      <th>img_url</th>\n",
       "      <th>link</th>\n",
       "    </tr>\n",
       "    <tr>\n",
       "      <th>uid</th>\n",
       "      <th></th>\n",
       "      <th></th>\n",
       "      <th></th>\n",
       "      <th></th>\n",
       "      <th></th>\n",
       "      <th></th>\n",
       "      <th></th>\n",
       "      <th></th>\n",
       "      <th></th>\n",
       "      <th></th>\n",
       "      <th></th>\n",
       "    </tr>\n",
       "  </thead>\n",
       "  <tbody>\n",
       "    <tr>\n",
       "      <th>28891</th>\n",
       "      <td>Haikyuu!! Second Season</td>\n",
       "      <td>Following their participation at the Inter-Hig...</td>\n",
       "      <td>['Comedy', 'Sports', 'Drama', 'School', 'Shoun...</td>\n",
       "      <td>Oct 4, 2015 to Mar 27, 2016</td>\n",
       "      <td>25</td>\n",
       "      <td>489888</td>\n",
       "      <td>141</td>\n",
       "      <td>25.0</td>\n",
       "      <td>8.82</td>\n",
       "      <td>https://cdn.myanimelist.net/images/anime/9/766...</td>\n",
       "      <td>https://myanimelist.net/anime/28891/Haikyuu_Se...</td>\n",
       "    </tr>\n",
       "    <tr>\n",
       "      <th>23273</th>\n",
       "      <td>Shigatsu wa Kimi no Uso</td>\n",
       "      <td>Music accompanies the path of the human metron...</td>\n",
       "      <td>['Drama', 'Music', 'Romance', 'School', 'Shoun...</td>\n",
       "      <td>Oct 10, 2014 to Mar 20, 2015</td>\n",
       "      <td>22</td>\n",
       "      <td>995473</td>\n",
       "      <td>28</td>\n",
       "      <td>24.0</td>\n",
       "      <td>8.83</td>\n",
       "      <td>https://cdn.myanimelist.net/images/anime/3/671...</td>\n",
       "      <td>https://myanimelist.net/anime/23273/Shigatsu_w...</td>\n",
       "    </tr>\n",
       "  </tbody>\n",
       "</table>\n",
       "</div>"
      ],
      "text/plain": [
       "                         title  \\\n",
       "uid                              \n",
       "28891  Haikyuu!! Second Season   \n",
       "23273  Shigatsu wa Kimi no Uso   \n",
       "\n",
       "                                                synopsis  \\\n",
       "uid                                                        \n",
       "28891  Following their participation at the Inter-Hig...   \n",
       "23273  Music accompanies the path of the human metron...   \n",
       "\n",
       "                                                   genre  \\\n",
       "uid                                                        \n",
       "28891  ['Comedy', 'Sports', 'Drama', 'School', 'Shoun...   \n",
       "23273  ['Drama', 'Music', 'Romance', 'School', 'Shoun...   \n",
       "\n",
       "                              aired  episodes  members  popularity  ranked  \\\n",
       "uid                                                                          \n",
       "28891   Oct 4, 2015 to Mar 27, 2016        25   489888         141    25.0   \n",
       "23273  Oct 10, 2014 to Mar 20, 2015        22   995473          28    24.0   \n",
       "\n",
       "       score                                            img_url  \\\n",
       "uid                                                               \n",
       "28891   8.82  https://cdn.myanimelist.net/images/anime/9/766...   \n",
       "23273   8.83  https://cdn.myanimelist.net/images/anime/3/671...   \n",
       "\n",
       "                                                    link  \n",
       "uid                                                       \n",
       "28891  https://myanimelist.net/anime/28891/Haikyuu_Se...  \n",
       "23273  https://myanimelist.net/anime/23273/Shigatsu_w...  "
      ]
     },
     "metadata": {},
     "output_type": "display_data"
    }
   ],
   "source": [
    "data_profiles = pd.read_csv(\"https://anime-recommendation-engine.s3.eu-west-3.amazonaws.com/data/profiles_clean.csv\")\n",
    "data_reviews = pd.read_csv(\"https://anime-recommendation-engine.s3.eu-west-3.amazonaws.com/data/reviews_clean.csv\")\n",
    "data_animes = pd.read_csv(\"https://anime-recommendation-engine.s3.eu-west-3.amazonaws.com/data/animes_clean.csv\", index_col=\"uid\")\n",
    "\n",
    "display(data_profiles.head(2))\n",
    "display(data_reviews.head(2))\n",
    "display(data_animes.head(2))"
   ]
  },
  {
   "cell_type": "code",
   "execution_count": null,
   "id": "c83da7f6",
   "metadata": {},
   "outputs": [
    {
     "data": {
      "text/plain": [
       "array([\"['6774', '245', '2001', '11061', '16592', '1575', '21']\"],\n",
       "      dtype=object)"
      ]
     },
     "execution_count": 156,
     "metadata": {},
     "output_type": "execute_result"
    }
   ],
   "source": [
    "data_profiles[data_profiles[\"profile\"]==\"-----noname-----\"][\"favorites_anime\"].values"
   ]
  },
  {
   "cell_type": "code",
   "execution_count": 177,
   "id": "b565bf0c",
   "metadata": {},
   "outputs": [
    {
     "data": {
      "text/html": [
       "<div>\n",
       "<style scoped>\n",
       "    .dataframe tbody tr th:only-of-type {\n",
       "        vertical-align: middle;\n",
       "    }\n",
       "\n",
       "    .dataframe tbody tr th {\n",
       "        vertical-align: top;\n",
       "    }\n",
       "\n",
       "    .dataframe thead th {\n",
       "        text-align: right;\n",
       "    }\n",
       "</style>\n",
       "<table border=\"1\" class=\"dataframe\">\n",
       "  <thead>\n",
       "    <tr style=\"text-align: right;\">\n",
       "      <th></th>\n",
       "      <th>title</th>\n",
       "      <th>synopsis</th>\n",
       "      <th>genre</th>\n",
       "      <th>aired</th>\n",
       "      <th>episodes</th>\n",
       "      <th>members</th>\n",
       "      <th>popularity</th>\n",
       "      <th>ranked</th>\n",
       "      <th>score</th>\n",
       "      <th>img_url</th>\n",
       "      <th>link</th>\n",
       "    </tr>\n",
       "    <tr>\n",
       "      <th>uid</th>\n",
       "      <th></th>\n",
       "      <th></th>\n",
       "      <th></th>\n",
       "      <th></th>\n",
       "      <th></th>\n",
       "      <th></th>\n",
       "      <th></th>\n",
       "      <th></th>\n",
       "      <th></th>\n",
       "      <th></th>\n",
       "      <th></th>\n",
       "    </tr>\n",
       "  </thead>\n",
       "  <tbody>\n",
       "    <tr>\n",
       "      <th>6774</th>\n",
       "      <td>Kuuchuu Buranko</td>\n",
       "      <td>Many patients with different problems visit th...</td>\n",
       "      <td>['Comedy', 'Psychological', 'Drama', 'Seinen']</td>\n",
       "      <td>Oct 15, 2009 to Dec 24, 2009</td>\n",
       "      <td>11.0</td>\n",
       "      <td>64443</td>\n",
       "      <td>1582</td>\n",
       "      <td>565.0</td>\n",
       "      <td>8.01</td>\n",
       "      <td>https://cdn.myanimelist.net/images/anime/3/183...</td>\n",
       "      <td>https://myanimelist.net/anime/6774/Kuuchuu_Bur...</td>\n",
       "    </tr>\n",
       "    <tr>\n",
       "      <th>21</th>\n",
       "      <td>One Piece</td>\n",
       "      <td>Gol D. Roger was known as the \"Pirate King,\" t...</td>\n",
       "      <td>['Action', 'Adventure', 'Comedy', 'Super Power...</td>\n",
       "      <td>Oct 20, 1999 to ?</td>\n",
       "      <td>NaN</td>\n",
       "      <td>948342</td>\n",
       "      <td>35</td>\n",
       "      <td>86.0</td>\n",
       "      <td>8.53</td>\n",
       "      <td>https://cdn.myanimelist.net/images/anime/6/732...</td>\n",
       "      <td>https://myanimelist.net/anime/21/One_Piece</td>\n",
       "    </tr>\n",
       "    <tr>\n",
       "      <th>2001</th>\n",
       "      <td>Tengen Toppa Gurren Lagann</td>\n",
       "      <td>Simon and Kamina were born and raised in a dee...</td>\n",
       "      <td>['Action', 'Adventure', 'Comedy', 'Mecha', 'Sc...</td>\n",
       "      <td>Apr 1, 2007 to Sep 30, 2007</td>\n",
       "      <td>27.0</td>\n",
       "      <td>982090</td>\n",
       "      <td>29</td>\n",
       "      <td>44.0</td>\n",
       "      <td>8.70</td>\n",
       "      <td>https://cdn.myanimelist.net/images/anime/4/512...</td>\n",
       "      <td>https://myanimelist.net/anime/2001/Tengen_Topp...</td>\n",
       "    </tr>\n",
       "    <tr>\n",
       "      <th>245</th>\n",
       "      <td>Great Teacher Onizuka</td>\n",
       "      <td>Onizuka is a reformed biker gang leader who ha...</td>\n",
       "      <td>['Comedy', 'Drama', 'School', 'Shounen', 'Slic...</td>\n",
       "      <td>Jun 30, 1999 to Sep 17, 2000</td>\n",
       "      <td>43.0</td>\n",
       "      <td>456381</td>\n",
       "      <td>163</td>\n",
       "      <td>40.0</td>\n",
       "      <td>8.71</td>\n",
       "      <td>https://cdn.myanimelist.net/images/anime/13/11...</td>\n",
       "      <td>https://myanimelist.net/anime/245/Great_Teache...</td>\n",
       "    </tr>\n",
       "    <tr>\n",
       "      <th>1575</th>\n",
       "      <td>Code Geass: Hangyaku no Lelouch</td>\n",
       "      <td>In the year 2010, the Holy Empire of Britannia...</td>\n",
       "      <td>['Action', 'Military', 'Sci-Fi', 'Super Power'...</td>\n",
       "      <td>Oct 6, 2006 to Jul 29, 2007</td>\n",
       "      <td>25.0</td>\n",
       "      <td>1231546</td>\n",
       "      <td>11</td>\n",
       "      <td>31.0</td>\n",
       "      <td>8.76</td>\n",
       "      <td>https://cdn.myanimelist.net/images/anime/5/503...</td>\n",
       "      <td>https://myanimelist.net/anime/1575/Code_Geass_...</td>\n",
       "    </tr>\n",
       "    <tr>\n",
       "      <th>11061</th>\n",
       "      <td>Hunter x Hunter (2011)</td>\n",
       "      <td>Hunter x Hunter  is set in a world where Hunte...</td>\n",
       "      <td>['Action', 'Adventure', 'Fantasy', 'Shounen', ...</td>\n",
       "      <td>Oct 2, 2011 to Sep 24, 2014</td>\n",
       "      <td>148.0</td>\n",
       "      <td>1052761</td>\n",
       "      <td>20</td>\n",
       "      <td>3.0</td>\n",
       "      <td>9.11</td>\n",
       "      <td>https://cdn.myanimelist.net/images/anime/11/33...</td>\n",
       "      <td>https://myanimelist.net/anime/11061/Hunter_x_H...</td>\n",
       "    </tr>\n",
       "    <tr>\n",
       "      <th>16592</th>\n",
       "      <td>Danganronpa: Kibou no Gakuen to Zetsubou no Ko...</td>\n",
       "      <td>Hope's Peak Academy is an elite high school th...</td>\n",
       "      <td>['Mystery', 'Psychological', 'School']</td>\n",
       "      <td>Jul 5, 2013 to Sep 27, 2013</td>\n",
       "      <td>13.0</td>\n",
       "      <td>525383</td>\n",
       "      <td>121</td>\n",
       "      <td>2052.0</td>\n",
       "      <td>7.41</td>\n",
       "      <td>https://cdn.myanimelist.net/images/anime/4/514...</td>\n",
       "      <td>https://myanimelist.net/anime/16592/Danganronp...</td>\n",
       "    </tr>\n",
       "  </tbody>\n",
       "</table>\n",
       "</div>"
      ],
      "text/plain": [
       "                                                   title  \\\n",
       "uid                                                        \n",
       "6774                                     Kuuchuu Buranko   \n",
       "21                                             One Piece   \n",
       "2001                          Tengen Toppa Gurren Lagann   \n",
       "245                                Great Teacher Onizuka   \n",
       "1575                     Code Geass: Hangyaku no Lelouch   \n",
       "11061                             Hunter x Hunter (2011)   \n",
       "16592  Danganronpa: Kibou no Gakuen to Zetsubou no Ko...   \n",
       "\n",
       "                                                synopsis  \\\n",
       "uid                                                        \n",
       "6774   Many patients with different problems visit th...   \n",
       "21     Gol D. Roger was known as the \"Pirate King,\" t...   \n",
       "2001   Simon and Kamina were born and raised in a dee...   \n",
       "245    Onizuka is a reformed biker gang leader who ha...   \n",
       "1575   In the year 2010, the Holy Empire of Britannia...   \n",
       "11061  Hunter x Hunter  is set in a world where Hunte...   \n",
       "16592  Hope's Peak Academy is an elite high school th...   \n",
       "\n",
       "                                                   genre  \\\n",
       "uid                                                        \n",
       "6774      ['Comedy', 'Psychological', 'Drama', 'Seinen']   \n",
       "21     ['Action', 'Adventure', 'Comedy', 'Super Power...   \n",
       "2001   ['Action', 'Adventure', 'Comedy', 'Mecha', 'Sc...   \n",
       "245    ['Comedy', 'Drama', 'School', 'Shounen', 'Slic...   \n",
       "1575   ['Action', 'Military', 'Sci-Fi', 'Super Power'...   \n",
       "11061  ['Action', 'Adventure', 'Fantasy', 'Shounen', ...   \n",
       "16592             ['Mystery', 'Psychological', 'School']   \n",
       "\n",
       "                              aired  episodes  members  popularity  ranked  \\\n",
       "uid                                                                          \n",
       "6774   Oct 15, 2009 to Dec 24, 2009      11.0    64443        1582   565.0   \n",
       "21                Oct 20, 1999 to ?       NaN   948342          35    86.0   \n",
       "2001    Apr 1, 2007 to Sep 30, 2007      27.0   982090          29    44.0   \n",
       "245    Jun 30, 1999 to Sep 17, 2000      43.0   456381         163    40.0   \n",
       "1575    Oct 6, 2006 to Jul 29, 2007      25.0  1231546          11    31.0   \n",
       "11061   Oct 2, 2011 to Sep 24, 2014     148.0  1052761          20     3.0   \n",
       "16592   Jul 5, 2013 to Sep 27, 2013      13.0   525383         121  2052.0   \n",
       "\n",
       "       score                                            img_url  \\\n",
       "uid                                                               \n",
       "6774    8.01  https://cdn.myanimelist.net/images/anime/3/183...   \n",
       "21      8.53  https://cdn.myanimelist.net/images/anime/6/732...   \n",
       "2001    8.70  https://cdn.myanimelist.net/images/anime/4/512...   \n",
       "245     8.71  https://cdn.myanimelist.net/images/anime/13/11...   \n",
       "1575    8.76  https://cdn.myanimelist.net/images/anime/5/503...   \n",
       "11061   9.11  https://cdn.myanimelist.net/images/anime/11/33...   \n",
       "16592   7.41  https://cdn.myanimelist.net/images/anime/4/514...   \n",
       "\n",
       "                                                    link  \n",
       "uid                                                       \n",
       "6774   https://myanimelist.net/anime/6774/Kuuchuu_Bur...  \n",
       "21            https://myanimelist.net/anime/21/One_Piece  \n",
       "2001   https://myanimelist.net/anime/2001/Tengen_Topp...  \n",
       "245    https://myanimelist.net/anime/245/Great_Teache...  \n",
       "1575   https://myanimelist.net/anime/1575/Code_Geass_...  \n",
       "11061  https://myanimelist.net/anime/11061/Hunter_x_H...  \n",
       "16592  https://myanimelist.net/anime/16592/Danganronp...  "
      ]
     },
     "metadata": {},
     "output_type": "display_data"
    }
   ],
   "source": [
    "display(data_animes[(data_animes.index==6774) | (data_animes.index==245) | \n",
    "                    (data_animes.index==2001) | (data_animes.index==11061) | \n",
    "                    (data_animes.index==16592) | (data_animes.index==1575) |\n",
    "                    (data_animes.index==21)])"
   ]
  },
  {
   "cell_type": "code",
   "execution_count": null,
   "id": "a9551005",
   "metadata": {},
   "outputs": [],
   "source": [
    "33322.0\t0.956734\t(33322.0, 0.956734299659729)\n",
    "1\t-----noname-----\t32895.0\t0.956734\t(32895.0, 0.956734299659729)\n",
    "2\t-----noname-----\t7730.0\t0.956734\t(7730.0, 0.956734299659729)\n",
    "3\t-----noname-----\t33165.0\t0.956734\t(33165.0, 0.956734299659729)\n",
    "4\t-----noname-----\t30702.0\t"
   ]
  },
  {
   "cell_type": "code",
   "execution_count": null,
   "id": "44ede862",
   "metadata": {},
   "outputs": [
    {
     "data": {
      "text/html": [
       "<div>\n",
       "<style scoped>\n",
       "    .dataframe tbody tr th:only-of-type {\n",
       "        vertical-align: middle;\n",
       "    }\n",
       "\n",
       "    .dataframe tbody tr th {\n",
       "        vertical-align: top;\n",
       "    }\n",
       "\n",
       "    .dataframe thead th {\n",
       "        text-align: right;\n",
       "    }\n",
       "</style>\n",
       "<table border=\"1\" class=\"dataframe\">\n",
       "  <thead>\n",
       "    <tr style=\"text-align: right;\">\n",
       "      <th></th>\n",
       "      <th>title</th>\n",
       "      <th>synopsis</th>\n",
       "      <th>genre</th>\n",
       "      <th>aired</th>\n",
       "      <th>episodes</th>\n",
       "      <th>members</th>\n",
       "      <th>popularity</th>\n",
       "      <th>ranked</th>\n",
       "      <th>score</th>\n",
       "      <th>img_url</th>\n",
       "      <th>link</th>\n",
       "    </tr>\n",
       "    <tr>\n",
       "      <th>uid</th>\n",
       "      <th></th>\n",
       "      <th></th>\n",
       "      <th></th>\n",
       "      <th></th>\n",
       "      <th></th>\n",
       "      <th></th>\n",
       "      <th></th>\n",
       "      <th></th>\n",
       "      <th></th>\n",
       "      <th></th>\n",
       "      <th></th>\n",
       "    </tr>\n",
       "  </thead>\n",
       "  <tbody>\n",
       "    <tr>\n",
       "      <th>36688</th>\n",
       "      <td>Shinmai Maou no Testament Departures</td>\n",
       "      <td>NaN</td>\n",
       "      <td>['Action', 'Ecchi', 'Fantasy', 'Romance', 'Har...</td>\n",
       "      <td>Mar 28, 2018</td>\n",
       "      <td>1.0</td>\n",
       "      <td>40326</td>\n",
       "      <td>2186</td>\n",
       "      <td>3569.0</td>\n",
       "      <td>7.06</td>\n",
       "      <td>https://cdn.myanimelist.net/images/anime/1395/...</td>\n",
       "      <td>https://myanimelist.net/anime/36688/Shinmai_Ma...</td>\n",
       "    </tr>\n",
       "    <tr>\n",
       "      <th>7103</th>\n",
       "      <td>Miracle☆Train: Oedo-sen e Youkoso</td>\n",
       "      <td>Another version of Miracle Train: Chuo-sen e Y...</td>\n",
       "      <td>['Fantasy', 'Shoujo']</td>\n",
       "      <td>Oct 5, 2009 to Dec 28, 2009</td>\n",
       "      <td>13.0</td>\n",
       "      <td>16501</td>\n",
       "      <td>3508</td>\n",
       "      <td>5578.0</td>\n",
       "      <td>6.60</td>\n",
       "      <td>https://cdn.myanimelist.net/images/anime/9/755...</td>\n",
       "      <td>https://myanimelist.net/anime/7103/Miracle%E2%...</td>\n",
       "    </tr>\n",
       "    <tr>\n",
       "      <th>40256</th>\n",
       "      <td>Cannon Busters</td>\n",
       "      <td>Follow the adventures and exploits of S.A.M, a...</td>\n",
       "      <td>['Action', 'Sci-Fi', 'Adventure', 'Fantasy', '...</td>\n",
       "      <td>Aug 15, 2019</td>\n",
       "      <td>12.0</td>\n",
       "      <td>12621</td>\n",
       "      <td>3980</td>\n",
       "      <td>5366.0</td>\n",
       "      <td>6.64</td>\n",
       "      <td>https://cdn.myanimelist.net/images/anime/1452/...</td>\n",
       "      <td>https://myanimelist.net/anime/40256/Cannon_Bus...</td>\n",
       "    </tr>\n",
       "    <tr>\n",
       "      <th>23703</th>\n",
       "      <td>Gatchaman Crowds: Embrace</td>\n",
       "      <td>Director's cut of episode 12 included with the...</td>\n",
       "      <td>['Adventure', 'Sci-Fi']</td>\n",
       "      <td>Jan 22, 2014</td>\n",
       "      <td>1.0</td>\n",
       "      <td>14617</td>\n",
       "      <td>3707</td>\n",
       "      <td>1939.0</td>\n",
       "      <td>7.44</td>\n",
       "      <td>https://cdn.myanimelist.net/images/anime/6/615...</td>\n",
       "      <td>https://myanimelist.net/anime/23703/Gatchaman_...</td>\n",
       "    </tr>\n",
       "    <tr>\n",
       "      <th>11859</th>\n",
       "      <td>Queen's Blade: Rebellion</td>\n",
       "      <td>Power corrupts, and it when it appears that th...</td>\n",
       "      <td>['Action', 'Adventure', 'Ecchi', 'Fantasy']</td>\n",
       "      <td>Apr 3, 2012 to Jun 19, 2012</td>\n",
       "      <td>12.0</td>\n",
       "      <td>31423</td>\n",
       "      <td>2503</td>\n",
       "      <td>6513.0</td>\n",
       "      <td>6.41</td>\n",
       "      <td>https://cdn.myanimelist.net/images/anime/6/755...</td>\n",
       "      <td>https://myanimelist.net/anime/11859/Queens_Bla...</td>\n",
       "    </tr>\n",
       "  </tbody>\n",
       "</table>\n",
       "</div>"
      ],
      "text/plain": [
       "                                      title  \\\n",
       "uid                                           \n",
       "36688  Shinmai Maou no Testament Departures   \n",
       "7103      Miracle☆Train: Oedo-sen e Youkoso   \n",
       "40256                        Cannon Busters   \n",
       "23703             Gatchaman Crowds: Embrace   \n",
       "11859              Queen's Blade: Rebellion   \n",
       "\n",
       "                                                synopsis  \\\n",
       "uid                                                        \n",
       "36688                                                NaN   \n",
       "7103   Another version of Miracle Train: Chuo-sen e Y...   \n",
       "40256  Follow the adventures and exploits of S.A.M, a...   \n",
       "23703  Director's cut of episode 12 included with the...   \n",
       "11859  Power corrupts, and it when it appears that th...   \n",
       "\n",
       "                                                   genre  \\\n",
       "uid                                                        \n",
       "36688  ['Action', 'Ecchi', 'Fantasy', 'Romance', 'Har...   \n",
       "7103                               ['Fantasy', 'Shoujo']   \n",
       "40256  ['Action', 'Sci-Fi', 'Adventure', 'Fantasy', '...   \n",
       "23703                            ['Adventure', 'Sci-Fi']   \n",
       "11859        ['Action', 'Adventure', 'Ecchi', 'Fantasy']   \n",
       "\n",
       "                             aired  episodes  members  popularity  ranked  \\\n",
       "uid                                                                         \n",
       "36688                 Mar 28, 2018       1.0    40326        2186  3569.0   \n",
       "7103   Oct 5, 2009 to Dec 28, 2009      13.0    16501        3508  5578.0   \n",
       "40256                 Aug 15, 2019      12.0    12621        3980  5366.0   \n",
       "23703                 Jan 22, 2014       1.0    14617        3707  1939.0   \n",
       "11859  Apr 3, 2012 to Jun 19, 2012      12.0    31423        2503  6513.0   \n",
       "\n",
       "       score                                            img_url  \\\n",
       "uid                                                               \n",
       "36688   7.06  https://cdn.myanimelist.net/images/anime/1395/...   \n",
       "7103    6.60  https://cdn.myanimelist.net/images/anime/9/755...   \n",
       "40256   6.64  https://cdn.myanimelist.net/images/anime/1452/...   \n",
       "23703   7.44  https://cdn.myanimelist.net/images/anime/6/615...   \n",
       "11859   6.41  https://cdn.myanimelist.net/images/anime/6/755...   \n",
       "\n",
       "                                                    link  \n",
       "uid                                                       \n",
       "36688  https://myanimelist.net/anime/36688/Shinmai_Ma...  \n",
       "7103   https://myanimelist.net/anime/7103/Miracle%E2%...  \n",
       "40256  https://myanimelist.net/anime/40256/Cannon_Bus...  \n",
       "23703  https://myanimelist.net/anime/23703/Gatchaman_...  \n",
       "11859  https://myanimelist.net/anime/11859/Queens_Bla...  "
      ]
     },
     "metadata": {},
     "output_type": "display_data"
    }
   ],
   "source": [
    "display(data_animes[(data_animes.index==33322) | (data_animes.index==32895) | \n",
    "                    (data_animes.index==7730) | (data_animes.index==33165) | \n",
    "                    (data_animes.index==30702)])"
   ]
  },
  {
   "cell_type": "code",
   "execution_count": null,
   "id": "e78d025b",
   "metadata": {},
   "outputs": [],
   "source": []
  }
 ],
 "metadata": {
  "kernelspec": {
   "display_name": "base",
   "language": "python",
   "name": "python3"
  },
  "language_info": {
   "codemirror_mode": {
    "name": "ipython",
    "version": 3
   },
   "file_extension": ".py",
   "mimetype": "text/x-python",
   "name": "python",
   "nbconvert_exporter": "python",
   "pygments_lexer": "ipython3",
   "version": "3.12.7"
  }
 },
 "nbformat": 4,
 "nbformat_minor": 5
}
