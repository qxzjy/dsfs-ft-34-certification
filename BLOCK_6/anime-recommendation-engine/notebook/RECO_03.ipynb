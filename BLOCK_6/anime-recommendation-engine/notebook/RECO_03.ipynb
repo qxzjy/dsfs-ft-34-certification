{
 "cells": [
  {
   "cell_type": "markdown",
   "id": "91e97bba",
   "metadata": {},
   "source": [
    "# User-based recommendation on user clusters (based on likes)"
   ]
  },
  {
   "cell_type": "markdown",
   "id": "354d6832",
   "metadata": {},
   "source": [
    "## Import"
   ]
  },
  {
   "cell_type": "code",
   "execution_count": 2,
   "id": "178a0273",
   "metadata": {},
   "outputs": [],
   "source": [
    "import pandas as pd\n",
    "import re\n",
    "import ast\n",
    "#from transformers import pipeline"
   ]
  },
  {
   "cell_type": "code",
   "execution_count": 134,
   "id": "1e187648",
   "metadata": {},
   "outputs": [
    {
     "data": {
      "text/html": [
       "<div>\n",
       "<style scoped>\n",
       "    .dataframe tbody tr th:only-of-type {\n",
       "        vertical-align: middle;\n",
       "    }\n",
       "\n",
       "    .dataframe tbody tr th {\n",
       "        vertical-align: top;\n",
       "    }\n",
       "\n",
       "    .dataframe thead th {\n",
       "        text-align: right;\n",
       "    }\n",
       "</style>\n",
       "<table border=\"1\" class=\"dataframe\">\n",
       "  <thead>\n",
       "    <tr style=\"text-align: right;\">\n",
       "      <th></th>\n",
       "      <th>uid</th>\n",
       "      <th>profile</th>\n",
       "      <th>anime_uid</th>\n",
       "      <th>text</th>\n",
       "      <th>score</th>\n",
       "      <th>scores</th>\n",
       "      <th>link</th>\n",
       "    </tr>\n",
       "  </thead>\n",
       "  <tbody>\n",
       "    <tr>\n",
       "      <th>0</th>\n",
       "      <td>255938</td>\n",
       "      <td>DesolatePsyche</td>\n",
       "      <td>34096</td>\n",
       "      <td>\\n           \\n         \\n           \\n             \\n           \\n         \\n         \\n           more pics \\n         \\n       \\n         \\n       \\n         \\n           Overall \\n           8 \\n         \\n         \\n           Story \\n           8 \\n         \\n                   \\n             Animation \\n             8 \\n           \\n           \\n             Sound \\n             10 \\n           \\n                 \\n           Character \\n           9 \\n         \\n         \\n           Enjoyment \\n           8 \\n         \\n       \\n     \\n\\n                    \\n    First things first. My \"reviews\" system is explained on a blog entry. Which can be found through my profile. \\r\\n------ \\r\\n \\r\\nI'm going to keep this \"review\" more of a opinion of Gintama's overall and then this season specific. \\r\\n \\r\\nAnyhow. What I have always loved regarding Gintama, is its content of everything. I love the comedy, its absurd, random, can be vile, dirty, sweet, anyhow, everything. Have laughed countless times in this franchise. Also the humor they have also is heavily reference based, a.k.a parodies of different anime, shows, manga, live stuff, real world, anime production and so on. Anyhow, comedy/parody side of this franchise i absolutely love. \\r\\n \\r\\nNow, 2nd side of this show is the serious dramas, epic battle shounens and so on.. There are arcs that are fully comedy, arcs that are fully serious and mixtures of both. Serious side is usually quite dramatic and managed to somewhat tear me up now and then. Whilst the action sequences are absolute bliss as well. They are just presented in a really cool manner. And extra points when sometime the add artistic element. \\r\\n \\r\\nOf course it has its slice-of-life side and pseudo-romance. Those are weaker side, but ain't the focus. But when sometimes those are the \"focus\", then they are done in enjoyable method. \\r\\n \\r\\nTo sum up overall gintama's, I love the serious side and the silly side. \\r\\n \\r\\nArt and sound (voice acting/ost/op/ed) is something I loved in all gintamas across the board. They just click with me, bliss to look at, bliss to hear. Music (op/ed) specifically are hyped up and upbeat, which generally I don't like, but gintama is the exception where I love them. Art is cool, sometimes artistic, sometimes simple. It has a bit of everything that makes it enjoyable. And gore is absolutely satisfying as well. (well, the blood to be specific) \\r\\n \\r\\nWell, the serious side of stories in this anime are superb in my opinion. (or the overall idea of story that moves now and then). But wouldn't say comedic side of series story is any worse.  When at times comedy side has \"story\". It's usually quite enjoyable. \\r\\n \\r\\nRegarding characters I don't have much to say other than that variety, stereotypes of \"off-stereotypes\" is very large. As well characters with depth but as well with oddity is as well in great selection. Main team. Gintoki the lazy dirty slob with superb second side of seriousness and caring about friends/allies. Shinpachi the poor straight-man-act sidekick, who adds great value to the team. Kagura, the battle race girl that doesn't act like girl almost at all, or in another words a dirty slob girl in a sense. \\r\\n----------------- \\r\\n \\r\\nNow, to this season specific. \\r\\n \\r\\nI found it a bit disappointing. Mainly because usually in gintama we have overly serious arcs or fully comedic, whilst this one had a bit of mixture of both, which somewhat ruined the experience. Plus the artistic presentation felt this time around a bit lacking. Maybe because of another studio, who knows. But anyhow, it didn't feel as superb. Rather than gintama it felt as watching just another good battle shounen anime in modern day with simplified animation. \\r\\n \\r\\nI mean it definitely was not any bad, just didn't have the punch Gintama usually has. Might be because it was short series, maybe because it focused too much moving on with story. It'll be shame to see it finalized in this manner. \\r\\n \\r\\nRest I pretty much loved as usual in Gintama franchise.\\n\\n          \\n \\n       Helpful \\n   \\n</td>\n",
       "      <td>8</td>\n",
       "      <td>{'Overall': '8', 'Story': '8', 'Animation': '8', 'Sound': '10', 'Character': '9', 'Enjoyment': '8'}</td>\n",
       "      <td>https://myanimelist.net/reviews.php?id=255938</td>\n",
       "    </tr>\n",
       "  </tbody>\n",
       "</table>\n",
       "</div>"
      ],
      "text/plain": [
       "      uid         profile  anime_uid  \\\n",
       "0  255938  DesolatePsyche      34096   \n",
       "\n",
       "                                                                                                                                                                                                                                                                                                                                                                                                                                                                                                                                                                                                                                                                                                                                                                                                                                                                                                                                                                                                                                                                                                                                                                                                                                                                                                                                                                                                                                                                                                                                                                                                                                                                                                                                                                                                                                                                                                                                                                                                                                                                                                                                                                                                                                                                                                                                                                                                                                                                                                                                                                                                                                                                                                                                                                                                                                                                                                                                                                                                                                                                                                                                                                                                                                                                                                                                                                                                                                                                                                                                                                                                                                                                                                                                                                                                                                                                                                                                                                                                                                                                                                                                                                                                                                                                                   text  \\\n",
       "0  \\n           \\n         \\n           \\n             \\n           \\n         \\n         \\n           more pics \\n         \\n       \\n         \\n       \\n         \\n           Overall \\n           8 \\n         \\n         \\n           Story \\n           8 \\n         \\n                   \\n             Animation \\n             8 \\n           \\n           \\n             Sound \\n             10 \\n           \\n                 \\n           Character \\n           9 \\n         \\n         \\n           Enjoyment \\n           8 \\n         \\n       \\n     \\n\\n                    \\n    First things first. My \"reviews\" system is explained on a blog entry. Which can be found through my profile. \\r\\n------ \\r\\n \\r\\nI'm going to keep this \"review\" more of a opinion of Gintama's overall and then this season specific. \\r\\n \\r\\nAnyhow. What I have always loved regarding Gintama, is its content of everything. I love the comedy, its absurd, random, can be vile, dirty, sweet, anyhow, everything. Have laughed countless times in this franchise. Also the humor they have also is heavily reference based, a.k.a parodies of different anime, shows, manga, live stuff, real world, anime production and so on. Anyhow, comedy/parody side of this franchise i absolutely love. \\r\\n \\r\\nNow, 2nd side of this show is the serious dramas, epic battle shounens and so on.. There are arcs that are fully comedy, arcs that are fully serious and mixtures of both. Serious side is usually quite dramatic and managed to somewhat tear me up now and then. Whilst the action sequences are absolute bliss as well. They are just presented in a really cool manner. And extra points when sometime the add artistic element. \\r\\n \\r\\nOf course it has its slice-of-life side and pseudo-romance. Those are weaker side, but ain't the focus. But when sometimes those are the \"focus\", then they are done in enjoyable method. \\r\\n \\r\\nTo sum up overall gintama's, I love the serious side and the silly side. \\r\\n \\r\\nArt and sound (voice acting/ost/op/ed) is something I loved in all gintamas across the board. They just click with me, bliss to look at, bliss to hear. Music (op/ed) specifically are hyped up and upbeat, which generally I don't like, but gintama is the exception where I love them. Art is cool, sometimes artistic, sometimes simple. It has a bit of everything that makes it enjoyable. And gore is absolutely satisfying as well. (well, the blood to be specific) \\r\\n \\r\\nWell, the serious side of stories in this anime are superb in my opinion. (or the overall idea of story that moves now and then). But wouldn't say comedic side of series story is any worse.  When at times comedy side has \"story\". It's usually quite enjoyable. \\r\\n \\r\\nRegarding characters I don't have much to say other than that variety, stereotypes of \"off-stereotypes\" is very large. As well characters with depth but as well with oddity is as well in great selection. Main team. Gintoki the lazy dirty slob with superb second side of seriousness and caring about friends/allies. Shinpachi the poor straight-man-act sidekick, who adds great value to the team. Kagura, the battle race girl that doesn't act like girl almost at all, or in another words a dirty slob girl in a sense. \\r\\n----------------- \\r\\n \\r\\nNow, to this season specific. \\r\\n \\r\\nI found it a bit disappointing. Mainly because usually in gintama we have overly serious arcs or fully comedic, whilst this one had a bit of mixture of both, which somewhat ruined the experience. Plus the artistic presentation felt this time around a bit lacking. Maybe because of another studio, who knows. But anyhow, it didn't feel as superb. Rather than gintama it felt as watching just another good battle shounen anime in modern day with simplified animation. \\r\\n \\r\\nI mean it definitely was not any bad, just didn't have the punch Gintama usually has. Might be because it was short series, maybe because it focused too much moving on with story. It'll be shame to see it finalized in this manner. \\r\\n \\r\\nRest I pretty much loved as usual in Gintama franchise.\\n\\n          \\n \\n       Helpful \\n   \\n         \n",
       "\n",
       "   score  \\\n",
       "0      8   \n",
       "\n",
       "                                                                                                scores  \\\n",
       "0  {'Overall': '8', 'Story': '8', 'Animation': '8', 'Sound': '10', 'Character': '9', 'Enjoyment': '8'}   \n",
       "\n",
       "                                            link  \n",
       "0  https://myanimelist.net/reviews.php?id=255938  "
      ]
     },
     "metadata": {},
     "output_type": "display_data"
    }
   ],
   "source": [
    "data_reviews = pd.read_csv(\"https://anime-recommendation-engine.s3.eu-west-3.amazonaws.com/data/reviews_clean.csv\")\n",
    "\n",
    "with pd.option_context('display.max_colwidth', None):\n",
    "    display(data_reviews.head(1))"
   ]
  },
  {
   "cell_type": "markdown",
   "id": "64e157bd",
   "metadata": {},
   "source": [
    "## Preprocessing"
   ]
  },
  {
   "cell_type": "code",
   "execution_count": 107,
   "id": "d78c7a00",
   "metadata": {},
   "outputs": [],
   "source": [
    "def clean_and_split_text(text):\n",
    "    text = re.sub(\"[\\n\\r]\", \"\", text)\n",
    "    text = re.sub(\"[^A-Za-z0-9]+\", \" \", text)\n",
    "\n",
    "    text_splited = re.findall('.{512}', text)\n",
    "    text_splited.append(text[512 * len(text_splited):])\n",
    "\n",
    "    return text_splited"
   ]
  },
  {
   "cell_type": "code",
   "execution_count": 108,
   "id": "c1283c29",
   "metadata": {},
   "outputs": [],
   "source": [
    "def compute_score_from_classifications(classifications):\n",
    "    \n",
    "    score = 0\n",
    "\n",
    "    for classification in classifications :\n",
    "\n",
    "        if classification[\"label\"] == \"POSITIVE\" :\n",
    "            score += classification[\"score\"]\n",
    "        else :\n",
    "            score -= classification[\"score\"]\n",
    "\n",
    "    normalize_score = (score / len(classifications) + 1) / 2\n",
    "\n",
    "    return normalize_score"
   ]
  },
  {
   "cell_type": "code",
   "execution_count": 109,
   "id": "4196ed54",
   "metadata": {},
   "outputs": [
    {
     "name": "stderr",
     "output_type": "stream",
     "text": [
      "Device set to use mps:0\n"
     ]
    }
   ],
   "source": [
    "sentiment_pipeline = pipeline(task=\"sentiment-analysis\", model=\"distilbert/distilbert-base-uncased-finetuned-sst-2-english\")"
   ]
  },
  {
   "cell_type": "code",
   "execution_count": 110,
   "id": "25ae93bd",
   "metadata": {},
   "outputs": [],
   "source": [
    "df_als_reviews_score = data_reviews[[\"profile\", \"anime_uid\", \"text\", \"score\"]].copy()"
   ]
  },
  {
   "cell_type": "code",
   "execution_count": 111,
   "id": "1a282e94",
   "metadata": {},
   "outputs": [],
   "source": [
    "df_als_reviews_score[\"text\"] = df_als_reviews_score[\"text\"].transform(clean_and_split_text)"
   ]
  },
  {
   "cell_type": "code",
   "execution_count": 140,
   "id": "8e2768fd",
   "metadata": {},
   "outputs": [],
   "source": [
    "# df_als_reviews_score[\"classifications\"] = df_als_reviews_score[\"text\"].transform(sentiment_pipeline)\n",
    "df_als_reviews_score = pd.read_csv(\"../data/als_reviews_score_raw.csv\")"
   ]
  },
  {
   "cell_type": "code",
   "execution_count": 141,
   "id": "d6f75914",
   "metadata": {},
   "outputs": [],
   "source": [
    "df_reviews_10 = df_als_reviews_score[\"anime_uid\"].value_counts().reset_index(name=\"count\")\n",
    "df_reviews_10 = df_reviews_10.loc[df_reviews_10[\"count\"]>=10,\"anime_uid\"]\n",
    "\n",
    "df_als_reviews_score = df_als_reviews_score.merge(df_reviews_10, on=\"anime_uid\", how=\"inner\")\n",
    "df_als_reviews_score[\"classifications\"] = df_als_reviews_score[\"classifications\"].apply(ast.literal_eval)\n",
    "df_als_reviews_score[\"review_score\"] = df_als_reviews_score[\"classifications\"].transform(compute_score_from_classifications)"
   ]
  },
  {
   "cell_type": "code",
   "execution_count": 129,
   "id": "144d47b7",
   "metadata": {},
   "outputs": [],
   "source": [
    "df_als_reviews_score[\"delta\"] = abs(df_als_reviews_score[\"score\"]-df_als_reviews_score[\"review_score\"]*10)"
   ]
  },
  {
   "cell_type": "code",
   "execution_count": 130,
   "id": "8e4cd677",
   "metadata": {},
   "outputs": [
    {
     "data": {
      "text/html": [
       "<div>\n",
       "<style scoped>\n",
       "    .dataframe tbody tr th:only-of-type {\n",
       "        vertical-align: middle;\n",
       "    }\n",
       "\n",
       "    .dataframe tbody tr th {\n",
       "        vertical-align: top;\n",
       "    }\n",
       "\n",
       "    .dataframe thead th {\n",
       "        text-align: right;\n",
       "    }\n",
       "</style>\n",
       "<table border=\"1\" class=\"dataframe\">\n",
       "  <thead>\n",
       "    <tr style=\"text-align: right;\">\n",
       "      <th></th>\n",
       "      <th>profile</th>\n",
       "      <th>anime_uid</th>\n",
       "      <th>text</th>\n",
       "      <th>score</th>\n",
       "      <th>classifications</th>\n",
       "      <th>review_score</th>\n",
       "      <th>delta</th>\n",
       "    </tr>\n",
       "  </thead>\n",
       "  <tbody>\n",
       "    <tr>\n",
       "      <th>0</th>\n",
       "      <td>DesolatePsyche</td>\n",
       "      <td>34096</td>\n",
       "      <td>[' more pics Overall 8 Story 8 Animation 8 Sou...</td>\n",
       "      <td>8</td>\n",
       "      <td>[{'label': 'POSITIVE', 'score': 0.931263029575...</td>\n",
       "      <td>0.709280</td>\n",
       "      <td>0.907201</td>\n",
       "    </tr>\n",
       "    <tr>\n",
       "      <th>1</th>\n",
       "      <td>baekbeans</td>\n",
       "      <td>34599</td>\n",
       "      <td>[' more pics Overall 10 Story 10 Animation 10 ...</td>\n",
       "      <td>10</td>\n",
       "      <td>[{'label': 'POSITIVE', 'score': 0.882984995841...</td>\n",
       "      <td>0.786679</td>\n",
       "      <td>2.133211</td>\n",
       "    </tr>\n",
       "    <tr>\n",
       "      <th>2</th>\n",
       "      <td>skrn</td>\n",
       "      <td>28891</td>\n",
       "      <td>[' more pics Overall 7 Story 7 Animation 9 Sou...</td>\n",
       "      <td>7</td>\n",
       "      <td>[{'label': 'POSITIVE', 'score': 0.972522079944...</td>\n",
       "      <td>0.653450</td>\n",
       "      <td>0.465503</td>\n",
       "    </tr>\n",
       "    <tr>\n",
       "      <th>3</th>\n",
       "      <td>edgewalker00</td>\n",
       "      <td>2904</td>\n",
       "      <td>[' more pics Overall 9 Story 9 Animation 9 Sou...</td>\n",
       "      <td>9</td>\n",
       "      <td>[{'label': 'NEGATIVE', 'score': 0.999156832695...</td>\n",
       "      <td>0.559802</td>\n",
       "      <td>3.401976</td>\n",
       "    </tr>\n",
       "    <tr>\n",
       "      <th>4</th>\n",
       "      <td>aManOfCulture99</td>\n",
       "      <td>4181</td>\n",
       "      <td>[' more pics Overall 10 Story 10 Animation 8 S...</td>\n",
       "      <td>10</td>\n",
       "      <td>[{'label': 'POSITIVE', 'score': 0.998817861080...</td>\n",
       "      <td>0.750125</td>\n",
       "      <td>2.498746</td>\n",
       "    </tr>\n",
       "    <tr>\n",
       "      <th>...</th>\n",
       "      <td>...</td>\n",
       "      <td>...</td>\n",
       "      <td>...</td>\n",
       "      <td>...</td>\n",
       "      <td>...</td>\n",
       "      <td>...</td>\n",
       "      <td>...</td>\n",
       "    </tr>\n",
       "    <tr>\n",
       "      <th>130514</th>\n",
       "      <td>iHitokage</td>\n",
       "      <td>2593</td>\n",
       "      <td>[' more pics Overall 10 Story 10 Animation 10 ...</td>\n",
       "      <td>10</td>\n",
       "      <td>[{'label': 'POSITIVE', 'score': 0.913590371608...</td>\n",
       "      <td>0.985183</td>\n",
       "      <td>0.148172</td>\n",
       "    </tr>\n",
       "    <tr>\n",
       "      <th>130515</th>\n",
       "      <td>Onegai</td>\n",
       "      <td>2593</td>\n",
       "      <td>[' more pics Overall 7 Story 6 Animation 9 Sou...</td>\n",
       "      <td>7</td>\n",
       "      <td>[{'label': 'NEGATIVE', 'score': 0.882237493991...</td>\n",
       "      <td>0.471138</td>\n",
       "      <td>2.288619</td>\n",
       "    </tr>\n",
       "    <tr>\n",
       "      <th>130516</th>\n",
       "      <td>Murasa22</td>\n",
       "      <td>2593</td>\n",
       "      <td>[' more pics Overall 10 Story 9 Animation 10 S...</td>\n",
       "      <td>10</td>\n",
       "      <td>[{'label': 'POSITIVE', 'score': 0.968979001045...</td>\n",
       "      <td>0.539184</td>\n",
       "      <td>4.608158</td>\n",
       "    </tr>\n",
       "    <tr>\n",
       "      <th>130517</th>\n",
       "      <td>srry4apologizng</td>\n",
       "      <td>2593</td>\n",
       "      <td>[' more pics Overall 9 Story 5 Animation 10 So...</td>\n",
       "      <td>9</td>\n",
       "      <td>[{'label': 'POSITIVE', 'score': 0.999805629253...</td>\n",
       "      <td>0.611100</td>\n",
       "      <td>2.889000</td>\n",
       "    </tr>\n",
       "    <tr>\n",
       "      <th>130518</th>\n",
       "      <td>bellellis</td>\n",
       "      <td>2593</td>\n",
       "      <td>[' more pics Overall 10 Story 10 Animation 10 ...</td>\n",
       "      <td>10</td>\n",
       "      <td>[{'label': 'POSITIVE', 'score': 0.964399278163...</td>\n",
       "      <td>0.569708</td>\n",
       "      <td>4.302921</td>\n",
       "    </tr>\n",
       "  </tbody>\n",
       "</table>\n",
       "<p>130519 rows × 7 columns</p>\n",
       "</div>"
      ],
      "text/plain": [
       "                profile  anime_uid  \\\n",
       "0        DesolatePsyche      34096   \n",
       "1             baekbeans      34599   \n",
       "2                  skrn      28891   \n",
       "3          edgewalker00       2904   \n",
       "4       aManOfCulture99       4181   \n",
       "...                 ...        ...   \n",
       "130514        iHitokage       2593   \n",
       "130515           Onegai       2593   \n",
       "130516         Murasa22       2593   \n",
       "130517  srry4apologizng       2593   \n",
       "130518        bellellis       2593   \n",
       "\n",
       "                                                     text  score  \\\n",
       "0       [' more pics Overall 8 Story 8 Animation 8 Sou...      8   \n",
       "1       [' more pics Overall 10 Story 10 Animation 10 ...     10   \n",
       "2       [' more pics Overall 7 Story 7 Animation 9 Sou...      7   \n",
       "3       [' more pics Overall 9 Story 9 Animation 9 Sou...      9   \n",
       "4       [' more pics Overall 10 Story 10 Animation 8 S...     10   \n",
       "...                                                   ...    ...   \n",
       "130514  [' more pics Overall 10 Story 10 Animation 10 ...     10   \n",
       "130515  [' more pics Overall 7 Story 6 Animation 9 Sou...      7   \n",
       "130516  [' more pics Overall 10 Story 9 Animation 10 S...     10   \n",
       "130517  [' more pics Overall 9 Story 5 Animation 10 So...      9   \n",
       "130518  [' more pics Overall 10 Story 10 Animation 10 ...     10   \n",
       "\n",
       "                                          classifications  review_score  \\\n",
       "0       [{'label': 'POSITIVE', 'score': 0.931263029575...      0.709280   \n",
       "1       [{'label': 'POSITIVE', 'score': 0.882984995841...      0.786679   \n",
       "2       [{'label': 'POSITIVE', 'score': 0.972522079944...      0.653450   \n",
       "3       [{'label': 'NEGATIVE', 'score': 0.999156832695...      0.559802   \n",
       "4       [{'label': 'POSITIVE', 'score': 0.998817861080...      0.750125   \n",
       "...                                                   ...           ...   \n",
       "130514  [{'label': 'POSITIVE', 'score': 0.913590371608...      0.985183   \n",
       "130515  [{'label': 'NEGATIVE', 'score': 0.882237493991...      0.471138   \n",
       "130516  [{'label': 'POSITIVE', 'score': 0.968979001045...      0.539184   \n",
       "130517  [{'label': 'POSITIVE', 'score': 0.999805629253...      0.611100   \n",
       "130518  [{'label': 'POSITIVE', 'score': 0.964399278163...      0.569708   \n",
       "\n",
       "           delta  \n",
       "0       0.907201  \n",
       "1       2.133211  \n",
       "2       0.465503  \n",
       "3       3.401976  \n",
       "4       2.498746  \n",
       "...          ...  \n",
       "130514  0.148172  \n",
       "130515  2.288619  \n",
       "130516  4.608158  \n",
       "130517  2.889000  \n",
       "130518  4.302921  \n",
       "\n",
       "[130519 rows x 7 columns]"
      ]
     },
     "execution_count": 130,
     "metadata": {},
     "output_type": "execute_result"
    }
   ],
   "source": [
    "df_als_reviews_score"
   ]
  },
  {
   "cell_type": "code",
   "execution_count": 142,
   "id": "e667797c",
   "metadata": {},
   "outputs": [],
   "source": [
    "df_als_reviews_score[[\"profile\", \"anime_uid\", \"review_score\"]].to_csv(\"../data/als_reviews_score_10.csv\", index=False)"
   ]
  },
  {
   "cell_type": "markdown",
   "id": "ec4b60a6",
   "metadata": {},
   "source": [
    "## Spark"
   ]
  },
  {
   "cell_type": "markdown",
   "id": "4356f245",
   "metadata": {},
   "source": [
    "For now, this part have to be executed in a ad-hoc Jupyter environment with PySpark, following those steps (disclaimer : you need to install and configure PySpark first) :\n",
    "\n",
    "\n",
    "```shell\n",
    "pyspark --name anime-recommendation-engine --driver-java-options -Djava.security.manager=allow\n",
    "```\n",
    "\n",
    "```python\n",
    "sc = SparkSession.builder.getOrCreate()\n",
    "```\n",
    "\n",
    "[Medium article simple ALS](https://medium.com/@patelneha1495/recommendation-system-in-python-using-als-algorithm-and-apache-spark-27aca08eaab3)\n",
    "\n",
    "[Medium article advanced ALS](https://medium.com/@brunoborges_38708/recommender-system-using-als-in-pyspark-10329e1d1ee1)\n"
   ]
  },
  {
   "cell_type": "code",
   "execution_count": 4,
   "id": "39a7a888",
   "metadata": {},
   "outputs": [],
   "source": [
    "from pyspark.sql import SparkSession\n",
    "from pyspark.sql.functions import col, rank\n",
    "from pyspark.sql.window import Window\n",
    "\n",
    "from pyspark.ml.recommendation import ALS\n",
    "from pyspark.ml.evaluation import RegressionEvaluator\n",
    "from pyspark.ml.feature import StringIndexer\n",
    "from pyspark.ml.tuning import ParamGridBuilder, CrossValidator"
   ]
  },
  {
   "cell_type": "code",
   "execution_count": 6,
   "id": "988bc574",
   "metadata": {},
   "outputs": [],
   "source": [
    "sc = SparkSession.builder.getOrCreate()"
   ]
  },
  {
   "cell_type": "code",
   "execution_count": 24,
   "id": "3ac5b79a",
   "metadata": {},
   "outputs": [
    {
     "data": {
      "text/html": [
       "<div>\n",
       "<style scoped>\n",
       "    .dataframe tbody tr th:only-of-type {\n",
       "        vertical-align: middle;\n",
       "    }\n",
       "\n",
       "    .dataframe tbody tr th {\n",
       "        vertical-align: top;\n",
       "    }\n",
       "\n",
       "    .dataframe thead th {\n",
       "        text-align: right;\n",
       "    }\n",
       "</style>\n",
       "<table border=\"1\" class=\"dataframe\">\n",
       "  <thead>\n",
       "    <tr style=\"text-align: right;\">\n",
       "      <th></th>\n",
       "      <th>profile</th>\n",
       "      <th>anime_uid</th>\n",
       "      <th>review_score</th>\n",
       "    </tr>\n",
       "  </thead>\n",
       "  <tbody>\n",
       "    <tr>\n",
       "      <th>0</th>\n",
       "      <td>baekbeans</td>\n",
       "      <td>34599</td>\n",
       "      <td>0.786679</td>\n",
       "    </tr>\n",
       "    <tr>\n",
       "      <th>1</th>\n",
       "      <td>skrn</td>\n",
       "      <td>28891</td>\n",
       "      <td>0.653450</td>\n",
       "    </tr>\n",
       "  </tbody>\n",
       "</table>\n",
       "</div>"
      ],
      "text/plain": [
       "     profile  anime_uid  review_score\n",
       "0  baekbeans      34599      0.786679\n",
       "1       skrn      28891      0.653450"
      ]
     },
     "metadata": {},
     "output_type": "display_data"
    }
   ],
   "source": [
    "df_als_reviews_score = pd.read_csv(\"../data/als_reviews_score_50.csv\")\n",
    "\n",
    "display(df_als_reviews_score.head(2)) # (130519, 3)"
   ]
  },
  {
   "cell_type": "code",
   "execution_count": 26,
   "id": "b28e3852",
   "metadata": {},
   "outputs": [],
   "source": [
    "def pyspark_df_with_train_test_split(df, test_size, user_col, item_col, rating_col) :\n",
    "\n",
    "    df_items_counted = df.groupby(user_col)[rating_col].count().reset_index(name=\"num_items\")\n",
    "    df_merged = df.merge(df_items_counted, on=user_col)\n",
    "\n",
    "    user_window = Window.partitionBy(user_col).orderBy(col(item_col).desc())\n",
    "\n",
    "    df_spark = sc.createDataFrame(df_merged)\n",
    "    df_spark = df_spark.withColumn(\"num_items_to_mask\", (col(\"num_items\") * test_size).cast(\"int\"))\n",
    "    df_spark = df_spark.withColumn(\"item_rank\", rank().over(user_window))\n",
    "\n",
    "    indexer = StringIndexer(inputCol=user_col, outputCol=user_col+\"_index\")\n",
    "\n",
    "    df_spark = indexer.fit(df_spark).transform(df_spark)\n",
    "\n",
    "    training = df_spark.filter(col(\"item_rank\") > col(\"num_items_to_mask\"))\n",
    "    test = df_spark.filter(col(\"item_rank\") <= col(\"num_items_to_mask\"))\n",
    "\n",
    "    return df_spark, training, test "
   ]
  },
  {
   "cell_type": "code",
   "execution_count": 30,
   "id": "8cffe82c",
   "metadata": {},
   "outputs": [],
   "source": [
    "def als_tuning_and_predict(train, test, user_col, item_col, rating_col) :\n",
    "\n",
    "    als = ALS(userCol=user_col+\"_index\", itemCol=item_col, ratingCol=rating_col,\n",
    "            coldStartStrategy=\"drop\", nonnegative=True)\n",
    "\n",
    "    param_grid = ParamGridBuilder()\\\n",
    "                .addGrid(als.rank, [10, 15])\\\n",
    "                .addGrid(als.maxIter, [10])\\\n",
    "                .addGrid(als.regParam, [.05, .1, .15])\\\n",
    "                .build()\n",
    "    \n",
    "    evaluator = RegressionEvaluator(metricName=\"rmse\", labelCol=rating_col, predictionCol=\"prediction\")\n",
    "\n",
    "    cv = CrossValidator(\n",
    "            estimator=als,\n",
    "            estimatorParamMaps=param_grid,\n",
    "            evaluator=evaluator,\n",
    "            numFolds=3)\n",
    "    \n",
    "    model = cv.fit(train)\n",
    "\n",
    "    print(\"Rank: \", model.bestModel.rank)\n",
    "    print(\"MaxIter: \", model.bestModel._java_obj.parent().getMaxIter())\n",
    "    print(\"RegParam: \", model.bestModel._java_obj.parent().getRegParam())\n",
    "\n",
    "    predictions = model.bestModel.transform(test)\n",
    "    rmse = evaluator.evaluate(predictions)\n",
    "    \n",
    "    print(\"RMSE=\"+str(rmse))\n",
    "\n",
    "    return model.bestModel"
   ]
  },
  {
   "cell_type": "code",
   "execution_count": 28,
   "id": "c8c750f9-791e-4d1e-a7d3-5b2b4fa5168d",
   "metadata": {},
   "outputs": [],
   "source": [
    "def als_tuning_and_predict(train, test, user_col, item_col, rating_col) :\n",
    "\n",
    "    als = ALS(rank=10, maxIter=10,regParam=.1, userCol=user_col+\"_index\", itemCol=item_col, ratingCol=rating_col,\n",
    "            coldStartStrategy=\"drop\", nonnegative=True)\n",
    "\n",
    "    evaluator = RegressionEvaluator(metricName=\"rmse\", labelCol=rating_col, predictionCol=\"prediction\")\n",
    "\n",
    "    model = als.fit(train)\n",
    "    \n",
    "    predictions = model.transform(test)\n",
    "    rmse = evaluator.evaluate(predictions)\n",
    "    \n",
    "    print(\"RMSE=\"+str(rmse))\n",
    "\n",
    "    return model"
   ]
  },
  {
   "cell_type": "code",
   "execution_count": 30,
   "id": "288b543c",
   "metadata": {},
   "outputs": [],
   "source": [
    "def create_predictions_pandas_dataframe(model, df_spark, user_col, item_col, rating_col) :\n",
    "    \n",
    "    recs = model.recommendForAllUsers(10).toPandas()\n",
    "\n",
    "    nrecs = recs.recommendations.apply(pd.Series)\\\n",
    "                .merge(recs, right_index = True, left_index = True)\\\n",
    "                .drop([\"recommendations\"], axis = 1)\\\n",
    "                .melt(id_vars = [user_col+\"_index\"], value_name = \"recommendation\")\\\n",
    "                .drop(\"variable\", axis = 1)\\\n",
    "                .dropna()\n",
    "    nrecs = nrecs.sort_values(user_col+\"_index\")\n",
    "    nrecs = pd.concat([nrecs[\"recommendation\"].apply(pd.Series), nrecs[user_col+\"_index\"]], axis = 1)\n",
    "    nrecs.columns = [item_col, rating_col, user_col]\n",
    "\n",
    "    md = df_spark.select(df_spark[user_col],df_spark[user_col+\"_index\"],df_spark[item_col])\n",
    "    md = md.toPandas()\n",
    "\n",
    "    dict1 = dict(zip(md[user_col+\"_index\"],md[user_col]))\n",
    "\n",
    "    nrecs[user_col] = nrecs[user_col].map(dict1)\n",
    "    nrecs = nrecs.sort_values(user_col)\n",
    "    nrecs.reset_index(drop=True, inplace=True)\n",
    "\n",
    "    df_recommendations = nrecs[[user_col,item_col]]\n",
    "    df_recommendations[item_col] = df_recommendations[item_col].astype(\"int64\")\n",
    "\n",
    "    df_recommendations = df_recommendations[item_col].groupby([df_recommendations[user_col]]).apply(list).reset_index()\n",
    "\n",
    "    return df_recommendations"
   ]
  },
  {
   "cell_type": "markdown",
   "id": "5fe02550",
   "metadata": {},
   "source": [
    "### Reviews score"
   ]
  },
  {
   "cell_type": "code",
   "execution_count": 32,
   "id": "1822615d-c9c5-4186-9599-aa92976828e6",
   "metadata": {},
   "outputs": [],
   "source": [
    "df_sp_reviews_score, train, test = pyspark_df_with_train_test_split(df_als_reviews_score, 0.2, \"profile\", \"anime_uid\", \"review_score\")"
   ]
  },
  {
   "cell_type": "code",
   "execution_count": 34,
   "id": "49ad3ec7-7145-423a-a69e-75aec633c579",
   "metadata": {
    "scrolled": true
   },
   "outputs": [
    {
     "name": "stderr",
     "output_type": "stream",
     "text": [
      "25/06/05 10:01:20 WARN DAGScheduler: Broadcasting large task binary with size 1224.3 KiB\n",
      "25/06/05 10:01:20 WARN DAGScheduler: Broadcasting large task binary with size 1225.7 KiB\n",
      "25/06/05 10:01:20 WARN DAGScheduler: Broadcasting large task binary with size 1227.3 KiB\n",
      "25/06/05 10:01:20 WARN DAGScheduler: Broadcasting large task binary with size 1228.6 KiB\n",
      "25/06/05 10:01:21 WARN DAGScheduler: Broadcasting large task binary with size 1227.5 KiB\n",
      "25/06/05 10:01:21 WARN DAGScheduler: Broadcasting large task binary with size 1228.8 KiB\n",
      "25/06/05 10:01:21 WARN DAGScheduler: Broadcasting large task binary with size 1229.6 KiB\n",
      "25/06/05 10:01:21 WARN DAGScheduler: Broadcasting large task binary with size 1232.7 KiB\n",
      "25/06/05 10:01:21 WARN DAGScheduler: Broadcasting large task binary with size 1234.1 KiB\n",
      "25/06/05 10:01:21 WARN DAGScheduler: Broadcasting large task binary with size 1235.5 KiB\n",
      "25/06/05 10:01:21 WARN DAGScheduler: Broadcasting large task binary with size 1236.9 KiB\n",
      "25/06/05 10:01:21 WARN DAGScheduler: Broadcasting large task binary with size 1238.3 KiB\n",
      "25/06/05 10:01:22 WARN DAGScheduler: Broadcasting large task binary with size 1239.7 KiB\n",
      "25/06/05 10:01:22 WARN DAGScheduler: Broadcasting large task binary with size 1241.0 KiB\n",
      "25/06/05 10:01:22 WARN DAGScheduler: Broadcasting large task binary with size 1242.4 KiB\n",
      "25/06/05 10:01:22 WARN DAGScheduler: Broadcasting large task binary with size 1243.8 KiB\n",
      "25/06/05 10:01:22 WARN DAGScheduler: Broadcasting large task binary with size 1245.2 KiB\n",
      "25/06/05 10:01:22 WARN DAGScheduler: Broadcasting large task binary with size 1246.6 KiB\n",
      "25/06/05 10:01:22 WARN DAGScheduler: Broadcasting large task binary with size 1248.0 KiB\n",
      "25/06/05 10:01:22 WARN DAGScheduler: Broadcasting large task binary with size 1249.4 KiB\n",
      "25/06/05 10:01:22 WARN DAGScheduler: Broadcasting large task binary with size 1250.7 KiB\n",
      "25/06/05 10:01:22 WARN DAGScheduler: Broadcasting large task binary with size 1252.1 KiB\n",
      "25/06/05 10:01:22 WARN DAGScheduler: Broadcasting large task binary with size 1253.5 KiB\n",
      "25/06/05 10:01:22 WARN DAGScheduler: Broadcasting large task binary with size 1254.9 KiB\n",
      "25/06/05 10:01:22 WARN DAGScheduler: Broadcasting large task binary with size 1256.3 KiB\n",
      "25/06/05 10:01:22 WARN DAGScheduler: Broadcasting large task binary with size 1257.7 KiB\n",
      "25/06/05 10:01:22 WARN DAGScheduler: Broadcasting large task binary with size 1259.6 KiB\n",
      "25/06/05 10:01:22 WARN DAGScheduler: Broadcasting large task binary with size 1258.3 KiB\n",
      "25/06/05 10:01:23 WARN DAGScheduler: Broadcasting large task binary with size 1267.2 KiB\n",
      "25/06/05 10:01:23 WARN DAGScheduler: Broadcasting large task binary with size 1265.8 KiB\n",
      "25/06/05 10:01:23 WARN DAGScheduler: Broadcasting large task binary with size 1205.5 KiB\n"
     ]
    },
    {
     "name": "stdout",
     "output_type": "stream",
     "text": [
      "RMSE=0.2782463583445547\n"
     ]
    },
    {
     "name": "stderr",
     "output_type": "stream",
     "text": [
      "25/06/05 10:01:23 WARN DAGScheduler: Broadcasting large task binary with size 1315.6 KiB\n"
     ]
    }
   ],
   "source": [
    "model = als_tuning_and_predict(train, test, \"profile\", \"anime_uid\", \"review_score\")"
   ]
  },
  {
   "cell_type": "code",
   "execution_count": 36,
   "id": "7e9fa16a-6d45-4a1e-99d0-4d178acf7302",
   "metadata": {},
   "outputs": [
    {
     "name": "stderr",
     "output_type": "stream",
     "text": [
      "25/06/05 10:01:56 WARN DAGScheduler: Broadcasting large task binary with size 1314.4 KiB\n",
      "25/06/05 10:02:00 WARN DAGScheduler: Broadcasting large task binary with size 1305.8 KiB\n",
      "25/06/05 10:02:11 WARN DAGScheduler: Broadcasting large task binary with size 1183.0 KiB\n",
      "/var/folders/yt/qrbwlc0x6fj2rs4chrxkrm_m0000gn/T/ipykernel_47524/4173841574.py:25: SettingWithCopyWarning: \n",
      "A value is trying to be set on a copy of a slice from a DataFrame.\n",
      "Try using .loc[row_indexer,col_indexer] = value instead\n",
      "\n",
      "See the caveats in the documentation: https://pandas.pydata.org/pandas-docs/stable/user_guide/indexing.html#returning-a-view-versus-a-copy\n",
      "  df_recommendations[item_col] = df_recommendations[item_col].astype(\"int64\")\n"
     ]
    },
    {
     "data": {
      "text/html": [
       "<div>\n",
       "<style scoped>\n",
       "    .dataframe tbody tr th:only-of-type {\n",
       "        vertical-align: middle;\n",
       "    }\n",
       "\n",
       "    .dataframe tbody tr th {\n",
       "        vertical-align: top;\n",
       "    }\n",
       "\n",
       "    .dataframe thead th {\n",
       "        text-align: right;\n",
       "    }\n",
       "</style>\n",
       "<table border=\"1\" class=\"dataframe\">\n",
       "  <thead>\n",
       "    <tr style=\"text-align: right;\">\n",
       "      <th></th>\n",
       "      <th>profile</th>\n",
       "      <th>anime_uid</th>\n",
       "    </tr>\n",
       "  </thead>\n",
       "  <tbody>\n",
       "    <tr>\n",
       "      <th>0</th>\n",
       "      <td>-----noname-----</td>\n",
       "      <td>[22789, 22135, 585, 4081, 4087, 20583, 28297, ...</td>\n",
       "    </tr>\n",
       "    <tr>\n",
       "      <th>1</th>\n",
       "      <td>---SnowFlake---</td>\n",
       "      <td>[34798, 2418, 22789, 523, 2034, 20583, 585, 16...</td>\n",
       "    </tr>\n",
       "    <tr>\n",
       "      <th>2</th>\n",
       "      <td>---was-----</td>\n",
       "      <td>[202, 7311, 5678, 1, 21327, 2924, 10162, 36296...</td>\n",
       "    </tr>\n",
       "    <tr>\n",
       "      <th>3</th>\n",
       "      <td>--EYEPATCH--</td>\n",
       "      <td>[34798, 12531, 523, 22789, 35839, 7674, 35180,...</td>\n",
       "    </tr>\n",
       "    <tr>\n",
       "      <th>4</th>\n",
       "      <td>--Mizu--</td>\n",
       "      <td>[17549, 4081, 4087, 523, 5678, 10162, 20583, 3...</td>\n",
       "    </tr>\n",
       "  </tbody>\n",
       "</table>\n",
       "</div>"
      ],
      "text/plain": [
       "            profile                                          anime_uid\n",
       "0  -----noname-----  [22789, 22135, 585, 4081, 4087, 20583, 28297, ...\n",
       "1   ---SnowFlake---  [34798, 2418, 22789, 523, 2034, 20583, 585, 16...\n",
       "2       ---was-----  [202, 7311, 5678, 1, 21327, 2924, 10162, 36296...\n",
       "3      --EYEPATCH--  [34798, 12531, 523, 22789, 35839, 7674, 35180,...\n",
       "4          --Mizu--  [17549, 4081, 4087, 523, 5678, 10162, 20583, 3..."
      ]
     },
     "metadata": {},
     "output_type": "display_data"
    }
   ],
   "source": [
    "df_reviews_score_based_reco = create_predictions_pandas_dataframe(model, df_sp_reviews_score, \"profile\", \"anime_uid\", \"review_score\")\n",
    "\n",
    "display(df_reviews_score_based_reco.head())"
   ]
  },
  {
   "cell_type": "code",
   "execution_count": 42,
   "id": "de9e7a2d",
   "metadata": {},
   "outputs": [],
   "source": [
    "df_reviews_score_based_reco = pd.read_csv(\"../data/als_reviews_score_based_reco_before_clean.csv\", index_col=\"profile\")\n",
    "df_reviews_score_based_reco = df_reviews_score_based_reco.rename(columns={\"anime_uid\": \"recommendations\"})\n",
    "df_reviews_score_based_reco[\"recommendations\"] = df_reviews_score_based_reco[\"recommendations\"].apply(ast.literal_eval)"
   ]
  },
  {
   "cell_type": "code",
   "execution_count": 43,
   "id": "e9dca9fb-d927-4721-859c-2c767df942fd",
   "metadata": {},
   "outputs": [],
   "source": [
    "data_profiles = pd.read_csv(\"https://anime-recommendation-engine.s3.eu-west-3.amazonaws.com/data/profiles_clean.csv\", index_col=\"profile\")\n",
    "data_profiles[\"favorites_anime\"] = data_profiles[\"favorites_anime\"].apply(ast.literal_eval)"
   ]
  },
  {
   "cell_type": "code",
   "execution_count": 44,
   "id": "f8318630",
   "metadata": {},
   "outputs": [],
   "source": [
    "def delete_favorites_from_recommendations(df_recommendations, df_favorites) :\n",
    "\n",
    "    for profile in df_recommendations.index :\n",
    "        favorites = df_favorites.at[profile,\"favorites_anime\"]\n",
    "        recommendations = df_recommendations.at[profile,\"recommendations\"]\n",
    "\n",
    "        recommendations = [value for value in recommendations if str(value) not in favorites]\n",
    "        df_recommendations.at[profile, 'recommendations'] = recommendations\n",
    "\n",
    "    return df_recommendations"
   ]
  },
  {
   "cell_type": "code",
   "execution_count": 45,
   "id": "93e04628",
   "metadata": {},
   "outputs": [],
   "source": [
    "df_reviews_score_based_reco = delete_favorites_from_recommendations(df_reviews_score_based_reco, data_profiles)"
   ]
  },
  {
   "cell_type": "code",
   "execution_count": 47,
   "id": "1729c9b4-a967-4b45-a5a2-475c4301f5a1",
   "metadata": {},
   "outputs": [],
   "source": [
    "df_reviews_score_based_reco.to_csv(\"../data/als_reviews_score_based_reco.csv\")"
   ]
  }
 ],
 "metadata": {
  "kernelspec": {
   "display_name": "base",
   "language": "python",
   "name": "python3"
  },
  "language_info": {
   "codemirror_mode": {
    "name": "ipython",
    "version": 3
   },
   "file_extension": ".py",
   "mimetype": "text/x-python",
   "name": "python",
   "nbconvert_exporter": "python",
   "pygments_lexer": "ipython3",
   "version": "3.12.7"
  }
 },
 "nbformat": 4,
 "nbformat_minor": 5
}
