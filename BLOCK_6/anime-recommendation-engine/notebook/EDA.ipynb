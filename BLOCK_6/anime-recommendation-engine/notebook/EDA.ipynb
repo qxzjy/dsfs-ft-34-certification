{
 "cells": [
  {
   "cell_type": "markdown",
   "id": "e1f18adb",
   "metadata": {},
   "source": [
    "## 0) Imports"
   ]
  },
  {
   "cell_type": "code",
   "execution_count": 1,
   "id": "a90a116b",
   "metadata": {},
   "outputs": [],
   "source": [
    "import pandas as pd\n",
    "import numpy as np\n",
    "import plotly.express as px\n",
    "import plotly.io as pio\n",
    "import plotly.graph_objects as go\n",
    "import ast\n",
    "\n"
   ]
  },
  {
   "cell_type": "markdown",
   "id": "5b9ecced",
   "metadata": {},
   "source": [
    "# 1) Anime-centered analysis"
   ]
  },
  {
   "cell_type": "code",
   "execution_count": 2,
   "id": "6f11af78",
   "metadata": {},
   "outputs": [
    {
     "data": {
      "text/html": [
       "<div>\n",
       "<style scoped>\n",
       "    .dataframe tbody tr th:only-of-type {\n",
       "        vertical-align: middle;\n",
       "    }\n",
       "\n",
       "    .dataframe tbody tr th {\n",
       "        vertical-align: top;\n",
       "    }\n",
       "\n",
       "    .dataframe thead th {\n",
       "        text-align: right;\n",
       "    }\n",
       "</style>\n",
       "<table border=\"1\" class=\"dataframe\">\n",
       "  <thead>\n",
       "    <tr style=\"text-align: right;\">\n",
       "      <th></th>\n",
       "      <th>Unnamed: 0</th>\n",
       "      <th>uid</th>\n",
       "      <th>title</th>\n",
       "      <th>synopsis</th>\n",
       "      <th>genre</th>\n",
       "      <th>aired</th>\n",
       "      <th>episodes</th>\n",
       "      <th>members</th>\n",
       "      <th>popularity</th>\n",
       "      <th>ranked</th>\n",
       "      <th>score</th>\n",
       "      <th>img_url</th>\n",
       "      <th>link</th>\n",
       "    </tr>\n",
       "  </thead>\n",
       "  <tbody>\n",
       "    <tr>\n",
       "      <th>0</th>\n",
       "      <td>0</td>\n",
       "      <td>28891</td>\n",
       "      <td>Haikyuu!! Second Season</td>\n",
       "      <td>Following their participation at the Inter-Hig...</td>\n",
       "      <td>['Comedy', 'Sports', 'Drama', 'School', 'Shoun...</td>\n",
       "      <td>Oct 4, 2015 to Mar 27, 2016</td>\n",
       "      <td>25.0</td>\n",
       "      <td>489888</td>\n",
       "      <td>141</td>\n",
       "      <td>25.0</td>\n",
       "      <td>8.82</td>\n",
       "      <td>https://cdn.myanimelist.net/images/anime/9/766...</td>\n",
       "      <td>https://myanimelist.net/anime/28891/Haikyuu_Se...</td>\n",
       "    </tr>\n",
       "    <tr>\n",
       "      <th>1</th>\n",
       "      <td>1</td>\n",
       "      <td>23273</td>\n",
       "      <td>Shigatsu wa Kimi no Uso</td>\n",
       "      <td>Music accompanies the path of the human metron...</td>\n",
       "      <td>['Drama', 'Music', 'Romance', 'School', 'Shoun...</td>\n",
       "      <td>Oct 10, 2014 to Mar 20, 2015</td>\n",
       "      <td>22.0</td>\n",
       "      <td>995473</td>\n",
       "      <td>28</td>\n",
       "      <td>24.0</td>\n",
       "      <td>8.83</td>\n",
       "      <td>https://cdn.myanimelist.net/images/anime/3/671...</td>\n",
       "      <td>https://myanimelist.net/anime/23273/Shigatsu_w...</td>\n",
       "    </tr>\n",
       "    <tr>\n",
       "      <th>2</th>\n",
       "      <td>2</td>\n",
       "      <td>34599</td>\n",
       "      <td>Made in Abyss</td>\n",
       "      <td>The Abyss—a gaping chasm stretching down into ...</td>\n",
       "      <td>['Sci-Fi', 'Adventure', 'Mystery', 'Drama', 'F...</td>\n",
       "      <td>Jul 7, 2017 to Sep 29, 2017</td>\n",
       "      <td>13.0</td>\n",
       "      <td>581663</td>\n",
       "      <td>98</td>\n",
       "      <td>23.0</td>\n",
       "      <td>8.83</td>\n",
       "      <td>https://cdn.myanimelist.net/images/anime/6/867...</td>\n",
       "      <td>https://myanimelist.net/anime/34599/Made_in_Abyss</td>\n",
       "    </tr>\n",
       "    <tr>\n",
       "      <th>3</th>\n",
       "      <td>3</td>\n",
       "      <td>5114</td>\n",
       "      <td>Fullmetal Alchemist: Brotherhood</td>\n",
       "      <td>\"In order for something to be obtained, someth...</td>\n",
       "      <td>['Action', 'Military', 'Adventure', 'Comedy', ...</td>\n",
       "      <td>Apr 5, 2009 to Jul 4, 2010</td>\n",
       "      <td>64.0</td>\n",
       "      <td>1615084</td>\n",
       "      <td>4</td>\n",
       "      <td>1.0</td>\n",
       "      <td>9.23</td>\n",
       "      <td>https://cdn.myanimelist.net/images/anime/1223/...</td>\n",
       "      <td>https://myanimelist.net/anime/5114/Fullmetal_A...</td>\n",
       "    </tr>\n",
       "    <tr>\n",
       "      <th>4</th>\n",
       "      <td>4</td>\n",
       "      <td>31758</td>\n",
       "      <td>Kizumonogatari III: Reiketsu-hen</td>\n",
       "      <td>After helping revive the legendary vampire Kis...</td>\n",
       "      <td>['Action', 'Mystery', 'Supernatural', 'Vampire']</td>\n",
       "      <td>Jan 6, 2017</td>\n",
       "      <td>1.0</td>\n",
       "      <td>214621</td>\n",
       "      <td>502</td>\n",
       "      <td>22.0</td>\n",
       "      <td>8.83</td>\n",
       "      <td>https://cdn.myanimelist.net/images/anime/3/815...</td>\n",
       "      <td>https://myanimelist.net/anime/31758/Kizumonoga...</td>\n",
       "    </tr>\n",
       "  </tbody>\n",
       "</table>\n",
       "</div>"
      ],
      "text/plain": [
       "   Unnamed: 0    uid                             title  \\\n",
       "0           0  28891           Haikyuu!! Second Season   \n",
       "1           1  23273           Shigatsu wa Kimi no Uso   \n",
       "2           2  34599                     Made in Abyss   \n",
       "3           3   5114  Fullmetal Alchemist: Brotherhood   \n",
       "4           4  31758  Kizumonogatari III: Reiketsu-hen   \n",
       "\n",
       "                                            synopsis  \\\n",
       "0  Following their participation at the Inter-Hig...   \n",
       "1  Music accompanies the path of the human metron...   \n",
       "2  The Abyss—a gaping chasm stretching down into ...   \n",
       "3  \"In order for something to be obtained, someth...   \n",
       "4  After helping revive the legendary vampire Kis...   \n",
       "\n",
       "                                               genre  \\\n",
       "0  ['Comedy', 'Sports', 'Drama', 'School', 'Shoun...   \n",
       "1  ['Drama', 'Music', 'Romance', 'School', 'Shoun...   \n",
       "2  ['Sci-Fi', 'Adventure', 'Mystery', 'Drama', 'F...   \n",
       "3  ['Action', 'Military', 'Adventure', 'Comedy', ...   \n",
       "4   ['Action', 'Mystery', 'Supernatural', 'Vampire']   \n",
       "\n",
       "                          aired  episodes  members  popularity  ranked  score  \\\n",
       "0   Oct 4, 2015 to Mar 27, 2016      25.0   489888         141    25.0   8.82   \n",
       "1  Oct 10, 2014 to Mar 20, 2015      22.0   995473          28    24.0   8.83   \n",
       "2   Jul 7, 2017 to Sep 29, 2017      13.0   581663          98    23.0   8.83   \n",
       "3    Apr 5, 2009 to Jul 4, 2010      64.0  1615084           4     1.0   9.23   \n",
       "4                   Jan 6, 2017       1.0   214621         502    22.0   8.83   \n",
       "\n",
       "                                             img_url  \\\n",
       "0  https://cdn.myanimelist.net/images/anime/9/766...   \n",
       "1  https://cdn.myanimelist.net/images/anime/3/671...   \n",
       "2  https://cdn.myanimelist.net/images/anime/6/867...   \n",
       "3  https://cdn.myanimelist.net/images/anime/1223/...   \n",
       "4  https://cdn.myanimelist.net/images/anime/3/815...   \n",
       "\n",
       "                                                link  \n",
       "0  https://myanimelist.net/anime/28891/Haikyuu_Se...  \n",
       "1  https://myanimelist.net/anime/23273/Shigatsu_w...  \n",
       "2  https://myanimelist.net/anime/34599/Made_in_Abyss  \n",
       "3  https://myanimelist.net/anime/5114/Fullmetal_A...  \n",
       "4  https://myanimelist.net/anime/31758/Kizumonoga...  "
      ]
     },
     "metadata": {},
     "output_type": "display_data"
    }
   ],
   "source": [
    "df_anim = pd.read_csv(\"/home/antog96/Jedha_Bootcamp/Projet_DSFS/anime-recommendation-engine/data/animes_clean.csv\")\n",
    "#df_users = pd.read_csv(\"/home/antog96/Jedha_Bootcamp/Projet_DSFS/anime-recommendation-engine/data/profiles_clean.csv\")\n",
    "#df_reviews = pd.read_csv(\"/home/antog96/Jedha_Bootcamp/Projet_DSFS/anime-recommendation-engine/data/reviews_clean.csv\")\n",
    "\n",
    "display(df_anim.head())\n"
   ]
  },
  {
   "cell_type": "code",
   "execution_count": 3,
   "id": "6137af6b",
   "metadata": {},
   "outputs": [
    {
     "name": "stdout",
     "output_type": "stream",
     "text": [
      "<class 'pandas.core.frame.DataFrame'>\n",
      "RangeIndex: 16216 entries, 0 to 16215\n",
      "Data columns (total 13 columns):\n",
      " #   Column      Non-Null Count  Dtype  \n",
      "---  ------      --------------  -----  \n",
      " 0   Unnamed: 0  16216 non-null  int64  \n",
      " 1   uid         16216 non-null  int64  \n",
      " 2   title       16216 non-null  object \n",
      " 3   synopsis    15453 non-null  object \n",
      " 4   genre       16216 non-null  object \n",
      " 5   aired       16216 non-null  object \n",
      " 6   episodes    15724 non-null  float64\n",
      " 7   members     16216 non-null  int64  \n",
      " 8   popularity  16216 non-null  int64  \n",
      " 9   ranked      14553 non-null  float64\n",
      " 10  score       15875 non-null  float64\n",
      " 11  img_url     16051 non-null  object \n",
      " 12  link        16216 non-null  object \n",
      "dtypes: float64(3), int64(4), object(6)\n",
      "memory usage: 1.6+ MB\n"
     ]
    }
   ],
   "source": [
    "df_anim.info()"
   ]
  },
  {
   "cell_type": "code",
   "execution_count": 4,
   "id": "b03d27e3",
   "metadata": {},
   "outputs": [],
   "source": [
    "df_anim['genre'] = df_anim['genre'].apply(ast.literal_eval)\n",
    "df_exploded = df_anim.explode('genre')\n",
    "\n"
   ]
  },
  {
   "cell_type": "code",
   "execution_count": 5,
   "id": "b1d7bde6",
   "metadata": {},
   "outputs": [
    {
     "data": {
      "text/html": [
       "<div>\n",
       "<style scoped>\n",
       "    .dataframe tbody tr th:only-of-type {\n",
       "        vertical-align: middle;\n",
       "    }\n",
       "\n",
       "    .dataframe tbody tr th {\n",
       "        vertical-align: top;\n",
       "    }\n",
       "\n",
       "    .dataframe thead th {\n",
       "        text-align: right;\n",
       "    }\n",
       "</style>\n",
       "<table border=\"1\" class=\"dataframe\">\n",
       "  <thead>\n",
       "    <tr style=\"text-align: right;\">\n",
       "      <th></th>\n",
       "      <th>Unnamed: 0</th>\n",
       "      <th>uid</th>\n",
       "      <th>title</th>\n",
       "      <th>synopsis</th>\n",
       "      <th>genre</th>\n",
       "      <th>aired</th>\n",
       "      <th>episodes</th>\n",
       "      <th>members</th>\n",
       "      <th>popularity</th>\n",
       "      <th>ranked</th>\n",
       "      <th>score</th>\n",
       "      <th>img_url</th>\n",
       "      <th>link</th>\n",
       "    </tr>\n",
       "  </thead>\n",
       "  <tbody>\n",
       "    <tr>\n",
       "      <th>0</th>\n",
       "      <td>0</td>\n",
       "      <td>28891</td>\n",
       "      <td>Haikyuu!! Second Season</td>\n",
       "      <td>Following their participation at the Inter-Hig...</td>\n",
       "      <td>[Comedy, Sports, Drama, School, Shounen]</td>\n",
       "      <td>Oct 4, 2015 to Mar 27, 2016</td>\n",
       "      <td>25.0</td>\n",
       "      <td>489888</td>\n",
       "      <td>141</td>\n",
       "      <td>25.0</td>\n",
       "      <td>8.82</td>\n",
       "      <td>https://cdn.myanimelist.net/images/anime/9/766...</td>\n",
       "      <td>https://myanimelist.net/anime/28891/Haikyuu_Se...</td>\n",
       "    </tr>\n",
       "    <tr>\n",
       "      <th>1</th>\n",
       "      <td>1</td>\n",
       "      <td>23273</td>\n",
       "      <td>Shigatsu wa Kimi no Uso</td>\n",
       "      <td>Music accompanies the path of the human metron...</td>\n",
       "      <td>[Drama, Music, Romance, School, Shounen]</td>\n",
       "      <td>Oct 10, 2014 to Mar 20, 2015</td>\n",
       "      <td>22.0</td>\n",
       "      <td>995473</td>\n",
       "      <td>28</td>\n",
       "      <td>24.0</td>\n",
       "      <td>8.83</td>\n",
       "      <td>https://cdn.myanimelist.net/images/anime/3/671...</td>\n",
       "      <td>https://myanimelist.net/anime/23273/Shigatsu_w...</td>\n",
       "    </tr>\n",
       "    <tr>\n",
       "      <th>2</th>\n",
       "      <td>2</td>\n",
       "      <td>34599</td>\n",
       "      <td>Made in Abyss</td>\n",
       "      <td>The Abyss—a gaping chasm stretching down into ...</td>\n",
       "      <td>[Sci-Fi, Adventure, Mystery, Drama, Fantasy]</td>\n",
       "      <td>Jul 7, 2017 to Sep 29, 2017</td>\n",
       "      <td>13.0</td>\n",
       "      <td>581663</td>\n",
       "      <td>98</td>\n",
       "      <td>23.0</td>\n",
       "      <td>8.83</td>\n",
       "      <td>https://cdn.myanimelist.net/images/anime/6/867...</td>\n",
       "      <td>https://myanimelist.net/anime/34599/Made_in_Abyss</td>\n",
       "    </tr>\n",
       "    <tr>\n",
       "      <th>3</th>\n",
       "      <td>3</td>\n",
       "      <td>5114</td>\n",
       "      <td>Fullmetal Alchemist: Brotherhood</td>\n",
       "      <td>\"In order for something to be obtained, someth...</td>\n",
       "      <td>[Action, Military, Adventure, Comedy, Drama, M...</td>\n",
       "      <td>Apr 5, 2009 to Jul 4, 2010</td>\n",
       "      <td>64.0</td>\n",
       "      <td>1615084</td>\n",
       "      <td>4</td>\n",
       "      <td>1.0</td>\n",
       "      <td>9.23</td>\n",
       "      <td>https://cdn.myanimelist.net/images/anime/1223/...</td>\n",
       "      <td>https://myanimelist.net/anime/5114/Fullmetal_A...</td>\n",
       "    </tr>\n",
       "    <tr>\n",
       "      <th>4</th>\n",
       "      <td>4</td>\n",
       "      <td>31758</td>\n",
       "      <td>Kizumonogatari III: Reiketsu-hen</td>\n",
       "      <td>After helping revive the legendary vampire Kis...</td>\n",
       "      <td>[Action, Mystery, Supernatural, Vampire]</td>\n",
       "      <td>Jan 6, 2017</td>\n",
       "      <td>1.0</td>\n",
       "      <td>214621</td>\n",
       "      <td>502</td>\n",
       "      <td>22.0</td>\n",
       "      <td>8.83</td>\n",
       "      <td>https://cdn.myanimelist.net/images/anime/3/815...</td>\n",
       "      <td>https://myanimelist.net/anime/31758/Kizumonoga...</td>\n",
       "    </tr>\n",
       "  </tbody>\n",
       "</table>\n",
       "</div>"
      ],
      "text/plain": [
       "   Unnamed: 0    uid                             title  \\\n",
       "0           0  28891           Haikyuu!! Second Season   \n",
       "1           1  23273           Shigatsu wa Kimi no Uso   \n",
       "2           2  34599                     Made in Abyss   \n",
       "3           3   5114  Fullmetal Alchemist: Brotherhood   \n",
       "4           4  31758  Kizumonogatari III: Reiketsu-hen   \n",
       "\n",
       "                                            synopsis  \\\n",
       "0  Following their participation at the Inter-Hig...   \n",
       "1  Music accompanies the path of the human metron...   \n",
       "2  The Abyss—a gaping chasm stretching down into ...   \n",
       "3  \"In order for something to be obtained, someth...   \n",
       "4  After helping revive the legendary vampire Kis...   \n",
       "\n",
       "                                               genre  \\\n",
       "0           [Comedy, Sports, Drama, School, Shounen]   \n",
       "1           [Drama, Music, Romance, School, Shounen]   \n",
       "2       [Sci-Fi, Adventure, Mystery, Drama, Fantasy]   \n",
       "3  [Action, Military, Adventure, Comedy, Drama, M...   \n",
       "4           [Action, Mystery, Supernatural, Vampire]   \n",
       "\n",
       "                          aired  episodes  members  popularity  ranked  score  \\\n",
       "0   Oct 4, 2015 to Mar 27, 2016      25.0   489888         141    25.0   8.82   \n",
       "1  Oct 10, 2014 to Mar 20, 2015      22.0   995473          28    24.0   8.83   \n",
       "2   Jul 7, 2017 to Sep 29, 2017      13.0   581663          98    23.0   8.83   \n",
       "3    Apr 5, 2009 to Jul 4, 2010      64.0  1615084           4     1.0   9.23   \n",
       "4                   Jan 6, 2017       1.0   214621         502    22.0   8.83   \n",
       "\n",
       "                                             img_url  \\\n",
       "0  https://cdn.myanimelist.net/images/anime/9/766...   \n",
       "1  https://cdn.myanimelist.net/images/anime/3/671...   \n",
       "2  https://cdn.myanimelist.net/images/anime/6/867...   \n",
       "3  https://cdn.myanimelist.net/images/anime/1223/...   \n",
       "4  https://cdn.myanimelist.net/images/anime/3/815...   \n",
       "\n",
       "                                                link  \n",
       "0  https://myanimelist.net/anime/28891/Haikyuu_Se...  \n",
       "1  https://myanimelist.net/anime/23273/Shigatsu_w...  \n",
       "2  https://myanimelist.net/anime/34599/Made_in_Abyss  \n",
       "3  https://myanimelist.net/anime/5114/Fullmetal_A...  \n",
       "4  https://myanimelist.net/anime/31758/Kizumonoga...  "
      ]
     },
     "execution_count": 5,
     "metadata": {},
     "output_type": "execute_result"
    }
   ],
   "source": [
    "df_anim.head()"
   ]
  },
  {
   "cell_type": "code",
   "execution_count": 6,
   "id": "4009733d",
   "metadata": {},
   "outputs": [
    {
     "data": {
      "text/plain": [
       "4851"
      ]
     },
     "execution_count": 6,
     "metadata": {},
     "output_type": "execute_result"
    }
   ],
   "source": [
    "len(df_anim['genre'].value_counts())"
   ]
  },
  {
   "cell_type": "code",
   "execution_count": 7,
   "id": "fcd66189",
   "metadata": {},
   "outputs": [
    {
     "name": "stdout",
     "output_type": "stream",
     "text": [
      "Amount of different genres : 43\n"
     ]
    }
   ],
   "source": [
    "print(f'Amount of different genres : {len(pd.DataFrame(df_exploded['genre'].value_counts()))}')"
   ]
  },
  {
   "cell_type": "code",
   "execution_count": 8,
   "id": "aa64be08",
   "metadata": {},
   "outputs": [
    {
     "name": "stdout",
     "output_type": "stream",
     "text": [
      "10\n"
     ]
    },
    {
     "data": {
      "text/html": [
       "<div>\n",
       "<style scoped>\n",
       "    .dataframe tbody tr th:only-of-type {\n",
       "        vertical-align: middle;\n",
       "    }\n",
       "\n",
       "    .dataframe tbody tr th {\n",
       "        vertical-align: top;\n",
       "    }\n",
       "\n",
       "    .dataframe thead th {\n",
       "        text-align: right;\n",
       "    }\n",
       "</style>\n",
       "<table border=\"1\" class=\"dataframe\">\n",
       "  <thead>\n",
       "    <tr style=\"text-align: right;\">\n",
       "      <th></th>\n",
       "      <th>genre</th>\n",
       "      <th>count</th>\n",
       "    </tr>\n",
       "  </thead>\n",
       "  <tbody>\n",
       "    <tr>\n",
       "      <th>0</th>\n",
       "      <td>Comedy</td>\n",
       "      <td>5640</td>\n",
       "    </tr>\n",
       "    <tr>\n",
       "      <th>1</th>\n",
       "      <td>Action</td>\n",
       "      <td>3572</td>\n",
       "    </tr>\n",
       "    <tr>\n",
       "      <th>2</th>\n",
       "      <td>Fantasy</td>\n",
       "      <td>2971</td>\n",
       "    </tr>\n",
       "    <tr>\n",
       "      <th>3</th>\n",
       "      <td>Adventure</td>\n",
       "      <td>2753</td>\n",
       "    </tr>\n",
       "    <tr>\n",
       "      <th>4</th>\n",
       "      <td>Sci-Fi</td>\n",
       "      <td>2462</td>\n",
       "    </tr>\n",
       "  </tbody>\n",
       "</table>\n",
       "</div>"
      ],
      "text/plain": [
       "       genre  count\n",
       "0     Comedy   5640\n",
       "1     Action   3572\n",
       "2    Fantasy   2971\n",
       "3  Adventure   2753\n",
       "4     Sci-Fi   2462"
      ]
     },
     "execution_count": 8,
     "metadata": {},
     "output_type": "execute_result"
    }
   ],
   "source": [
    "genre_count = pd.DataFrame(df_exploded['genre'].value_counts().reset_index(name='count').head(10))\n",
    "print(len(genre_count))\n",
    "genre_count.head()"
   ]
  },
  {
   "cell_type": "markdown",
   "id": "248765ef",
   "metadata": {},
   "source": [
    "## Bar plot for top 10 most represented genres"
   ]
  },
  {
   "cell_type": "code",
   "execution_count": null,
   "id": "27bfd451",
   "metadata": {},
   "outputs": [
    {
     "data": {
      "application/vnd.plotly.v1+json": {
       "config": {
        "plotlyServerURL": "https://plot.ly"
       },
       "data": [
        {
         "hovertemplate": "Genre=%{x}<br>Count=%{text}<extra></extra>",
         "legendgroup": "",
         "marker": {
          "color": "#3366CC",
          "pattern": {
           "shape": ""
          }
         },
         "name": "",
         "orientation": "v",
         "showlegend": false,
         "text": {
          "bdata": "AAAAAAAItkAAAAAAAOirQAAAAAAANqdAAAAAAACCpUAAAAAAADyjQAAAAAAANKNAAAAAAAAyo0AAAAAAAOydQAAAAAAAHJ1AAAAAAACIm0A=",
          "dtype": "f8"
         },
         "textposition": "auto",
         "type": "bar",
         "x": [
          "Comedy",
          "Action",
          "Fantasy",
          "Adventure",
          "Sci-Fi",
          "Kids",
          "Drama",
          "Shounen",
          "Music",
          "Romance"
         ],
         "xaxis": "x",
         "y": {
          "bdata": "CBb0DZsLwQqeCZoJmQl7B0cH4gY=",
          "dtype": "i2"
         },
         "yaxis": "y"
        }
       ],
       "layout": {
        "barmode": "relative",
        "legend": {
         "tracegroupgap": 0
        },
        "template": {
         "data": {
          "bar": [
           {
            "error_x": {
             "color": "#f2f5fa"
            },
            "error_y": {
             "color": "#f2f5fa"
            },
            "marker": {
             "line": {
              "color": "rgb(17,17,17)",
              "width": 0.5
             },
             "pattern": {
              "fillmode": "overlay",
              "size": 10,
              "solidity": 0.2
             }
            },
            "type": "bar"
           }
          ],
          "barpolar": [
           {
            "marker": {
             "line": {
              "color": "rgb(17,17,17)",
              "width": 0.5
             },
             "pattern": {
              "fillmode": "overlay",
              "size": 10,
              "solidity": 0.2
             }
            },
            "type": "barpolar"
           }
          ],
          "carpet": [
           {
            "aaxis": {
             "endlinecolor": "#A2B1C6",
             "gridcolor": "#506784",
             "linecolor": "#506784",
             "minorgridcolor": "#506784",
             "startlinecolor": "#A2B1C6"
            },
            "baxis": {
             "endlinecolor": "#A2B1C6",
             "gridcolor": "#506784",
             "linecolor": "#506784",
             "minorgridcolor": "#506784",
             "startlinecolor": "#A2B1C6"
            },
            "type": "carpet"
           }
          ],
          "choropleth": [
           {
            "colorbar": {
             "outlinewidth": 0,
             "ticks": ""
            },
            "type": "choropleth"
           }
          ],
          "contour": [
           {
            "colorbar": {
             "outlinewidth": 0,
             "ticks": ""
            },
            "colorscale": [
             [
              0,
              "#0d0887"
             ],
             [
              0.1111111111111111,
              "#46039f"
             ],
             [
              0.2222222222222222,
              "#7201a8"
             ],
             [
              0.3333333333333333,
              "#9c179e"
             ],
             [
              0.4444444444444444,
              "#bd3786"
             ],
             [
              0.5555555555555556,
              "#d8576b"
             ],
             [
              0.6666666666666666,
              "#ed7953"
             ],
             [
              0.7777777777777778,
              "#fb9f3a"
             ],
             [
              0.8888888888888888,
              "#fdca26"
             ],
             [
              1,
              "#f0f921"
             ]
            ],
            "type": "contour"
           }
          ],
          "contourcarpet": [
           {
            "colorbar": {
             "outlinewidth": 0,
             "ticks": ""
            },
            "type": "contourcarpet"
           }
          ],
          "heatmap": [
           {
            "colorbar": {
             "outlinewidth": 0,
             "ticks": ""
            },
            "colorscale": [
             [
              0,
              "#0d0887"
             ],
             [
              0.1111111111111111,
              "#46039f"
             ],
             [
              0.2222222222222222,
              "#7201a8"
             ],
             [
              0.3333333333333333,
              "#9c179e"
             ],
             [
              0.4444444444444444,
              "#bd3786"
             ],
             [
              0.5555555555555556,
              "#d8576b"
             ],
             [
              0.6666666666666666,
              "#ed7953"
             ],
             [
              0.7777777777777778,
              "#fb9f3a"
             ],
             [
              0.8888888888888888,
              "#fdca26"
             ],
             [
              1,
              "#f0f921"
             ]
            ],
            "type": "heatmap"
           }
          ],
          "histogram": [
           {
            "marker": {
             "pattern": {
              "fillmode": "overlay",
              "size": 10,
              "solidity": 0.2
             }
            },
            "type": "histogram"
           }
          ],
          "histogram2d": [
           {
            "colorbar": {
             "outlinewidth": 0,
             "ticks": ""
            },
            "colorscale": [
             [
              0,
              "#0d0887"
             ],
             [
              0.1111111111111111,
              "#46039f"
             ],
             [
              0.2222222222222222,
              "#7201a8"
             ],
             [
              0.3333333333333333,
              "#9c179e"
             ],
             [
              0.4444444444444444,
              "#bd3786"
             ],
             [
              0.5555555555555556,
              "#d8576b"
             ],
             [
              0.6666666666666666,
              "#ed7953"
             ],
             [
              0.7777777777777778,
              "#fb9f3a"
             ],
             [
              0.8888888888888888,
              "#fdca26"
             ],
             [
              1,
              "#f0f921"
             ]
            ],
            "type": "histogram2d"
           }
          ],
          "histogram2dcontour": [
           {
            "colorbar": {
             "outlinewidth": 0,
             "ticks": ""
            },
            "colorscale": [
             [
              0,
              "#0d0887"
             ],
             [
              0.1111111111111111,
              "#46039f"
             ],
             [
              0.2222222222222222,
              "#7201a8"
             ],
             [
              0.3333333333333333,
              "#9c179e"
             ],
             [
              0.4444444444444444,
              "#bd3786"
             ],
             [
              0.5555555555555556,
              "#d8576b"
             ],
             [
              0.6666666666666666,
              "#ed7953"
             ],
             [
              0.7777777777777778,
              "#fb9f3a"
             ],
             [
              0.8888888888888888,
              "#fdca26"
             ],
             [
              1,
              "#f0f921"
             ]
            ],
            "type": "histogram2dcontour"
           }
          ],
          "mesh3d": [
           {
            "colorbar": {
             "outlinewidth": 0,
             "ticks": ""
            },
            "type": "mesh3d"
           }
          ],
          "parcoords": [
           {
            "line": {
             "colorbar": {
              "outlinewidth": 0,
              "ticks": ""
             }
            },
            "type": "parcoords"
           }
          ],
          "pie": [
           {
            "automargin": true,
            "type": "pie"
           }
          ],
          "scatter": [
           {
            "marker": {
             "line": {
              "color": "#283442"
             }
            },
            "type": "scatter"
           }
          ],
          "scatter3d": [
           {
            "line": {
             "colorbar": {
              "outlinewidth": 0,
              "ticks": ""
             }
            },
            "marker": {
             "colorbar": {
              "outlinewidth": 0,
              "ticks": ""
             }
            },
            "type": "scatter3d"
           }
          ],
          "scattercarpet": [
           {
            "marker": {
             "colorbar": {
              "outlinewidth": 0,
              "ticks": ""
             }
            },
            "type": "scattercarpet"
           }
          ],
          "scattergeo": [
           {
            "marker": {
             "colorbar": {
              "outlinewidth": 0,
              "ticks": ""
             }
            },
            "type": "scattergeo"
           }
          ],
          "scattergl": [
           {
            "marker": {
             "line": {
              "color": "#283442"
             }
            },
            "type": "scattergl"
           }
          ],
          "scattermap": [
           {
            "marker": {
             "colorbar": {
              "outlinewidth": 0,
              "ticks": ""
             }
            },
            "type": "scattermap"
           }
          ],
          "scattermapbox": [
           {
            "marker": {
             "colorbar": {
              "outlinewidth": 0,
              "ticks": ""
             }
            },
            "type": "scattermapbox"
           }
          ],
          "scatterpolar": [
           {
            "marker": {
             "colorbar": {
              "outlinewidth": 0,
              "ticks": ""
             }
            },
            "type": "scatterpolar"
           }
          ],
          "scatterpolargl": [
           {
            "marker": {
             "colorbar": {
              "outlinewidth": 0,
              "ticks": ""
             }
            },
            "type": "scatterpolargl"
           }
          ],
          "scatterternary": [
           {
            "marker": {
             "colorbar": {
              "outlinewidth": 0,
              "ticks": ""
             }
            },
            "type": "scatterternary"
           }
          ],
          "surface": [
           {
            "colorbar": {
             "outlinewidth": 0,
             "ticks": ""
            },
            "colorscale": [
             [
              0,
              "#0d0887"
             ],
             [
              0.1111111111111111,
              "#46039f"
             ],
             [
              0.2222222222222222,
              "#7201a8"
             ],
             [
              0.3333333333333333,
              "#9c179e"
             ],
             [
              0.4444444444444444,
              "#bd3786"
             ],
             [
              0.5555555555555556,
              "#d8576b"
             ],
             [
              0.6666666666666666,
              "#ed7953"
             ],
             [
              0.7777777777777778,
              "#fb9f3a"
             ],
             [
              0.8888888888888888,
              "#fdca26"
             ],
             [
              1,
              "#f0f921"
             ]
            ],
            "type": "surface"
           }
          ],
          "table": [
           {
            "cells": {
             "fill": {
              "color": "#506784"
             },
             "line": {
              "color": "rgb(17,17,17)"
             }
            },
            "header": {
             "fill": {
              "color": "#2a3f5f"
             },
             "line": {
              "color": "rgb(17,17,17)"
             }
            },
            "type": "table"
           }
          ]
         },
         "layout": {
          "annotationdefaults": {
           "arrowcolor": "#f2f5fa",
           "arrowhead": 0,
           "arrowwidth": 1
          },
          "autotypenumbers": "strict",
          "coloraxis": {
           "colorbar": {
            "outlinewidth": 0,
            "ticks": ""
           }
          },
          "colorscale": {
           "diverging": [
            [
             0,
             "#8e0152"
            ],
            [
             0.1,
             "#c51b7d"
            ],
            [
             0.2,
             "#de77ae"
            ],
            [
             0.3,
             "#f1b6da"
            ],
            [
             0.4,
             "#fde0ef"
            ],
            [
             0.5,
             "#f7f7f7"
            ],
            [
             0.6,
             "#e6f5d0"
            ],
            [
             0.7,
             "#b8e186"
            ],
            [
             0.8,
             "#7fbc41"
            ],
            [
             0.9,
             "#4d9221"
            ],
            [
             1,
             "#276419"
            ]
           ],
           "sequential": [
            [
             0,
             "#0d0887"
            ],
            [
             0.1111111111111111,
             "#46039f"
            ],
            [
             0.2222222222222222,
             "#7201a8"
            ],
            [
             0.3333333333333333,
             "#9c179e"
            ],
            [
             0.4444444444444444,
             "#bd3786"
            ],
            [
             0.5555555555555556,
             "#d8576b"
            ],
            [
             0.6666666666666666,
             "#ed7953"
            ],
            [
             0.7777777777777778,
             "#fb9f3a"
            ],
            [
             0.8888888888888888,
             "#fdca26"
            ],
            [
             1,
             "#f0f921"
            ]
           ],
           "sequentialminus": [
            [
             0,
             "#0d0887"
            ],
            [
             0.1111111111111111,
             "#46039f"
            ],
            [
             0.2222222222222222,
             "#7201a8"
            ],
            [
             0.3333333333333333,
             "#9c179e"
            ],
            [
             0.4444444444444444,
             "#bd3786"
            ],
            [
             0.5555555555555556,
             "#d8576b"
            ],
            [
             0.6666666666666666,
             "#ed7953"
            ],
            [
             0.7777777777777778,
             "#fb9f3a"
            ],
            [
             0.8888888888888888,
             "#fdca26"
            ],
            [
             1,
             "#f0f921"
            ]
           ]
          },
          "colorway": [
           "#636efa",
           "#EF553B",
           "#00cc96",
           "#ab63fa",
           "#FFA15A",
           "#19d3f3",
           "#FF6692",
           "#B6E880",
           "#FF97FF",
           "#FECB52"
          ],
          "font": {
           "color": "#f2f5fa"
          },
          "geo": {
           "bgcolor": "rgb(17,17,17)",
           "lakecolor": "rgb(17,17,17)",
           "landcolor": "rgb(17,17,17)",
           "showlakes": true,
           "showland": true,
           "subunitcolor": "#506784"
          },
          "hoverlabel": {
           "align": "left"
          },
          "hovermode": "closest",
          "mapbox": {
           "style": "dark"
          },
          "paper_bgcolor": "rgb(17,17,17)",
          "plot_bgcolor": "rgb(17,17,17)",
          "polar": {
           "angularaxis": {
            "gridcolor": "#506784",
            "linecolor": "#506784",
            "ticks": ""
           },
           "bgcolor": "rgb(17,17,17)",
           "radialaxis": {
            "gridcolor": "#506784",
            "linecolor": "#506784",
            "ticks": ""
           }
          },
          "scene": {
           "xaxis": {
            "backgroundcolor": "rgb(17,17,17)",
            "gridcolor": "#506784",
            "gridwidth": 2,
            "linecolor": "#506784",
            "showbackground": true,
            "ticks": "",
            "zerolinecolor": "#C8D4E3"
           },
           "yaxis": {
            "backgroundcolor": "rgb(17,17,17)",
            "gridcolor": "#506784",
            "gridwidth": 2,
            "linecolor": "#506784",
            "showbackground": true,
            "ticks": "",
            "zerolinecolor": "#C8D4E3"
           },
           "zaxis": {
            "backgroundcolor": "rgb(17,17,17)",
            "gridcolor": "#506784",
            "gridwidth": 2,
            "linecolor": "#506784",
            "showbackground": true,
            "ticks": "",
            "zerolinecolor": "#C8D4E3"
           }
          },
          "shapedefaults": {
           "line": {
            "color": "#f2f5fa"
           }
          },
          "sliderdefaults": {
           "bgcolor": "#C8D4E3",
           "bordercolor": "rgb(17,17,17)",
           "borderwidth": 1,
           "tickwidth": 0
          },
          "ternary": {
           "aaxis": {
            "gridcolor": "#506784",
            "linecolor": "#506784",
            "ticks": ""
           },
           "baxis": {
            "gridcolor": "#506784",
            "linecolor": "#506784",
            "ticks": ""
           },
           "bgcolor": "rgb(17,17,17)",
           "caxis": {
            "gridcolor": "#506784",
            "linecolor": "#506784",
            "ticks": ""
           }
          },
          "title": {
           "x": 0.05
          },
          "updatemenudefaults": {
           "bgcolor": "#506784",
           "borderwidth": 0
          },
          "xaxis": {
           "automargin": true,
           "gridcolor": "#283442",
           "linecolor": "#506784",
           "ticks": "",
           "title": {
            "standoff": 15
           },
           "zerolinecolor": "#283442",
           "zerolinewidth": 2
          },
          "yaxis": {
           "automargin": true,
           "gridcolor": "#283442",
           "linecolor": "#506784",
           "ticks": "",
           "title": {
            "standoff": 15
           },
           "zerolinecolor": "#283442",
           "zerolinewidth": 2
          }
         }
        },
        "title": {
         "text": "10 most represented genres"
        },
        "xaxis": {
         "anchor": "y",
         "domain": [
          0,
          1
         ],
         "title": {
          "text": "Genre"
         }
        },
        "yaxis": {
         "anchor": "x",
         "domain": [
          0,
          1
         ],
         "title": {
          "text": "Count"
         }
        }
       }
      }
     },
     "metadata": {},
     "output_type": "display_data"
    }
   ],
   "source": [
    "count = px.bar(genre_count,\n",
    "               x='genre',\n",
    "               y='count', \n",
    "               labels={'genre': 'Genre', 'count': 'Count'},\n",
    "               text='count',\n",
    "               title=\"10 most represented genres\",\n",
    "               template=\"plotly_dark\", \n",
    "               color_discrete_sequence=px.colors.qualitative.Dark2)\n",
    "\n",
    "count.show()"
   ]
  },
  {
   "cell_type": "markdown",
   "id": "03ed00f9",
   "metadata": {},
   "source": [
    "## Bar plot for top ranked animes and their score"
   ]
  },
  {
   "cell_type": "code",
   "execution_count": 11,
   "id": "7e6c91c1",
   "metadata": {},
   "outputs": [
    {
     "data": {
      "text/html": [
       "<div>\n",
       "<style scoped>\n",
       "    .dataframe tbody tr th:only-of-type {\n",
       "        vertical-align: middle;\n",
       "    }\n",
       "\n",
       "    .dataframe tbody tr th {\n",
       "        vertical-align: top;\n",
       "    }\n",
       "\n",
       "    .dataframe thead th {\n",
       "        text-align: right;\n",
       "    }\n",
       "</style>\n",
       "<table border=\"1\" class=\"dataframe\">\n",
       "  <thead>\n",
       "    <tr style=\"text-align: right;\">\n",
       "      <th></th>\n",
       "      <th>Unnamed: 0</th>\n",
       "      <th>uid</th>\n",
       "      <th>title</th>\n",
       "      <th>synopsis</th>\n",
       "      <th>genre</th>\n",
       "      <th>aired</th>\n",
       "      <th>episodes</th>\n",
       "      <th>members</th>\n",
       "      <th>popularity</th>\n",
       "      <th>ranked</th>\n",
       "      <th>score</th>\n",
       "      <th>img_url</th>\n",
       "      <th>link</th>\n",
       "    </tr>\n",
       "  </thead>\n",
       "  <tbody>\n",
       "    <tr>\n",
       "      <th>3</th>\n",
       "      <td>3</td>\n",
       "      <td>5114</td>\n",
       "      <td>Fullmetal Alchemist: Brotherhood</td>\n",
       "      <td>\"In order for something to be obtained, someth...</td>\n",
       "      <td>[Action, Military, Adventure, Comedy, Drama, M...</td>\n",
       "      <td>Apr 5, 2009 to Jul 4, 2010</td>\n",
       "      <td>64.0</td>\n",
       "      <td>1615084</td>\n",
       "      <td>4</td>\n",
       "      <td>1.0</td>\n",
       "      <td>9.23</td>\n",
       "      <td>https://cdn.myanimelist.net/images/anime/1223/...</td>\n",
       "      <td>https://myanimelist.net/anime/5114/Fullmetal_A...</td>\n",
       "    </tr>\n",
       "    <tr>\n",
       "      <th>773</th>\n",
       "      <td>773</td>\n",
       "      <td>9253</td>\n",
       "      <td>Steins;Gate</td>\n",
       "      <td>The self-proclaimed mad scientist Rintarou Oka...</td>\n",
       "      <td>[Thriller, Sci-Fi]</td>\n",
       "      <td>Apr 6, 2011 to Sep 14, 2011</td>\n",
       "      <td>24.0</td>\n",
       "      <td>1331710</td>\n",
       "      <td>7</td>\n",
       "      <td>2.0</td>\n",
       "      <td>9.11</td>\n",
       "      <td>https://cdn.myanimelist.net/images/anime/5/731...</td>\n",
       "      <td>https://myanimelist.net/anime/9253/Steins_Gate</td>\n",
       "    </tr>\n",
       "    <tr>\n",
       "      <th>772</th>\n",
       "      <td>772</td>\n",
       "      <td>11061</td>\n",
       "      <td>Hunter x Hunter (2011)</td>\n",
       "      <td>Hunter x Hunter  is set in a world where Hunte...</td>\n",
       "      <td>[Action, Adventure, Fantasy, Shounen, Super Po...</td>\n",
       "      <td>Oct 2, 2011 to Sep 24, 2014</td>\n",
       "      <td>148.0</td>\n",
       "      <td>1052761</td>\n",
       "      <td>20</td>\n",
       "      <td>3.0</td>\n",
       "      <td>9.11</td>\n",
       "      <td>https://cdn.myanimelist.net/images/anime/11/33...</td>\n",
       "      <td>https://myanimelist.net/anime/11061/Hunter_x_H...</td>\n",
       "    </tr>\n",
       "  </tbody>\n",
       "</table>\n",
       "</div>"
      ],
      "text/plain": [
       "     Unnamed: 0    uid                             title  \\\n",
       "3             3   5114  Fullmetal Alchemist: Brotherhood   \n",
       "773         773   9253                       Steins;Gate   \n",
       "772         772  11061            Hunter x Hunter (2011)   \n",
       "\n",
       "                                              synopsis  \\\n",
       "3    \"In order for something to be obtained, someth...   \n",
       "773  The self-proclaimed mad scientist Rintarou Oka...   \n",
       "772  Hunter x Hunter  is set in a world where Hunte...   \n",
       "\n",
       "                                                 genre  \\\n",
       "3    [Action, Military, Adventure, Comedy, Drama, M...   \n",
       "773                                 [Thriller, Sci-Fi]   \n",
       "772  [Action, Adventure, Fantasy, Shounen, Super Po...   \n",
       "\n",
       "                           aired  episodes  members  popularity  ranked  \\\n",
       "3     Apr 5, 2009 to Jul 4, 2010      64.0  1615084           4     1.0   \n",
       "773  Apr 6, 2011 to Sep 14, 2011      24.0  1331710           7     2.0   \n",
       "772  Oct 2, 2011 to Sep 24, 2014     148.0  1052761          20     3.0   \n",
       "\n",
       "     score                                            img_url  \\\n",
       "3     9.23  https://cdn.myanimelist.net/images/anime/1223/...   \n",
       "773   9.11  https://cdn.myanimelist.net/images/anime/5/731...   \n",
       "772   9.11  https://cdn.myanimelist.net/images/anime/11/33...   \n",
       "\n",
       "                                                  link  \n",
       "3    https://myanimelist.net/anime/5114/Fullmetal_A...  \n",
       "773     https://myanimelist.net/anime/9253/Steins_Gate  \n",
       "772  https://myanimelist.net/anime/11061/Hunter_x_H...  "
      ]
     },
     "execution_count": 11,
     "metadata": {},
     "output_type": "execute_result"
    }
   ],
   "source": [
    "rank = df_anim.sort_values(by='ranked').head(10)\n",
    "rank.head(3)"
   ]
  },
  {
   "cell_type": "code",
   "execution_count": null,
   "id": "ed6fb9e7",
   "metadata": {},
   "outputs": [
    {
     "data": {
      "application/vnd.plotly.v1+json": {
       "config": {
        "plotlyServerURL": "https://plot.ly"
       },
       "data": [
        {
         "hovertemplate": "=%{x}<br>Score=%{y}<br>ranked=%{text}<extra></extra>",
         "legendgroup": "",
         "marker": {
          "color": "#3366CC",
          "pattern": {
           "shape": ""
          }
         },
         "name": "",
         "orientation": "v",
         "showlegend": false,
         "text": {
          "bdata": "AAAAAAAA8D8AAAAAAAAAQAAAAAAAAAhAAAAAAAAAEEAAAAAAAAAUQAAAAAAAABhAAAAAAAAAHEAAAAAAAAAgQAAAAAAAACJAAAAAAAAAJEA=",
          "dtype": "f8"
         },
         "textposition": "auto",
         "type": "bar",
         "x": [
          "Fullmetal Alchemist: Brotherhood",
          "Steins;Gate",
          "Hunter x Hunter (2011)",
          "Kimi no Na wa.",
          "Shingeki no Kyojin Season 3 Part 2",
          "Gintama°",
          "Gintama'",
          "Ginga Eiyuu Densetsu",
          "3-gatsu no Lion 2nd Season",
          "Koe no Katachi"
         ],
         "xaxis": "x",
         "y": {
          "bdata": "9ihcj8J1IkC4HoXrUTgiQLgehetROCJArkfhehQuIkCkcD0K1yMiQJqZmZmZGSJAFK5H4XoUIkCPwvUoXA8iQArXo3A9CiJAhetRuB4FIkA=",
          "dtype": "f8"
         },
         "yaxis": "y"
        }
       ],
       "layout": {
        "barmode": "relative",
        "legend": {
         "tracegroupgap": 0
        },
        "template": {
         "data": {
          "bar": [
           {
            "error_x": {
             "color": "#f2f5fa"
            },
            "error_y": {
             "color": "#f2f5fa"
            },
            "marker": {
             "line": {
              "color": "rgb(17,17,17)",
              "width": 0.5
             },
             "pattern": {
              "fillmode": "overlay",
              "size": 10,
              "solidity": 0.2
             }
            },
            "type": "bar"
           }
          ],
          "barpolar": [
           {
            "marker": {
             "line": {
              "color": "rgb(17,17,17)",
              "width": 0.5
             },
             "pattern": {
              "fillmode": "overlay",
              "size": 10,
              "solidity": 0.2
             }
            },
            "type": "barpolar"
           }
          ],
          "carpet": [
           {
            "aaxis": {
             "endlinecolor": "#A2B1C6",
             "gridcolor": "#506784",
             "linecolor": "#506784",
             "minorgridcolor": "#506784",
             "startlinecolor": "#A2B1C6"
            },
            "baxis": {
             "endlinecolor": "#A2B1C6",
             "gridcolor": "#506784",
             "linecolor": "#506784",
             "minorgridcolor": "#506784",
             "startlinecolor": "#A2B1C6"
            },
            "type": "carpet"
           }
          ],
          "choropleth": [
           {
            "colorbar": {
             "outlinewidth": 0,
             "ticks": ""
            },
            "type": "choropleth"
           }
          ],
          "contour": [
           {
            "colorbar": {
             "outlinewidth": 0,
             "ticks": ""
            },
            "colorscale": [
             [
              0,
              "#0d0887"
             ],
             [
              0.1111111111111111,
              "#46039f"
             ],
             [
              0.2222222222222222,
              "#7201a8"
             ],
             [
              0.3333333333333333,
              "#9c179e"
             ],
             [
              0.4444444444444444,
              "#bd3786"
             ],
             [
              0.5555555555555556,
              "#d8576b"
             ],
             [
              0.6666666666666666,
              "#ed7953"
             ],
             [
              0.7777777777777778,
              "#fb9f3a"
             ],
             [
              0.8888888888888888,
              "#fdca26"
             ],
             [
              1,
              "#f0f921"
             ]
            ],
            "type": "contour"
           }
          ],
          "contourcarpet": [
           {
            "colorbar": {
             "outlinewidth": 0,
             "ticks": ""
            },
            "type": "contourcarpet"
           }
          ],
          "heatmap": [
           {
            "colorbar": {
             "outlinewidth": 0,
             "ticks": ""
            },
            "colorscale": [
             [
              0,
              "#0d0887"
             ],
             [
              0.1111111111111111,
              "#46039f"
             ],
             [
              0.2222222222222222,
              "#7201a8"
             ],
             [
              0.3333333333333333,
              "#9c179e"
             ],
             [
              0.4444444444444444,
              "#bd3786"
             ],
             [
              0.5555555555555556,
              "#d8576b"
             ],
             [
              0.6666666666666666,
              "#ed7953"
             ],
             [
              0.7777777777777778,
              "#fb9f3a"
             ],
             [
              0.8888888888888888,
              "#fdca26"
             ],
             [
              1,
              "#f0f921"
             ]
            ],
            "type": "heatmap"
           }
          ],
          "histogram": [
           {
            "marker": {
             "pattern": {
              "fillmode": "overlay",
              "size": 10,
              "solidity": 0.2
             }
            },
            "type": "histogram"
           }
          ],
          "histogram2d": [
           {
            "colorbar": {
             "outlinewidth": 0,
             "ticks": ""
            },
            "colorscale": [
             [
              0,
              "#0d0887"
             ],
             [
              0.1111111111111111,
              "#46039f"
             ],
             [
              0.2222222222222222,
              "#7201a8"
             ],
             [
              0.3333333333333333,
              "#9c179e"
             ],
             [
              0.4444444444444444,
              "#bd3786"
             ],
             [
              0.5555555555555556,
              "#d8576b"
             ],
             [
              0.6666666666666666,
              "#ed7953"
             ],
             [
              0.7777777777777778,
              "#fb9f3a"
             ],
             [
              0.8888888888888888,
              "#fdca26"
             ],
             [
              1,
              "#f0f921"
             ]
            ],
            "type": "histogram2d"
           }
          ],
          "histogram2dcontour": [
           {
            "colorbar": {
             "outlinewidth": 0,
             "ticks": ""
            },
            "colorscale": [
             [
              0,
              "#0d0887"
             ],
             [
              0.1111111111111111,
              "#46039f"
             ],
             [
              0.2222222222222222,
              "#7201a8"
             ],
             [
              0.3333333333333333,
              "#9c179e"
             ],
             [
              0.4444444444444444,
              "#bd3786"
             ],
             [
              0.5555555555555556,
              "#d8576b"
             ],
             [
              0.6666666666666666,
              "#ed7953"
             ],
             [
              0.7777777777777778,
              "#fb9f3a"
             ],
             [
              0.8888888888888888,
              "#fdca26"
             ],
             [
              1,
              "#f0f921"
             ]
            ],
            "type": "histogram2dcontour"
           }
          ],
          "mesh3d": [
           {
            "colorbar": {
             "outlinewidth": 0,
             "ticks": ""
            },
            "type": "mesh3d"
           }
          ],
          "parcoords": [
           {
            "line": {
             "colorbar": {
              "outlinewidth": 0,
              "ticks": ""
             }
            },
            "type": "parcoords"
           }
          ],
          "pie": [
           {
            "automargin": true,
            "type": "pie"
           }
          ],
          "scatter": [
           {
            "marker": {
             "line": {
              "color": "#283442"
             }
            },
            "type": "scatter"
           }
          ],
          "scatter3d": [
           {
            "line": {
             "colorbar": {
              "outlinewidth": 0,
              "ticks": ""
             }
            },
            "marker": {
             "colorbar": {
              "outlinewidth": 0,
              "ticks": ""
             }
            },
            "type": "scatter3d"
           }
          ],
          "scattercarpet": [
           {
            "marker": {
             "colorbar": {
              "outlinewidth": 0,
              "ticks": ""
             }
            },
            "type": "scattercarpet"
           }
          ],
          "scattergeo": [
           {
            "marker": {
             "colorbar": {
              "outlinewidth": 0,
              "ticks": ""
             }
            },
            "type": "scattergeo"
           }
          ],
          "scattergl": [
           {
            "marker": {
             "line": {
              "color": "#283442"
             }
            },
            "type": "scattergl"
           }
          ],
          "scattermap": [
           {
            "marker": {
             "colorbar": {
              "outlinewidth": 0,
              "ticks": ""
             }
            },
            "type": "scattermap"
           }
          ],
          "scattermapbox": [
           {
            "marker": {
             "colorbar": {
              "outlinewidth": 0,
              "ticks": ""
             }
            },
            "type": "scattermapbox"
           }
          ],
          "scatterpolar": [
           {
            "marker": {
             "colorbar": {
              "outlinewidth": 0,
              "ticks": ""
             }
            },
            "type": "scatterpolar"
           }
          ],
          "scatterpolargl": [
           {
            "marker": {
             "colorbar": {
              "outlinewidth": 0,
              "ticks": ""
             }
            },
            "type": "scatterpolargl"
           }
          ],
          "scatterternary": [
           {
            "marker": {
             "colorbar": {
              "outlinewidth": 0,
              "ticks": ""
             }
            },
            "type": "scatterternary"
           }
          ],
          "surface": [
           {
            "colorbar": {
             "outlinewidth": 0,
             "ticks": ""
            },
            "colorscale": [
             [
              0,
              "#0d0887"
             ],
             [
              0.1111111111111111,
              "#46039f"
             ],
             [
              0.2222222222222222,
              "#7201a8"
             ],
             [
              0.3333333333333333,
              "#9c179e"
             ],
             [
              0.4444444444444444,
              "#bd3786"
             ],
             [
              0.5555555555555556,
              "#d8576b"
             ],
             [
              0.6666666666666666,
              "#ed7953"
             ],
             [
              0.7777777777777778,
              "#fb9f3a"
             ],
             [
              0.8888888888888888,
              "#fdca26"
             ],
             [
              1,
              "#f0f921"
             ]
            ],
            "type": "surface"
           }
          ],
          "table": [
           {
            "cells": {
             "fill": {
              "color": "#506784"
             },
             "line": {
              "color": "rgb(17,17,17)"
             }
            },
            "header": {
             "fill": {
              "color": "#2a3f5f"
             },
             "line": {
              "color": "rgb(17,17,17)"
             }
            },
            "type": "table"
           }
          ]
         },
         "layout": {
          "annotationdefaults": {
           "arrowcolor": "#f2f5fa",
           "arrowhead": 0,
           "arrowwidth": 1
          },
          "autotypenumbers": "strict",
          "coloraxis": {
           "colorbar": {
            "outlinewidth": 0,
            "ticks": ""
           }
          },
          "colorscale": {
           "diverging": [
            [
             0,
             "#8e0152"
            ],
            [
             0.1,
             "#c51b7d"
            ],
            [
             0.2,
             "#de77ae"
            ],
            [
             0.3,
             "#f1b6da"
            ],
            [
             0.4,
             "#fde0ef"
            ],
            [
             0.5,
             "#f7f7f7"
            ],
            [
             0.6,
             "#e6f5d0"
            ],
            [
             0.7,
             "#b8e186"
            ],
            [
             0.8,
             "#7fbc41"
            ],
            [
             0.9,
             "#4d9221"
            ],
            [
             1,
             "#276419"
            ]
           ],
           "sequential": [
            [
             0,
             "#0d0887"
            ],
            [
             0.1111111111111111,
             "#46039f"
            ],
            [
             0.2222222222222222,
             "#7201a8"
            ],
            [
             0.3333333333333333,
             "#9c179e"
            ],
            [
             0.4444444444444444,
             "#bd3786"
            ],
            [
             0.5555555555555556,
             "#d8576b"
            ],
            [
             0.6666666666666666,
             "#ed7953"
            ],
            [
             0.7777777777777778,
             "#fb9f3a"
            ],
            [
             0.8888888888888888,
             "#fdca26"
            ],
            [
             1,
             "#f0f921"
            ]
           ],
           "sequentialminus": [
            [
             0,
             "#0d0887"
            ],
            [
             0.1111111111111111,
             "#46039f"
            ],
            [
             0.2222222222222222,
             "#7201a8"
            ],
            [
             0.3333333333333333,
             "#9c179e"
            ],
            [
             0.4444444444444444,
             "#bd3786"
            ],
            [
             0.5555555555555556,
             "#d8576b"
            ],
            [
             0.6666666666666666,
             "#ed7953"
            ],
            [
             0.7777777777777778,
             "#fb9f3a"
            ],
            [
             0.8888888888888888,
             "#fdca26"
            ],
            [
             1,
             "#f0f921"
            ]
           ]
          },
          "colorway": [
           "#636efa",
           "#EF553B",
           "#00cc96",
           "#ab63fa",
           "#FFA15A",
           "#19d3f3",
           "#FF6692",
           "#B6E880",
           "#FF97FF",
           "#FECB52"
          ],
          "font": {
           "color": "#f2f5fa"
          },
          "geo": {
           "bgcolor": "rgb(17,17,17)",
           "lakecolor": "rgb(17,17,17)",
           "landcolor": "rgb(17,17,17)",
           "showlakes": true,
           "showland": true,
           "subunitcolor": "#506784"
          },
          "hoverlabel": {
           "align": "left"
          },
          "hovermode": "closest",
          "mapbox": {
           "style": "dark"
          },
          "paper_bgcolor": "rgb(17,17,17)",
          "plot_bgcolor": "rgb(17,17,17)",
          "polar": {
           "angularaxis": {
            "gridcolor": "#506784",
            "linecolor": "#506784",
            "ticks": ""
           },
           "bgcolor": "rgb(17,17,17)",
           "radialaxis": {
            "gridcolor": "#506784",
            "linecolor": "#506784",
            "ticks": ""
           }
          },
          "scene": {
           "xaxis": {
            "backgroundcolor": "rgb(17,17,17)",
            "gridcolor": "#506784",
            "gridwidth": 2,
            "linecolor": "#506784",
            "showbackground": true,
            "ticks": "",
            "zerolinecolor": "#C8D4E3"
           },
           "yaxis": {
            "backgroundcolor": "rgb(17,17,17)",
            "gridcolor": "#506784",
            "gridwidth": 2,
            "linecolor": "#506784",
            "showbackground": true,
            "ticks": "",
            "zerolinecolor": "#C8D4E3"
           },
           "zaxis": {
            "backgroundcolor": "rgb(17,17,17)",
            "gridcolor": "#506784",
            "gridwidth": 2,
            "linecolor": "#506784",
            "showbackground": true,
            "ticks": "",
            "zerolinecolor": "#C8D4E3"
           }
          },
          "shapedefaults": {
           "line": {
            "color": "#f2f5fa"
           }
          },
          "sliderdefaults": {
           "bgcolor": "#C8D4E3",
           "bordercolor": "rgb(17,17,17)",
           "borderwidth": 1,
           "tickwidth": 0
          },
          "ternary": {
           "aaxis": {
            "gridcolor": "#506784",
            "linecolor": "#506784",
            "ticks": ""
           },
           "baxis": {
            "gridcolor": "#506784",
            "linecolor": "#506784",
            "ticks": ""
           },
           "bgcolor": "rgb(17,17,17)",
           "caxis": {
            "gridcolor": "#506784",
            "linecolor": "#506784",
            "ticks": ""
           }
          },
          "title": {
           "x": 0.05
          },
          "updatemenudefaults": {
           "bgcolor": "#506784",
           "borderwidth": 0
          },
          "xaxis": {
           "automargin": true,
           "gridcolor": "#283442",
           "linecolor": "#506784",
           "ticks": "",
           "title": {
            "standoff": 15
           },
           "zerolinecolor": "#283442",
           "zerolinewidth": 2
          },
          "yaxis": {
           "automargin": true,
           "gridcolor": "#283442",
           "linecolor": "#506784",
           "ticks": "",
           "title": {
            "standoff": 15
           },
           "zerolinecolor": "#283442",
           "zerolinewidth": 2
          }
         }
        },
        "title": {
         "text": "Top ranked animes and their average score"
        },
        "xaxis": {
         "anchor": "y",
         "domain": [
          0,
          1
         ],
         "title": {
          "text": ""
         }
        },
        "yaxis": {
         "anchor": "x",
         "domain": [
          0,
          1
         ],
         "range": [
          8.9,
          9.3
         ],
         "title": {
          "text": "Score"
         }
        }
       }
      }
     },
     "metadata": {},
     "output_type": "display_data"
    }
   ],
   "source": [
    "top_rank = px.bar(rank,\n",
    "                        x='title',\n",
    "                        y='score',\n",
    "                        labels={'title': '', 'score': 'Score'},\n",
    "                        text='ranked',\n",
    "                        title='Top ranked animes and their average score',\n",
    "                        template=\"plotly_dark\", \n",
    "                        color_discrete_sequence=px.colors.qualitative.Vivid)\n",
    "top_rank.update_yaxes(range=[8.9,9.3])\n",
    "top_rank.show()"
   ]
  },
  {
   "cell_type": "markdown",
   "id": "c58f62c1",
   "metadata": {},
   "source": [
    "## Bar plot for most popular animes"
   ]
  },
  {
   "cell_type": "code",
   "execution_count": 45,
   "id": "3a48ee8f",
   "metadata": {},
   "outputs": [],
   "source": [
    "pop = df_anim.sort_values(by='popularity')\n",
    "pop.head(10)\n",
    "pop10 = pop.head(10)"
   ]
  },
  {
   "cell_type": "code",
   "execution_count": null,
   "id": "ce9e9906",
   "metadata": {},
   "outputs": [
    {
     "data": {
      "application/vnd.plotly.v1+json": {
       "config": {
        "plotlyServerURL": "https://plot.ly"
       },
       "data": [
        {
         "hovertemplate": "=%{x}<br>Popularity=%{text}<extra></extra>",
         "legendgroup": "",
         "marker": {
          "color": "#3366CC",
          "pattern": {
           "shape": ""
          }
         },
         "name": "",
         "orientation": "v",
         "showlegend": false,
         "text": {
          "bdata": "AAAAAMOMPEEAAAAAY8c6QQAAAADfSzlBAAAAAOykOEEAAAAAk4I2QQAAAAD0iTRBAAAAAP5RNEEAAAAAX7UzQQAAAACSizNBAAAAADIIM0E=",
          "dtype": "f8"
         },
         "textposition": "auto",
         "type": "bar",
         "x": [
          "Death Note",
          "Shingeki no Kyojin",
          "Sword Art Online",
          "Fullmetal Alchemist: Brotherhood",
          "One Punch Man",
          "Tokyo Ghoul",
          "Steins;Gate",
          "No Game No Life",
          "Naruto",
          "Angel Beats!"
         ],
         "xaxis": "x",
         "y": {
          "bdata": "w4wcAGPHGgDfSxkA7KQYAJOCFgD0iRQA/lEUAF+1EwCSixMAMggTAA==",
          "dtype": "i4"
         },
         "yaxis": "y"
        }
       ],
       "layout": {
        "barmode": "relative",
        "legend": {
         "tracegroupgap": 0
        },
        "template": {
         "data": {
          "bar": [
           {
            "error_x": {
             "color": "#f2f5fa"
            },
            "error_y": {
             "color": "#f2f5fa"
            },
            "marker": {
             "line": {
              "color": "rgb(17,17,17)",
              "width": 0.5
             },
             "pattern": {
              "fillmode": "overlay",
              "size": 10,
              "solidity": 0.2
             }
            },
            "type": "bar"
           }
          ],
          "barpolar": [
           {
            "marker": {
             "line": {
              "color": "rgb(17,17,17)",
              "width": 0.5
             },
             "pattern": {
              "fillmode": "overlay",
              "size": 10,
              "solidity": 0.2
             }
            },
            "type": "barpolar"
           }
          ],
          "carpet": [
           {
            "aaxis": {
             "endlinecolor": "#A2B1C6",
             "gridcolor": "#506784",
             "linecolor": "#506784",
             "minorgridcolor": "#506784",
             "startlinecolor": "#A2B1C6"
            },
            "baxis": {
             "endlinecolor": "#A2B1C6",
             "gridcolor": "#506784",
             "linecolor": "#506784",
             "minorgridcolor": "#506784",
             "startlinecolor": "#A2B1C6"
            },
            "type": "carpet"
           }
          ],
          "choropleth": [
           {
            "colorbar": {
             "outlinewidth": 0,
             "ticks": ""
            },
            "type": "choropleth"
           }
          ],
          "contour": [
           {
            "colorbar": {
             "outlinewidth": 0,
             "ticks": ""
            },
            "colorscale": [
             [
              0,
              "#0d0887"
             ],
             [
              0.1111111111111111,
              "#46039f"
             ],
             [
              0.2222222222222222,
              "#7201a8"
             ],
             [
              0.3333333333333333,
              "#9c179e"
             ],
             [
              0.4444444444444444,
              "#bd3786"
             ],
             [
              0.5555555555555556,
              "#d8576b"
             ],
             [
              0.6666666666666666,
              "#ed7953"
             ],
             [
              0.7777777777777778,
              "#fb9f3a"
             ],
             [
              0.8888888888888888,
              "#fdca26"
             ],
             [
              1,
              "#f0f921"
             ]
            ],
            "type": "contour"
           }
          ],
          "contourcarpet": [
           {
            "colorbar": {
             "outlinewidth": 0,
             "ticks": ""
            },
            "type": "contourcarpet"
           }
          ],
          "heatmap": [
           {
            "colorbar": {
             "outlinewidth": 0,
             "ticks": ""
            },
            "colorscale": [
             [
              0,
              "#0d0887"
             ],
             [
              0.1111111111111111,
              "#46039f"
             ],
             [
              0.2222222222222222,
              "#7201a8"
             ],
             [
              0.3333333333333333,
              "#9c179e"
             ],
             [
              0.4444444444444444,
              "#bd3786"
             ],
             [
              0.5555555555555556,
              "#d8576b"
             ],
             [
              0.6666666666666666,
              "#ed7953"
             ],
             [
              0.7777777777777778,
              "#fb9f3a"
             ],
             [
              0.8888888888888888,
              "#fdca26"
             ],
             [
              1,
              "#f0f921"
             ]
            ],
            "type": "heatmap"
           }
          ],
          "histogram": [
           {
            "marker": {
             "pattern": {
              "fillmode": "overlay",
              "size": 10,
              "solidity": 0.2
             }
            },
            "type": "histogram"
           }
          ],
          "histogram2d": [
           {
            "colorbar": {
             "outlinewidth": 0,
             "ticks": ""
            },
            "colorscale": [
             [
              0,
              "#0d0887"
             ],
             [
              0.1111111111111111,
              "#46039f"
             ],
             [
              0.2222222222222222,
              "#7201a8"
             ],
             [
              0.3333333333333333,
              "#9c179e"
             ],
             [
              0.4444444444444444,
              "#bd3786"
             ],
             [
              0.5555555555555556,
              "#d8576b"
             ],
             [
              0.6666666666666666,
              "#ed7953"
             ],
             [
              0.7777777777777778,
              "#fb9f3a"
             ],
             [
              0.8888888888888888,
              "#fdca26"
             ],
             [
              1,
              "#f0f921"
             ]
            ],
            "type": "histogram2d"
           }
          ],
          "histogram2dcontour": [
           {
            "colorbar": {
             "outlinewidth": 0,
             "ticks": ""
            },
            "colorscale": [
             [
              0,
              "#0d0887"
             ],
             [
              0.1111111111111111,
              "#46039f"
             ],
             [
              0.2222222222222222,
              "#7201a8"
             ],
             [
              0.3333333333333333,
              "#9c179e"
             ],
             [
              0.4444444444444444,
              "#bd3786"
             ],
             [
              0.5555555555555556,
              "#d8576b"
             ],
             [
              0.6666666666666666,
              "#ed7953"
             ],
             [
              0.7777777777777778,
              "#fb9f3a"
             ],
             [
              0.8888888888888888,
              "#fdca26"
             ],
             [
              1,
              "#f0f921"
             ]
            ],
            "type": "histogram2dcontour"
           }
          ],
          "mesh3d": [
           {
            "colorbar": {
             "outlinewidth": 0,
             "ticks": ""
            },
            "type": "mesh3d"
           }
          ],
          "parcoords": [
           {
            "line": {
             "colorbar": {
              "outlinewidth": 0,
              "ticks": ""
             }
            },
            "type": "parcoords"
           }
          ],
          "pie": [
           {
            "automargin": true,
            "type": "pie"
           }
          ],
          "scatter": [
           {
            "marker": {
             "line": {
              "color": "#283442"
             }
            },
            "type": "scatter"
           }
          ],
          "scatter3d": [
           {
            "line": {
             "colorbar": {
              "outlinewidth": 0,
              "ticks": ""
             }
            },
            "marker": {
             "colorbar": {
              "outlinewidth": 0,
              "ticks": ""
             }
            },
            "type": "scatter3d"
           }
          ],
          "scattercarpet": [
           {
            "marker": {
             "colorbar": {
              "outlinewidth": 0,
              "ticks": ""
             }
            },
            "type": "scattercarpet"
           }
          ],
          "scattergeo": [
           {
            "marker": {
             "colorbar": {
              "outlinewidth": 0,
              "ticks": ""
             }
            },
            "type": "scattergeo"
           }
          ],
          "scattergl": [
           {
            "marker": {
             "line": {
              "color": "#283442"
             }
            },
            "type": "scattergl"
           }
          ],
          "scattermap": [
           {
            "marker": {
             "colorbar": {
              "outlinewidth": 0,
              "ticks": ""
             }
            },
            "type": "scattermap"
           }
          ],
          "scattermapbox": [
           {
            "marker": {
             "colorbar": {
              "outlinewidth": 0,
              "ticks": ""
             }
            },
            "type": "scattermapbox"
           }
          ],
          "scatterpolar": [
           {
            "marker": {
             "colorbar": {
              "outlinewidth": 0,
              "ticks": ""
             }
            },
            "type": "scatterpolar"
           }
          ],
          "scatterpolargl": [
           {
            "marker": {
             "colorbar": {
              "outlinewidth": 0,
              "ticks": ""
             }
            },
            "type": "scatterpolargl"
           }
          ],
          "scatterternary": [
           {
            "marker": {
             "colorbar": {
              "outlinewidth": 0,
              "ticks": ""
             }
            },
            "type": "scatterternary"
           }
          ],
          "surface": [
           {
            "colorbar": {
             "outlinewidth": 0,
             "ticks": ""
            },
            "colorscale": [
             [
              0,
              "#0d0887"
             ],
             [
              0.1111111111111111,
              "#46039f"
             ],
             [
              0.2222222222222222,
              "#7201a8"
             ],
             [
              0.3333333333333333,
              "#9c179e"
             ],
             [
              0.4444444444444444,
              "#bd3786"
             ],
             [
              0.5555555555555556,
              "#d8576b"
             ],
             [
              0.6666666666666666,
              "#ed7953"
             ],
             [
              0.7777777777777778,
              "#fb9f3a"
             ],
             [
              0.8888888888888888,
              "#fdca26"
             ],
             [
              1,
              "#f0f921"
             ]
            ],
            "type": "surface"
           }
          ],
          "table": [
           {
            "cells": {
             "fill": {
              "color": "#506784"
             },
             "line": {
              "color": "rgb(17,17,17)"
             }
            },
            "header": {
             "fill": {
              "color": "#2a3f5f"
             },
             "line": {
              "color": "rgb(17,17,17)"
             }
            },
            "type": "table"
           }
          ]
         },
         "layout": {
          "annotationdefaults": {
           "arrowcolor": "#f2f5fa",
           "arrowhead": 0,
           "arrowwidth": 1
          },
          "autotypenumbers": "strict",
          "coloraxis": {
           "colorbar": {
            "outlinewidth": 0,
            "ticks": ""
           }
          },
          "colorscale": {
           "diverging": [
            [
             0,
             "#8e0152"
            ],
            [
             0.1,
             "#c51b7d"
            ],
            [
             0.2,
             "#de77ae"
            ],
            [
             0.3,
             "#f1b6da"
            ],
            [
             0.4,
             "#fde0ef"
            ],
            [
             0.5,
             "#f7f7f7"
            ],
            [
             0.6,
             "#e6f5d0"
            ],
            [
             0.7,
             "#b8e186"
            ],
            [
             0.8,
             "#7fbc41"
            ],
            [
             0.9,
             "#4d9221"
            ],
            [
             1,
             "#276419"
            ]
           ],
           "sequential": [
            [
             0,
             "#0d0887"
            ],
            [
             0.1111111111111111,
             "#46039f"
            ],
            [
             0.2222222222222222,
             "#7201a8"
            ],
            [
             0.3333333333333333,
             "#9c179e"
            ],
            [
             0.4444444444444444,
             "#bd3786"
            ],
            [
             0.5555555555555556,
             "#d8576b"
            ],
            [
             0.6666666666666666,
             "#ed7953"
            ],
            [
             0.7777777777777778,
             "#fb9f3a"
            ],
            [
             0.8888888888888888,
             "#fdca26"
            ],
            [
             1,
             "#f0f921"
            ]
           ],
           "sequentialminus": [
            [
             0,
             "#0d0887"
            ],
            [
             0.1111111111111111,
             "#46039f"
            ],
            [
             0.2222222222222222,
             "#7201a8"
            ],
            [
             0.3333333333333333,
             "#9c179e"
            ],
            [
             0.4444444444444444,
             "#bd3786"
            ],
            [
             0.5555555555555556,
             "#d8576b"
            ],
            [
             0.6666666666666666,
             "#ed7953"
            ],
            [
             0.7777777777777778,
             "#fb9f3a"
            ],
            [
             0.8888888888888888,
             "#fdca26"
            ],
            [
             1,
             "#f0f921"
            ]
           ]
          },
          "colorway": [
           "#636efa",
           "#EF553B",
           "#00cc96",
           "#ab63fa",
           "#FFA15A",
           "#19d3f3",
           "#FF6692",
           "#B6E880",
           "#FF97FF",
           "#FECB52"
          ],
          "font": {
           "color": "#f2f5fa"
          },
          "geo": {
           "bgcolor": "rgb(17,17,17)",
           "lakecolor": "rgb(17,17,17)",
           "landcolor": "rgb(17,17,17)",
           "showlakes": true,
           "showland": true,
           "subunitcolor": "#506784"
          },
          "hoverlabel": {
           "align": "left"
          },
          "hovermode": "closest",
          "mapbox": {
           "style": "dark"
          },
          "paper_bgcolor": "rgb(17,17,17)",
          "plot_bgcolor": "rgb(17,17,17)",
          "polar": {
           "angularaxis": {
            "gridcolor": "#506784",
            "linecolor": "#506784",
            "ticks": ""
           },
           "bgcolor": "rgb(17,17,17)",
           "radialaxis": {
            "gridcolor": "#506784",
            "linecolor": "#506784",
            "ticks": ""
           }
          },
          "scene": {
           "xaxis": {
            "backgroundcolor": "rgb(17,17,17)",
            "gridcolor": "#506784",
            "gridwidth": 2,
            "linecolor": "#506784",
            "showbackground": true,
            "ticks": "",
            "zerolinecolor": "#C8D4E3"
           },
           "yaxis": {
            "backgroundcolor": "rgb(17,17,17)",
            "gridcolor": "#506784",
            "gridwidth": 2,
            "linecolor": "#506784",
            "showbackground": true,
            "ticks": "",
            "zerolinecolor": "#C8D4E3"
           },
           "zaxis": {
            "backgroundcolor": "rgb(17,17,17)",
            "gridcolor": "#506784",
            "gridwidth": 2,
            "linecolor": "#506784",
            "showbackground": true,
            "ticks": "",
            "zerolinecolor": "#C8D4E3"
           }
          },
          "shapedefaults": {
           "line": {
            "color": "#f2f5fa"
           }
          },
          "sliderdefaults": {
           "bgcolor": "#C8D4E3",
           "bordercolor": "rgb(17,17,17)",
           "borderwidth": 1,
           "tickwidth": 0
          },
          "ternary": {
           "aaxis": {
            "gridcolor": "#506784",
            "linecolor": "#506784",
            "ticks": ""
           },
           "baxis": {
            "gridcolor": "#506784",
            "linecolor": "#506784",
            "ticks": ""
           },
           "bgcolor": "rgb(17,17,17)",
           "caxis": {
            "gridcolor": "#506784",
            "linecolor": "#506784",
            "ticks": ""
           }
          },
          "title": {
           "x": 0.05
          },
          "updatemenudefaults": {
           "bgcolor": "#506784",
           "borderwidth": 0
          },
          "xaxis": {
           "automargin": true,
           "gridcolor": "#283442",
           "linecolor": "#506784",
           "ticks": "",
           "title": {
            "standoff": 15
           },
           "zerolinecolor": "#283442",
           "zerolinewidth": 2
          },
          "yaxis": {
           "automargin": true,
           "gridcolor": "#283442",
           "linecolor": "#506784",
           "ticks": "",
           "title": {
            "standoff": 15
           },
           "zerolinecolor": "#283442",
           "zerolinewidth": 2
          }
         }
        },
        "title": {
         "text": "Most popular animes and their viewership"
        },
        "xaxis": {
         "anchor": "y",
         "domain": [
          0,
          1
         ],
         "title": {
          "text": ""
         }
        },
        "yaxis": {
         "anchor": "x",
         "domain": [
          0,
          1
         ],
         "range": [
          1000000,
          2000000
         ],
         "title": {
          "text": "Popularity"
         }
        }
       }
      }
     },
     "metadata": {},
     "output_type": "display_data"
    }
   ],
   "source": [
    "top_pop = px.bar(pop10,\n",
    "                        x='title',\n",
    "                        y='members',\n",
    "                        labels={'title': '', 'members': 'Popularity'},\n",
    "                        text='members',\n",
    "                        title='Most popular animes and their viewership',\n",
    "                        template=\"plotly_dark\", \n",
    "                        color_discrete_sequence=px.colors.qualitative.Pastel)\n",
    "top_pop.update_yaxes(range=[1000000,2000000])\n",
    "top_pop.show()"
   ]
  },
  {
   "cell_type": "markdown",
   "id": "74ae35f4",
   "metadata": {},
   "source": [
    "# 2) User_based analysis"
   ]
  },
  {
   "cell_type": "code",
   "execution_count": 14,
   "id": "e8d5e357",
   "metadata": {},
   "outputs": [
    {
     "name": "stdout",
     "output_type": "stream",
     "text": [
      "<class 'pandas.core.frame.DataFrame'>\n",
      "RangeIndex: 47885 entries, 0 to 47884\n",
      "Data columns (total 6 columns):\n",
      " #   Column           Non-Null Count  Dtype  \n",
      "---  ------           --------------  -----  \n",
      " 0   profile          47885 non-null  object \n",
      " 1   gender           30878 non-null  object \n",
      " 2   birthday         26848 non-null  object \n",
      " 3   favorites_anime  47885 non-null  object \n",
      " 4   link             47885 non-null  object \n",
      " 5   age              22576 non-null  float64\n",
      "dtypes: float64(1), object(5)\n",
      "memory usage: 2.2+ MB\n"
     ]
    }
   ],
   "source": [
    "users = pd.read_csv(\"https://anime-recommendation-engine.s3.eu-west-3.amazonaws.com/data/profiles_clean.csv\")\n",
    "users.info()"
   ]
  },
  {
   "cell_type": "code",
   "execution_count": 15,
   "id": "8353f357",
   "metadata": {},
   "outputs": [
    {
     "name": "stdout",
     "output_type": "stream",
     "text": [
      "<class 'pandas.core.frame.DataFrame'>\n",
      "RangeIndex: 47885 entries, 0 to 47884\n",
      "Data columns (total 6 columns):\n",
      " #   Column           Non-Null Count  Dtype  \n",
      "---  ------           --------------  -----  \n",
      " 0   profile          47885 non-null  object \n",
      " 1   gender           30878 non-null  object \n",
      " 2   birthday         26848 non-null  object \n",
      " 3   favorites_anime  47885 non-null  object \n",
      " 4   link             47885 non-null  object \n",
      " 5   age              22576 non-null  float64\n",
      "dtypes: float64(1), object(5)\n",
      "memory usage: 2.2+ MB\n"
     ]
    }
   ],
   "source": [
    "users.info()"
   ]
  },
  {
   "cell_type": "code",
   "execution_count": 16,
   "id": "aa6d4bc6",
   "metadata": {},
   "outputs": [
    {
     "data": {
      "text/html": [
       "<div>\n",
       "<style scoped>\n",
       "    .dataframe tbody tr th:only-of-type {\n",
       "        vertical-align: middle;\n",
       "    }\n",
       "\n",
       "    .dataframe tbody tr th {\n",
       "        vertical-align: top;\n",
       "    }\n",
       "\n",
       "    .dataframe thead th {\n",
       "        text-align: right;\n",
       "    }\n",
       "</style>\n",
       "<table border=\"1\" class=\"dataframe\">\n",
       "  <thead>\n",
       "    <tr style=\"text-align: right;\">\n",
       "      <th></th>\n",
       "      <th>profile</th>\n",
       "      <th>gender</th>\n",
       "      <th>birthday</th>\n",
       "      <th>favorites_anime</th>\n",
       "      <th>link</th>\n",
       "      <th>age</th>\n",
       "    </tr>\n",
       "  </thead>\n",
       "  <tbody>\n",
       "    <tr>\n",
       "      <th>0</th>\n",
       "      <td>DesolatePsyche</td>\n",
       "      <td>Male</td>\n",
       "      <td>Oct 2, 1994</td>\n",
       "      <td>['33352', '25013', '5530', '33674', '1482', '2...</td>\n",
       "      <td>https://myanimelist.net/profile/DesolatePsyche</td>\n",
       "      <td>26.0</td>\n",
       "    </tr>\n",
       "    <tr>\n",
       "      <th>1</th>\n",
       "      <td>baekbeans</td>\n",
       "      <td>Female</td>\n",
       "      <td>Nov 10, 2000</td>\n",
       "      <td>['11061', '31964', '853', '20583', '918', '925...</td>\n",
       "      <td>https://myanimelist.net/profile/baekbeans</td>\n",
       "      <td>20.0</td>\n",
       "    </tr>\n",
       "    <tr>\n",
       "      <th>2</th>\n",
       "      <td>skrn</td>\n",
       "      <td>NaN</td>\n",
       "      <td>NaN</td>\n",
       "      <td>['918', '2904', '11741', '17074', '23273', '32...</td>\n",
       "      <td>https://myanimelist.net/profile/skrn</td>\n",
       "      <td>NaN</td>\n",
       "    </tr>\n",
       "    <tr>\n",
       "      <th>3</th>\n",
       "      <td>edgewalker00</td>\n",
       "      <td>Male</td>\n",
       "      <td>Sep 5</td>\n",
       "      <td>['5680', '849', '2904', '3588', '37349']</td>\n",
       "      <td>https://myanimelist.net/profile/edgewalker00</td>\n",
       "      <td>NaN</td>\n",
       "    </tr>\n",
       "    <tr>\n",
       "      <th>4</th>\n",
       "      <td>aManOfCulture99</td>\n",
       "      <td>Male</td>\n",
       "      <td>Oct 30, 1999</td>\n",
       "      <td>['4181', '7791', '9617', '5680', '2167', '4382...</td>\n",
       "      <td>https://myanimelist.net/profile/aManOfCulture99</td>\n",
       "      <td>21.0</td>\n",
       "    </tr>\n",
       "  </tbody>\n",
       "</table>\n",
       "</div>"
      ],
      "text/plain": [
       "           profile  gender      birthday  \\\n",
       "0   DesolatePsyche    Male   Oct 2, 1994   \n",
       "1        baekbeans  Female  Nov 10, 2000   \n",
       "2             skrn     NaN           NaN   \n",
       "3     edgewalker00    Male         Sep 5   \n",
       "4  aManOfCulture99    Male  Oct 30, 1999   \n",
       "\n",
       "                                     favorites_anime  \\\n",
       "0  ['33352', '25013', '5530', '33674', '1482', '2...   \n",
       "1  ['11061', '31964', '853', '20583', '918', '925...   \n",
       "2  ['918', '2904', '11741', '17074', '23273', '32...   \n",
       "3           ['5680', '849', '2904', '3588', '37349']   \n",
       "4  ['4181', '7791', '9617', '5680', '2167', '4382...   \n",
       "\n",
       "                                              link   age  \n",
       "0   https://myanimelist.net/profile/DesolatePsyche  26.0  \n",
       "1        https://myanimelist.net/profile/baekbeans  20.0  \n",
       "2             https://myanimelist.net/profile/skrn   NaN  \n",
       "3     https://myanimelist.net/profile/edgewalker00   NaN  \n",
       "4  https://myanimelist.net/profile/aManOfCulture99  21.0  "
      ]
     },
     "execution_count": 16,
     "metadata": {},
     "output_type": "execute_result"
    }
   ],
   "source": [
    "users.head()"
   ]
  },
  {
   "cell_type": "markdown",
   "id": "fe341bb6",
   "metadata": {},
   "source": [
    "## Age and gender repartition"
   ]
  },
  {
   "cell_type": "code",
   "execution_count": 17,
   "id": "adbf699d",
   "metadata": {},
   "outputs": [
    {
     "data": {
      "text/plain": [
       "gender\n",
       "Male          21188\n",
       "Female         9264\n",
       "Non-Binary      426\n",
       "Name: count, dtype: int64"
      ]
     },
     "execution_count": 17,
     "metadata": {},
     "output_type": "execute_result"
    }
   ],
   "source": [
    "users['gender'].value_counts()"
   ]
  },
  {
   "cell_type": "code",
   "execution_count": 18,
   "id": "6a20d415",
   "metadata": {},
   "outputs": [
    {
     "data": {
      "application/vnd.plotly.v1+json": {
       "config": {
        "plotlyServerURL": "https://plot.ly"
       },
       "data": [
        {
         "bingroup": "x",
         "hovertemplate": "gender=Male<br>Age=%{x}<br>count=%{y}<extra></extra>",
         "legendgroup": "Male",
         "marker": {
          "color": "#FA0087",
          "pattern": {
           "shape": ""
          }
         },
         "name": "Male",
         "orientation": "v",
         "showlegend": true,
         "type": "histogram",
         "x": {
          "bdata": "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",
          "dtype": "f8"
         },
         "xaxis": "x",
         "yaxis": "y"
        },
        {
         "bingroup": "x",
         "hovertemplate": "gender=Female<br>Age=%{x}<br>count=%{y}<extra></extra>",
         "legendgroup": "Female",
         "marker": {
          "color": "#FBE426",
          "pattern": {
           "shape": ""
          }
         },
         "name": "Female",
         "orientation": "v",
         "showlegend": true,
         "type": "histogram",
         "x": {
          "bdata": "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",
          "dtype": "f8"
         },
         "xaxis": "x",
         "yaxis": "y"
        },
        {
         "bingroup": "x",
         "hovertemplate": "gender=Non-Binary<br>Age=%{x}<br>count=%{y}<extra></extra>",
         "legendgroup": "Non-Binary",
         "marker": {
          "color": "#FC1CBF",
          "pattern": {
           "shape": ""
          }
         },
         "name": "Non-Binary",
         "orientation": "v",
         "showlegend": true,
         "type": "histogram",
         "x": {
          "bdata": "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",
          "dtype": "f8"
         },
         "xaxis": "x",
         "yaxis": "y"
        }
       ],
       "layout": {
        "barmode": "relative",
        "legend": {
         "title": {
          "text": "gender"
         },
         "tracegroupgap": 0
        },
        "template": {
         "data": {
          "bar": [
           {
            "error_x": {
             "color": "#f2f5fa"
            },
            "error_y": {
             "color": "#f2f5fa"
            },
            "marker": {
             "line": {
              "color": "rgb(17,17,17)",
              "width": 0.5
             },
             "pattern": {
              "fillmode": "overlay",
              "size": 10,
              "solidity": 0.2
             }
            },
            "type": "bar"
           }
          ],
          "barpolar": [
           {
            "marker": {
             "line": {
              "color": "rgb(17,17,17)",
              "width": 0.5
             },
             "pattern": {
              "fillmode": "overlay",
              "size": 10,
              "solidity": 0.2
             }
            },
            "type": "barpolar"
           }
          ],
          "carpet": [
           {
            "aaxis": {
             "endlinecolor": "#A2B1C6",
             "gridcolor": "#506784",
             "linecolor": "#506784",
             "minorgridcolor": "#506784",
             "startlinecolor": "#A2B1C6"
            },
            "baxis": {
             "endlinecolor": "#A2B1C6",
             "gridcolor": "#506784",
             "linecolor": "#506784",
             "minorgridcolor": "#506784",
             "startlinecolor": "#A2B1C6"
            },
            "type": "carpet"
           }
          ],
          "choropleth": [
           {
            "colorbar": {
             "outlinewidth": 0,
             "ticks": ""
            },
            "type": "choropleth"
           }
          ],
          "contour": [
           {
            "colorbar": {
             "outlinewidth": 0,
             "ticks": ""
            },
            "colorscale": [
             [
              0,
              "#0d0887"
             ],
             [
              0.1111111111111111,
              "#46039f"
             ],
             [
              0.2222222222222222,
              "#7201a8"
             ],
             [
              0.3333333333333333,
              "#9c179e"
             ],
             [
              0.4444444444444444,
              "#bd3786"
             ],
             [
              0.5555555555555556,
              "#d8576b"
             ],
             [
              0.6666666666666666,
              "#ed7953"
             ],
             [
              0.7777777777777778,
              "#fb9f3a"
             ],
             [
              0.8888888888888888,
              "#fdca26"
             ],
             [
              1,
              "#f0f921"
             ]
            ],
            "type": "contour"
           }
          ],
          "contourcarpet": [
           {
            "colorbar": {
             "outlinewidth": 0,
             "ticks": ""
            },
            "type": "contourcarpet"
           }
          ],
          "heatmap": [
           {
            "colorbar": {
             "outlinewidth": 0,
             "ticks": ""
            },
            "colorscale": [
             [
              0,
              "#0d0887"
             ],
             [
              0.1111111111111111,
              "#46039f"
             ],
             [
              0.2222222222222222,
              "#7201a8"
             ],
             [
              0.3333333333333333,
              "#9c179e"
             ],
             [
              0.4444444444444444,
              "#bd3786"
             ],
             [
              0.5555555555555556,
              "#d8576b"
             ],
             [
              0.6666666666666666,
              "#ed7953"
             ],
             [
              0.7777777777777778,
              "#fb9f3a"
             ],
             [
              0.8888888888888888,
              "#fdca26"
             ],
             [
              1,
              "#f0f921"
             ]
            ],
            "type": "heatmap"
           }
          ],
          "histogram": [
           {
            "marker": {
             "pattern": {
              "fillmode": "overlay",
              "size": 10,
              "solidity": 0.2
             }
            },
            "type": "histogram"
           }
          ],
          "histogram2d": [
           {
            "colorbar": {
             "outlinewidth": 0,
             "ticks": ""
            },
            "colorscale": [
             [
              0,
              "#0d0887"
             ],
             [
              0.1111111111111111,
              "#46039f"
             ],
             [
              0.2222222222222222,
              "#7201a8"
             ],
             [
              0.3333333333333333,
              "#9c179e"
             ],
             [
              0.4444444444444444,
              "#bd3786"
             ],
             [
              0.5555555555555556,
              "#d8576b"
             ],
             [
              0.6666666666666666,
              "#ed7953"
             ],
             [
              0.7777777777777778,
              "#fb9f3a"
             ],
             [
              0.8888888888888888,
              "#fdca26"
             ],
             [
              1,
              "#f0f921"
             ]
            ],
            "type": "histogram2d"
           }
          ],
          "histogram2dcontour": [
           {
            "colorbar": {
             "outlinewidth": 0,
             "ticks": ""
            },
            "colorscale": [
             [
              0,
              "#0d0887"
             ],
             [
              0.1111111111111111,
              "#46039f"
             ],
             [
              0.2222222222222222,
              "#7201a8"
             ],
             [
              0.3333333333333333,
              "#9c179e"
             ],
             [
              0.4444444444444444,
              "#bd3786"
             ],
             [
              0.5555555555555556,
              "#d8576b"
             ],
             [
              0.6666666666666666,
              "#ed7953"
             ],
             [
              0.7777777777777778,
              "#fb9f3a"
             ],
             [
              0.8888888888888888,
              "#fdca26"
             ],
             [
              1,
              "#f0f921"
             ]
            ],
            "type": "histogram2dcontour"
           }
          ],
          "mesh3d": [
           {
            "colorbar": {
             "outlinewidth": 0,
             "ticks": ""
            },
            "type": "mesh3d"
           }
          ],
          "parcoords": [
           {
            "line": {
             "colorbar": {
              "outlinewidth": 0,
              "ticks": ""
             }
            },
            "type": "parcoords"
           }
          ],
          "pie": [
           {
            "automargin": true,
            "type": "pie"
           }
          ],
          "scatter": [
           {
            "marker": {
             "line": {
              "color": "#283442"
             }
            },
            "type": "scatter"
           }
          ],
          "scatter3d": [
           {
            "line": {
             "colorbar": {
              "outlinewidth": 0,
              "ticks": ""
             }
            },
            "marker": {
             "colorbar": {
              "outlinewidth": 0,
              "ticks": ""
             }
            },
            "type": "scatter3d"
           }
          ],
          "scattercarpet": [
           {
            "marker": {
             "colorbar": {
              "outlinewidth": 0,
              "ticks": ""
             }
            },
            "type": "scattercarpet"
           }
          ],
          "scattergeo": [
           {
            "marker": {
             "colorbar": {
              "outlinewidth": 0,
              "ticks": ""
             }
            },
            "type": "scattergeo"
           }
          ],
          "scattergl": [
           {
            "marker": {
             "line": {
              "color": "#283442"
             }
            },
            "type": "scattergl"
           }
          ],
          "scattermap": [
           {
            "marker": {
             "colorbar": {
              "outlinewidth": 0,
              "ticks": ""
             }
            },
            "type": "scattermap"
           }
          ],
          "scattermapbox": [
           {
            "marker": {
             "colorbar": {
              "outlinewidth": 0,
              "ticks": ""
             }
            },
            "type": "scattermapbox"
           }
          ],
          "scatterpolar": [
           {
            "marker": {
             "colorbar": {
              "outlinewidth": 0,
              "ticks": ""
             }
            },
            "type": "scatterpolar"
           }
          ],
          "scatterpolargl": [
           {
            "marker": {
             "colorbar": {
              "outlinewidth": 0,
              "ticks": ""
             }
            },
            "type": "scatterpolargl"
           }
          ],
          "scatterternary": [
           {
            "marker": {
             "colorbar": {
              "outlinewidth": 0,
              "ticks": ""
             }
            },
            "type": "scatterternary"
           }
          ],
          "surface": [
           {
            "colorbar": {
             "outlinewidth": 0,
             "ticks": ""
            },
            "colorscale": [
             [
              0,
              "#0d0887"
             ],
             [
              0.1111111111111111,
              "#46039f"
             ],
             [
              0.2222222222222222,
              "#7201a8"
             ],
             [
              0.3333333333333333,
              "#9c179e"
             ],
             [
              0.4444444444444444,
              "#bd3786"
             ],
             [
              0.5555555555555556,
              "#d8576b"
             ],
             [
              0.6666666666666666,
              "#ed7953"
             ],
             [
              0.7777777777777778,
              "#fb9f3a"
             ],
             [
              0.8888888888888888,
              "#fdca26"
             ],
             [
              1,
              "#f0f921"
             ]
            ],
            "type": "surface"
           }
          ],
          "table": [
           {
            "cells": {
             "fill": {
              "color": "#506784"
             },
             "line": {
              "color": "rgb(17,17,17)"
             }
            },
            "header": {
             "fill": {
              "color": "#2a3f5f"
             },
             "line": {
              "color": "rgb(17,17,17)"
             }
            },
            "type": "table"
           }
          ]
         },
         "layout": {
          "annotationdefaults": {
           "arrowcolor": "#f2f5fa",
           "arrowhead": 0,
           "arrowwidth": 1
          },
          "autotypenumbers": "strict",
          "coloraxis": {
           "colorbar": {
            "outlinewidth": 0,
            "ticks": ""
           }
          },
          "colorscale": {
           "diverging": [
            [
             0,
             "#8e0152"
            ],
            [
             0.1,
             "#c51b7d"
            ],
            [
             0.2,
             "#de77ae"
            ],
            [
             0.3,
             "#f1b6da"
            ],
            [
             0.4,
             "#fde0ef"
            ],
            [
             0.5,
             "#f7f7f7"
            ],
            [
             0.6,
             "#e6f5d0"
            ],
            [
             0.7,
             "#b8e186"
            ],
            [
             0.8,
             "#7fbc41"
            ],
            [
             0.9,
             "#4d9221"
            ],
            [
             1,
             "#276419"
            ]
           ],
           "sequential": [
            [
             0,
             "#0d0887"
            ],
            [
             0.1111111111111111,
             "#46039f"
            ],
            [
             0.2222222222222222,
             "#7201a8"
            ],
            [
             0.3333333333333333,
             "#9c179e"
            ],
            [
             0.4444444444444444,
             "#bd3786"
            ],
            [
             0.5555555555555556,
             "#d8576b"
            ],
            [
             0.6666666666666666,
             "#ed7953"
            ],
            [
             0.7777777777777778,
             "#fb9f3a"
            ],
            [
             0.8888888888888888,
             "#fdca26"
            ],
            [
             1,
             "#f0f921"
            ]
           ],
           "sequentialminus": [
            [
             0,
             "#0d0887"
            ],
            [
             0.1111111111111111,
             "#46039f"
            ],
            [
             0.2222222222222222,
             "#7201a8"
            ],
            [
             0.3333333333333333,
             "#9c179e"
            ],
            [
             0.4444444444444444,
             "#bd3786"
            ],
            [
             0.5555555555555556,
             "#d8576b"
            ],
            [
             0.6666666666666666,
             "#ed7953"
            ],
            [
             0.7777777777777778,
             "#fb9f3a"
            ],
            [
             0.8888888888888888,
             "#fdca26"
            ],
            [
             1,
             "#f0f921"
            ]
           ]
          },
          "colorway": [
           "#636efa",
           "#EF553B",
           "#00cc96",
           "#ab63fa",
           "#FFA15A",
           "#19d3f3",
           "#FF6692",
           "#B6E880",
           "#FF97FF",
           "#FECB52"
          ],
          "font": {
           "color": "#f2f5fa"
          },
          "geo": {
           "bgcolor": "rgb(17,17,17)",
           "lakecolor": "rgb(17,17,17)",
           "landcolor": "rgb(17,17,17)",
           "showlakes": true,
           "showland": true,
           "subunitcolor": "#506784"
          },
          "hoverlabel": {
           "align": "left"
          },
          "hovermode": "closest",
          "mapbox": {
           "style": "dark"
          },
          "paper_bgcolor": "rgb(17,17,17)",
          "plot_bgcolor": "rgb(17,17,17)",
          "polar": {
           "angularaxis": {
            "gridcolor": "#506784",
            "linecolor": "#506784",
            "ticks": ""
           },
           "bgcolor": "rgb(17,17,17)",
           "radialaxis": {
            "gridcolor": "#506784",
            "linecolor": "#506784",
            "ticks": ""
           }
          },
          "scene": {
           "xaxis": {
            "backgroundcolor": "rgb(17,17,17)",
            "gridcolor": "#506784",
            "gridwidth": 2,
            "linecolor": "#506784",
            "showbackground": true,
            "ticks": "",
            "zerolinecolor": "#C8D4E3"
           },
           "yaxis": {
            "backgroundcolor": "rgb(17,17,17)",
            "gridcolor": "#506784",
            "gridwidth": 2,
            "linecolor": "#506784",
            "showbackground": true,
            "ticks": "",
            "zerolinecolor": "#C8D4E3"
           },
           "zaxis": {
            "backgroundcolor": "rgb(17,17,17)",
            "gridcolor": "#506784",
            "gridwidth": 2,
            "linecolor": "#506784",
            "showbackground": true,
            "ticks": "",
            "zerolinecolor": "#C8D4E3"
           }
          },
          "shapedefaults": {
           "line": {
            "color": "#f2f5fa"
           }
          },
          "sliderdefaults": {
           "bgcolor": "#C8D4E3",
           "bordercolor": "rgb(17,17,17)",
           "borderwidth": 1,
           "tickwidth": 0
          },
          "ternary": {
           "aaxis": {
            "gridcolor": "#506784",
            "linecolor": "#506784",
            "ticks": ""
           },
           "baxis": {
            "gridcolor": "#506784",
            "linecolor": "#506784",
            "ticks": ""
           },
           "bgcolor": "rgb(17,17,17)",
           "caxis": {
            "gridcolor": "#506784",
            "linecolor": "#506784",
            "ticks": ""
           }
          },
          "title": {
           "x": 0.05
          },
          "updatemenudefaults": {
           "bgcolor": "#506784",
           "borderwidth": 0
          },
          "xaxis": {
           "automargin": true,
           "gridcolor": "#283442",
           "linecolor": "#506784",
           "ticks": "",
           "title": {
            "standoff": 15
           },
           "zerolinecolor": "#283442",
           "zerolinewidth": 2
          },
          "yaxis": {
           "automargin": true,
           "gridcolor": "#283442",
           "linecolor": "#506784",
           "ticks": "",
           "title": {
            "standoff": 15
           },
           "zerolinecolor": "#283442",
           "zerolinewidth": 2
          }
         }
        },
        "title": {
         "text": "Age and gender distribution that users declared for themselves (sample of 22k)"
        },
        "xaxis": {
         "anchor": "y",
         "domain": [
          0,
          1
         ],
         "title": {
          "text": "Age"
         }
        },
        "yaxis": {
         "anchor": "x",
         "domain": [
          0,
          1
         ],
         "title": {
          "text": "count"
         }
        }
       }
      }
     },
     "metadata": {},
     "output_type": "display_data"
    }
   ],
   "source": [
    "age_graph = px.histogram(users,\n",
    "                         x='age',\n",
    "                         color='gender',\n",
    "                         labels={'count': 'Count', 'age': 'Age'},\n",
    "                         title='Age and gender distribution that users declared for themselves (sample of 22k)',\n",
    "                         color_discrete_sequence=px.colors.qualitative.Alphabet_r,\n",
    "                         template='plotly_dark')\n",
    "\n",
    "age_graph.show()"
   ]
  },
  {
   "cell_type": "code",
   "execution_count": 19,
   "id": "3f6ef30e",
   "metadata": {},
   "outputs": [
    {
     "name": "stdout",
     "output_type": "stream",
     "text": [
      "26.2760453579022\n",
      "25.0\n"
     ]
    }
   ],
   "source": [
    "print(users['age'].mean())\n",
    "print(users['age'].median())"
   ]
  },
  {
   "cell_type": "markdown",
   "id": "d1595e76",
   "metadata": {},
   "source": [
    "Observations :\n",
    "It appears some users have voluntarily declared an age that is unrepresentative of their real age (some users are aged 0, some older than 90).\n",
    "According to the Wikipedia article on MyAnimeList, the website exists since 2004. Which means that users simply entering the current day's date as their birthday when joining can be up to 15 years old by the point the data has been collected.\n",
    "So we have to be aware of the potential inaccuracy of the data around its edges.\n",
    "\n",
    "However, given the population watching anime tends to be fairly young, it is safe to assume that the median and mean of the age remain representative of the reality.\n",
    "\n"
   ]
  },
  {
   "cell_type": "markdown",
   "id": "8f028eec",
   "metadata": {},
   "source": [
    "# 3) Review-orientated analysis"
   ]
  },
  {
   "cell_type": "code",
   "execution_count": 20,
   "id": "d497a121",
   "metadata": {},
   "outputs": [
    {
     "data": {
      "text/html": [
       "<div>\n",
       "<style scoped>\n",
       "    .dataframe tbody tr th:only-of-type {\n",
       "        vertical-align: middle;\n",
       "    }\n",
       "\n",
       "    .dataframe tbody tr th {\n",
       "        vertical-align: top;\n",
       "    }\n",
       "\n",
       "    .dataframe thead th {\n",
       "        text-align: right;\n",
       "    }\n",
       "</style>\n",
       "<table border=\"1\" class=\"dataframe\">\n",
       "  <thead>\n",
       "    <tr style=\"text-align: right;\">\n",
       "      <th></th>\n",
       "      <th>uid</th>\n",
       "      <th>profile</th>\n",
       "      <th>anime_uid</th>\n",
       "      <th>text</th>\n",
       "      <th>score</th>\n",
       "      <th>scores</th>\n",
       "      <th>link</th>\n",
       "    </tr>\n",
       "  </thead>\n",
       "  <tbody>\n",
       "    <tr>\n",
       "      <th>0</th>\n",
       "      <td>255938</td>\n",
       "      <td>DesolatePsyche</td>\n",
       "      <td>34096</td>\n",
       "      <td>\\n           \\n         \\n           \\n       ...</td>\n",
       "      <td>8</td>\n",
       "      <td>{'Overall': '8', 'Story': '8', 'Animation': '8...</td>\n",
       "      <td>https://myanimelist.net/reviews.php?id=255938</td>\n",
       "    </tr>\n",
       "    <tr>\n",
       "      <th>1</th>\n",
       "      <td>259117</td>\n",
       "      <td>baekbeans</td>\n",
       "      <td>34599</td>\n",
       "      <td>\\n           \\n         \\n           \\n       ...</td>\n",
       "      <td>10</td>\n",
       "      <td>{'Overall': '10', 'Story': '10', 'Animation': ...</td>\n",
       "      <td>https://myanimelist.net/reviews.php?id=259117</td>\n",
       "    </tr>\n",
       "    <tr>\n",
       "      <th>2</th>\n",
       "      <td>253664</td>\n",
       "      <td>skrn</td>\n",
       "      <td>28891</td>\n",
       "      <td>\\n           \\n         \\n           \\n       ...</td>\n",
       "      <td>7</td>\n",
       "      <td>{'Overall': '7', 'Story': '7', 'Animation': '9...</td>\n",
       "      <td>https://myanimelist.net/reviews.php?id=253664</td>\n",
       "    </tr>\n",
       "    <tr>\n",
       "      <th>3</th>\n",
       "      <td>8254</td>\n",
       "      <td>edgewalker00</td>\n",
       "      <td>2904</td>\n",
       "      <td>\\n           \\n         \\n           \\n       ...</td>\n",
       "      <td>9</td>\n",
       "      <td>{'Overall': '9', 'Story': '9', 'Animation': '9...</td>\n",
       "      <td>https://myanimelist.net/reviews.php?id=8254</td>\n",
       "    </tr>\n",
       "    <tr>\n",
       "      <th>4</th>\n",
       "      <td>291149</td>\n",
       "      <td>aManOfCulture99</td>\n",
       "      <td>4181</td>\n",
       "      <td>\\n           \\n         \\n           \\n       ...</td>\n",
       "      <td>10</td>\n",
       "      <td>{'Overall': '10', 'Story': '10', 'Animation': ...</td>\n",
       "      <td>https://myanimelist.net/reviews.php?id=291149</td>\n",
       "    </tr>\n",
       "  </tbody>\n",
       "</table>\n",
       "</div>"
      ],
      "text/plain": [
       "      uid          profile  anime_uid  \\\n",
       "0  255938   DesolatePsyche      34096   \n",
       "1  259117        baekbeans      34599   \n",
       "2  253664             skrn      28891   \n",
       "3    8254     edgewalker00       2904   \n",
       "4  291149  aManOfCulture99       4181   \n",
       "\n",
       "                                                text  score  \\\n",
       "0  \\n           \\n         \\n           \\n       ...      8   \n",
       "1  \\n           \\n         \\n           \\n       ...     10   \n",
       "2  \\n           \\n         \\n           \\n       ...      7   \n",
       "3  \\n           \\n         \\n           \\n       ...      9   \n",
       "4  \\n           \\n         \\n           \\n       ...     10   \n",
       "\n",
       "                                              scores  \\\n",
       "0  {'Overall': '8', 'Story': '8', 'Animation': '8...   \n",
       "1  {'Overall': '10', 'Story': '10', 'Animation': ...   \n",
       "2  {'Overall': '7', 'Story': '7', 'Animation': '9...   \n",
       "3  {'Overall': '9', 'Story': '9', 'Animation': '9...   \n",
       "4  {'Overall': '10', 'Story': '10', 'Animation': ...   \n",
       "\n",
       "                                            link  \n",
       "0  https://myanimelist.net/reviews.php?id=255938  \n",
       "1  https://myanimelist.net/reviews.php?id=259117  \n",
       "2  https://myanimelist.net/reviews.php?id=253664  \n",
       "3    https://myanimelist.net/reviews.php?id=8254  \n",
       "4  https://myanimelist.net/reviews.php?id=291149  "
      ]
     },
     "execution_count": 20,
     "metadata": {},
     "output_type": "execute_result"
    }
   ],
   "source": [
    "#df_reviews = pd.read_csv(\"/home/antog96/Jedha_Bootcamp/Projet_DSFS/anime-recommendation-engine/data/reviews_clean.csv\")\n",
    "df_reviews = pd.read_csv(\"https://anime-recommendation-engine.s3.eu-west-3.amazonaws.com/data/reviews_clean.csv\")\n",
    "df_reviews.head()"
   ]
  },
  {
   "cell_type": "code",
   "execution_count": 21,
   "id": "ba947191",
   "metadata": {},
   "outputs": [
    {
     "data": {
      "text/plain": [
       "130519"
      ]
     },
     "execution_count": 21,
     "metadata": {},
     "output_type": "execute_result"
    }
   ],
   "source": [
    "len(df_reviews['uid'])"
   ]
  },
  {
   "cell_type": "markdown",
   "id": "58edee38",
   "metadata": {},
   "source": [
    "Let's find out the amount of reviews each of the top 10 ranked animes have received"
   ]
  },
  {
   "cell_type": "code",
   "execution_count": 22,
   "id": "1fae8c57",
   "metadata": {},
   "outputs": [
    {
     "name": "stdout",
     "output_type": "stream",
     "text": [
      "UID of the top 10 anime (in order) :[5114, 9253, 11061, 32281, 38524, 28977, 9969, 820, 35180, 28851]\n"
     ]
    },
    {
     "data": {
      "text/html": [
       "<div>\n",
       "<style scoped>\n",
       "    .dataframe tbody tr th:only-of-type {\n",
       "        vertical-align: middle;\n",
       "    }\n",
       "\n",
       "    .dataframe tbody tr th {\n",
       "        vertical-align: top;\n",
       "    }\n",
       "\n",
       "    .dataframe thead th {\n",
       "        text-align: right;\n",
       "    }\n",
       "</style>\n",
       "<table border=\"1\" class=\"dataframe\">\n",
       "  <thead>\n",
       "    <tr style=\"text-align: right;\">\n",
       "      <th></th>\n",
       "      <th>Unnamed: 0</th>\n",
       "      <th>uid</th>\n",
       "      <th>title</th>\n",
       "      <th>synopsis</th>\n",
       "      <th>genre</th>\n",
       "      <th>aired</th>\n",
       "      <th>episodes</th>\n",
       "      <th>members</th>\n",
       "      <th>popularity</th>\n",
       "      <th>ranked</th>\n",
       "      <th>score</th>\n",
       "      <th>img_url</th>\n",
       "      <th>link</th>\n",
       "    </tr>\n",
       "  </thead>\n",
       "  <tbody>\n",
       "    <tr>\n",
       "      <th>3</th>\n",
       "      <td>3</td>\n",
       "      <td>5114</td>\n",
       "      <td>Fullmetal Alchemist: Brotherhood</td>\n",
       "      <td>\"In order for something to be obtained, someth...</td>\n",
       "      <td>[Action, Military, Adventure, Comedy, Drama, M...</td>\n",
       "      <td>Apr 5, 2009 to Jul 4, 2010</td>\n",
       "      <td>64.0</td>\n",
       "      <td>1615084</td>\n",
       "      <td>4</td>\n",
       "      <td>1.0</td>\n",
       "      <td>9.23</td>\n",
       "      <td>https://cdn.myanimelist.net/images/anime/1223/...</td>\n",
       "      <td>https://myanimelist.net/anime/5114/Fullmetal_A...</td>\n",
       "    </tr>\n",
       "    <tr>\n",
       "      <th>765</th>\n",
       "      <td>765</td>\n",
       "      <td>28851</td>\n",
       "      <td>Koe no Katachi</td>\n",
       "      <td>As a wild youth, elementary school student Sho...</td>\n",
       "      <td>[Drama, School, Shounen]</td>\n",
       "      <td>Sep 17, 2016</td>\n",
       "      <td>1.0</td>\n",
       "      <td>842277</td>\n",
       "      <td>53</td>\n",
       "      <td>10.0</td>\n",
       "      <td>9.01</td>\n",
       "      <td>https://cdn.myanimelist.net/images/anime/1122/...</td>\n",
       "      <td>https://myanimelist.net/anime/28851/Koe_no_Kat...</td>\n",
       "    </tr>\n",
       "    <tr>\n",
       "      <th>766</th>\n",
       "      <td>766</td>\n",
       "      <td>35180</td>\n",
       "      <td>3-gatsu no Lion 2nd Season</td>\n",
       "      <td>Now in his second year of high school, Rei Kir...</td>\n",
       "      <td>[Drama, Game, Seinen, Slice of Life]</td>\n",
       "      <td>Oct 14, 2017 to Mar 31, 2018</td>\n",
       "      <td>22.0</td>\n",
       "      <td>169544</td>\n",
       "      <td>657</td>\n",
       "      <td>9.0</td>\n",
       "      <td>9.02</td>\n",
       "      <td>https://cdn.myanimelist.net/images/anime/3/884...</td>\n",
       "      <td>https://myanimelist.net/anime/35180/3-gatsu_no...</td>\n",
       "    </tr>\n",
       "    <tr>\n",
       "      <th>767</th>\n",
       "      <td>767</td>\n",
       "      <td>820</td>\n",
       "      <td>Ginga Eiyuu Densetsu</td>\n",
       "      <td>The 150-year-long stalemate between the two in...</td>\n",
       "      <td>[Military, Sci-Fi, Space, Drama]</td>\n",
       "      <td>Jan 8, 1988 to Mar 17, 1997</td>\n",
       "      <td>110.0</td>\n",
       "      <td>175423</td>\n",
       "      <td>620</td>\n",
       "      <td>8.0</td>\n",
       "      <td>9.03</td>\n",
       "      <td>https://cdn.myanimelist.net/images/anime/13/13...</td>\n",
       "      <td>https://myanimelist.net/anime/820/Ginga_Eiyuu_...</td>\n",
       "    </tr>\n",
       "    <tr>\n",
       "      <th>768</th>\n",
       "      <td>768</td>\n",
       "      <td>9969</td>\n",
       "      <td>Gintama'</td>\n",
       "      <td>After a one-year hiatus, Shinpachi Shimura ret...</td>\n",
       "      <td>[Action, Sci-Fi, Comedy, Historical, Parody, S...</td>\n",
       "      <td>Apr 4, 2011 to Mar 26, 2012</td>\n",
       "      <td>51.0</td>\n",
       "      <td>278110</td>\n",
       "      <td>353</td>\n",
       "      <td>7.0</td>\n",
       "      <td>9.04</td>\n",
       "      <td>https://cdn.myanimelist.net/images/anime/4/503...</td>\n",
       "      <td>https://myanimelist.net/anime/9969/Gintama</td>\n",
       "    </tr>\n",
       "    <tr>\n",
       "      <th>769</th>\n",
       "      <td>769</td>\n",
       "      <td>28977</td>\n",
       "      <td>Gintama°</td>\n",
       "      <td>Gintoki, Shinpachi, and Kagura return as the f...</td>\n",
       "      <td>[Action, Comedy, Historical, Parody, Samurai, ...</td>\n",
       "      <td>Apr 8, 2015 to Mar 30, 2016</td>\n",
       "      <td>51.0</td>\n",
       "      <td>281594</td>\n",
       "      <td>351</td>\n",
       "      <td>6.0</td>\n",
       "      <td>9.05</td>\n",
       "      <td>https://cdn.myanimelist.net/images/anime/3/720...</td>\n",
       "      <td>https://myanimelist.net/anime/28977/Gintama%C2%B0</td>\n",
       "    </tr>\n",
       "    <tr>\n",
       "      <th>770</th>\n",
       "      <td>770</td>\n",
       "      <td>38524</td>\n",
       "      <td>Shingeki no Kyojin Season 3 Part 2</td>\n",
       "      <td>Seeking to restore humanity’s diminishing hope...</td>\n",
       "      <td>[Action, Drama, Fantasy, Military, Mystery, Sh...</td>\n",
       "      <td>Apr 29, 2019 to Jul 1, 2019</td>\n",
       "      <td>10.0</td>\n",
       "      <td>446370</td>\n",
       "      <td>175</td>\n",
       "      <td>5.0</td>\n",
       "      <td>9.07</td>\n",
       "      <td>https://cdn.myanimelist.net/images/anime/1517/...</td>\n",
       "      <td>https://myanimelist.net/anime/38524/Shingeki_n...</td>\n",
       "    </tr>\n",
       "    <tr>\n",
       "      <th>771</th>\n",
       "      <td>771</td>\n",
       "      <td>32281</td>\n",
       "      <td>Kimi no Na wa.</td>\n",
       "      <td>Mitsuha Miyamizu, a high school girl, yearns t...</td>\n",
       "      <td>[Romance, Supernatural, School, Drama]</td>\n",
       "      <td>Aug 26, 2016</td>\n",
       "      <td>1.0</td>\n",
       "      <td>1139878</td>\n",
       "      <td>15</td>\n",
       "      <td>4.0</td>\n",
       "      <td>9.09</td>\n",
       "      <td>https://cdn.myanimelist.net/images/anime/5/870...</td>\n",
       "      <td>https://myanimelist.net/anime/32281/Kimi_no_Na_wa</td>\n",
       "    </tr>\n",
       "    <tr>\n",
       "      <th>772</th>\n",
       "      <td>772</td>\n",
       "      <td>11061</td>\n",
       "      <td>Hunter x Hunter (2011)</td>\n",
       "      <td>Hunter x Hunter  is set in a world where Hunte...</td>\n",
       "      <td>[Action, Adventure, Fantasy, Shounen, Super Po...</td>\n",
       "      <td>Oct 2, 2011 to Sep 24, 2014</td>\n",
       "      <td>148.0</td>\n",
       "      <td>1052761</td>\n",
       "      <td>20</td>\n",
       "      <td>3.0</td>\n",
       "      <td>9.11</td>\n",
       "      <td>https://cdn.myanimelist.net/images/anime/11/33...</td>\n",
       "      <td>https://myanimelist.net/anime/11061/Hunter_x_H...</td>\n",
       "    </tr>\n",
       "    <tr>\n",
       "      <th>773</th>\n",
       "      <td>773</td>\n",
       "      <td>9253</td>\n",
       "      <td>Steins;Gate</td>\n",
       "      <td>The self-proclaimed mad scientist Rintarou Oka...</td>\n",
       "      <td>[Thriller, Sci-Fi]</td>\n",
       "      <td>Apr 6, 2011 to Sep 14, 2011</td>\n",
       "      <td>24.0</td>\n",
       "      <td>1331710</td>\n",
       "      <td>7</td>\n",
       "      <td>2.0</td>\n",
       "      <td>9.11</td>\n",
       "      <td>https://cdn.myanimelist.net/images/anime/5/731...</td>\n",
       "      <td>https://myanimelist.net/anime/9253/Steins_Gate</td>\n",
       "    </tr>\n",
       "  </tbody>\n",
       "</table>\n",
       "</div>"
      ],
      "text/plain": [
       "     Unnamed: 0    uid                               title  \\\n",
       "3             3   5114    Fullmetal Alchemist: Brotherhood   \n",
       "765         765  28851                      Koe no Katachi   \n",
       "766         766  35180          3-gatsu no Lion 2nd Season   \n",
       "767         767    820                Ginga Eiyuu Densetsu   \n",
       "768         768   9969                            Gintama'   \n",
       "769         769  28977                            Gintama°   \n",
       "770         770  38524  Shingeki no Kyojin Season 3 Part 2   \n",
       "771         771  32281                      Kimi no Na wa.   \n",
       "772         772  11061              Hunter x Hunter (2011)   \n",
       "773         773   9253                         Steins;Gate   \n",
       "\n",
       "                                              synopsis  \\\n",
       "3    \"In order for something to be obtained, someth...   \n",
       "765  As a wild youth, elementary school student Sho...   \n",
       "766  Now in his second year of high school, Rei Kir...   \n",
       "767  The 150-year-long stalemate between the two in...   \n",
       "768  After a one-year hiatus, Shinpachi Shimura ret...   \n",
       "769  Gintoki, Shinpachi, and Kagura return as the f...   \n",
       "770  Seeking to restore humanity’s diminishing hope...   \n",
       "771  Mitsuha Miyamizu, a high school girl, yearns t...   \n",
       "772  Hunter x Hunter  is set in a world where Hunte...   \n",
       "773  The self-proclaimed mad scientist Rintarou Oka...   \n",
       "\n",
       "                                                 genre  \\\n",
       "3    [Action, Military, Adventure, Comedy, Drama, M...   \n",
       "765                           [Drama, School, Shounen]   \n",
       "766               [Drama, Game, Seinen, Slice of Life]   \n",
       "767                   [Military, Sci-Fi, Space, Drama]   \n",
       "768  [Action, Sci-Fi, Comedy, Historical, Parody, S...   \n",
       "769  [Action, Comedy, Historical, Parody, Samurai, ...   \n",
       "770  [Action, Drama, Fantasy, Military, Mystery, Sh...   \n",
       "771             [Romance, Supernatural, School, Drama]   \n",
       "772  [Action, Adventure, Fantasy, Shounen, Super Po...   \n",
       "773                                 [Thriller, Sci-Fi]   \n",
       "\n",
       "                            aired  episodes  members  popularity  ranked  \\\n",
       "3      Apr 5, 2009 to Jul 4, 2010      64.0  1615084           4     1.0   \n",
       "765                  Sep 17, 2016       1.0   842277          53    10.0   \n",
       "766  Oct 14, 2017 to Mar 31, 2018      22.0   169544         657     9.0   \n",
       "767   Jan 8, 1988 to Mar 17, 1997     110.0   175423         620     8.0   \n",
       "768   Apr 4, 2011 to Mar 26, 2012      51.0   278110         353     7.0   \n",
       "769   Apr 8, 2015 to Mar 30, 2016      51.0   281594         351     6.0   \n",
       "770   Apr 29, 2019 to Jul 1, 2019      10.0   446370         175     5.0   \n",
       "771                  Aug 26, 2016       1.0  1139878          15     4.0   \n",
       "772   Oct 2, 2011 to Sep 24, 2014     148.0  1052761          20     3.0   \n",
       "773   Apr 6, 2011 to Sep 14, 2011      24.0  1331710           7     2.0   \n",
       "\n",
       "     score                                            img_url  \\\n",
       "3     9.23  https://cdn.myanimelist.net/images/anime/1223/...   \n",
       "765   9.01  https://cdn.myanimelist.net/images/anime/1122/...   \n",
       "766   9.02  https://cdn.myanimelist.net/images/anime/3/884...   \n",
       "767   9.03  https://cdn.myanimelist.net/images/anime/13/13...   \n",
       "768   9.04  https://cdn.myanimelist.net/images/anime/4/503...   \n",
       "769   9.05  https://cdn.myanimelist.net/images/anime/3/720...   \n",
       "770   9.07  https://cdn.myanimelist.net/images/anime/1517/...   \n",
       "771   9.09  https://cdn.myanimelist.net/images/anime/5/870...   \n",
       "772   9.11  https://cdn.myanimelist.net/images/anime/11/33...   \n",
       "773   9.11  https://cdn.myanimelist.net/images/anime/5/731...   \n",
       "\n",
       "                                                  link  \n",
       "3    https://myanimelist.net/anime/5114/Fullmetal_A...  \n",
       "765  https://myanimelist.net/anime/28851/Koe_no_Kat...  \n",
       "766  https://myanimelist.net/anime/35180/3-gatsu_no...  \n",
       "767  https://myanimelist.net/anime/820/Ginga_Eiyuu_...  \n",
       "768         https://myanimelist.net/anime/9969/Gintama  \n",
       "769  https://myanimelist.net/anime/28977/Gintama%C2%B0  \n",
       "770  https://myanimelist.net/anime/38524/Shingeki_n...  \n",
       "771  https://myanimelist.net/anime/32281/Kimi_no_Na_wa  \n",
       "772  https://myanimelist.net/anime/11061/Hunter_x_H...  \n",
       "773     https://myanimelist.net/anime/9253/Steins_Gate  "
      ]
     },
     "metadata": {},
     "output_type": "display_data"
    }
   ],
   "source": [
    "top10_anime_uid = rank['uid'].tolist()\n",
    "print(f'UID of the top 10 anime (in order) :{top10_anime_uid}')\n",
    "reviews_for_top10 = df_reviews[df_reviews['anime_uid'].isin(top10_anime_uid)]\n",
    "top10_anime = df_anim[df_anim['uid'].isin(top10_anime_uid)]\n",
    "display(top10_anime)\n",
    "\n",
    "\n",
    "\n",
    "    "
   ]
  },
  {
   "cell_type": "markdown",
   "id": "c85a50e4",
   "metadata": {},
   "source": [
    "## Reviews for the top 10 best rated animes"
   ]
  },
  {
   "cell_type": "code",
   "execution_count": 23,
   "id": "c6d9e93f",
   "metadata": {},
   "outputs": [
    {
     "data": {
      "text/html": [
       "<div>\n",
       "<style scoped>\n",
       "    .dataframe tbody tr th:only-of-type {\n",
       "        vertical-align: middle;\n",
       "    }\n",
       "\n",
       "    .dataframe tbody tr th {\n",
       "        vertical-align: top;\n",
       "    }\n",
       "\n",
       "    .dataframe thead th {\n",
       "        text-align: right;\n",
       "    }\n",
       "</style>\n",
       "<table border=\"1\" class=\"dataframe\">\n",
       "  <thead>\n",
       "    <tr style=\"text-align: right;\">\n",
       "      <th></th>\n",
       "      <th>uid_x</th>\n",
       "      <th>profile</th>\n",
       "      <th>anime_uid</th>\n",
       "      <th>text</th>\n",
       "      <th>score_x</th>\n",
       "      <th>scores</th>\n",
       "      <th>link_x</th>\n",
       "      <th>Unnamed: 0</th>\n",
       "      <th>uid_y</th>\n",
       "      <th>title</th>\n",
       "      <th>synopsis</th>\n",
       "      <th>genre</th>\n",
       "      <th>aired</th>\n",
       "      <th>episodes</th>\n",
       "      <th>members</th>\n",
       "      <th>popularity</th>\n",
       "      <th>ranked</th>\n",
       "      <th>score_y</th>\n",
       "      <th>img_url</th>\n",
       "      <th>link_y</th>\n",
       "    </tr>\n",
       "  </thead>\n",
       "  <tbody>\n",
       "    <tr>\n",
       "      <th>0</th>\n",
       "      <td>210404</td>\n",
       "      <td>12sed</td>\n",
       "      <td>5114</td>\n",
       "      <td>\\n           \\n         \\n           \\n       ...</td>\n",
       "      <td>10</td>\n",
       "      <td>{'Overall': '10', 'Story': '10', 'Animation': ...</td>\n",
       "      <td>https://myanimelist.net/reviews.php?id=210404</td>\n",
       "      <td>3</td>\n",
       "      <td>5114</td>\n",
       "      <td>Fullmetal Alchemist: Brotherhood</td>\n",
       "      <td>\"In order for something to be obtained, someth...</td>\n",
       "      <td>[Action, Military, Adventure, Comedy, Drama, M...</td>\n",
       "      <td>Apr 5, 2009 to Jul 4, 2010</td>\n",
       "      <td>64.0</td>\n",
       "      <td>1615084</td>\n",
       "      <td>4</td>\n",
       "      <td>1.0</td>\n",
       "      <td>9.23</td>\n",
       "      <td>https://cdn.myanimelist.net/images/anime/1223/...</td>\n",
       "      <td>https://myanimelist.net/anime/5114/Fullmetal_A...</td>\n",
       "    </tr>\n",
       "    <tr>\n",
       "      <th>1</th>\n",
       "      <td>203544</td>\n",
       "      <td>For_Reign</td>\n",
       "      <td>5114</td>\n",
       "      <td>\\n           \\n         \\n           \\n       ...</td>\n",
       "      <td>10</td>\n",
       "      <td>{'Overall': '10', 'Story': '10', 'Animation': ...</td>\n",
       "      <td>https://myanimelist.net/reviews.php?id=203544</td>\n",
       "      <td>3</td>\n",
       "      <td>5114</td>\n",
       "      <td>Fullmetal Alchemist: Brotherhood</td>\n",
       "      <td>\"In order for something to be obtained, someth...</td>\n",
       "      <td>[Action, Military, Adventure, Comedy, Drama, M...</td>\n",
       "      <td>Apr 5, 2009 to Jul 4, 2010</td>\n",
       "      <td>64.0</td>\n",
       "      <td>1615084</td>\n",
       "      <td>4</td>\n",
       "      <td>1.0</td>\n",
       "      <td>9.23</td>\n",
       "      <td>https://cdn.myanimelist.net/images/anime/1223/...</td>\n",
       "      <td>https://myanimelist.net/anime/5114/Fullmetal_A...</td>\n",
       "    </tr>\n",
       "    <tr>\n",
       "      <th>2</th>\n",
       "      <td>29856</td>\n",
       "      <td>appleaday</td>\n",
       "      <td>5114</td>\n",
       "      <td>\\n           \\n         \\n           \\n       ...</td>\n",
       "      <td>10</td>\n",
       "      <td>{'Overall': '10', 'Story': '10', 'Animation': ...</td>\n",
       "      <td>https://myanimelist.net/reviews.php?id=29856</td>\n",
       "      <td>3</td>\n",
       "      <td>5114</td>\n",
       "      <td>Fullmetal Alchemist: Brotherhood</td>\n",
       "      <td>\"In order for something to be obtained, someth...</td>\n",
       "      <td>[Action, Military, Adventure, Comedy, Drama, M...</td>\n",
       "      <td>Apr 5, 2009 to Jul 4, 2010</td>\n",
       "      <td>64.0</td>\n",
       "      <td>1615084</td>\n",
       "      <td>4</td>\n",
       "      <td>1.0</td>\n",
       "      <td>9.23</td>\n",
       "      <td>https://cdn.myanimelist.net/images/anime/1223/...</td>\n",
       "      <td>https://myanimelist.net/anime/5114/Fullmetal_A...</td>\n",
       "    </tr>\n",
       "    <tr>\n",
       "      <th>3</th>\n",
       "      <td>138419</td>\n",
       "      <td>RoyRiza89</td>\n",
       "      <td>5114</td>\n",
       "      <td>\\n           \\n         \\n           \\n       ...</td>\n",
       "      <td>10</td>\n",
       "      <td>{'Overall': '10', 'Story': '10', 'Animation': ...</td>\n",
       "      <td>https://myanimelist.net/reviews.php?id=138419</td>\n",
       "      <td>3</td>\n",
       "      <td>5114</td>\n",
       "      <td>Fullmetal Alchemist: Brotherhood</td>\n",
       "      <td>\"In order for something to be obtained, someth...</td>\n",
       "      <td>[Action, Military, Adventure, Comedy, Drama, M...</td>\n",
       "      <td>Apr 5, 2009 to Jul 4, 2010</td>\n",
       "      <td>64.0</td>\n",
       "      <td>1615084</td>\n",
       "      <td>4</td>\n",
       "      <td>1.0</td>\n",
       "      <td>9.23</td>\n",
       "      <td>https://cdn.myanimelist.net/images/anime/1223/...</td>\n",
       "      <td>https://myanimelist.net/anime/5114/Fullmetal_A...</td>\n",
       "    </tr>\n",
       "    <tr>\n",
       "      <th>4</th>\n",
       "      <td>14342</td>\n",
       "      <td>Ardinayka</td>\n",
       "      <td>5114</td>\n",
       "      <td>\\n           \\n         \\n           \\n       ...</td>\n",
       "      <td>7</td>\n",
       "      <td>{'Overall': '7', 'Story': '5', 'Animation': '9...</td>\n",
       "      <td>https://myanimelist.net/reviews.php?id=14342</td>\n",
       "      <td>3</td>\n",
       "      <td>5114</td>\n",
       "      <td>Fullmetal Alchemist: Brotherhood</td>\n",
       "      <td>\"In order for something to be obtained, someth...</td>\n",
       "      <td>[Action, Military, Adventure, Comedy, Drama, M...</td>\n",
       "      <td>Apr 5, 2009 to Jul 4, 2010</td>\n",
       "      <td>64.0</td>\n",
       "      <td>1615084</td>\n",
       "      <td>4</td>\n",
       "      <td>1.0</td>\n",
       "      <td>9.23</td>\n",
       "      <td>https://cdn.myanimelist.net/images/anime/1223/...</td>\n",
       "      <td>https://myanimelist.net/anime/5114/Fullmetal_A...</td>\n",
       "    </tr>\n",
       "    <tr>\n",
       "      <th>...</th>\n",
       "      <td>...</td>\n",
       "      <td>...</td>\n",
       "      <td>...</td>\n",
       "      <td>...</td>\n",
       "      <td>...</td>\n",
       "      <td>...</td>\n",
       "      <td>...</td>\n",
       "      <td>...</td>\n",
       "      <td>...</td>\n",
       "      <td>...</td>\n",
       "      <td>...</td>\n",
       "      <td>...</td>\n",
       "      <td>...</td>\n",
       "      <td>...</td>\n",
       "      <td>...</td>\n",
       "      <td>...</td>\n",
       "      <td>...</td>\n",
       "      <td>...</td>\n",
       "      <td>...</td>\n",
       "      <td>...</td>\n",
       "    </tr>\n",
       "    <tr>\n",
       "      <th>2419</th>\n",
       "      <td>309975</td>\n",
       "      <td>mafiahat</td>\n",
       "      <td>5114</td>\n",
       "      <td>\\n           \\n         \\n           \\n       ...</td>\n",
       "      <td>10</td>\n",
       "      <td>{'Overall': '10', 'Story': '9', 'Animation': '...</td>\n",
       "      <td>https://myanimelist.net/reviews.php?id=309975</td>\n",
       "      <td>3</td>\n",
       "      <td>5114</td>\n",
       "      <td>Fullmetal Alchemist: Brotherhood</td>\n",
       "      <td>\"In order for something to be obtained, someth...</td>\n",
       "      <td>[Action, Military, Adventure, Comedy, Drama, M...</td>\n",
       "      <td>Apr 5, 2009 to Jul 4, 2010</td>\n",
       "      <td>64.0</td>\n",
       "      <td>1615084</td>\n",
       "      <td>4</td>\n",
       "      <td>1.0</td>\n",
       "      <td>9.23</td>\n",
       "      <td>https://cdn.myanimelist.net/images/anime/1223/...</td>\n",
       "      <td>https://myanimelist.net/anime/5114/Fullmetal_A...</td>\n",
       "    </tr>\n",
       "    <tr>\n",
       "      <th>2420</th>\n",
       "      <td>274220</td>\n",
       "      <td>Curotos</td>\n",
       "      <td>5114</td>\n",
       "      <td>\\n           \\n         \\n           \\n       ...</td>\n",
       "      <td>10</td>\n",
       "      <td>{'Overall': '10', 'Story': '10', 'Animation': ...</td>\n",
       "      <td>https://myanimelist.net/reviews.php?id=274220</td>\n",
       "      <td>3</td>\n",
       "      <td>5114</td>\n",
       "      <td>Fullmetal Alchemist: Brotherhood</td>\n",
       "      <td>\"In order for something to be obtained, someth...</td>\n",
       "      <td>[Action, Military, Adventure, Comedy, Drama, M...</td>\n",
       "      <td>Apr 5, 2009 to Jul 4, 2010</td>\n",
       "      <td>64.0</td>\n",
       "      <td>1615084</td>\n",
       "      <td>4</td>\n",
       "      <td>1.0</td>\n",
       "      <td>9.23</td>\n",
       "      <td>https://cdn.myanimelist.net/images/anime/1223/...</td>\n",
       "      <td>https://myanimelist.net/anime/5114/Fullmetal_A...</td>\n",
       "    </tr>\n",
       "    <tr>\n",
       "      <th>2421</th>\n",
       "      <td>311382</td>\n",
       "      <td>Hanma_Orochi</td>\n",
       "      <td>5114</td>\n",
       "      <td>\\n           \\n         \\n           \\n       ...</td>\n",
       "      <td>10</td>\n",
       "      <td>{'Overall': '10', 'Story': '10', 'Animation': ...</td>\n",
       "      <td>https://myanimelist.net/reviews.php?id=311382</td>\n",
       "      <td>3</td>\n",
       "      <td>5114</td>\n",
       "      <td>Fullmetal Alchemist: Brotherhood</td>\n",
       "      <td>\"In order for something to be obtained, someth...</td>\n",
       "      <td>[Action, Military, Adventure, Comedy, Drama, M...</td>\n",
       "      <td>Apr 5, 2009 to Jul 4, 2010</td>\n",
       "      <td>64.0</td>\n",
       "      <td>1615084</td>\n",
       "      <td>4</td>\n",
       "      <td>1.0</td>\n",
       "      <td>9.23</td>\n",
       "      <td>https://cdn.myanimelist.net/images/anime/1223/...</td>\n",
       "      <td>https://myanimelist.net/anime/5114/Fullmetal_A...</td>\n",
       "    </tr>\n",
       "    <tr>\n",
       "      <th>2422</th>\n",
       "      <td>275431</td>\n",
       "      <td>Janero</td>\n",
       "      <td>5114</td>\n",
       "      <td>\\n           \\n         \\n           \\n       ...</td>\n",
       "      <td>10</td>\n",
       "      <td>{'Overall': '10', 'Story': '10', 'Animation': ...</td>\n",
       "      <td>https://myanimelist.net/reviews.php?id=275431</td>\n",
       "      <td>3</td>\n",
       "      <td>5114</td>\n",
       "      <td>Fullmetal Alchemist: Brotherhood</td>\n",
       "      <td>\"In order for something to be obtained, someth...</td>\n",
       "      <td>[Action, Military, Adventure, Comedy, Drama, M...</td>\n",
       "      <td>Apr 5, 2009 to Jul 4, 2010</td>\n",
       "      <td>64.0</td>\n",
       "      <td>1615084</td>\n",
       "      <td>4</td>\n",
       "      <td>1.0</td>\n",
       "      <td>9.23</td>\n",
       "      <td>https://cdn.myanimelist.net/images/anime/1223/...</td>\n",
       "      <td>https://myanimelist.net/anime/5114/Fullmetal_A...</td>\n",
       "    </tr>\n",
       "    <tr>\n",
       "      <th>2423</th>\n",
       "      <td>312427</td>\n",
       "      <td>LifeGun</td>\n",
       "      <td>5114</td>\n",
       "      <td>\\n           \\n         \\n           \\n       ...</td>\n",
       "      <td>10</td>\n",
       "      <td>{'Overall': '10', 'Story': '0', 'Animation': '...</td>\n",
       "      <td>https://myanimelist.net/reviews.php?id=312427</td>\n",
       "      <td>3</td>\n",
       "      <td>5114</td>\n",
       "      <td>Fullmetal Alchemist: Brotherhood</td>\n",
       "      <td>\"In order for something to be obtained, someth...</td>\n",
       "      <td>[Action, Military, Adventure, Comedy, Drama, M...</td>\n",
       "      <td>Apr 5, 2009 to Jul 4, 2010</td>\n",
       "      <td>64.0</td>\n",
       "      <td>1615084</td>\n",
       "      <td>4</td>\n",
       "      <td>1.0</td>\n",
       "      <td>9.23</td>\n",
       "      <td>https://cdn.myanimelist.net/images/anime/1223/...</td>\n",
       "      <td>https://myanimelist.net/anime/5114/Fullmetal_A...</td>\n",
       "    </tr>\n",
       "  </tbody>\n",
       "</table>\n",
       "<p>2424 rows × 20 columns</p>\n",
       "</div>"
      ],
      "text/plain": [
       "       uid_x       profile  anime_uid  \\\n",
       "0     210404         12sed       5114   \n",
       "1     203544     For_Reign       5114   \n",
       "2      29856     appleaday       5114   \n",
       "3     138419     RoyRiza89       5114   \n",
       "4      14342     Ardinayka       5114   \n",
       "...      ...           ...        ...   \n",
       "2419  309975      mafiahat       5114   \n",
       "2420  274220       Curotos       5114   \n",
       "2421  311382  Hanma_Orochi       5114   \n",
       "2422  275431        Janero       5114   \n",
       "2423  312427       LifeGun       5114   \n",
       "\n",
       "                                                   text  score_x  \\\n",
       "0     \\n           \\n         \\n           \\n       ...       10   \n",
       "1     \\n           \\n         \\n           \\n       ...       10   \n",
       "2     \\n           \\n         \\n           \\n       ...       10   \n",
       "3     \\n           \\n         \\n           \\n       ...       10   \n",
       "4     \\n           \\n         \\n           \\n       ...        7   \n",
       "...                                                 ...      ...   \n",
       "2419  \\n           \\n         \\n           \\n       ...       10   \n",
       "2420  \\n           \\n         \\n           \\n       ...       10   \n",
       "2421  \\n           \\n         \\n           \\n       ...       10   \n",
       "2422  \\n           \\n         \\n           \\n       ...       10   \n",
       "2423  \\n           \\n         \\n           \\n       ...       10   \n",
       "\n",
       "                                                 scores  \\\n",
       "0     {'Overall': '10', 'Story': '10', 'Animation': ...   \n",
       "1     {'Overall': '10', 'Story': '10', 'Animation': ...   \n",
       "2     {'Overall': '10', 'Story': '10', 'Animation': ...   \n",
       "3     {'Overall': '10', 'Story': '10', 'Animation': ...   \n",
       "4     {'Overall': '7', 'Story': '5', 'Animation': '9...   \n",
       "...                                                 ...   \n",
       "2419  {'Overall': '10', 'Story': '9', 'Animation': '...   \n",
       "2420  {'Overall': '10', 'Story': '10', 'Animation': ...   \n",
       "2421  {'Overall': '10', 'Story': '10', 'Animation': ...   \n",
       "2422  {'Overall': '10', 'Story': '10', 'Animation': ...   \n",
       "2423  {'Overall': '10', 'Story': '0', 'Animation': '...   \n",
       "\n",
       "                                             link_x  Unnamed: 0  uid_y  \\\n",
       "0     https://myanimelist.net/reviews.php?id=210404           3   5114   \n",
       "1     https://myanimelist.net/reviews.php?id=203544           3   5114   \n",
       "2      https://myanimelist.net/reviews.php?id=29856           3   5114   \n",
       "3     https://myanimelist.net/reviews.php?id=138419           3   5114   \n",
       "4      https://myanimelist.net/reviews.php?id=14342           3   5114   \n",
       "...                                             ...         ...    ...   \n",
       "2419  https://myanimelist.net/reviews.php?id=309975           3   5114   \n",
       "2420  https://myanimelist.net/reviews.php?id=274220           3   5114   \n",
       "2421  https://myanimelist.net/reviews.php?id=311382           3   5114   \n",
       "2422  https://myanimelist.net/reviews.php?id=275431           3   5114   \n",
       "2423  https://myanimelist.net/reviews.php?id=312427           3   5114   \n",
       "\n",
       "                                 title  \\\n",
       "0     Fullmetal Alchemist: Brotherhood   \n",
       "1     Fullmetal Alchemist: Brotherhood   \n",
       "2     Fullmetal Alchemist: Brotherhood   \n",
       "3     Fullmetal Alchemist: Brotherhood   \n",
       "4     Fullmetal Alchemist: Brotherhood   \n",
       "...                                ...   \n",
       "2419  Fullmetal Alchemist: Brotherhood   \n",
       "2420  Fullmetal Alchemist: Brotherhood   \n",
       "2421  Fullmetal Alchemist: Brotherhood   \n",
       "2422  Fullmetal Alchemist: Brotherhood   \n",
       "2423  Fullmetal Alchemist: Brotherhood   \n",
       "\n",
       "                                               synopsis  \\\n",
       "0     \"In order for something to be obtained, someth...   \n",
       "1     \"In order for something to be obtained, someth...   \n",
       "2     \"In order for something to be obtained, someth...   \n",
       "3     \"In order for something to be obtained, someth...   \n",
       "4     \"In order for something to be obtained, someth...   \n",
       "...                                                 ...   \n",
       "2419  \"In order for something to be obtained, someth...   \n",
       "2420  \"In order for something to be obtained, someth...   \n",
       "2421  \"In order for something to be obtained, someth...   \n",
       "2422  \"In order for something to be obtained, someth...   \n",
       "2423  \"In order for something to be obtained, someth...   \n",
       "\n",
       "                                                  genre  \\\n",
       "0     [Action, Military, Adventure, Comedy, Drama, M...   \n",
       "1     [Action, Military, Adventure, Comedy, Drama, M...   \n",
       "2     [Action, Military, Adventure, Comedy, Drama, M...   \n",
       "3     [Action, Military, Adventure, Comedy, Drama, M...   \n",
       "4     [Action, Military, Adventure, Comedy, Drama, M...   \n",
       "...                                                 ...   \n",
       "2419  [Action, Military, Adventure, Comedy, Drama, M...   \n",
       "2420  [Action, Military, Adventure, Comedy, Drama, M...   \n",
       "2421  [Action, Military, Adventure, Comedy, Drama, M...   \n",
       "2422  [Action, Military, Adventure, Comedy, Drama, M...   \n",
       "2423  [Action, Military, Adventure, Comedy, Drama, M...   \n",
       "\n",
       "                           aired  episodes  members  popularity  ranked  \\\n",
       "0     Apr 5, 2009 to Jul 4, 2010      64.0  1615084           4     1.0   \n",
       "1     Apr 5, 2009 to Jul 4, 2010      64.0  1615084           4     1.0   \n",
       "2     Apr 5, 2009 to Jul 4, 2010      64.0  1615084           4     1.0   \n",
       "3     Apr 5, 2009 to Jul 4, 2010      64.0  1615084           4     1.0   \n",
       "4     Apr 5, 2009 to Jul 4, 2010      64.0  1615084           4     1.0   \n",
       "...                          ...       ...      ...         ...     ...   \n",
       "2419  Apr 5, 2009 to Jul 4, 2010      64.0  1615084           4     1.0   \n",
       "2420  Apr 5, 2009 to Jul 4, 2010      64.0  1615084           4     1.0   \n",
       "2421  Apr 5, 2009 to Jul 4, 2010      64.0  1615084           4     1.0   \n",
       "2422  Apr 5, 2009 to Jul 4, 2010      64.0  1615084           4     1.0   \n",
       "2423  Apr 5, 2009 to Jul 4, 2010      64.0  1615084           4     1.0   \n",
       "\n",
       "      score_y                                            img_url  \\\n",
       "0        9.23  https://cdn.myanimelist.net/images/anime/1223/...   \n",
       "1        9.23  https://cdn.myanimelist.net/images/anime/1223/...   \n",
       "2        9.23  https://cdn.myanimelist.net/images/anime/1223/...   \n",
       "3        9.23  https://cdn.myanimelist.net/images/anime/1223/...   \n",
       "4        9.23  https://cdn.myanimelist.net/images/anime/1223/...   \n",
       "...       ...                                                ...   \n",
       "2419     9.23  https://cdn.myanimelist.net/images/anime/1223/...   \n",
       "2420     9.23  https://cdn.myanimelist.net/images/anime/1223/...   \n",
       "2421     9.23  https://cdn.myanimelist.net/images/anime/1223/...   \n",
       "2422     9.23  https://cdn.myanimelist.net/images/anime/1223/...   \n",
       "2423     9.23  https://cdn.myanimelist.net/images/anime/1223/...   \n",
       "\n",
       "                                                 link_y  \n",
       "0     https://myanimelist.net/anime/5114/Fullmetal_A...  \n",
       "1     https://myanimelist.net/anime/5114/Fullmetal_A...  \n",
       "2     https://myanimelist.net/anime/5114/Fullmetal_A...  \n",
       "3     https://myanimelist.net/anime/5114/Fullmetal_A...  \n",
       "4     https://myanimelist.net/anime/5114/Fullmetal_A...  \n",
       "...                                                 ...  \n",
       "2419  https://myanimelist.net/anime/5114/Fullmetal_A...  \n",
       "2420  https://myanimelist.net/anime/5114/Fullmetal_A...  \n",
       "2421  https://myanimelist.net/anime/5114/Fullmetal_A...  \n",
       "2422  https://myanimelist.net/anime/5114/Fullmetal_A...  \n",
       "2423  https://myanimelist.net/anime/5114/Fullmetal_A...  \n",
       "\n",
       "[2424 rows x 20 columns]"
      ]
     },
     "execution_count": 23,
     "metadata": {},
     "output_type": "execute_result"
    }
   ],
   "source": [
    "reviews_for_top10 = pd.merge(reviews_for_top10, df_anim, left_on='anime_uid', right_on='uid')\n",
    "\n",
    "reviews_for_top10 = reviews_for_top10[reviews_for_top10['ranked'] <= 10]\n",
    "\n",
    "reviews_for_top10"
   ]
  },
  {
   "cell_type": "markdown",
   "id": "966da024",
   "metadata": {},
   "source": [
    "### Bias in data : reviews for some animes seem to not exist at all\n",
    "proof down below with the absence of reviews for top 3 best rated entry : Hunter x Hunter (2011)"
   ]
  },
  {
   "cell_type": "code",
   "execution_count": 24,
   "id": "01a56966",
   "metadata": {},
   "outputs": [
    {
     "data": {
      "text/html": [
       "<div>\n",
       "<style scoped>\n",
       "    .dataframe tbody tr th:only-of-type {\n",
       "        vertical-align: middle;\n",
       "    }\n",
       "\n",
       "    .dataframe tbody tr th {\n",
       "        vertical-align: top;\n",
       "    }\n",
       "\n",
       "    .dataframe thead th {\n",
       "        text-align: right;\n",
       "    }\n",
       "</style>\n",
       "<table border=\"1\" class=\"dataframe\">\n",
       "  <thead>\n",
       "    <tr style=\"text-align: right;\">\n",
       "      <th></th>\n",
       "      <th>uid</th>\n",
       "      <th>profile</th>\n",
       "      <th>anime_uid</th>\n",
       "      <th>text</th>\n",
       "      <th>score</th>\n",
       "      <th>scores</th>\n",
       "      <th>link</th>\n",
       "    </tr>\n",
       "  </thead>\n",
       "  <tbody>\n",
       "  </tbody>\n",
       "</table>\n",
       "</div>"
      ],
      "text/plain": [
       "Empty DataFrame\n",
       "Columns: [uid, profile, anime_uid, text, score, scores, link]\n",
       "Index: []"
      ]
     },
     "execution_count": 24,
     "metadata": {},
     "output_type": "execute_result"
    }
   ],
   "source": [
    "filter_hunter = df_reviews[df_reviews['anime_uid'] == 11061]\n",
    "filter_hunter"
   ]
  },
  {
   "cell_type": "markdown",
   "id": "009a3b03",
   "metadata": {},
   "source": [
    "research for a specific review given on the website for Hunter x Hunter"
   ]
  },
  {
   "cell_type": "code",
   "execution_count": 25,
   "id": "1e94d725",
   "metadata": {},
   "outputs": [
    {
     "data": {
      "text/html": [
       "<div>\n",
       "<style scoped>\n",
       "    .dataframe tbody tr th:only-of-type {\n",
       "        vertical-align: middle;\n",
       "    }\n",
       "\n",
       "    .dataframe tbody tr th {\n",
       "        vertical-align: top;\n",
       "    }\n",
       "\n",
       "    .dataframe thead th {\n",
       "        text-align: right;\n",
       "    }\n",
       "</style>\n",
       "<table border=\"1\" class=\"dataframe\">\n",
       "  <thead>\n",
       "    <tr style=\"text-align: right;\">\n",
       "      <th></th>\n",
       "      <th>uid</th>\n",
       "      <th>profile</th>\n",
       "      <th>anime_uid</th>\n",
       "      <th>text</th>\n",
       "      <th>score</th>\n",
       "      <th>scores</th>\n",
       "      <th>link</th>\n",
       "    </tr>\n",
       "  </thead>\n",
       "  <tbody>\n",
       "    <tr>\n",
       "      <th>18730</th>\n",
       "      <td>243245</td>\n",
       "      <td>AnjuRatty</td>\n",
       "      <td>1735</td>\n",
       "      <td>\\n           \\n         \\n           \\n       ...</td>\n",
       "      <td>10</td>\n",
       "      <td>{'Overall': '10', 'Story': '8', 'Animation': '...</td>\n",
       "      <td>https://myanimelist.net/reviews.php?id=243245</td>\n",
       "    </tr>\n",
       "  </tbody>\n",
       "</table>\n",
       "</div>"
      ],
      "text/plain": [
       "          uid    profile  anime_uid  \\\n",
       "18730  243245  AnjuRatty       1735   \n",
       "\n",
       "                                                    text  score  \\\n",
       "18730  \\n           \\n         \\n           \\n       ...     10   \n",
       "\n",
       "                                                  scores  \\\n",
       "18730  {'Overall': '10', 'Story': '8', 'Animation': '...   \n",
       "\n",
       "                                                link  \n",
       "18730  https://myanimelist.net/reviews.php?id=243245  "
      ]
     },
     "execution_count": 25,
     "metadata": {},
     "output_type": "execute_result"
    }
   ],
   "source": [
    "filter_review_hunterXhunter = df_reviews[df_reviews['uid'] == 243245]\n",
    "filter_review_hunterXhunter"
   ]
  },
  {
   "cell_type": "code",
   "execution_count": 26,
   "id": "6b65aa24",
   "metadata": {},
   "outputs": [
    {
     "data": {
      "text/plain": [
       "anime_uid\n",
       "9253     779\n",
       "32281    718\n",
       "5114     637\n",
       "820      116\n",
       "35180     69\n",
       "28977     38\n",
       "9969      27\n",
       "38524     20\n",
       "28851     20\n",
       "Name: count, dtype: int64"
      ]
     },
     "execution_count": 26,
     "metadata": {},
     "output_type": "execute_result"
    }
   ],
   "source": [
    "reviews_for_top10['anime_uid'].value_counts()"
   ]
  },
  {
   "cell_type": "code",
   "execution_count": 27,
   "id": "66d4f6a5",
   "metadata": {},
   "outputs": [],
   "source": [
    "columns_to_keep = ['uid_x', 'profile',\t'anime_uid', 'text','score_x', 'scores', 'link_x', 'title', 'ranked', 'score_y', 'popularity', 'members']"
   ]
  },
  {
   "cell_type": "code",
   "execution_count": 28,
   "id": "a1b75029",
   "metadata": {},
   "outputs": [
    {
     "data": {
      "text/html": [
       "<div>\n",
       "<style scoped>\n",
       "    .dataframe tbody tr th:only-of-type {\n",
       "        vertical-align: middle;\n",
       "    }\n",
       "\n",
       "    .dataframe tbody tr th {\n",
       "        vertical-align: top;\n",
       "    }\n",
       "\n",
       "    .dataframe thead th {\n",
       "        text-align: right;\n",
       "    }\n",
       "</style>\n",
       "<table border=\"1\" class=\"dataframe\">\n",
       "  <thead>\n",
       "    <tr style=\"text-align: right;\">\n",
       "      <th></th>\n",
       "      <th>uid_x</th>\n",
       "      <th>profile</th>\n",
       "      <th>anime_uid</th>\n",
       "      <th>text</th>\n",
       "      <th>score_x</th>\n",
       "      <th>scores</th>\n",
       "      <th>link_x</th>\n",
       "      <th>title</th>\n",
       "      <th>ranked</th>\n",
       "      <th>score_y</th>\n",
       "      <th>popularity</th>\n",
       "      <th>members</th>\n",
       "    </tr>\n",
       "  </thead>\n",
       "  <tbody>\n",
       "    <tr>\n",
       "      <th>0</th>\n",
       "      <td>210404</td>\n",
       "      <td>12sed</td>\n",
       "      <td>5114</td>\n",
       "      <td>\\n           \\n         \\n           \\n       ...</td>\n",
       "      <td>10</td>\n",
       "      <td>{'Overall': '10', 'Story': '10', 'Animation': ...</td>\n",
       "      <td>https://myanimelist.net/reviews.php?id=210404</td>\n",
       "      <td>Fullmetal Alchemist: Brotherhood</td>\n",
       "      <td>1.0</td>\n",
       "      <td>9.23</td>\n",
       "      <td>4</td>\n",
       "      <td>1615084</td>\n",
       "    </tr>\n",
       "    <tr>\n",
       "      <th>1</th>\n",
       "      <td>203544</td>\n",
       "      <td>For_Reign</td>\n",
       "      <td>5114</td>\n",
       "      <td>\\n           \\n         \\n           \\n       ...</td>\n",
       "      <td>10</td>\n",
       "      <td>{'Overall': '10', 'Story': '10', 'Animation': ...</td>\n",
       "      <td>https://myanimelist.net/reviews.php?id=203544</td>\n",
       "      <td>Fullmetal Alchemist: Brotherhood</td>\n",
       "      <td>1.0</td>\n",
       "      <td>9.23</td>\n",
       "      <td>4</td>\n",
       "      <td>1615084</td>\n",
       "    </tr>\n",
       "    <tr>\n",
       "      <th>2</th>\n",
       "      <td>29856</td>\n",
       "      <td>appleaday</td>\n",
       "      <td>5114</td>\n",
       "      <td>\\n           \\n         \\n           \\n       ...</td>\n",
       "      <td>10</td>\n",
       "      <td>{'Overall': '10', 'Story': '10', 'Animation': ...</td>\n",
       "      <td>https://myanimelist.net/reviews.php?id=29856</td>\n",
       "      <td>Fullmetal Alchemist: Brotherhood</td>\n",
       "      <td>1.0</td>\n",
       "      <td>9.23</td>\n",
       "      <td>4</td>\n",
       "      <td>1615084</td>\n",
       "    </tr>\n",
       "    <tr>\n",
       "      <th>3</th>\n",
       "      <td>138419</td>\n",
       "      <td>RoyRiza89</td>\n",
       "      <td>5114</td>\n",
       "      <td>\\n           \\n         \\n           \\n       ...</td>\n",
       "      <td>10</td>\n",
       "      <td>{'Overall': '10', 'Story': '10', 'Animation': ...</td>\n",
       "      <td>https://myanimelist.net/reviews.php?id=138419</td>\n",
       "      <td>Fullmetal Alchemist: Brotherhood</td>\n",
       "      <td>1.0</td>\n",
       "      <td>9.23</td>\n",
       "      <td>4</td>\n",
       "      <td>1615084</td>\n",
       "    </tr>\n",
       "    <tr>\n",
       "      <th>4</th>\n",
       "      <td>14342</td>\n",
       "      <td>Ardinayka</td>\n",
       "      <td>5114</td>\n",
       "      <td>\\n           \\n         \\n           \\n       ...</td>\n",
       "      <td>7</td>\n",
       "      <td>{'Overall': '7', 'Story': '5', 'Animation': '9...</td>\n",
       "      <td>https://myanimelist.net/reviews.php?id=14342</td>\n",
       "      <td>Fullmetal Alchemist: Brotherhood</td>\n",
       "      <td>1.0</td>\n",
       "      <td>9.23</td>\n",
       "      <td>4</td>\n",
       "      <td>1615084</td>\n",
       "    </tr>\n",
       "    <tr>\n",
       "      <th>...</th>\n",
       "      <td>...</td>\n",
       "      <td>...</td>\n",
       "      <td>...</td>\n",
       "      <td>...</td>\n",
       "      <td>...</td>\n",
       "      <td>...</td>\n",
       "      <td>...</td>\n",
       "      <td>...</td>\n",
       "      <td>...</td>\n",
       "      <td>...</td>\n",
       "      <td>...</td>\n",
       "      <td>...</td>\n",
       "    </tr>\n",
       "    <tr>\n",
       "      <th>2419</th>\n",
       "      <td>309975</td>\n",
       "      <td>mafiahat</td>\n",
       "      <td>5114</td>\n",
       "      <td>\\n           \\n         \\n           \\n       ...</td>\n",
       "      <td>10</td>\n",
       "      <td>{'Overall': '10', 'Story': '9', 'Animation': '...</td>\n",
       "      <td>https://myanimelist.net/reviews.php?id=309975</td>\n",
       "      <td>Fullmetal Alchemist: Brotherhood</td>\n",
       "      <td>1.0</td>\n",
       "      <td>9.23</td>\n",
       "      <td>4</td>\n",
       "      <td>1615084</td>\n",
       "    </tr>\n",
       "    <tr>\n",
       "      <th>2420</th>\n",
       "      <td>274220</td>\n",
       "      <td>Curotos</td>\n",
       "      <td>5114</td>\n",
       "      <td>\\n           \\n         \\n           \\n       ...</td>\n",
       "      <td>10</td>\n",
       "      <td>{'Overall': '10', 'Story': '10', 'Animation': ...</td>\n",
       "      <td>https://myanimelist.net/reviews.php?id=274220</td>\n",
       "      <td>Fullmetal Alchemist: Brotherhood</td>\n",
       "      <td>1.0</td>\n",
       "      <td>9.23</td>\n",
       "      <td>4</td>\n",
       "      <td>1615084</td>\n",
       "    </tr>\n",
       "    <tr>\n",
       "      <th>2421</th>\n",
       "      <td>311382</td>\n",
       "      <td>Hanma_Orochi</td>\n",
       "      <td>5114</td>\n",
       "      <td>\\n           \\n         \\n           \\n       ...</td>\n",
       "      <td>10</td>\n",
       "      <td>{'Overall': '10', 'Story': '10', 'Animation': ...</td>\n",
       "      <td>https://myanimelist.net/reviews.php?id=311382</td>\n",
       "      <td>Fullmetal Alchemist: Brotherhood</td>\n",
       "      <td>1.0</td>\n",
       "      <td>9.23</td>\n",
       "      <td>4</td>\n",
       "      <td>1615084</td>\n",
       "    </tr>\n",
       "    <tr>\n",
       "      <th>2422</th>\n",
       "      <td>275431</td>\n",
       "      <td>Janero</td>\n",
       "      <td>5114</td>\n",
       "      <td>\\n           \\n         \\n           \\n       ...</td>\n",
       "      <td>10</td>\n",
       "      <td>{'Overall': '10', 'Story': '10', 'Animation': ...</td>\n",
       "      <td>https://myanimelist.net/reviews.php?id=275431</td>\n",
       "      <td>Fullmetal Alchemist: Brotherhood</td>\n",
       "      <td>1.0</td>\n",
       "      <td>9.23</td>\n",
       "      <td>4</td>\n",
       "      <td>1615084</td>\n",
       "    </tr>\n",
       "    <tr>\n",
       "      <th>2423</th>\n",
       "      <td>312427</td>\n",
       "      <td>LifeGun</td>\n",
       "      <td>5114</td>\n",
       "      <td>\\n           \\n         \\n           \\n       ...</td>\n",
       "      <td>10</td>\n",
       "      <td>{'Overall': '10', 'Story': '0', 'Animation': '...</td>\n",
       "      <td>https://myanimelist.net/reviews.php?id=312427</td>\n",
       "      <td>Fullmetal Alchemist: Brotherhood</td>\n",
       "      <td>1.0</td>\n",
       "      <td>9.23</td>\n",
       "      <td>4</td>\n",
       "      <td>1615084</td>\n",
       "    </tr>\n",
       "  </tbody>\n",
       "</table>\n",
       "<p>2424 rows × 12 columns</p>\n",
       "</div>"
      ],
      "text/plain": [
       "       uid_x       profile  anime_uid  \\\n",
       "0     210404         12sed       5114   \n",
       "1     203544     For_Reign       5114   \n",
       "2      29856     appleaday       5114   \n",
       "3     138419     RoyRiza89       5114   \n",
       "4      14342     Ardinayka       5114   \n",
       "...      ...           ...        ...   \n",
       "2419  309975      mafiahat       5114   \n",
       "2420  274220       Curotos       5114   \n",
       "2421  311382  Hanma_Orochi       5114   \n",
       "2422  275431        Janero       5114   \n",
       "2423  312427       LifeGun       5114   \n",
       "\n",
       "                                                   text  score_x  \\\n",
       "0     \\n           \\n         \\n           \\n       ...       10   \n",
       "1     \\n           \\n         \\n           \\n       ...       10   \n",
       "2     \\n           \\n         \\n           \\n       ...       10   \n",
       "3     \\n           \\n         \\n           \\n       ...       10   \n",
       "4     \\n           \\n         \\n           \\n       ...        7   \n",
       "...                                                 ...      ...   \n",
       "2419  \\n           \\n         \\n           \\n       ...       10   \n",
       "2420  \\n           \\n         \\n           \\n       ...       10   \n",
       "2421  \\n           \\n         \\n           \\n       ...       10   \n",
       "2422  \\n           \\n         \\n           \\n       ...       10   \n",
       "2423  \\n           \\n         \\n           \\n       ...       10   \n",
       "\n",
       "                                                 scores  \\\n",
       "0     {'Overall': '10', 'Story': '10', 'Animation': ...   \n",
       "1     {'Overall': '10', 'Story': '10', 'Animation': ...   \n",
       "2     {'Overall': '10', 'Story': '10', 'Animation': ...   \n",
       "3     {'Overall': '10', 'Story': '10', 'Animation': ...   \n",
       "4     {'Overall': '7', 'Story': '5', 'Animation': '9...   \n",
       "...                                                 ...   \n",
       "2419  {'Overall': '10', 'Story': '9', 'Animation': '...   \n",
       "2420  {'Overall': '10', 'Story': '10', 'Animation': ...   \n",
       "2421  {'Overall': '10', 'Story': '10', 'Animation': ...   \n",
       "2422  {'Overall': '10', 'Story': '10', 'Animation': ...   \n",
       "2423  {'Overall': '10', 'Story': '0', 'Animation': '...   \n",
       "\n",
       "                                             link_x  \\\n",
       "0     https://myanimelist.net/reviews.php?id=210404   \n",
       "1     https://myanimelist.net/reviews.php?id=203544   \n",
       "2      https://myanimelist.net/reviews.php?id=29856   \n",
       "3     https://myanimelist.net/reviews.php?id=138419   \n",
       "4      https://myanimelist.net/reviews.php?id=14342   \n",
       "...                                             ...   \n",
       "2419  https://myanimelist.net/reviews.php?id=309975   \n",
       "2420  https://myanimelist.net/reviews.php?id=274220   \n",
       "2421  https://myanimelist.net/reviews.php?id=311382   \n",
       "2422  https://myanimelist.net/reviews.php?id=275431   \n",
       "2423  https://myanimelist.net/reviews.php?id=312427   \n",
       "\n",
       "                                 title  ranked  score_y  popularity  members  \n",
       "0     Fullmetal Alchemist: Brotherhood     1.0     9.23           4  1615084  \n",
       "1     Fullmetal Alchemist: Brotherhood     1.0     9.23           4  1615084  \n",
       "2     Fullmetal Alchemist: Brotherhood     1.0     9.23           4  1615084  \n",
       "3     Fullmetal Alchemist: Brotherhood     1.0     9.23           4  1615084  \n",
       "4     Fullmetal Alchemist: Brotherhood     1.0     9.23           4  1615084  \n",
       "...                                ...     ...      ...         ...      ...  \n",
       "2419  Fullmetal Alchemist: Brotherhood     1.0     9.23           4  1615084  \n",
       "2420  Fullmetal Alchemist: Brotherhood     1.0     9.23           4  1615084  \n",
       "2421  Fullmetal Alchemist: Brotherhood     1.0     9.23           4  1615084  \n",
       "2422  Fullmetal Alchemist: Brotherhood     1.0     9.23           4  1615084  \n",
       "2423  Fullmetal Alchemist: Brotherhood     1.0     9.23           4  1615084  \n",
       "\n",
       "[2424 rows x 12 columns]"
      ]
     },
     "metadata": {},
     "output_type": "display_data"
    }
   ],
   "source": [
    "reviews_for_top10 = reviews_for_top10[columns_to_keep]\n",
    "\n",
    "display(reviews_for_top10)"
   ]
  },
  {
   "cell_type": "code",
   "execution_count": 29,
   "id": "92a375b1",
   "metadata": {},
   "outputs": [
    {
     "data": {
      "text/plain": [
       "title\n",
       "Steins;Gate                           779\n",
       "Kimi no Na wa.                        718\n",
       "Fullmetal Alchemist: Brotherhood      637\n",
       "Ginga Eiyuu Densetsu                  116\n",
       "3-gatsu no Lion 2nd Season             69\n",
       "Gintama°                               38\n",
       "Gintama'                               27\n",
       "Shingeki no Kyojin Season 3 Part 2     20\n",
       "Koe no Katachi                         20\n",
       "Name: count, dtype: int64"
      ]
     },
     "execution_count": 29,
     "metadata": {},
     "output_type": "execute_result"
    }
   ],
   "source": [
    "reviews_for_top10['title'].value_counts()"
   ]
  },
  {
   "cell_type": "code",
   "execution_count": 60,
   "id": "94fdf8f2",
   "metadata": {},
   "outputs": [],
   "source": [
    "df_revtop = reviews_for_top10['title'].value_counts().reset_index()\n",
    "df_revtop.columns = ['title', 'count']\n",
    "\n",
    "reviews_top = df_revtop.merge(reviews_for_top10[['title', 'ranked']], on='title', how='left').drop_duplicates()\n",
    "reviews_top = reviews_top.sort_values(by='count', ascending=False)"
   ]
  },
  {
   "cell_type": "code",
   "execution_count": null,
   "id": "dffcee7c",
   "metadata": {},
   "outputs": [
    {
     "data": {
      "application/vnd.plotly.v1+json": {
       "config": {
        "plotlyServerURL": "https://plot.ly"
       },
       "data": [
        {
         "hovertemplate": "=%{x}<br>Amount of reviews=%{y}<br>ranked=%{text}<extra></extra>",
         "legendgroup": "",
         "marker": {
          "color": "rgb(127, 60, 141)",
          "pattern": {
           "shape": ""
          }
         },
         "name": "",
         "orientation": "v",
         "showlegend": false,
         "text": {
          "bdata": "AAAAAAAAAEAAAAAAAAAQQAAAAAAAAPA/AAAAAAAAIEAAAAAAAAAiQAAAAAAAABhAAAAAAAAAHEAAAAAAAAAUQAAAAAAAACRA",
          "dtype": "f8"
         },
         "textangle": 0,
         "textposition": "outside",
         "type": "bar",
         "x": [
          "Steins;Gate",
          "Kimi no Na wa.",
          "Fullmetal Alchemist: Brotherhood",
          "Ginga Eiyuu Densetsu",
          "3-gatsu no Lion 2nd Season",
          "Gintama°",
          "Gintama'",
          "Shingeki no Kyojin Season 3 Part 2",
          "Koe no Katachi"
         ],
         "xaxis": "x",
         "y": {
          "bdata": "CwPOAn0CdABFACYAGwAUABQA",
          "dtype": "i2"
         },
         "yaxis": "y"
        }
       ],
       "layout": {
        "barmode": "relative",
        "height": 600,
        "legend": {
         "tracegroupgap": 0
        },
        "template": {
         "data": {
          "bar": [
           {
            "error_x": {
             "color": "#f2f5fa"
            },
            "error_y": {
             "color": "#f2f5fa"
            },
            "marker": {
             "line": {
              "color": "rgb(17,17,17)",
              "width": 0.5
             },
             "pattern": {
              "fillmode": "overlay",
              "size": 10,
              "solidity": 0.2
             }
            },
            "type": "bar"
           }
          ],
          "barpolar": [
           {
            "marker": {
             "line": {
              "color": "rgb(17,17,17)",
              "width": 0.5
             },
             "pattern": {
              "fillmode": "overlay",
              "size": 10,
              "solidity": 0.2
             }
            },
            "type": "barpolar"
           }
          ],
          "carpet": [
           {
            "aaxis": {
             "endlinecolor": "#A2B1C6",
             "gridcolor": "#506784",
             "linecolor": "#506784",
             "minorgridcolor": "#506784",
             "startlinecolor": "#A2B1C6"
            },
            "baxis": {
             "endlinecolor": "#A2B1C6",
             "gridcolor": "#506784",
             "linecolor": "#506784",
             "minorgridcolor": "#506784",
             "startlinecolor": "#A2B1C6"
            },
            "type": "carpet"
           }
          ],
          "choropleth": [
           {
            "colorbar": {
             "outlinewidth": 0,
             "ticks": ""
            },
            "type": "choropleth"
           }
          ],
          "contour": [
           {
            "colorbar": {
             "outlinewidth": 0,
             "ticks": ""
            },
            "colorscale": [
             [
              0,
              "#0d0887"
             ],
             [
              0.1111111111111111,
              "#46039f"
             ],
             [
              0.2222222222222222,
              "#7201a8"
             ],
             [
              0.3333333333333333,
              "#9c179e"
             ],
             [
              0.4444444444444444,
              "#bd3786"
             ],
             [
              0.5555555555555556,
              "#d8576b"
             ],
             [
              0.6666666666666666,
              "#ed7953"
             ],
             [
              0.7777777777777778,
              "#fb9f3a"
             ],
             [
              0.8888888888888888,
              "#fdca26"
             ],
             [
              1,
              "#f0f921"
             ]
            ],
            "type": "contour"
           }
          ],
          "contourcarpet": [
           {
            "colorbar": {
             "outlinewidth": 0,
             "ticks": ""
            },
            "type": "contourcarpet"
           }
          ],
          "heatmap": [
           {
            "colorbar": {
             "outlinewidth": 0,
             "ticks": ""
            },
            "colorscale": [
             [
              0,
              "#0d0887"
             ],
             [
              0.1111111111111111,
              "#46039f"
             ],
             [
              0.2222222222222222,
              "#7201a8"
             ],
             [
              0.3333333333333333,
              "#9c179e"
             ],
             [
              0.4444444444444444,
              "#bd3786"
             ],
             [
              0.5555555555555556,
              "#d8576b"
             ],
             [
              0.6666666666666666,
              "#ed7953"
             ],
             [
              0.7777777777777778,
              "#fb9f3a"
             ],
             [
              0.8888888888888888,
              "#fdca26"
             ],
             [
              1,
              "#f0f921"
             ]
            ],
            "type": "heatmap"
           }
          ],
          "histogram": [
           {
            "marker": {
             "pattern": {
              "fillmode": "overlay",
              "size": 10,
              "solidity": 0.2
             }
            },
            "type": "histogram"
           }
          ],
          "histogram2d": [
           {
            "colorbar": {
             "outlinewidth": 0,
             "ticks": ""
            },
            "colorscale": [
             [
              0,
              "#0d0887"
             ],
             [
              0.1111111111111111,
              "#46039f"
             ],
             [
              0.2222222222222222,
              "#7201a8"
             ],
             [
              0.3333333333333333,
              "#9c179e"
             ],
             [
              0.4444444444444444,
              "#bd3786"
             ],
             [
              0.5555555555555556,
              "#d8576b"
             ],
             [
              0.6666666666666666,
              "#ed7953"
             ],
             [
              0.7777777777777778,
              "#fb9f3a"
             ],
             [
              0.8888888888888888,
              "#fdca26"
             ],
             [
              1,
              "#f0f921"
             ]
            ],
            "type": "histogram2d"
           }
          ],
          "histogram2dcontour": [
           {
            "colorbar": {
             "outlinewidth": 0,
             "ticks": ""
            },
            "colorscale": [
             [
              0,
              "#0d0887"
             ],
             [
              0.1111111111111111,
              "#46039f"
             ],
             [
              0.2222222222222222,
              "#7201a8"
             ],
             [
              0.3333333333333333,
              "#9c179e"
             ],
             [
              0.4444444444444444,
              "#bd3786"
             ],
             [
              0.5555555555555556,
              "#d8576b"
             ],
             [
              0.6666666666666666,
              "#ed7953"
             ],
             [
              0.7777777777777778,
              "#fb9f3a"
             ],
             [
              0.8888888888888888,
              "#fdca26"
             ],
             [
              1,
              "#f0f921"
             ]
            ],
            "type": "histogram2dcontour"
           }
          ],
          "mesh3d": [
           {
            "colorbar": {
             "outlinewidth": 0,
             "ticks": ""
            },
            "type": "mesh3d"
           }
          ],
          "parcoords": [
           {
            "line": {
             "colorbar": {
              "outlinewidth": 0,
              "ticks": ""
             }
            },
            "type": "parcoords"
           }
          ],
          "pie": [
           {
            "automargin": true,
            "type": "pie"
           }
          ],
          "scatter": [
           {
            "marker": {
             "line": {
              "color": "#283442"
             }
            },
            "type": "scatter"
           }
          ],
          "scatter3d": [
           {
            "line": {
             "colorbar": {
              "outlinewidth": 0,
              "ticks": ""
             }
            },
            "marker": {
             "colorbar": {
              "outlinewidth": 0,
              "ticks": ""
             }
            },
            "type": "scatter3d"
           }
          ],
          "scattercarpet": [
           {
            "marker": {
             "colorbar": {
              "outlinewidth": 0,
              "ticks": ""
             }
            },
            "type": "scattercarpet"
           }
          ],
          "scattergeo": [
           {
            "marker": {
             "colorbar": {
              "outlinewidth": 0,
              "ticks": ""
             }
            },
            "type": "scattergeo"
           }
          ],
          "scattergl": [
           {
            "marker": {
             "line": {
              "color": "#283442"
             }
            },
            "type": "scattergl"
           }
          ],
          "scattermap": [
           {
            "marker": {
             "colorbar": {
              "outlinewidth": 0,
              "ticks": ""
             }
            },
            "type": "scattermap"
           }
          ],
          "scattermapbox": [
           {
            "marker": {
             "colorbar": {
              "outlinewidth": 0,
              "ticks": ""
             }
            },
            "type": "scattermapbox"
           }
          ],
          "scatterpolar": [
           {
            "marker": {
             "colorbar": {
              "outlinewidth": 0,
              "ticks": ""
             }
            },
            "type": "scatterpolar"
           }
          ],
          "scatterpolargl": [
           {
            "marker": {
             "colorbar": {
              "outlinewidth": 0,
              "ticks": ""
             }
            },
            "type": "scatterpolargl"
           }
          ],
          "scatterternary": [
           {
            "marker": {
             "colorbar": {
              "outlinewidth": 0,
              "ticks": ""
             }
            },
            "type": "scatterternary"
           }
          ],
          "surface": [
           {
            "colorbar": {
             "outlinewidth": 0,
             "ticks": ""
            },
            "colorscale": [
             [
              0,
              "#0d0887"
             ],
             [
              0.1111111111111111,
              "#46039f"
             ],
             [
              0.2222222222222222,
              "#7201a8"
             ],
             [
              0.3333333333333333,
              "#9c179e"
             ],
             [
              0.4444444444444444,
              "#bd3786"
             ],
             [
              0.5555555555555556,
              "#d8576b"
             ],
             [
              0.6666666666666666,
              "#ed7953"
             ],
             [
              0.7777777777777778,
              "#fb9f3a"
             ],
             [
              0.8888888888888888,
              "#fdca26"
             ],
             [
              1,
              "#f0f921"
             ]
            ],
            "type": "surface"
           }
          ],
          "table": [
           {
            "cells": {
             "fill": {
              "color": "#506784"
             },
             "line": {
              "color": "rgb(17,17,17)"
             }
            },
            "header": {
             "fill": {
              "color": "#2a3f5f"
             },
             "line": {
              "color": "rgb(17,17,17)"
             }
            },
            "type": "table"
           }
          ]
         },
         "layout": {
          "annotationdefaults": {
           "arrowcolor": "#f2f5fa",
           "arrowhead": 0,
           "arrowwidth": 1
          },
          "autotypenumbers": "strict",
          "coloraxis": {
           "colorbar": {
            "outlinewidth": 0,
            "ticks": ""
           }
          },
          "colorscale": {
           "diverging": [
            [
             0,
             "#8e0152"
            ],
            [
             0.1,
             "#c51b7d"
            ],
            [
             0.2,
             "#de77ae"
            ],
            [
             0.3,
             "#f1b6da"
            ],
            [
             0.4,
             "#fde0ef"
            ],
            [
             0.5,
             "#f7f7f7"
            ],
            [
             0.6,
             "#e6f5d0"
            ],
            [
             0.7,
             "#b8e186"
            ],
            [
             0.8,
             "#7fbc41"
            ],
            [
             0.9,
             "#4d9221"
            ],
            [
             1,
             "#276419"
            ]
           ],
           "sequential": [
            [
             0,
             "#0d0887"
            ],
            [
             0.1111111111111111,
             "#46039f"
            ],
            [
             0.2222222222222222,
             "#7201a8"
            ],
            [
             0.3333333333333333,
             "#9c179e"
            ],
            [
             0.4444444444444444,
             "#bd3786"
            ],
            [
             0.5555555555555556,
             "#d8576b"
            ],
            [
             0.6666666666666666,
             "#ed7953"
            ],
            [
             0.7777777777777778,
             "#fb9f3a"
            ],
            [
             0.8888888888888888,
             "#fdca26"
            ],
            [
             1,
             "#f0f921"
            ]
           ],
           "sequentialminus": [
            [
             0,
             "#0d0887"
            ],
            [
             0.1111111111111111,
             "#46039f"
            ],
            [
             0.2222222222222222,
             "#7201a8"
            ],
            [
             0.3333333333333333,
             "#9c179e"
            ],
            [
             0.4444444444444444,
             "#bd3786"
            ],
            [
             0.5555555555555556,
             "#d8576b"
            ],
            [
             0.6666666666666666,
             "#ed7953"
            ],
            [
             0.7777777777777778,
             "#fb9f3a"
            ],
            [
             0.8888888888888888,
             "#fdca26"
            ],
            [
             1,
             "#f0f921"
            ]
           ]
          },
          "colorway": [
           "#636efa",
           "#EF553B",
           "#00cc96",
           "#ab63fa",
           "#FFA15A",
           "#19d3f3",
           "#FF6692",
           "#B6E880",
           "#FF97FF",
           "#FECB52"
          ],
          "font": {
           "color": "#f2f5fa"
          },
          "geo": {
           "bgcolor": "rgb(17,17,17)",
           "lakecolor": "rgb(17,17,17)",
           "landcolor": "rgb(17,17,17)",
           "showlakes": true,
           "showland": true,
           "subunitcolor": "#506784"
          },
          "hoverlabel": {
           "align": "left"
          },
          "hovermode": "closest",
          "mapbox": {
           "style": "dark"
          },
          "paper_bgcolor": "rgb(17,17,17)",
          "plot_bgcolor": "rgb(17,17,17)",
          "polar": {
           "angularaxis": {
            "gridcolor": "#506784",
            "linecolor": "#506784",
            "ticks": ""
           },
           "bgcolor": "rgb(17,17,17)",
           "radialaxis": {
            "gridcolor": "#506784",
            "linecolor": "#506784",
            "ticks": ""
           }
          },
          "scene": {
           "xaxis": {
            "backgroundcolor": "rgb(17,17,17)",
            "gridcolor": "#506784",
            "gridwidth": 2,
            "linecolor": "#506784",
            "showbackground": true,
            "ticks": "",
            "zerolinecolor": "#C8D4E3"
           },
           "yaxis": {
            "backgroundcolor": "rgb(17,17,17)",
            "gridcolor": "#506784",
            "gridwidth": 2,
            "linecolor": "#506784",
            "showbackground": true,
            "ticks": "",
            "zerolinecolor": "#C8D4E3"
           },
           "zaxis": {
            "backgroundcolor": "rgb(17,17,17)",
            "gridcolor": "#506784",
            "gridwidth": 2,
            "linecolor": "#506784",
            "showbackground": true,
            "ticks": "",
            "zerolinecolor": "#C8D4E3"
           }
          },
          "shapedefaults": {
           "line": {
            "color": "#f2f5fa"
           }
          },
          "sliderdefaults": {
           "bgcolor": "#C8D4E3",
           "bordercolor": "rgb(17,17,17)",
           "borderwidth": 1,
           "tickwidth": 0
          },
          "ternary": {
           "aaxis": {
            "gridcolor": "#506784",
            "linecolor": "#506784",
            "ticks": ""
           },
           "baxis": {
            "gridcolor": "#506784",
            "linecolor": "#506784",
            "ticks": ""
           },
           "bgcolor": "rgb(17,17,17)",
           "caxis": {
            "gridcolor": "#506784",
            "linecolor": "#506784",
            "ticks": ""
           }
          },
          "title": {
           "x": 0.05
          },
          "updatemenudefaults": {
           "bgcolor": "#506784",
           "borderwidth": 0
          },
          "xaxis": {
           "automargin": true,
           "gridcolor": "#283442",
           "linecolor": "#506784",
           "ticks": "",
           "title": {
            "standoff": 15
           },
           "zerolinecolor": "#283442",
           "zerolinewidth": 2
          },
          "yaxis": {
           "automargin": true,
           "gridcolor": "#283442",
           "linecolor": "#506784",
           "ticks": "",
           "title": {
            "standoff": 15
           },
           "zerolinecolor": "#283442",
           "zerolinewidth": 2
          }
         }
        },
        "title": {
         "text": "Amount of reviews on the top 10 best ranked animes (excluding top 3 entry for which data is missing)"
        },
        "xaxis": {
         "anchor": "y",
         "domain": [
          0,
          1
         ],
         "title": {
          "text": ""
         }
        },
        "yaxis": {
         "anchor": "x",
         "domain": [
          0,
          1
         ],
         "title": {
          "text": "Amount of reviews"
         }
        }
       }
      }
     },
     "metadata": {},
     "output_type": "display_data"
    }
   ],
   "source": [
    "reviews_top10 = px.bar(reviews_top,\n",
    "                        x='title',\n",
    "                        y='count',\n",
    "                       labels={'count': 'Amount of reviews', 'title': ''},\n",
    "                        title='Amount of reviews on the top 10 best ranked animes (excluding top 3 entry for which data is missing)',\n",
    "                        text='ranked',\n",
    "                        height= 600,\n",
    "                        color_discrete_sequence=px.colors.qualitative.Dark24_r,\n",
    "                        template='plotly_dark'\n",
    "                       )\n",
    "reviews_top10.update_traces(textangle=0, textposition=\"outside\")\n",
    "reviews_top10.show()"
   ]
  },
  {
   "cell_type": "markdown",
   "id": "674682f2",
   "metadata": {},
   "source": [
    "## Bar plot for reviews on the most popular animes"
   ]
  },
  {
   "cell_type": "code",
   "execution_count": 32,
   "id": "8ab0646a",
   "metadata": {},
   "outputs": [
    {
     "name": "stdout",
     "output_type": "stream",
     "text": [
      "UID of the top 10 anime (in order) :[1535, 16498, 11757, 5114, 30276, 22319, 9253, 19815, 20, 6547]\n"
     ]
    },
    {
     "data": {
      "text/html": [
       "<div>\n",
       "<style scoped>\n",
       "    .dataframe tbody tr th:only-of-type {\n",
       "        vertical-align: middle;\n",
       "    }\n",
       "\n",
       "    .dataframe tbody tr th {\n",
       "        vertical-align: top;\n",
       "    }\n",
       "\n",
       "    .dataframe thead th {\n",
       "        text-align: right;\n",
       "    }\n",
       "</style>\n",
       "<table border=\"1\" class=\"dataframe\">\n",
       "  <thead>\n",
       "    <tr style=\"text-align: right;\">\n",
       "      <th></th>\n",
       "      <th>Unnamed: 0</th>\n",
       "      <th>uid</th>\n",
       "      <th>title</th>\n",
       "      <th>synopsis</th>\n",
       "      <th>genre</th>\n",
       "      <th>aired</th>\n",
       "      <th>episodes</th>\n",
       "      <th>members</th>\n",
       "      <th>popularity</th>\n",
       "      <th>ranked</th>\n",
       "      <th>score</th>\n",
       "      <th>img_url</th>\n",
       "      <th>link</th>\n",
       "    </tr>\n",
       "  </thead>\n",
       "  <tbody>\n",
       "    <tr>\n",
       "      <th>3</th>\n",
       "      <td>3</td>\n",
       "      <td>5114</td>\n",
       "      <td>Fullmetal Alchemist: Brotherhood</td>\n",
       "      <td>\"In order for something to be obtained, someth...</td>\n",
       "      <td>[Action, Military, Adventure, Comedy, Drama, M...</td>\n",
       "      <td>Apr 5, 2009 to Jul 4, 2010</td>\n",
       "      <td>64.0</td>\n",
       "      <td>1615084</td>\n",
       "      <td>4</td>\n",
       "      <td>1.0</td>\n",
       "      <td>9.23</td>\n",
       "      <td>https://cdn.myanimelist.net/images/anime/1223/...</td>\n",
       "      <td>https://myanimelist.net/anime/5114/Fullmetal_A...</td>\n",
       "    </tr>\n",
       "    <tr>\n",
       "      <th>16</th>\n",
       "      <td>16</td>\n",
       "      <td>30276</td>\n",
       "      <td>One Punch Man</td>\n",
       "      <td>The seemingly ordinary and unimpressive Saitam...</td>\n",
       "      <td>[Action, Sci-Fi, Comedy, Parody, Super Power, ...</td>\n",
       "      <td>Oct 5, 2015 to Dec 21, 2015</td>\n",
       "      <td>12.0</td>\n",
       "      <td>1475219</td>\n",
       "      <td>5</td>\n",
       "      <td>50.0</td>\n",
       "      <td>8.68</td>\n",
       "      <td>https://cdn.myanimelist.net/images/anime/12/76...</td>\n",
       "      <td>https://myanimelist.net/anime/30276/One_Punch_Man</td>\n",
       "    </tr>\n",
       "    <tr>\n",
       "      <th>140</th>\n",
       "      <td>140</td>\n",
       "      <td>22319</td>\n",
       "      <td>Tokyo Ghoul</td>\n",
       "      <td>Tokyo has become a cruel and merciless city—a ...</td>\n",
       "      <td>[Action, Mystery, Horror, Psychological, Super...</td>\n",
       "      <td>Jul 4, 2014 to Sep 19, 2014</td>\n",
       "      <td>12.0</td>\n",
       "      <td>1346036</td>\n",
       "      <td>6</td>\n",
       "      <td>674.0</td>\n",
       "      <td>7.93</td>\n",
       "      <td>https://cdn.myanimelist.net/images/anime/5/644...</td>\n",
       "      <td>https://myanimelist.net/anime/22319/Tokyo_Ghoul</td>\n",
       "    </tr>\n",
       "    <tr>\n",
       "      <th>144</th>\n",
       "      <td>144</td>\n",
       "      <td>20</td>\n",
       "      <td>Naruto</td>\n",
       "      <td>Moments prior to Naruto Uzumaki's birth, a hug...</td>\n",
       "      <td>[Action, Adventure, Comedy, Super Power, Marti...</td>\n",
       "      <td>Oct 3, 2002 to Feb 8, 2007</td>\n",
       "      <td>220.0</td>\n",
       "      <td>1280914</td>\n",
       "      <td>9</td>\n",
       "      <td>670.0</td>\n",
       "      <td>7.93</td>\n",
       "      <td>https://cdn.myanimelist.net/images/anime/13/17...</td>\n",
       "      <td>https://myanimelist.net/anime/20/Naruto</td>\n",
       "    </tr>\n",
       "    <tr>\n",
       "      <th>514</th>\n",
       "      <td>514</td>\n",
       "      <td>6547</td>\n",
       "      <td>Angel Beats!</td>\n",
       "      <td>Otonashi awakens only to learn he is dead. A r...</td>\n",
       "      <td>[Action, Comedy, Drama, School, Supernatural]</td>\n",
       "      <td>Apr 3, 2010 to Jun 26, 2010</td>\n",
       "      <td>13.0</td>\n",
       "      <td>1247282</td>\n",
       "      <td>10</td>\n",
       "      <td>284.0</td>\n",
       "      <td>8.25</td>\n",
       "      <td>https://cdn.myanimelist.net/images/anime/10/22...</td>\n",
       "      <td>https://myanimelist.net/anime/6547/Angel_Beats</td>\n",
       "    </tr>\n",
       "    <tr>\n",
       "      <th>592</th>\n",
       "      <td>592</td>\n",
       "      <td>19815</td>\n",
       "      <td>No Game No Life</td>\n",
       "      <td>No Game No Life  is a surreal comedy that foll...</td>\n",
       "      <td>[Game, Adventure, Comedy, Supernatural, Ecchi,...</td>\n",
       "      <td>Apr 9, 2014 to Jun 25, 2014</td>\n",
       "      <td>12.0</td>\n",
       "      <td>1291615</td>\n",
       "      <td>8</td>\n",
       "      <td>201.0</td>\n",
       "      <td>8.34</td>\n",
       "      <td>https://cdn.myanimelist.net/images/anime/5/651...</td>\n",
       "      <td>https://myanimelist.net/anime/19815/No_Game_No...</td>\n",
       "    </tr>\n",
       "    <tr>\n",
       "      <th>681</th>\n",
       "      <td>681</td>\n",
       "      <td>16498</td>\n",
       "      <td>Shingeki no Kyojin</td>\n",
       "      <td>Centuries ago, mankind was slaughtered to near...</td>\n",
       "      <td>[Action, Military, Mystery, Super Power, Drama...</td>\n",
       "      <td>Apr 7, 2013 to Sep 29, 2013</td>\n",
       "      <td>25.0</td>\n",
       "      <td>1754979</td>\n",
       "      <td>2</td>\n",
       "      <td>111.0</td>\n",
       "      <td>8.47</td>\n",
       "      <td>https://cdn.myanimelist.net/images/anime/10/47...</td>\n",
       "      <td>https://myanimelist.net/anime/16498/Shingeki_n...</td>\n",
       "    </tr>\n",
       "    <tr>\n",
       "      <th>740</th>\n",
       "      <td>740</td>\n",
       "      <td>1535</td>\n",
       "      <td>Death Note</td>\n",
       "      <td>A shinigami, as a god of death, can kill any p...</td>\n",
       "      <td>[Mystery, Police, Psychological, Supernatural,...</td>\n",
       "      <td>Oct 4, 2006 to Jun 27, 2007</td>\n",
       "      <td>37.0</td>\n",
       "      <td>1871043</td>\n",
       "      <td>1</td>\n",
       "      <td>52.0</td>\n",
       "      <td>8.65</td>\n",
       "      <td>https://cdn.myanimelist.net/images/anime/9/945...</td>\n",
       "      <td>https://myanimelist.net/anime/1535/Death_Note</td>\n",
       "    </tr>\n",
       "    <tr>\n",
       "      <th>773</th>\n",
       "      <td>773</td>\n",
       "      <td>9253</td>\n",
       "      <td>Steins;Gate</td>\n",
       "      <td>The self-proclaimed mad scientist Rintarou Oka...</td>\n",
       "      <td>[Thriller, Sci-Fi]</td>\n",
       "      <td>Apr 6, 2011 to Sep 14, 2011</td>\n",
       "      <td>24.0</td>\n",
       "      <td>1331710</td>\n",
       "      <td>7</td>\n",
       "      <td>2.0</td>\n",
       "      <td>9.11</td>\n",
       "      <td>https://cdn.myanimelist.net/images/anime/5/731...</td>\n",
       "      <td>https://myanimelist.net/anime/9253/Steins_Gate</td>\n",
       "    </tr>\n",
       "    <tr>\n",
       "      <th>7882</th>\n",
       "      <td>8409</td>\n",
       "      <td>11757</td>\n",
       "      <td>Sword Art Online</td>\n",
       "      <td>In the year 2022, virtual reality has progress...</td>\n",
       "      <td>[Action, Adventure, Fantasy, Game, Romance]</td>\n",
       "      <td>Jul 8, 2012 to Dec 23, 2012</td>\n",
       "      <td>25.0</td>\n",
       "      <td>1657823</td>\n",
       "      <td>3</td>\n",
       "      <td>1771.0</td>\n",
       "      <td>7.49</td>\n",
       "      <td>https://cdn.myanimelist.net/images/anime/11/39...</td>\n",
       "      <td>https://myanimelist.net/anime/11757/Sword_Art_...</td>\n",
       "    </tr>\n",
       "  </tbody>\n",
       "</table>\n",
       "</div>"
      ],
      "text/plain": [
       "      Unnamed: 0    uid                             title  \\\n",
       "3              3   5114  Fullmetal Alchemist: Brotherhood   \n",
       "16            16  30276                     One Punch Man   \n",
       "140          140  22319                       Tokyo Ghoul   \n",
       "144          144     20                            Naruto   \n",
       "514          514   6547                      Angel Beats!   \n",
       "592          592  19815                   No Game No Life   \n",
       "681          681  16498                Shingeki no Kyojin   \n",
       "740          740   1535                        Death Note   \n",
       "773          773   9253                       Steins;Gate   \n",
       "7882        8409  11757                  Sword Art Online   \n",
       "\n",
       "                                               synopsis  \\\n",
       "3     \"In order for something to be obtained, someth...   \n",
       "16    The seemingly ordinary and unimpressive Saitam...   \n",
       "140   Tokyo has become a cruel and merciless city—a ...   \n",
       "144   Moments prior to Naruto Uzumaki's birth, a hug...   \n",
       "514   Otonashi awakens only to learn he is dead. A r...   \n",
       "592   No Game No Life  is a surreal comedy that foll...   \n",
       "681   Centuries ago, mankind was slaughtered to near...   \n",
       "740   A shinigami, as a god of death, can kill any p...   \n",
       "773   The self-proclaimed mad scientist Rintarou Oka...   \n",
       "7882  In the year 2022, virtual reality has progress...   \n",
       "\n",
       "                                                  genre  \\\n",
       "3     [Action, Military, Adventure, Comedy, Drama, M...   \n",
       "16    [Action, Sci-Fi, Comedy, Parody, Super Power, ...   \n",
       "140   [Action, Mystery, Horror, Psychological, Super...   \n",
       "144   [Action, Adventure, Comedy, Super Power, Marti...   \n",
       "514       [Action, Comedy, Drama, School, Supernatural]   \n",
       "592   [Game, Adventure, Comedy, Supernatural, Ecchi,...   \n",
       "681   [Action, Military, Mystery, Super Power, Drama...   \n",
       "740   [Mystery, Police, Psychological, Supernatural,...   \n",
       "773                                  [Thriller, Sci-Fi]   \n",
       "7882        [Action, Adventure, Fantasy, Game, Romance]   \n",
       "\n",
       "                            aired  episodes  members  popularity  ranked  \\\n",
       "3      Apr 5, 2009 to Jul 4, 2010      64.0  1615084           4     1.0   \n",
       "16    Oct 5, 2015 to Dec 21, 2015      12.0  1475219           5    50.0   \n",
       "140   Jul 4, 2014 to Sep 19, 2014      12.0  1346036           6   674.0   \n",
       "144    Oct 3, 2002 to Feb 8, 2007     220.0  1280914           9   670.0   \n",
       "514   Apr 3, 2010 to Jun 26, 2010      13.0  1247282          10   284.0   \n",
       "592   Apr 9, 2014 to Jun 25, 2014      12.0  1291615           8   201.0   \n",
       "681   Apr 7, 2013 to Sep 29, 2013      25.0  1754979           2   111.0   \n",
       "740   Oct 4, 2006 to Jun 27, 2007      37.0  1871043           1    52.0   \n",
       "773   Apr 6, 2011 to Sep 14, 2011      24.0  1331710           7     2.0   \n",
       "7882  Jul 8, 2012 to Dec 23, 2012      25.0  1657823           3  1771.0   \n",
       "\n",
       "      score                                            img_url  \\\n",
       "3      9.23  https://cdn.myanimelist.net/images/anime/1223/...   \n",
       "16     8.68  https://cdn.myanimelist.net/images/anime/12/76...   \n",
       "140    7.93  https://cdn.myanimelist.net/images/anime/5/644...   \n",
       "144    7.93  https://cdn.myanimelist.net/images/anime/13/17...   \n",
       "514    8.25  https://cdn.myanimelist.net/images/anime/10/22...   \n",
       "592    8.34  https://cdn.myanimelist.net/images/anime/5/651...   \n",
       "681    8.47  https://cdn.myanimelist.net/images/anime/10/47...   \n",
       "740    8.65  https://cdn.myanimelist.net/images/anime/9/945...   \n",
       "773    9.11  https://cdn.myanimelist.net/images/anime/5/731...   \n",
       "7882   7.49  https://cdn.myanimelist.net/images/anime/11/39...   \n",
       "\n",
       "                                                   link  \n",
       "3     https://myanimelist.net/anime/5114/Fullmetal_A...  \n",
       "16    https://myanimelist.net/anime/30276/One_Punch_Man  \n",
       "140     https://myanimelist.net/anime/22319/Tokyo_Ghoul  \n",
       "144             https://myanimelist.net/anime/20/Naruto  \n",
       "514      https://myanimelist.net/anime/6547/Angel_Beats  \n",
       "592   https://myanimelist.net/anime/19815/No_Game_No...  \n",
       "681   https://myanimelist.net/anime/16498/Shingeki_n...  \n",
       "740       https://myanimelist.net/anime/1535/Death_Note  \n",
       "773      https://myanimelist.net/anime/9253/Steins_Gate  \n",
       "7882  https://myanimelist.net/anime/11757/Sword_Art_...  "
      ]
     },
     "metadata": {},
     "output_type": "display_data"
    }
   ],
   "source": [
    "mostpop_anime_uid = pop10['uid'].tolist()\n",
    "print(f'UID of the top 10 anime (in order) :{mostpop_anime_uid}')\n",
    "reviews_for_mostpop = df_reviews[df_reviews['anime_uid'].isin(mostpop_anime_uid)]\n",
    "mostpop_anime = df_anim[df_anim['uid'].isin(mostpop_anime_uid)]\n",
    "display(mostpop_anime)"
   ]
  },
  {
   "cell_type": "code",
   "execution_count": 33,
   "id": "f9b613f6",
   "metadata": {},
   "outputs": [
    {
     "data": {
      "text/html": [
       "<div>\n",
       "<style scoped>\n",
       "    .dataframe tbody tr th:only-of-type {\n",
       "        vertical-align: middle;\n",
       "    }\n",
       "\n",
       "    .dataframe tbody tr th {\n",
       "        vertical-align: top;\n",
       "    }\n",
       "\n",
       "    .dataframe thead th {\n",
       "        text-align: right;\n",
       "    }\n",
       "</style>\n",
       "<table border=\"1\" class=\"dataframe\">\n",
       "  <thead>\n",
       "    <tr style=\"text-align: right;\">\n",
       "      <th></th>\n",
       "      <th>uid_x</th>\n",
       "      <th>profile</th>\n",
       "      <th>anime_uid</th>\n",
       "      <th>text</th>\n",
       "      <th>score_x</th>\n",
       "      <th>scores</th>\n",
       "      <th>link_x</th>\n",
       "      <th>Unnamed: 0</th>\n",
       "      <th>uid_y</th>\n",
       "      <th>title</th>\n",
       "      <th>synopsis</th>\n",
       "      <th>genre</th>\n",
       "      <th>aired</th>\n",
       "      <th>episodes</th>\n",
       "      <th>members</th>\n",
       "      <th>popularity</th>\n",
       "      <th>ranked</th>\n",
       "      <th>score_y</th>\n",
       "      <th>img_url</th>\n",
       "      <th>link_y</th>\n",
       "    </tr>\n",
       "  </thead>\n",
       "  <tbody>\n",
       "    <tr>\n",
       "      <th>0</th>\n",
       "      <td>210404</td>\n",
       "      <td>12sed</td>\n",
       "      <td>5114</td>\n",
       "      <td>\\n           \\n         \\n           \\n       ...</td>\n",
       "      <td>10</td>\n",
       "      <td>{'Overall': '10', 'Story': '10', 'Animation': ...</td>\n",
       "      <td>https://myanimelist.net/reviews.php?id=210404</td>\n",
       "      <td>3</td>\n",
       "      <td>5114</td>\n",
       "      <td>Fullmetal Alchemist: Brotherhood</td>\n",
       "      <td>\"In order for something to be obtained, someth...</td>\n",
       "      <td>[Action, Military, Adventure, Comedy, Drama, M...</td>\n",
       "      <td>Apr 5, 2009 to Jul 4, 2010</td>\n",
       "      <td>64.0</td>\n",
       "      <td>1615084</td>\n",
       "      <td>4</td>\n",
       "      <td>1.0</td>\n",
       "      <td>9.23</td>\n",
       "      <td>https://cdn.myanimelist.net/images/anime/1223/...</td>\n",
       "      <td>https://myanimelist.net/anime/5114/Fullmetal_A...</td>\n",
       "    </tr>\n",
       "    <tr>\n",
       "      <th>1</th>\n",
       "      <td>262977</td>\n",
       "      <td>OVERPOWERED99</td>\n",
       "      <td>30276</td>\n",
       "      <td>\\n           \\n         \\n           \\n       ...</td>\n",
       "      <td>8</td>\n",
       "      <td>{'Overall': '8', 'Story': '7', 'Animation': '1...</td>\n",
       "      <td>https://myanimelist.net/reviews.php?id=262977</td>\n",
       "      <td>16</td>\n",
       "      <td>30276</td>\n",
       "      <td>One Punch Man</td>\n",
       "      <td>The seemingly ordinary and unimpressive Saitam...</td>\n",
       "      <td>[Action, Sci-Fi, Comedy, Parody, Super Power, ...</td>\n",
       "      <td>Oct 5, 2015 to Dec 21, 2015</td>\n",
       "      <td>12.0</td>\n",
       "      <td>1475219</td>\n",
       "      <td>5</td>\n",
       "      <td>50.0</td>\n",
       "      <td>8.68</td>\n",
       "      <td>https://cdn.myanimelist.net/images/anime/12/76...</td>\n",
       "      <td>https://myanimelist.net/anime/30276/One_Punch_Man</td>\n",
       "    </tr>\n",
       "    <tr>\n",
       "      <th>2</th>\n",
       "      <td>262994</td>\n",
       "      <td>MrAnimeCrunch</td>\n",
       "      <td>30276</td>\n",
       "      <td>\\n           \\n         \\n           \\n       ...</td>\n",
       "      <td>10</td>\n",
       "      <td>{'Overall': '10', 'Story': '10', 'Animation': ...</td>\n",
       "      <td>https://myanimelist.net/reviews.php?id=262994</td>\n",
       "      <td>16</td>\n",
       "      <td>30276</td>\n",
       "      <td>One Punch Man</td>\n",
       "      <td>The seemingly ordinary and unimpressive Saitam...</td>\n",
       "      <td>[Action, Sci-Fi, Comedy, Parody, Super Power, ...</td>\n",
       "      <td>Oct 5, 2015 to Dec 21, 2015</td>\n",
       "      <td>12.0</td>\n",
       "      <td>1475219</td>\n",
       "      <td>5</td>\n",
       "      <td>50.0</td>\n",
       "      <td>8.68</td>\n",
       "      <td>https://cdn.myanimelist.net/images/anime/12/76...</td>\n",
       "      <td>https://myanimelist.net/anime/30276/One_Punch_Man</td>\n",
       "    </tr>\n",
       "    <tr>\n",
       "      <th>3</th>\n",
       "      <td>214997</td>\n",
       "      <td>JoJo_Stalin</td>\n",
       "      <td>30276</td>\n",
       "      <td>\\n           \\n         \\n           \\n       ...</td>\n",
       "      <td>7</td>\n",
       "      <td>{'Overall': '7', 'Story': '7', 'Animation': '8...</td>\n",
       "      <td>https://myanimelist.net/reviews.php?id=214997</td>\n",
       "      <td>16</td>\n",
       "      <td>30276</td>\n",
       "      <td>One Punch Man</td>\n",
       "      <td>The seemingly ordinary and unimpressive Saitam...</td>\n",
       "      <td>[Action, Sci-Fi, Comedy, Parody, Super Power, ...</td>\n",
       "      <td>Oct 5, 2015 to Dec 21, 2015</td>\n",
       "      <td>12.0</td>\n",
       "      <td>1475219</td>\n",
       "      <td>5</td>\n",
       "      <td>50.0</td>\n",
       "      <td>8.68</td>\n",
       "      <td>https://cdn.myanimelist.net/images/anime/12/76...</td>\n",
       "      <td>https://myanimelist.net/anime/30276/One_Punch_Man</td>\n",
       "    </tr>\n",
       "    <tr>\n",
       "      <th>4</th>\n",
       "      <td>215126</td>\n",
       "      <td>PancakePuncher</td>\n",
       "      <td>30276</td>\n",
       "      <td>\\n           \\n         \\n           \\n       ...</td>\n",
       "      <td>10</td>\n",
       "      <td>{'Overall': '10', 'Story': '10', 'Animation': ...</td>\n",
       "      <td>https://myanimelist.net/reviews.php?id=215126</td>\n",
       "      <td>16</td>\n",
       "      <td>30276</td>\n",
       "      <td>One Punch Man</td>\n",
       "      <td>The seemingly ordinary and unimpressive Saitam...</td>\n",
       "      <td>[Action, Sci-Fi, Comedy, Parody, Super Power, ...</td>\n",
       "      <td>Oct 5, 2015 to Dec 21, 2015</td>\n",
       "      <td>12.0</td>\n",
       "      <td>1475219</td>\n",
       "      <td>5</td>\n",
       "      <td>50.0</td>\n",
       "      <td>8.68</td>\n",
       "      <td>https://cdn.myanimelist.net/images/anime/12/76...</td>\n",
       "      <td>https://myanimelist.net/anime/30276/One_Punch_Man</td>\n",
       "    </tr>\n",
       "    <tr>\n",
       "      <th>...</th>\n",
       "      <td>...</td>\n",
       "      <td>...</td>\n",
       "      <td>...</td>\n",
       "      <td>...</td>\n",
       "      <td>...</td>\n",
       "      <td>...</td>\n",
       "      <td>...</td>\n",
       "      <td>...</td>\n",
       "      <td>...</td>\n",
       "      <td>...</td>\n",
       "      <td>...</td>\n",
       "      <td>...</td>\n",
       "      <td>...</td>\n",
       "      <td>...</td>\n",
       "      <td>...</td>\n",
       "      <td>...</td>\n",
       "      <td>...</td>\n",
       "      <td>...</td>\n",
       "      <td>...</td>\n",
       "      <td>...</td>\n",
       "    </tr>\n",
       "    <tr>\n",
       "      <th>5096</th>\n",
       "      <td>75049</td>\n",
       "      <td>Florete</td>\n",
       "      <td>11757</td>\n",
       "      <td>\\n           \\n         \\n           \\n       ...</td>\n",
       "      <td>2</td>\n",
       "      <td>{'Overall': '2', 'Story': '2', 'Animation': '8...</td>\n",
       "      <td>https://myanimelist.net/reviews.php?id=75049</td>\n",
       "      <td>8409</td>\n",
       "      <td>11757</td>\n",
       "      <td>Sword Art Online</td>\n",
       "      <td>In the year 2022, virtual reality has progress...</td>\n",
       "      <td>[Action, Adventure, Fantasy, Game, Romance]</td>\n",
       "      <td>Jul 8, 2012 to Dec 23, 2012</td>\n",
       "      <td>25.0</td>\n",
       "      <td>1657823</td>\n",
       "      <td>3</td>\n",
       "      <td>1771.0</td>\n",
       "      <td>7.49</td>\n",
       "      <td>https://cdn.myanimelist.net/images/anime/11/39...</td>\n",
       "      <td>https://myanimelist.net/anime/11757/Sword_Art_...</td>\n",
       "    </tr>\n",
       "    <tr>\n",
       "      <th>5097</th>\n",
       "      <td>87997</td>\n",
       "      <td>LLYNCES</td>\n",
       "      <td>11757</td>\n",
       "      <td>\\n           \\n         \\n           \\n       ...</td>\n",
       "      <td>7</td>\n",
       "      <td>{'Overall': '7', 'Story': '6', 'Animation': '8...</td>\n",
       "      <td>https://myanimelist.net/reviews.php?id=87997</td>\n",
       "      <td>8409</td>\n",
       "      <td>11757</td>\n",
       "      <td>Sword Art Online</td>\n",
       "      <td>In the year 2022, virtual reality has progress...</td>\n",
       "      <td>[Action, Adventure, Fantasy, Game, Romance]</td>\n",
       "      <td>Jul 8, 2012 to Dec 23, 2012</td>\n",
       "      <td>25.0</td>\n",
       "      <td>1657823</td>\n",
       "      <td>3</td>\n",
       "      <td>1771.0</td>\n",
       "      <td>7.49</td>\n",
       "      <td>https://cdn.myanimelist.net/images/anime/11/39...</td>\n",
       "      <td>https://myanimelist.net/anime/11757/Sword_Art_...</td>\n",
       "    </tr>\n",
       "    <tr>\n",
       "      <th>5098</th>\n",
       "      <td>164583</td>\n",
       "      <td>TheDeedsOfMen</td>\n",
       "      <td>11757</td>\n",
       "      <td>\\n           \\n         \\n           \\n       ...</td>\n",
       "      <td>2</td>\n",
       "      <td>{'Overall': '2', 'Story': '2', 'Animation': '7...</td>\n",
       "      <td>https://myanimelist.net/reviews.php?id=164583</td>\n",
       "      <td>8409</td>\n",
       "      <td>11757</td>\n",
       "      <td>Sword Art Online</td>\n",
       "      <td>In the year 2022, virtual reality has progress...</td>\n",
       "      <td>[Action, Adventure, Fantasy, Game, Romance]</td>\n",
       "      <td>Jul 8, 2012 to Dec 23, 2012</td>\n",
       "      <td>25.0</td>\n",
       "      <td>1657823</td>\n",
       "      <td>3</td>\n",
       "      <td>1771.0</td>\n",
       "      <td>7.49</td>\n",
       "      <td>https://cdn.myanimelist.net/images/anime/11/39...</td>\n",
       "      <td>https://myanimelist.net/anime/11757/Sword_Art_...</td>\n",
       "    </tr>\n",
       "    <tr>\n",
       "      <th>5099</th>\n",
       "      <td>138911</td>\n",
       "      <td>LordAura</td>\n",
       "      <td>11757</td>\n",
       "      <td>\\n           \\n         \\n           \\n       ...</td>\n",
       "      <td>4</td>\n",
       "      <td>{'Overall': '4', 'Story': '4', 'Animation': '8...</td>\n",
       "      <td>https://myanimelist.net/reviews.php?id=138911</td>\n",
       "      <td>8409</td>\n",
       "      <td>11757</td>\n",
       "      <td>Sword Art Online</td>\n",
       "      <td>In the year 2022, virtual reality has progress...</td>\n",
       "      <td>[Action, Adventure, Fantasy, Game, Romance]</td>\n",
       "      <td>Jul 8, 2012 to Dec 23, 2012</td>\n",
       "      <td>25.0</td>\n",
       "      <td>1657823</td>\n",
       "      <td>3</td>\n",
       "      <td>1771.0</td>\n",
       "      <td>7.49</td>\n",
       "      <td>https://cdn.myanimelist.net/images/anime/11/39...</td>\n",
       "      <td>https://myanimelist.net/anime/11757/Sword_Art_...</td>\n",
       "    </tr>\n",
       "    <tr>\n",
       "      <th>5100</th>\n",
       "      <td>82086</td>\n",
       "      <td>_Rika</td>\n",
       "      <td>11757</td>\n",
       "      <td>\\n           \\n         \\n           \\n       ...</td>\n",
       "      <td>3</td>\n",
       "      <td>{'Overall': '3', 'Story': '3', 'Animation': '8...</td>\n",
       "      <td>https://myanimelist.net/reviews.php?id=82086</td>\n",
       "      <td>8409</td>\n",
       "      <td>11757</td>\n",
       "      <td>Sword Art Online</td>\n",
       "      <td>In the year 2022, virtual reality has progress...</td>\n",
       "      <td>[Action, Adventure, Fantasy, Game, Romance]</td>\n",
       "      <td>Jul 8, 2012 to Dec 23, 2012</td>\n",
       "      <td>25.0</td>\n",
       "      <td>1657823</td>\n",
       "      <td>3</td>\n",
       "      <td>1771.0</td>\n",
       "      <td>7.49</td>\n",
       "      <td>https://cdn.myanimelist.net/images/anime/11/39...</td>\n",
       "      <td>https://myanimelist.net/anime/11757/Sword_Art_...</td>\n",
       "    </tr>\n",
       "  </tbody>\n",
       "</table>\n",
       "<p>5101 rows × 20 columns</p>\n",
       "</div>"
      ],
      "text/plain": [
       "       uid_x         profile  anime_uid  \\\n",
       "0     210404           12sed       5114   \n",
       "1     262977   OVERPOWERED99      30276   \n",
       "2     262994   MrAnimeCrunch      30276   \n",
       "3     214997     JoJo_Stalin      30276   \n",
       "4     215126  PancakePuncher      30276   \n",
       "...      ...             ...        ...   \n",
       "5096   75049         Florete      11757   \n",
       "5097   87997         LLYNCES      11757   \n",
       "5098  164583   TheDeedsOfMen      11757   \n",
       "5099  138911        LordAura      11757   \n",
       "5100   82086           _Rika      11757   \n",
       "\n",
       "                                                   text  score_x  \\\n",
       "0     \\n           \\n         \\n           \\n       ...       10   \n",
       "1     \\n           \\n         \\n           \\n       ...        8   \n",
       "2     \\n           \\n         \\n           \\n       ...       10   \n",
       "3     \\n           \\n         \\n           \\n       ...        7   \n",
       "4     \\n           \\n         \\n           \\n       ...       10   \n",
       "...                                                 ...      ...   \n",
       "5096  \\n           \\n         \\n           \\n       ...        2   \n",
       "5097  \\n           \\n         \\n           \\n       ...        7   \n",
       "5098  \\n           \\n         \\n           \\n       ...        2   \n",
       "5099  \\n           \\n         \\n           \\n       ...        4   \n",
       "5100  \\n           \\n         \\n           \\n       ...        3   \n",
       "\n",
       "                                                 scores  \\\n",
       "0     {'Overall': '10', 'Story': '10', 'Animation': ...   \n",
       "1     {'Overall': '8', 'Story': '7', 'Animation': '1...   \n",
       "2     {'Overall': '10', 'Story': '10', 'Animation': ...   \n",
       "3     {'Overall': '7', 'Story': '7', 'Animation': '8...   \n",
       "4     {'Overall': '10', 'Story': '10', 'Animation': ...   \n",
       "...                                                 ...   \n",
       "5096  {'Overall': '2', 'Story': '2', 'Animation': '8...   \n",
       "5097  {'Overall': '7', 'Story': '6', 'Animation': '8...   \n",
       "5098  {'Overall': '2', 'Story': '2', 'Animation': '7...   \n",
       "5099  {'Overall': '4', 'Story': '4', 'Animation': '8...   \n",
       "5100  {'Overall': '3', 'Story': '3', 'Animation': '8...   \n",
       "\n",
       "                                             link_x  Unnamed: 0  uid_y  \\\n",
       "0     https://myanimelist.net/reviews.php?id=210404           3   5114   \n",
       "1     https://myanimelist.net/reviews.php?id=262977          16  30276   \n",
       "2     https://myanimelist.net/reviews.php?id=262994          16  30276   \n",
       "3     https://myanimelist.net/reviews.php?id=214997          16  30276   \n",
       "4     https://myanimelist.net/reviews.php?id=215126          16  30276   \n",
       "...                                             ...         ...    ...   \n",
       "5096   https://myanimelist.net/reviews.php?id=75049        8409  11757   \n",
       "5097   https://myanimelist.net/reviews.php?id=87997        8409  11757   \n",
       "5098  https://myanimelist.net/reviews.php?id=164583        8409  11757   \n",
       "5099  https://myanimelist.net/reviews.php?id=138911        8409  11757   \n",
       "5100   https://myanimelist.net/reviews.php?id=82086        8409  11757   \n",
       "\n",
       "                                 title  \\\n",
       "0     Fullmetal Alchemist: Brotherhood   \n",
       "1                        One Punch Man   \n",
       "2                        One Punch Man   \n",
       "3                        One Punch Man   \n",
       "4                        One Punch Man   \n",
       "...                                ...   \n",
       "5096                  Sword Art Online   \n",
       "5097                  Sword Art Online   \n",
       "5098                  Sword Art Online   \n",
       "5099                  Sword Art Online   \n",
       "5100                  Sword Art Online   \n",
       "\n",
       "                                               synopsis  \\\n",
       "0     \"In order for something to be obtained, someth...   \n",
       "1     The seemingly ordinary and unimpressive Saitam...   \n",
       "2     The seemingly ordinary and unimpressive Saitam...   \n",
       "3     The seemingly ordinary and unimpressive Saitam...   \n",
       "4     The seemingly ordinary and unimpressive Saitam...   \n",
       "...                                                 ...   \n",
       "5096  In the year 2022, virtual reality has progress...   \n",
       "5097  In the year 2022, virtual reality has progress...   \n",
       "5098  In the year 2022, virtual reality has progress...   \n",
       "5099  In the year 2022, virtual reality has progress...   \n",
       "5100  In the year 2022, virtual reality has progress...   \n",
       "\n",
       "                                                  genre  \\\n",
       "0     [Action, Military, Adventure, Comedy, Drama, M...   \n",
       "1     [Action, Sci-Fi, Comedy, Parody, Super Power, ...   \n",
       "2     [Action, Sci-Fi, Comedy, Parody, Super Power, ...   \n",
       "3     [Action, Sci-Fi, Comedy, Parody, Super Power, ...   \n",
       "4     [Action, Sci-Fi, Comedy, Parody, Super Power, ...   \n",
       "...                                                 ...   \n",
       "5096        [Action, Adventure, Fantasy, Game, Romance]   \n",
       "5097        [Action, Adventure, Fantasy, Game, Romance]   \n",
       "5098        [Action, Adventure, Fantasy, Game, Romance]   \n",
       "5099        [Action, Adventure, Fantasy, Game, Romance]   \n",
       "5100        [Action, Adventure, Fantasy, Game, Romance]   \n",
       "\n",
       "                            aired  episodes  members  popularity  ranked  \\\n",
       "0      Apr 5, 2009 to Jul 4, 2010      64.0  1615084           4     1.0   \n",
       "1     Oct 5, 2015 to Dec 21, 2015      12.0  1475219           5    50.0   \n",
       "2     Oct 5, 2015 to Dec 21, 2015      12.0  1475219           5    50.0   \n",
       "3     Oct 5, 2015 to Dec 21, 2015      12.0  1475219           5    50.0   \n",
       "4     Oct 5, 2015 to Dec 21, 2015      12.0  1475219           5    50.0   \n",
       "...                           ...       ...      ...         ...     ...   \n",
       "5096  Jul 8, 2012 to Dec 23, 2012      25.0  1657823           3  1771.0   \n",
       "5097  Jul 8, 2012 to Dec 23, 2012      25.0  1657823           3  1771.0   \n",
       "5098  Jul 8, 2012 to Dec 23, 2012      25.0  1657823           3  1771.0   \n",
       "5099  Jul 8, 2012 to Dec 23, 2012      25.0  1657823           3  1771.0   \n",
       "5100  Jul 8, 2012 to Dec 23, 2012      25.0  1657823           3  1771.0   \n",
       "\n",
       "      score_y                                            img_url  \\\n",
       "0        9.23  https://cdn.myanimelist.net/images/anime/1223/...   \n",
       "1        8.68  https://cdn.myanimelist.net/images/anime/12/76...   \n",
       "2        8.68  https://cdn.myanimelist.net/images/anime/12/76...   \n",
       "3        8.68  https://cdn.myanimelist.net/images/anime/12/76...   \n",
       "4        8.68  https://cdn.myanimelist.net/images/anime/12/76...   \n",
       "...       ...                                                ...   \n",
       "5096     7.49  https://cdn.myanimelist.net/images/anime/11/39...   \n",
       "5097     7.49  https://cdn.myanimelist.net/images/anime/11/39...   \n",
       "5098     7.49  https://cdn.myanimelist.net/images/anime/11/39...   \n",
       "5099     7.49  https://cdn.myanimelist.net/images/anime/11/39...   \n",
       "5100     7.49  https://cdn.myanimelist.net/images/anime/11/39...   \n",
       "\n",
       "                                                 link_y  \n",
       "0     https://myanimelist.net/anime/5114/Fullmetal_A...  \n",
       "1     https://myanimelist.net/anime/30276/One_Punch_Man  \n",
       "2     https://myanimelist.net/anime/30276/One_Punch_Man  \n",
       "3     https://myanimelist.net/anime/30276/One_Punch_Man  \n",
       "4     https://myanimelist.net/anime/30276/One_Punch_Man  \n",
       "...                                                 ...  \n",
       "5096  https://myanimelist.net/anime/11757/Sword_Art_...  \n",
       "5097  https://myanimelist.net/anime/11757/Sword_Art_...  \n",
       "5098  https://myanimelist.net/anime/11757/Sword_Art_...  \n",
       "5099  https://myanimelist.net/anime/11757/Sword_Art_...  \n",
       "5100  https://myanimelist.net/anime/11757/Sword_Art_...  \n",
       "\n",
       "[5101 rows x 20 columns]"
      ]
     },
     "execution_count": 33,
     "metadata": {},
     "output_type": "execute_result"
    }
   ],
   "source": [
    "reviews_for_mostpop = pd.merge(reviews_for_mostpop, df_anim, left_on='anime_uid', right_on='uid')\n",
    "\n",
    "reviews_for_mostpop = reviews_for_mostpop[reviews_for_mostpop['popularity'] <= 10]\n",
    "\n",
    "reviews_for_mostpop"
   ]
  },
  {
   "cell_type": "code",
   "execution_count": 34,
   "id": "3a3e0b76",
   "metadata": {},
   "outputs": [
    {
     "data": {
      "text/html": [
       "<div>\n",
       "<style scoped>\n",
       "    .dataframe tbody tr th:only-of-type {\n",
       "        vertical-align: middle;\n",
       "    }\n",
       "\n",
       "    .dataframe tbody tr th {\n",
       "        vertical-align: top;\n",
       "    }\n",
       "\n",
       "    .dataframe thead th {\n",
       "        text-align: right;\n",
       "    }\n",
       "</style>\n",
       "<table border=\"1\" class=\"dataframe\">\n",
       "  <thead>\n",
       "    <tr style=\"text-align: right;\">\n",
       "      <th></th>\n",
       "      <th>uid_x</th>\n",
       "      <th>profile</th>\n",
       "      <th>anime_uid</th>\n",
       "      <th>text</th>\n",
       "      <th>score_x</th>\n",
       "      <th>scores</th>\n",
       "      <th>link_x</th>\n",
       "      <th>title</th>\n",
       "      <th>ranked</th>\n",
       "      <th>score_y</th>\n",
       "      <th>popularity</th>\n",
       "      <th>members</th>\n",
       "    </tr>\n",
       "  </thead>\n",
       "  <tbody>\n",
       "    <tr>\n",
       "      <th>0</th>\n",
       "      <td>210404</td>\n",
       "      <td>12sed</td>\n",
       "      <td>5114</td>\n",
       "      <td>\\n           \\n         \\n           \\n       ...</td>\n",
       "      <td>10</td>\n",
       "      <td>{'Overall': '10', 'Story': '10', 'Animation': ...</td>\n",
       "      <td>https://myanimelist.net/reviews.php?id=210404</td>\n",
       "      <td>Fullmetal Alchemist: Brotherhood</td>\n",
       "      <td>1.0</td>\n",
       "      <td>9.23</td>\n",
       "      <td>4</td>\n",
       "      <td>1615084</td>\n",
       "    </tr>\n",
       "    <tr>\n",
       "      <th>1</th>\n",
       "      <td>262977</td>\n",
       "      <td>OVERPOWERED99</td>\n",
       "      <td>30276</td>\n",
       "      <td>\\n           \\n         \\n           \\n       ...</td>\n",
       "      <td>8</td>\n",
       "      <td>{'Overall': '8', 'Story': '7', 'Animation': '1...</td>\n",
       "      <td>https://myanimelist.net/reviews.php?id=262977</td>\n",
       "      <td>One Punch Man</td>\n",
       "      <td>50.0</td>\n",
       "      <td>8.68</td>\n",
       "      <td>5</td>\n",
       "      <td>1475219</td>\n",
       "    </tr>\n",
       "    <tr>\n",
       "      <th>2</th>\n",
       "      <td>262994</td>\n",
       "      <td>MrAnimeCrunch</td>\n",
       "      <td>30276</td>\n",
       "      <td>\\n           \\n         \\n           \\n       ...</td>\n",
       "      <td>10</td>\n",
       "      <td>{'Overall': '10', 'Story': '10', 'Animation': ...</td>\n",
       "      <td>https://myanimelist.net/reviews.php?id=262994</td>\n",
       "      <td>One Punch Man</td>\n",
       "      <td>50.0</td>\n",
       "      <td>8.68</td>\n",
       "      <td>5</td>\n",
       "      <td>1475219</td>\n",
       "    </tr>\n",
       "    <tr>\n",
       "      <th>3</th>\n",
       "      <td>214997</td>\n",
       "      <td>JoJo_Stalin</td>\n",
       "      <td>30276</td>\n",
       "      <td>\\n           \\n         \\n           \\n       ...</td>\n",
       "      <td>7</td>\n",
       "      <td>{'Overall': '7', 'Story': '7', 'Animation': '8...</td>\n",
       "      <td>https://myanimelist.net/reviews.php?id=214997</td>\n",
       "      <td>One Punch Man</td>\n",
       "      <td>50.0</td>\n",
       "      <td>8.68</td>\n",
       "      <td>5</td>\n",
       "      <td>1475219</td>\n",
       "    </tr>\n",
       "    <tr>\n",
       "      <th>4</th>\n",
       "      <td>215126</td>\n",
       "      <td>PancakePuncher</td>\n",
       "      <td>30276</td>\n",
       "      <td>\\n           \\n         \\n           \\n       ...</td>\n",
       "      <td>10</td>\n",
       "      <td>{'Overall': '10', 'Story': '10', 'Animation': ...</td>\n",
       "      <td>https://myanimelist.net/reviews.php?id=215126</td>\n",
       "      <td>One Punch Man</td>\n",
       "      <td>50.0</td>\n",
       "      <td>8.68</td>\n",
       "      <td>5</td>\n",
       "      <td>1475219</td>\n",
       "    </tr>\n",
       "    <tr>\n",
       "      <th>...</th>\n",
       "      <td>...</td>\n",
       "      <td>...</td>\n",
       "      <td>...</td>\n",
       "      <td>...</td>\n",
       "      <td>...</td>\n",
       "      <td>...</td>\n",
       "      <td>...</td>\n",
       "      <td>...</td>\n",
       "      <td>...</td>\n",
       "      <td>...</td>\n",
       "      <td>...</td>\n",
       "      <td>...</td>\n",
       "    </tr>\n",
       "    <tr>\n",
       "      <th>5096</th>\n",
       "      <td>75049</td>\n",
       "      <td>Florete</td>\n",
       "      <td>11757</td>\n",
       "      <td>\\n           \\n         \\n           \\n       ...</td>\n",
       "      <td>2</td>\n",
       "      <td>{'Overall': '2', 'Story': '2', 'Animation': '8...</td>\n",
       "      <td>https://myanimelist.net/reviews.php?id=75049</td>\n",
       "      <td>Sword Art Online</td>\n",
       "      <td>1771.0</td>\n",
       "      <td>7.49</td>\n",
       "      <td>3</td>\n",
       "      <td>1657823</td>\n",
       "    </tr>\n",
       "    <tr>\n",
       "      <th>5097</th>\n",
       "      <td>87997</td>\n",
       "      <td>LLYNCES</td>\n",
       "      <td>11757</td>\n",
       "      <td>\\n           \\n         \\n           \\n       ...</td>\n",
       "      <td>7</td>\n",
       "      <td>{'Overall': '7', 'Story': '6', 'Animation': '8...</td>\n",
       "      <td>https://myanimelist.net/reviews.php?id=87997</td>\n",
       "      <td>Sword Art Online</td>\n",
       "      <td>1771.0</td>\n",
       "      <td>7.49</td>\n",
       "      <td>3</td>\n",
       "      <td>1657823</td>\n",
       "    </tr>\n",
       "    <tr>\n",
       "      <th>5098</th>\n",
       "      <td>164583</td>\n",
       "      <td>TheDeedsOfMen</td>\n",
       "      <td>11757</td>\n",
       "      <td>\\n           \\n         \\n           \\n       ...</td>\n",
       "      <td>2</td>\n",
       "      <td>{'Overall': '2', 'Story': '2', 'Animation': '7...</td>\n",
       "      <td>https://myanimelist.net/reviews.php?id=164583</td>\n",
       "      <td>Sword Art Online</td>\n",
       "      <td>1771.0</td>\n",
       "      <td>7.49</td>\n",
       "      <td>3</td>\n",
       "      <td>1657823</td>\n",
       "    </tr>\n",
       "    <tr>\n",
       "      <th>5099</th>\n",
       "      <td>138911</td>\n",
       "      <td>LordAura</td>\n",
       "      <td>11757</td>\n",
       "      <td>\\n           \\n         \\n           \\n       ...</td>\n",
       "      <td>4</td>\n",
       "      <td>{'Overall': '4', 'Story': '4', 'Animation': '8...</td>\n",
       "      <td>https://myanimelist.net/reviews.php?id=138911</td>\n",
       "      <td>Sword Art Online</td>\n",
       "      <td>1771.0</td>\n",
       "      <td>7.49</td>\n",
       "      <td>3</td>\n",
       "      <td>1657823</td>\n",
       "    </tr>\n",
       "    <tr>\n",
       "      <th>5100</th>\n",
       "      <td>82086</td>\n",
       "      <td>_Rika</td>\n",
       "      <td>11757</td>\n",
       "      <td>\\n           \\n         \\n           \\n       ...</td>\n",
       "      <td>3</td>\n",
       "      <td>{'Overall': '3', 'Story': '3', 'Animation': '8...</td>\n",
       "      <td>https://myanimelist.net/reviews.php?id=82086</td>\n",
       "      <td>Sword Art Online</td>\n",
       "      <td>1771.0</td>\n",
       "      <td>7.49</td>\n",
       "      <td>3</td>\n",
       "      <td>1657823</td>\n",
       "    </tr>\n",
       "  </tbody>\n",
       "</table>\n",
       "<p>5101 rows × 12 columns</p>\n",
       "</div>"
      ],
      "text/plain": [
       "       uid_x         profile  anime_uid  \\\n",
       "0     210404           12sed       5114   \n",
       "1     262977   OVERPOWERED99      30276   \n",
       "2     262994   MrAnimeCrunch      30276   \n",
       "3     214997     JoJo_Stalin      30276   \n",
       "4     215126  PancakePuncher      30276   \n",
       "...      ...             ...        ...   \n",
       "5096   75049         Florete      11757   \n",
       "5097   87997         LLYNCES      11757   \n",
       "5098  164583   TheDeedsOfMen      11757   \n",
       "5099  138911        LordAura      11757   \n",
       "5100   82086           _Rika      11757   \n",
       "\n",
       "                                                   text  score_x  \\\n",
       "0     \\n           \\n         \\n           \\n       ...       10   \n",
       "1     \\n           \\n         \\n           \\n       ...        8   \n",
       "2     \\n           \\n         \\n           \\n       ...       10   \n",
       "3     \\n           \\n         \\n           \\n       ...        7   \n",
       "4     \\n           \\n         \\n           \\n       ...       10   \n",
       "...                                                 ...      ...   \n",
       "5096  \\n           \\n         \\n           \\n       ...        2   \n",
       "5097  \\n           \\n         \\n           \\n       ...        7   \n",
       "5098  \\n           \\n         \\n           \\n       ...        2   \n",
       "5099  \\n           \\n         \\n           \\n       ...        4   \n",
       "5100  \\n           \\n         \\n           \\n       ...        3   \n",
       "\n",
       "                                                 scores  \\\n",
       "0     {'Overall': '10', 'Story': '10', 'Animation': ...   \n",
       "1     {'Overall': '8', 'Story': '7', 'Animation': '1...   \n",
       "2     {'Overall': '10', 'Story': '10', 'Animation': ...   \n",
       "3     {'Overall': '7', 'Story': '7', 'Animation': '8...   \n",
       "4     {'Overall': '10', 'Story': '10', 'Animation': ...   \n",
       "...                                                 ...   \n",
       "5096  {'Overall': '2', 'Story': '2', 'Animation': '8...   \n",
       "5097  {'Overall': '7', 'Story': '6', 'Animation': '8...   \n",
       "5098  {'Overall': '2', 'Story': '2', 'Animation': '7...   \n",
       "5099  {'Overall': '4', 'Story': '4', 'Animation': '8...   \n",
       "5100  {'Overall': '3', 'Story': '3', 'Animation': '8...   \n",
       "\n",
       "                                             link_x  \\\n",
       "0     https://myanimelist.net/reviews.php?id=210404   \n",
       "1     https://myanimelist.net/reviews.php?id=262977   \n",
       "2     https://myanimelist.net/reviews.php?id=262994   \n",
       "3     https://myanimelist.net/reviews.php?id=214997   \n",
       "4     https://myanimelist.net/reviews.php?id=215126   \n",
       "...                                             ...   \n",
       "5096   https://myanimelist.net/reviews.php?id=75049   \n",
       "5097   https://myanimelist.net/reviews.php?id=87997   \n",
       "5098  https://myanimelist.net/reviews.php?id=164583   \n",
       "5099  https://myanimelist.net/reviews.php?id=138911   \n",
       "5100   https://myanimelist.net/reviews.php?id=82086   \n",
       "\n",
       "                                 title  ranked  score_y  popularity  members  \n",
       "0     Fullmetal Alchemist: Brotherhood     1.0     9.23           4  1615084  \n",
       "1                        One Punch Man    50.0     8.68           5  1475219  \n",
       "2                        One Punch Man    50.0     8.68           5  1475219  \n",
       "3                        One Punch Man    50.0     8.68           5  1475219  \n",
       "4                        One Punch Man    50.0     8.68           5  1475219  \n",
       "...                                ...     ...      ...         ...      ...  \n",
       "5096                  Sword Art Online  1771.0     7.49           3  1657823  \n",
       "5097                  Sword Art Online  1771.0     7.49           3  1657823  \n",
       "5098                  Sword Art Online  1771.0     7.49           3  1657823  \n",
       "5099                  Sword Art Online  1771.0     7.49           3  1657823  \n",
       "5100                  Sword Art Online  1771.0     7.49           3  1657823  \n",
       "\n",
       "[5101 rows x 12 columns]"
      ]
     },
     "metadata": {},
     "output_type": "display_data"
    }
   ],
   "source": [
    "reviews_for_mostpop = reviews_for_mostpop[columns_to_keep]\n",
    "\n",
    "display(reviews_for_mostpop)"
   ]
  },
  {
   "cell_type": "code",
   "execution_count": 35,
   "id": "d7f7b951",
   "metadata": {},
   "outputs": [
    {
     "data": {
      "text/plain": [
       "title\n",
       "Sword Art Online                    1292\n",
       "Death Note                           854\n",
       "Steins;Gate                          779\n",
       "Fullmetal Alchemist: Brotherhood     637\n",
       "One Punch Man                        414\n",
       "No Game No Life                      389\n",
       "Tokyo Ghoul                          345\n",
       "Naruto                               331\n",
       "Angel Beats!                          40\n",
       "Shingeki no Kyojin                    20\n",
       "Name: count, dtype: int64"
      ]
     },
     "execution_count": 35,
     "metadata": {},
     "output_type": "execute_result"
    }
   ],
   "source": [
    "reviews_for_mostpop['title'].value_counts()"
   ]
  },
  {
   "cell_type": "code",
   "execution_count": 51,
   "id": "0ab84554",
   "metadata": {},
   "outputs": [
    {
     "data": {
      "text/html": [
       "<div>\n",
       "<style scoped>\n",
       "    .dataframe tbody tr th:only-of-type {\n",
       "        vertical-align: middle;\n",
       "    }\n",
       "\n",
       "    .dataframe tbody tr th {\n",
       "        vertical-align: top;\n",
       "    }\n",
       "\n",
       "    .dataframe thead th {\n",
       "        text-align: right;\n",
       "    }\n",
       "</style>\n",
       "<table border=\"1\" class=\"dataframe\">\n",
       "  <thead>\n",
       "    <tr style=\"text-align: right;\">\n",
       "      <th></th>\n",
       "      <th>title</th>\n",
       "      <th>count</th>\n",
       "      <th>popularity</th>\n",
       "    </tr>\n",
       "  </thead>\n",
       "  <tbody>\n",
       "    <tr>\n",
       "      <th>0</th>\n",
       "      <td>Sword Art Online</td>\n",
       "      <td>1292</td>\n",
       "      <td>3</td>\n",
       "    </tr>\n",
       "    <tr>\n",
       "      <th>1292</th>\n",
       "      <td>Death Note</td>\n",
       "      <td>854</td>\n",
       "      <td>1</td>\n",
       "    </tr>\n",
       "    <tr>\n",
       "      <th>2146</th>\n",
       "      <td>Steins;Gate</td>\n",
       "      <td>779</td>\n",
       "      <td>7</td>\n",
       "    </tr>\n",
       "    <tr>\n",
       "      <th>2925</th>\n",
       "      <td>Fullmetal Alchemist: Brotherhood</td>\n",
       "      <td>637</td>\n",
       "      <td>4</td>\n",
       "    </tr>\n",
       "    <tr>\n",
       "      <th>3562</th>\n",
       "      <td>One Punch Man</td>\n",
       "      <td>414</td>\n",
       "      <td>5</td>\n",
       "    </tr>\n",
       "    <tr>\n",
       "      <th>3976</th>\n",
       "      <td>No Game No Life</td>\n",
       "      <td>389</td>\n",
       "      <td>8</td>\n",
       "    </tr>\n",
       "    <tr>\n",
       "      <th>4365</th>\n",
       "      <td>Tokyo Ghoul</td>\n",
       "      <td>345</td>\n",
       "      <td>6</td>\n",
       "    </tr>\n",
       "    <tr>\n",
       "      <th>4710</th>\n",
       "      <td>Naruto</td>\n",
       "      <td>331</td>\n",
       "      <td>9</td>\n",
       "    </tr>\n",
       "    <tr>\n",
       "      <th>5041</th>\n",
       "      <td>Angel Beats!</td>\n",
       "      <td>40</td>\n",
       "      <td>10</td>\n",
       "    </tr>\n",
       "    <tr>\n",
       "      <th>5081</th>\n",
       "      <td>Shingeki no Kyojin</td>\n",
       "      <td>20</td>\n",
       "      <td>2</td>\n",
       "    </tr>\n",
       "  </tbody>\n",
       "</table>\n",
       "</div>"
      ],
      "text/plain": [
       "                                 title  count  popularity\n",
       "0                     Sword Art Online   1292           3\n",
       "1292                        Death Note    854           1\n",
       "2146                       Steins;Gate    779           7\n",
       "2925  Fullmetal Alchemist: Brotherhood    637           4\n",
       "3562                     One Punch Man    414           5\n",
       "3976                   No Game No Life    389           8\n",
       "4365                       Tokyo Ghoul    345           6\n",
       "4710                            Naruto    331           9\n",
       "5041                      Angel Beats!     40          10\n",
       "5081                Shingeki no Kyojin     20           2"
      ]
     },
     "execution_count": 51,
     "metadata": {},
     "output_type": "execute_result"
    }
   ],
   "source": [
    "df_mostpop = reviews_for_mostpop['title'].value_counts().reset_index()\n",
    "df_mostpop.columns = ['title', 'count']\n",
    "\n",
    "reviews_pop = df_mostpop.merge(reviews_for_mostpop[['title', 'popularity']], on='title', how='left').drop_duplicates()\n",
    "reviews_pop = reviews_pop.sort_values(by='count', ascending=False)\n",
    "\n",
    "reviews_pop"
   ]
  },
  {
   "cell_type": "code",
   "execution_count": 59,
   "id": "1156e9ab",
   "metadata": {},
   "outputs": [
    {
     "data": {
      "application/vnd.plotly.v1+json": {
       "config": {
        "plotlyServerURL": "https://plot.ly"
       },
       "data": [
        {
         "hovertemplate": "=%{x}<br>Amount of reviews=%{y}<br>popularity=%{text}<extra></extra>",
         "legendgroup": "",
         "marker": {
          "color": "rgb(127, 60, 141)",
          "pattern": {
           "shape": ""
          }
         },
         "name": "",
         "orientation": "v",
         "showlegend": false,
         "text": {
          "bdata": "AAAAAAAACEAAAAAAAADwPwAAAAAAABxAAAAAAAAAEEAAAAAAAAAUQAAAAAAAACBAAAAAAAAAGEAAAAAAAAAiQAAAAAAAACRAAAAAAAAAAEA=",
          "dtype": "f8"
         },
         "textposition": "auto",
         "type": "bar",
         "x": [
          "Sword Art Online",
          "Death Note",
          "Steins;Gate",
          "Fullmetal Alchemist: Brotherhood",
          "One Punch Man",
          "No Game No Life",
          "Tokyo Ghoul",
          "Naruto",
          "Angel Beats!",
          "Shingeki no Kyojin"
         ],
         "xaxis": "x",
         "y": {
          "bdata": "DAVWAwsDfQKeAYUBWQFLASgAFAA=",
          "dtype": "i2"
         },
         "yaxis": "y"
        }
       ],
       "layout": {
        "barmode": "relative",
        "height": 600,
        "legend": {
         "tracegroupgap": 0
        },
        "template": {
         "data": {
          "bar": [
           {
            "error_x": {
             "color": "#f2f5fa"
            },
            "error_y": {
             "color": "#f2f5fa"
            },
            "marker": {
             "line": {
              "color": "rgb(17,17,17)",
              "width": 0.5
             },
             "pattern": {
              "fillmode": "overlay",
              "size": 10,
              "solidity": 0.2
             }
            },
            "type": "bar"
           }
          ],
          "barpolar": [
           {
            "marker": {
             "line": {
              "color": "rgb(17,17,17)",
              "width": 0.5
             },
             "pattern": {
              "fillmode": "overlay",
              "size": 10,
              "solidity": 0.2
             }
            },
            "type": "barpolar"
           }
          ],
          "carpet": [
           {
            "aaxis": {
             "endlinecolor": "#A2B1C6",
             "gridcolor": "#506784",
             "linecolor": "#506784",
             "minorgridcolor": "#506784",
             "startlinecolor": "#A2B1C6"
            },
            "baxis": {
             "endlinecolor": "#A2B1C6",
             "gridcolor": "#506784",
             "linecolor": "#506784",
             "minorgridcolor": "#506784",
             "startlinecolor": "#A2B1C6"
            },
            "type": "carpet"
           }
          ],
          "choropleth": [
           {
            "colorbar": {
             "outlinewidth": 0,
             "ticks": ""
            },
            "type": "choropleth"
           }
          ],
          "contour": [
           {
            "colorbar": {
             "outlinewidth": 0,
             "ticks": ""
            },
            "colorscale": [
             [
              0,
              "#0d0887"
             ],
             [
              0.1111111111111111,
              "#46039f"
             ],
             [
              0.2222222222222222,
              "#7201a8"
             ],
             [
              0.3333333333333333,
              "#9c179e"
             ],
             [
              0.4444444444444444,
              "#bd3786"
             ],
             [
              0.5555555555555556,
              "#d8576b"
             ],
             [
              0.6666666666666666,
              "#ed7953"
             ],
             [
              0.7777777777777778,
              "#fb9f3a"
             ],
             [
              0.8888888888888888,
              "#fdca26"
             ],
             [
              1,
              "#f0f921"
             ]
            ],
            "type": "contour"
           }
          ],
          "contourcarpet": [
           {
            "colorbar": {
             "outlinewidth": 0,
             "ticks": ""
            },
            "type": "contourcarpet"
           }
          ],
          "heatmap": [
           {
            "colorbar": {
             "outlinewidth": 0,
             "ticks": ""
            },
            "colorscale": [
             [
              0,
              "#0d0887"
             ],
             [
              0.1111111111111111,
              "#46039f"
             ],
             [
              0.2222222222222222,
              "#7201a8"
             ],
             [
              0.3333333333333333,
              "#9c179e"
             ],
             [
              0.4444444444444444,
              "#bd3786"
             ],
             [
              0.5555555555555556,
              "#d8576b"
             ],
             [
              0.6666666666666666,
              "#ed7953"
             ],
             [
              0.7777777777777778,
              "#fb9f3a"
             ],
             [
              0.8888888888888888,
              "#fdca26"
             ],
             [
              1,
              "#f0f921"
             ]
            ],
            "type": "heatmap"
           }
          ],
          "histogram": [
           {
            "marker": {
             "pattern": {
              "fillmode": "overlay",
              "size": 10,
              "solidity": 0.2
             }
            },
            "type": "histogram"
           }
          ],
          "histogram2d": [
           {
            "colorbar": {
             "outlinewidth": 0,
             "ticks": ""
            },
            "colorscale": [
             [
              0,
              "#0d0887"
             ],
             [
              0.1111111111111111,
              "#46039f"
             ],
             [
              0.2222222222222222,
              "#7201a8"
             ],
             [
              0.3333333333333333,
              "#9c179e"
             ],
             [
              0.4444444444444444,
              "#bd3786"
             ],
             [
              0.5555555555555556,
              "#d8576b"
             ],
             [
              0.6666666666666666,
              "#ed7953"
             ],
             [
              0.7777777777777778,
              "#fb9f3a"
             ],
             [
              0.8888888888888888,
              "#fdca26"
             ],
             [
              1,
              "#f0f921"
             ]
            ],
            "type": "histogram2d"
           }
          ],
          "histogram2dcontour": [
           {
            "colorbar": {
             "outlinewidth": 0,
             "ticks": ""
            },
            "colorscale": [
             [
              0,
              "#0d0887"
             ],
             [
              0.1111111111111111,
              "#46039f"
             ],
             [
              0.2222222222222222,
              "#7201a8"
             ],
             [
              0.3333333333333333,
              "#9c179e"
             ],
             [
              0.4444444444444444,
              "#bd3786"
             ],
             [
              0.5555555555555556,
              "#d8576b"
             ],
             [
              0.6666666666666666,
              "#ed7953"
             ],
             [
              0.7777777777777778,
              "#fb9f3a"
             ],
             [
              0.8888888888888888,
              "#fdca26"
             ],
             [
              1,
              "#f0f921"
             ]
            ],
            "type": "histogram2dcontour"
           }
          ],
          "mesh3d": [
           {
            "colorbar": {
             "outlinewidth": 0,
             "ticks": ""
            },
            "type": "mesh3d"
           }
          ],
          "parcoords": [
           {
            "line": {
             "colorbar": {
              "outlinewidth": 0,
              "ticks": ""
             }
            },
            "type": "parcoords"
           }
          ],
          "pie": [
           {
            "automargin": true,
            "type": "pie"
           }
          ],
          "scatter": [
           {
            "marker": {
             "line": {
              "color": "#283442"
             }
            },
            "type": "scatter"
           }
          ],
          "scatter3d": [
           {
            "line": {
             "colorbar": {
              "outlinewidth": 0,
              "ticks": ""
             }
            },
            "marker": {
             "colorbar": {
              "outlinewidth": 0,
              "ticks": ""
             }
            },
            "type": "scatter3d"
           }
          ],
          "scattercarpet": [
           {
            "marker": {
             "colorbar": {
              "outlinewidth": 0,
              "ticks": ""
             }
            },
            "type": "scattercarpet"
           }
          ],
          "scattergeo": [
           {
            "marker": {
             "colorbar": {
              "outlinewidth": 0,
              "ticks": ""
             }
            },
            "type": "scattergeo"
           }
          ],
          "scattergl": [
           {
            "marker": {
             "line": {
              "color": "#283442"
             }
            },
            "type": "scattergl"
           }
          ],
          "scattermap": [
           {
            "marker": {
             "colorbar": {
              "outlinewidth": 0,
              "ticks": ""
             }
            },
            "type": "scattermap"
           }
          ],
          "scattermapbox": [
           {
            "marker": {
             "colorbar": {
              "outlinewidth": 0,
              "ticks": ""
             }
            },
            "type": "scattermapbox"
           }
          ],
          "scatterpolar": [
           {
            "marker": {
             "colorbar": {
              "outlinewidth": 0,
              "ticks": ""
             }
            },
            "type": "scatterpolar"
           }
          ],
          "scatterpolargl": [
           {
            "marker": {
             "colorbar": {
              "outlinewidth": 0,
              "ticks": ""
             }
            },
            "type": "scatterpolargl"
           }
          ],
          "scatterternary": [
           {
            "marker": {
             "colorbar": {
              "outlinewidth": 0,
              "ticks": ""
             }
            },
            "type": "scatterternary"
           }
          ],
          "surface": [
           {
            "colorbar": {
             "outlinewidth": 0,
             "ticks": ""
            },
            "colorscale": [
             [
              0,
              "#0d0887"
             ],
             [
              0.1111111111111111,
              "#46039f"
             ],
             [
              0.2222222222222222,
              "#7201a8"
             ],
             [
              0.3333333333333333,
              "#9c179e"
             ],
             [
              0.4444444444444444,
              "#bd3786"
             ],
             [
              0.5555555555555556,
              "#d8576b"
             ],
             [
              0.6666666666666666,
              "#ed7953"
             ],
             [
              0.7777777777777778,
              "#fb9f3a"
             ],
             [
              0.8888888888888888,
              "#fdca26"
             ],
             [
              1,
              "#f0f921"
             ]
            ],
            "type": "surface"
           }
          ],
          "table": [
           {
            "cells": {
             "fill": {
              "color": "#506784"
             },
             "line": {
              "color": "rgb(17,17,17)"
             }
            },
            "header": {
             "fill": {
              "color": "#2a3f5f"
             },
             "line": {
              "color": "rgb(17,17,17)"
             }
            },
            "type": "table"
           }
          ]
         },
         "layout": {
          "annotationdefaults": {
           "arrowcolor": "#f2f5fa",
           "arrowhead": 0,
           "arrowwidth": 1
          },
          "autotypenumbers": "strict",
          "coloraxis": {
           "colorbar": {
            "outlinewidth": 0,
            "ticks": ""
           }
          },
          "colorscale": {
           "diverging": [
            [
             0,
             "#8e0152"
            ],
            [
             0.1,
             "#c51b7d"
            ],
            [
             0.2,
             "#de77ae"
            ],
            [
             0.3,
             "#f1b6da"
            ],
            [
             0.4,
             "#fde0ef"
            ],
            [
             0.5,
             "#f7f7f7"
            ],
            [
             0.6,
             "#e6f5d0"
            ],
            [
             0.7,
             "#b8e186"
            ],
            [
             0.8,
             "#7fbc41"
            ],
            [
             0.9,
             "#4d9221"
            ],
            [
             1,
             "#276419"
            ]
           ],
           "sequential": [
            [
             0,
             "#0d0887"
            ],
            [
             0.1111111111111111,
             "#46039f"
            ],
            [
             0.2222222222222222,
             "#7201a8"
            ],
            [
             0.3333333333333333,
             "#9c179e"
            ],
            [
             0.4444444444444444,
             "#bd3786"
            ],
            [
             0.5555555555555556,
             "#d8576b"
            ],
            [
             0.6666666666666666,
             "#ed7953"
            ],
            [
             0.7777777777777778,
             "#fb9f3a"
            ],
            [
             0.8888888888888888,
             "#fdca26"
            ],
            [
             1,
             "#f0f921"
            ]
           ],
           "sequentialminus": [
            [
             0,
             "#0d0887"
            ],
            [
             0.1111111111111111,
             "#46039f"
            ],
            [
             0.2222222222222222,
             "#7201a8"
            ],
            [
             0.3333333333333333,
             "#9c179e"
            ],
            [
             0.4444444444444444,
             "#bd3786"
            ],
            [
             0.5555555555555556,
             "#d8576b"
            ],
            [
             0.6666666666666666,
             "#ed7953"
            ],
            [
             0.7777777777777778,
             "#fb9f3a"
            ],
            [
             0.8888888888888888,
             "#fdca26"
            ],
            [
             1,
             "#f0f921"
            ]
           ]
          },
          "colorway": [
           "#636efa",
           "#EF553B",
           "#00cc96",
           "#ab63fa",
           "#FFA15A",
           "#19d3f3",
           "#FF6692",
           "#B6E880",
           "#FF97FF",
           "#FECB52"
          ],
          "font": {
           "color": "#f2f5fa"
          },
          "geo": {
           "bgcolor": "rgb(17,17,17)",
           "lakecolor": "rgb(17,17,17)",
           "landcolor": "rgb(17,17,17)",
           "showlakes": true,
           "showland": true,
           "subunitcolor": "#506784"
          },
          "hoverlabel": {
           "align": "left"
          },
          "hovermode": "closest",
          "mapbox": {
           "style": "dark"
          },
          "paper_bgcolor": "rgb(17,17,17)",
          "plot_bgcolor": "rgb(17,17,17)",
          "polar": {
           "angularaxis": {
            "gridcolor": "#506784",
            "linecolor": "#506784",
            "ticks": ""
           },
           "bgcolor": "rgb(17,17,17)",
           "radialaxis": {
            "gridcolor": "#506784",
            "linecolor": "#506784",
            "ticks": ""
           }
          },
          "scene": {
           "xaxis": {
            "backgroundcolor": "rgb(17,17,17)",
            "gridcolor": "#506784",
            "gridwidth": 2,
            "linecolor": "#506784",
            "showbackground": true,
            "ticks": "",
            "zerolinecolor": "#C8D4E3"
           },
           "yaxis": {
            "backgroundcolor": "rgb(17,17,17)",
            "gridcolor": "#506784",
            "gridwidth": 2,
            "linecolor": "#506784",
            "showbackground": true,
            "ticks": "",
            "zerolinecolor": "#C8D4E3"
           },
           "zaxis": {
            "backgroundcolor": "rgb(17,17,17)",
            "gridcolor": "#506784",
            "gridwidth": 2,
            "linecolor": "#506784",
            "showbackground": true,
            "ticks": "",
            "zerolinecolor": "#C8D4E3"
           }
          },
          "shapedefaults": {
           "line": {
            "color": "#f2f5fa"
           }
          },
          "sliderdefaults": {
           "bgcolor": "#C8D4E3",
           "bordercolor": "rgb(17,17,17)",
           "borderwidth": 1,
           "tickwidth": 0
          },
          "ternary": {
           "aaxis": {
            "gridcolor": "#506784",
            "linecolor": "#506784",
            "ticks": ""
           },
           "baxis": {
            "gridcolor": "#506784",
            "linecolor": "#506784",
            "ticks": ""
           },
           "bgcolor": "rgb(17,17,17)",
           "caxis": {
            "gridcolor": "#506784",
            "linecolor": "#506784",
            "ticks": ""
           }
          },
          "title": {
           "x": 0.05
          },
          "updatemenudefaults": {
           "bgcolor": "#506784",
           "borderwidth": 0
          },
          "xaxis": {
           "automargin": true,
           "gridcolor": "#283442",
           "linecolor": "#506784",
           "ticks": "",
           "title": {
            "standoff": 15
           },
           "zerolinecolor": "#283442",
           "zerolinewidth": 2
          },
          "yaxis": {
           "automargin": true,
           "gridcolor": "#283442",
           "linecolor": "#506784",
           "ticks": "",
           "title": {
            "standoff": 15
           },
           "zerolinecolor": "#283442",
           "zerolinewidth": 2
          }
         }
        },
        "title": {
         "text": "Amount of reviews on the most popular entries"
        },
        "xaxis": {
         "anchor": "y",
         "domain": [
          0,
          1
         ],
         "title": {
          "text": ""
         }
        },
        "yaxis": {
         "anchor": "x",
         "domain": [
          0,
          1
         ],
         "title": {
          "text": "Amount of reviews"
         }
        }
       }
      }
     },
     "metadata": {},
     "output_type": "display_data"
    }
   ],
   "source": [
    "bar_order = [1,2,3,4,5,6,7,8,9,10]\n",
    "\n",
    "reviews_mostpop = px.bar(reviews_pop,\n",
    "                       x='title',\n",
    "                       y='count',\n",
    "                       labels={'count': 'Amount of reviews', 'title': ''},\n",
    "                        title='Amount of reviews on the most popular entries',\n",
    "                        text='popularity',\n",
    "                        height= 600,\n",
    "                        color_discrete_sequence=px.colors.qualitative.Bold,\n",
    "                        template='plotly_dark'\n",
    "                       )\n",
    "reviews_mostpop.show()"
   ]
  }
 ],
 "metadata": {
  "kernelspec": {
   "display_name": "DataScience",
   "language": "python",
   "name": "python3"
  },
  "language_info": {
   "codemirror_mode": {
    "name": "ipython",
    "version": 3
   },
   "file_extension": ".py",
   "mimetype": "text/x-python",
   "name": "python",
   "nbconvert_exporter": "python",
   "pygments_lexer": "ipython3",
   "version": "3.12.3"
  }
 },
 "nbformat": 4,
 "nbformat_minor": 5
}
